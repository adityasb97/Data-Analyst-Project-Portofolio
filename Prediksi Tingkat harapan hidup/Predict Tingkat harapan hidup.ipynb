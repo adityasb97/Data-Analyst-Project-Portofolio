{
 "cells": [
  {
   "cell_type": "code",
   "execution_count": 10,
   "id": "be61e9a9",
   "metadata": {},
   "outputs": [],
   "source": [
    "import numpy as np\n",
    "import pandas as pd\n",
    "import seaborn as sns\n",
    "import matplotlib.pyplot as plt\n",
    "\n",
    "from sklearn.model_selection import train_test_split\n",
    "from sklearn.pipeline import Pipeline\n",
    "from sklearn.compose import ColumnTransformer\n",
    "\n",
    "from jcopml.pipeline import num_pipe, cat_pipe\n",
    "from jcopml.utils import save_model, load_model\n",
    "from jcopml.plot import plot_missing_value\n",
    "from jcopml.feature_importance import mean_score_decrease\n",
    "\n",
    "import plotly.express as px\n",
    "import plotly.graph_objs as go"
   ]
  },
  {
   "cell_type": "markdown",
   "id": "b3322a79",
   "metadata": {},
   "source": [
    "## Import Data"
   ]
  },
  {
   "cell_type": "code",
   "execution_count": 82,
   "id": "5a457856",
   "metadata": {},
   "outputs": [
    {
     "data": {
      "text/html": [
       "<div>\n",
       "<style scoped>\n",
       "    .dataframe tbody tr th:only-of-type {\n",
       "        vertical-align: middle;\n",
       "    }\n",
       "\n",
       "    .dataframe tbody tr th {\n",
       "        vertical-align: top;\n",
       "    }\n",
       "\n",
       "    .dataframe thead th {\n",
       "        text-align: right;\n",
       "    }\n",
       "</style>\n",
       "<table border=\"1\" class=\"dataframe\">\n",
       "  <thead>\n",
       "    <tr style=\"text-align: right;\">\n",
       "      <th></th>\n",
       "      <th>Country name</th>\n",
       "      <th>Regional indicator</th>\n",
       "      <th>Ladder score</th>\n",
       "      <th>Standard error of ladder score</th>\n",
       "      <th>upperwhisker</th>\n",
       "      <th>lowerwhisker</th>\n",
       "      <th>Logged GDP per capita</th>\n",
       "      <th>Social support</th>\n",
       "      <th>Healthy life expectancy</th>\n",
       "      <th>Freedom to make life choices</th>\n",
       "      <th>Generosity</th>\n",
       "      <th>Perceptions of corruption</th>\n",
       "      <th>Ladder score in Dystopia</th>\n",
       "      <th>Explained by: Log GDP per capita</th>\n",
       "      <th>Explained by: Social support</th>\n",
       "      <th>Explained by: Healthy life expectancy</th>\n",
       "      <th>Explained by: Freedom to make life choices</th>\n",
       "      <th>Explained by: Generosity</th>\n",
       "      <th>Explained by: Perceptions of corruption</th>\n",
       "      <th>Dystopia + residual</th>\n",
       "    </tr>\n",
       "  </thead>\n",
       "  <tbody>\n",
       "    <tr>\n",
       "      <th>0</th>\n",
       "      <td>Finland</td>\n",
       "      <td>Western Europe</td>\n",
       "      <td>7.842</td>\n",
       "      <td>0.032</td>\n",
       "      <td>7.904</td>\n",
       "      <td>7.780</td>\n",
       "      <td>10.775</td>\n",
       "      <td>0.954</td>\n",
       "      <td>72.0</td>\n",
       "      <td>0.949</td>\n",
       "      <td>-0.098</td>\n",
       "      <td>0.186</td>\n",
       "      <td>2.43</td>\n",
       "      <td>1.446</td>\n",
       "      <td>1.106</td>\n",
       "      <td>0.741</td>\n",
       "      <td>0.691</td>\n",
       "      <td>0.124</td>\n",
       "      <td>0.481</td>\n",
       "      <td>3.253</td>\n",
       "    </tr>\n",
       "    <tr>\n",
       "      <th>1</th>\n",
       "      <td>Denmark</td>\n",
       "      <td>Western Europe</td>\n",
       "      <td>7.620</td>\n",
       "      <td>0.035</td>\n",
       "      <td>7.687</td>\n",
       "      <td>7.552</td>\n",
       "      <td>10.933</td>\n",
       "      <td>0.954</td>\n",
       "      <td>72.7</td>\n",
       "      <td>0.946</td>\n",
       "      <td>0.030</td>\n",
       "      <td>0.179</td>\n",
       "      <td>2.43</td>\n",
       "      <td>1.502</td>\n",
       "      <td>1.108</td>\n",
       "      <td>0.763</td>\n",
       "      <td>0.686</td>\n",
       "      <td>0.208</td>\n",
       "      <td>0.485</td>\n",
       "      <td>2.868</td>\n",
       "    </tr>\n",
       "    <tr>\n",
       "      <th>2</th>\n",
       "      <td>Switzerland</td>\n",
       "      <td>Western Europe</td>\n",
       "      <td>7.571</td>\n",
       "      <td>0.036</td>\n",
       "      <td>7.643</td>\n",
       "      <td>7.500</td>\n",
       "      <td>11.117</td>\n",
       "      <td>0.942</td>\n",
       "      <td>74.4</td>\n",
       "      <td>0.919</td>\n",
       "      <td>0.025</td>\n",
       "      <td>0.292</td>\n",
       "      <td>2.43</td>\n",
       "      <td>1.566</td>\n",
       "      <td>1.079</td>\n",
       "      <td>0.816</td>\n",
       "      <td>0.653</td>\n",
       "      <td>0.204</td>\n",
       "      <td>0.413</td>\n",
       "      <td>2.839</td>\n",
       "    </tr>\n",
       "    <tr>\n",
       "      <th>3</th>\n",
       "      <td>Iceland</td>\n",
       "      <td>Western Europe</td>\n",
       "      <td>7.554</td>\n",
       "      <td>0.059</td>\n",
       "      <td>7.670</td>\n",
       "      <td>7.438</td>\n",
       "      <td>10.878</td>\n",
       "      <td>0.983</td>\n",
       "      <td>73.0</td>\n",
       "      <td>0.955</td>\n",
       "      <td>0.160</td>\n",
       "      <td>0.673</td>\n",
       "      <td>2.43</td>\n",
       "      <td>1.482</td>\n",
       "      <td>1.172</td>\n",
       "      <td>0.772</td>\n",
       "      <td>0.698</td>\n",
       "      <td>0.293</td>\n",
       "      <td>0.170</td>\n",
       "      <td>2.967</td>\n",
       "    </tr>\n",
       "    <tr>\n",
       "      <th>4</th>\n",
       "      <td>Netherlands</td>\n",
       "      <td>Western Europe</td>\n",
       "      <td>7.464</td>\n",
       "      <td>0.027</td>\n",
       "      <td>7.518</td>\n",
       "      <td>7.410</td>\n",
       "      <td>10.932</td>\n",
       "      <td>0.942</td>\n",
       "      <td>72.4</td>\n",
       "      <td>0.913</td>\n",
       "      <td>0.175</td>\n",
       "      <td>0.338</td>\n",
       "      <td>2.43</td>\n",
       "      <td>1.501</td>\n",
       "      <td>1.079</td>\n",
       "      <td>0.753</td>\n",
       "      <td>0.647</td>\n",
       "      <td>0.302</td>\n",
       "      <td>0.384</td>\n",
       "      <td>2.798</td>\n",
       "    </tr>\n",
       "  </tbody>\n",
       "</table>\n",
       "</div>"
      ],
      "text/plain": [
       "  Country name Regional indicator  Ladder score  \\\n",
       "0      Finland     Western Europe         7.842   \n",
       "1      Denmark     Western Europe         7.620   \n",
       "2  Switzerland     Western Europe         7.571   \n",
       "3      Iceland     Western Europe         7.554   \n",
       "4  Netherlands     Western Europe         7.464   \n",
       "\n",
       "   Standard error of ladder score  upperwhisker  lowerwhisker  \\\n",
       "0                           0.032         7.904         7.780   \n",
       "1                           0.035         7.687         7.552   \n",
       "2                           0.036         7.643         7.500   \n",
       "3                           0.059         7.670         7.438   \n",
       "4                           0.027         7.518         7.410   \n",
       "\n",
       "   Logged GDP per capita  Social support  Healthy life expectancy  \\\n",
       "0                 10.775           0.954                     72.0   \n",
       "1                 10.933           0.954                     72.7   \n",
       "2                 11.117           0.942                     74.4   \n",
       "3                 10.878           0.983                     73.0   \n",
       "4                 10.932           0.942                     72.4   \n",
       "\n",
       "   Freedom to make life choices  Generosity  Perceptions of corruption  \\\n",
       "0                         0.949      -0.098                      0.186   \n",
       "1                         0.946       0.030                      0.179   \n",
       "2                         0.919       0.025                      0.292   \n",
       "3                         0.955       0.160                      0.673   \n",
       "4                         0.913       0.175                      0.338   \n",
       "\n",
       "   Ladder score in Dystopia  Explained by: Log GDP per capita  \\\n",
       "0                      2.43                             1.446   \n",
       "1                      2.43                             1.502   \n",
       "2                      2.43                             1.566   \n",
       "3                      2.43                             1.482   \n",
       "4                      2.43                             1.501   \n",
       "\n",
       "   Explained by: Social support  Explained by: Healthy life expectancy  \\\n",
       "0                         1.106                                  0.741   \n",
       "1                         1.108                                  0.763   \n",
       "2                         1.079                                  0.816   \n",
       "3                         1.172                                  0.772   \n",
       "4                         1.079                                  0.753   \n",
       "\n",
       "   Explained by: Freedom to make life choices  Explained by: Generosity  \\\n",
       "0                                       0.691                     0.124   \n",
       "1                                       0.686                     0.208   \n",
       "2                                       0.653                     0.204   \n",
       "3                                       0.698                     0.293   \n",
       "4                                       0.647                     0.302   \n",
       "\n",
       "   Explained by: Perceptions of corruption  Dystopia + residual  \n",
       "0                                    0.481                3.253  \n",
       "1                                    0.485                2.868  \n",
       "2                                    0.413                2.839  \n",
       "3                                    0.170                2.967  \n",
       "4                                    0.384                2.798  "
      ]
     },
     "execution_count": 82,
     "metadata": {},
     "output_type": "execute_result"
    }
   ],
   "source": [
    "df = pd.read_csv(\"Data/world-happiness-report-2021.csv\")\n",
    "df.head()"
   ]
  },
  {
   "cell_type": "code",
   "execution_count": 25,
   "id": "b80306d4",
   "metadata": {},
   "outputs": [
    {
     "name": "stdout",
     "output_type": "stream",
     "text": [
      "<class 'pandas.core.frame.DataFrame'>\n",
      "RangeIndex: 149 entries, 0 to 148\n",
      "Data columns (total 20 columns):\n",
      " #   Column                                      Non-Null Count  Dtype  \n",
      "---  ------                                      --------------  -----  \n",
      " 0   Country name                                149 non-null    object \n",
      " 1   Regional indicator                          149 non-null    object \n",
      " 2   Ladder score                                149 non-null    float64\n",
      " 3   Standard error of ladder score              149 non-null    float64\n",
      " 4   upperwhisker                                149 non-null    float64\n",
      " 5   lowerwhisker                                149 non-null    float64\n",
      " 6   Logged GDP per capita                       149 non-null    float64\n",
      " 7   Social support                              149 non-null    float64\n",
      " 8   Healthy life expectancy                     149 non-null    float64\n",
      " 9   Freedom to make life choices                149 non-null    float64\n",
      " 10  Generosity                                  149 non-null    float64\n",
      " 11  Perceptions of corruption                   149 non-null    float64\n",
      " 12  Ladder score in Dystopia                    149 non-null    float64\n",
      " 13  Explained by: Log GDP per capita            149 non-null    float64\n",
      " 14  Explained by: Social support                149 non-null    float64\n",
      " 15  Explained by: Healthy life expectancy       149 non-null    float64\n",
      " 16  Explained by: Freedom to make life choices  149 non-null    float64\n",
      " 17  Explained by: Generosity                    149 non-null    float64\n",
      " 18  Explained by: Perceptions of corruption     149 non-null    float64\n",
      " 19  Dystopia + residual                         149 non-null    float64\n",
      "dtypes: float64(18), object(2)\n",
      "memory usage: 23.4+ KB\n"
     ]
    }
   ],
   "source": [
    "df.info()"
   ]
  },
  {
   "cell_type": "code",
   "execution_count": 26,
   "id": "281db6ad",
   "metadata": {},
   "outputs": [
    {
     "data": {
      "text/html": [
       "<div>\n",
       "<style scoped>\n",
       "    .dataframe tbody tr th:only-of-type {\n",
       "        vertical-align: middle;\n",
       "    }\n",
       "\n",
       "    .dataframe tbody tr th {\n",
       "        vertical-align: top;\n",
       "    }\n",
       "\n",
       "    .dataframe thead th {\n",
       "        text-align: right;\n",
       "    }\n",
       "</style>\n",
       "<table border=\"1\" class=\"dataframe\">\n",
       "  <thead>\n",
       "    <tr style=\"text-align: right;\">\n",
       "      <th></th>\n",
       "      <th>missing_value</th>\n",
       "      <th>%</th>\n",
       "    </tr>\n",
       "  </thead>\n",
       "  <tbody>\n",
       "    <tr>\n",
       "      <th>Country name</th>\n",
       "      <td>0</td>\n",
       "      <td>0.0</td>\n",
       "    </tr>\n",
       "    <tr>\n",
       "      <th>Regional indicator</th>\n",
       "      <td>0</td>\n",
       "      <td>0.0</td>\n",
       "    </tr>\n",
       "    <tr>\n",
       "      <th>Ladder score</th>\n",
       "      <td>0</td>\n",
       "      <td>0.0</td>\n",
       "    </tr>\n",
       "    <tr>\n",
       "      <th>Standard error of ladder score</th>\n",
       "      <td>0</td>\n",
       "      <td>0.0</td>\n",
       "    </tr>\n",
       "    <tr>\n",
       "      <th>upperwhisker</th>\n",
       "      <td>0</td>\n",
       "      <td>0.0</td>\n",
       "    </tr>\n",
       "    <tr>\n",
       "      <th>lowerwhisker</th>\n",
       "      <td>0</td>\n",
       "      <td>0.0</td>\n",
       "    </tr>\n",
       "    <tr>\n",
       "      <th>Logged GDP per capita</th>\n",
       "      <td>0</td>\n",
       "      <td>0.0</td>\n",
       "    </tr>\n",
       "    <tr>\n",
       "      <th>Social support</th>\n",
       "      <td>0</td>\n",
       "      <td>0.0</td>\n",
       "    </tr>\n",
       "    <tr>\n",
       "      <th>Healthy life expectancy</th>\n",
       "      <td>0</td>\n",
       "      <td>0.0</td>\n",
       "    </tr>\n",
       "    <tr>\n",
       "      <th>Freedom to make life choices</th>\n",
       "      <td>0</td>\n",
       "      <td>0.0</td>\n",
       "    </tr>\n",
       "    <tr>\n",
       "      <th>Generosity</th>\n",
       "      <td>0</td>\n",
       "      <td>0.0</td>\n",
       "    </tr>\n",
       "    <tr>\n",
       "      <th>Perceptions of corruption</th>\n",
       "      <td>0</td>\n",
       "      <td>0.0</td>\n",
       "    </tr>\n",
       "    <tr>\n",
       "      <th>Ladder score in Dystopia</th>\n",
       "      <td>0</td>\n",
       "      <td>0.0</td>\n",
       "    </tr>\n",
       "    <tr>\n",
       "      <th>Explained by: Log GDP per capita</th>\n",
       "      <td>0</td>\n",
       "      <td>0.0</td>\n",
       "    </tr>\n",
       "    <tr>\n",
       "      <th>Explained by: Social support</th>\n",
       "      <td>0</td>\n",
       "      <td>0.0</td>\n",
       "    </tr>\n",
       "    <tr>\n",
       "      <th>Explained by: Healthy life expectancy</th>\n",
       "      <td>0</td>\n",
       "      <td>0.0</td>\n",
       "    </tr>\n",
       "    <tr>\n",
       "      <th>Explained by: Freedom to make life choices</th>\n",
       "      <td>0</td>\n",
       "      <td>0.0</td>\n",
       "    </tr>\n",
       "    <tr>\n",
       "      <th>Explained by: Generosity</th>\n",
       "      <td>0</td>\n",
       "      <td>0.0</td>\n",
       "    </tr>\n",
       "    <tr>\n",
       "      <th>Explained by: Perceptions of corruption</th>\n",
       "      <td>0</td>\n",
       "      <td>0.0</td>\n",
       "    </tr>\n",
       "    <tr>\n",
       "      <th>Dystopia + residual</th>\n",
       "      <td>0</td>\n",
       "      <td>0.0</td>\n",
       "    </tr>\n",
       "  </tbody>\n",
       "</table>\n",
       "</div>"
      ],
      "text/plain": [
       "                                            missing_value    %\n",
       "Country name                                            0  0.0\n",
       "Regional indicator                                      0  0.0\n",
       "Ladder score                                            0  0.0\n",
       "Standard error of ladder score                          0  0.0\n",
       "upperwhisker                                            0  0.0\n",
       "lowerwhisker                                            0  0.0\n",
       "Logged GDP per capita                                   0  0.0\n",
       "Social support                                          0  0.0\n",
       "Healthy life expectancy                                 0  0.0\n",
       "Freedom to make life choices                            0  0.0\n",
       "Generosity                                              0  0.0\n",
       "Perceptions of corruption                               0  0.0\n",
       "Ladder score in Dystopia                                0  0.0\n",
       "Explained by: Log GDP per capita                        0  0.0\n",
       "Explained by: Social support                            0  0.0\n",
       "Explained by: Healthy life expectancy                   0  0.0\n",
       "Explained by: Freedom to make life choices              0  0.0\n",
       "Explained by: Generosity                                0  0.0\n",
       "Explained by: Perceptions of corruption                 0  0.0\n",
       "Dystopia + residual                                     0  0.0"
      ]
     },
     "execution_count": 26,
     "metadata": {},
     "output_type": "execute_result"
    },
    {
     "data": {
      "image/png": "[encoded data removed]",
      "text/plain": [
       "<Figure size 1080x576 with 1 Axes>"
      ]
     },
     "metadata": {
      "needs_background": "light"
     },
     "output_type": "display_data"
    }
   ],
   "source": [
    "plot_missing_value(df, return_df=True)"
   ]
  },
  {
   "cell_type": "code",
   "execution_count": 27,
   "id": "9298c49a",
   "metadata": {},
   "outputs": [
    {
     "data": {
      "text/html": [
       "<div>\n",
       "<style scoped>\n",
       "    .dataframe tbody tr th:only-of-type {\n",
       "        vertical-align: middle;\n",
       "    }\n",
       "\n",
       "    .dataframe tbody tr th {\n",
       "        vertical-align: top;\n",
       "    }\n",
       "\n",
       "    .dataframe thead th {\n",
       "        text-align: right;\n",
       "    }\n",
       "</style>\n",
       "<table border=\"1\" class=\"dataframe\">\n",
       "  <thead>\n",
       "    <tr style=\"text-align: right;\">\n",
       "      <th></th>\n",
       "      <th>Ladder score</th>\n",
       "      <th>Standard error of ladder score</th>\n",
       "      <th>upperwhisker</th>\n",
       "      <th>lowerwhisker</th>\n",
       "      <th>Logged GDP per capita</th>\n",
       "      <th>Social support</th>\n",
       "      <th>Healthy life expectancy</th>\n",
       "      <th>Freedom to make life choices</th>\n",
       "      <th>Generosity</th>\n",
       "      <th>Perceptions of corruption</th>\n",
       "      <th>Ladder score in Dystopia</th>\n",
       "      <th>Explained by: Log GDP per capita</th>\n",
       "      <th>Explained by: Social support</th>\n",
       "      <th>Explained by: Healthy life expectancy</th>\n",
       "      <th>Explained by: Freedom to make life choices</th>\n",
       "      <th>Explained by: Generosity</th>\n",
       "      <th>Explained by: Perceptions of corruption</th>\n",
       "      <th>Dystopia + residual</th>\n",
       "    </tr>\n",
       "  </thead>\n",
       "  <tbody>\n",
       "    <tr>\n",
       "      <th>count</th>\n",
       "      <td>149.000000</td>\n",
       "      <td>149.000000</td>\n",
       "      <td>149.000000</td>\n",
       "      <td>149.000000</td>\n",
       "      <td>149.000000</td>\n",
       "      <td>149.000000</td>\n",
       "      <td>149.000000</td>\n",
       "      <td>149.000000</td>\n",
       "      <td>149.000000</td>\n",
       "      <td>149.000000</td>\n",
       "      <td>1.490000e+02</td>\n",
       "      <td>149.000000</td>\n",
       "      <td>149.000000</td>\n",
       "      <td>149.000000</td>\n",
       "      <td>149.000000</td>\n",
       "      <td>149.000000</td>\n",
       "      <td>149.000000</td>\n",
       "      <td>149.000000</td>\n",
       "    </tr>\n",
       "    <tr>\n",
       "      <th>mean</th>\n",
       "      <td>5.532839</td>\n",
       "      <td>0.058752</td>\n",
       "      <td>5.648007</td>\n",
       "      <td>5.417631</td>\n",
       "      <td>9.432208</td>\n",
       "      <td>0.814745</td>\n",
       "      <td>64.992799</td>\n",
       "      <td>0.791597</td>\n",
       "      <td>-0.015134</td>\n",
       "      <td>0.727450</td>\n",
       "      <td>2.430000e+00</td>\n",
       "      <td>0.977161</td>\n",
       "      <td>0.793315</td>\n",
       "      <td>0.520161</td>\n",
       "      <td>0.498711</td>\n",
       "      <td>0.178047</td>\n",
       "      <td>0.135141</td>\n",
       "      <td>2.430329</td>\n",
       "    </tr>\n",
       "    <tr>\n",
       "      <th>std</th>\n",
       "      <td>1.073924</td>\n",
       "      <td>0.022001</td>\n",
       "      <td>1.054330</td>\n",
       "      <td>1.094879</td>\n",
       "      <td>1.158601</td>\n",
       "      <td>0.114889</td>\n",
       "      <td>6.762043</td>\n",
       "      <td>0.113332</td>\n",
       "      <td>0.150657</td>\n",
       "      <td>0.179226</td>\n",
       "      <td>5.347044e-15</td>\n",
       "      <td>0.404740</td>\n",
       "      <td>0.258871</td>\n",
       "      <td>0.213019</td>\n",
       "      <td>0.137888</td>\n",
       "      <td>0.098270</td>\n",
       "      <td>0.114361</td>\n",
       "      <td>0.537645</td>\n",
       "    </tr>\n",
       "    <tr>\n",
       "      <th>min</th>\n",
       "      <td>2.523000</td>\n",
       "      <td>0.026000</td>\n",
       "      <td>2.596000</td>\n",
       "      <td>2.449000</td>\n",
       "      <td>6.635000</td>\n",
       "      <td>0.463000</td>\n",
       "      <td>48.478000</td>\n",
       "      <td>0.382000</td>\n",
       "      <td>-0.288000</td>\n",
       "      <td>0.082000</td>\n",
       "      <td>2.430000e+00</td>\n",
       "      <td>0.000000</td>\n",
       "      <td>0.000000</td>\n",
       "      <td>0.000000</td>\n",
       "      <td>0.000000</td>\n",
       "      <td>0.000000</td>\n",
       "      <td>0.000000</td>\n",
       "      <td>0.648000</td>\n",
       "    </tr>\n",
       "    <tr>\n",
       "      <th>25%</th>\n",
       "      <td>4.852000</td>\n",
       "      <td>0.043000</td>\n",
       "      <td>4.991000</td>\n",
       "      <td>4.706000</td>\n",
       "      <td>8.541000</td>\n",
       "      <td>0.750000</td>\n",
       "      <td>59.802000</td>\n",
       "      <td>0.718000</td>\n",
       "      <td>-0.126000</td>\n",
       "      <td>0.667000</td>\n",
       "      <td>2.430000e+00</td>\n",
       "      <td>0.666000</td>\n",
       "      <td>0.647000</td>\n",
       "      <td>0.357000</td>\n",
       "      <td>0.409000</td>\n",
       "      <td>0.105000</td>\n",
       "      <td>0.060000</td>\n",
       "      <td>2.138000</td>\n",
       "    </tr>\n",
       "    <tr>\n",
       "      <th>50%</th>\n",
       "      <td>5.534000</td>\n",
       "      <td>0.054000</td>\n",
       "      <td>5.625000</td>\n",
       "      <td>5.413000</td>\n",
       "      <td>9.569000</td>\n",
       "      <td>0.832000</td>\n",
       "      <td>66.603000</td>\n",
       "      <td>0.804000</td>\n",
       "      <td>-0.036000</td>\n",
       "      <td>0.781000</td>\n",
       "      <td>2.430000e+00</td>\n",
       "      <td>1.025000</td>\n",
       "      <td>0.832000</td>\n",
       "      <td>0.571000</td>\n",
       "      <td>0.514000</td>\n",
       "      <td>0.164000</td>\n",
       "      <td>0.101000</td>\n",
       "      <td>2.509000</td>\n",
       "    </tr>\n",
       "    <tr>\n",
       "      <th>75%</th>\n",
       "      <td>6.255000</td>\n",
       "      <td>0.070000</td>\n",
       "      <td>6.344000</td>\n",
       "      <td>6.128000</td>\n",
       "      <td>10.421000</td>\n",
       "      <td>0.905000</td>\n",
       "      <td>69.600000</td>\n",
       "      <td>0.877000</td>\n",
       "      <td>0.079000</td>\n",
       "      <td>0.845000</td>\n",
       "      <td>2.430000e+00</td>\n",
       "      <td>1.323000</td>\n",
       "      <td>0.996000</td>\n",
       "      <td>0.665000</td>\n",
       "      <td>0.603000</td>\n",
       "      <td>0.239000</td>\n",
       "      <td>0.174000</td>\n",
       "      <td>2.794000</td>\n",
       "    </tr>\n",
       "    <tr>\n",
       "      <th>max</th>\n",
       "      <td>7.842000</td>\n",
       "      <td>0.173000</td>\n",
       "      <td>7.904000</td>\n",
       "      <td>7.780000</td>\n",
       "      <td>11.647000</td>\n",
       "      <td>0.983000</td>\n",
       "      <td>76.953000</td>\n",
       "      <td>0.970000</td>\n",
       "      <td>0.542000</td>\n",
       "      <td>0.939000</td>\n",
       "      <td>2.430000e+00</td>\n",
       "      <td>1.751000</td>\n",
       "      <td>1.172000</td>\n",
       "      <td>0.897000</td>\n",
       "      <td>0.716000</td>\n",
       "      <td>0.541000</td>\n",
       "      <td>0.547000</td>\n",
       "      <td>3.482000</td>\n",
       "    </tr>\n",
       "  </tbody>\n",
       "</table>\n",
       "</div>"
      ],
      "text/plain": [
       "       Ladder score  Standard error of ladder score  upperwhisker  \\\n",
       "count    149.000000                      149.000000    149.000000   \n",
       "mean       5.532839                        0.058752      5.648007   \n",
       "std        1.073924                        0.022001      1.054330   \n",
       "min        2.523000                        0.026000      2.596000   \n",
       "25%        4.852000                        0.043000      4.991000   \n",
       "50%        5.534000                        0.054000      5.625000   \n",
       "75%        6.255000                        0.070000      6.344000   \n",
       "max        7.842000                        0.173000      7.904000   \n",
       "\n",
       "       lowerwhisker  Logged GDP per capita  Social support  \\\n",
       "count    149.000000             149.000000      149.000000   \n",
       "mean       5.417631               9.432208        0.814745   \n",
       "std        1.094879               1.158601        0.114889   \n",
       "min        2.449000               6.635000        0.463000   \n",
       "25%        4.706000               8.541000        0.750000   \n",
       "50%        5.413000               9.569000        0.832000   \n",
       "75%        6.128000              10.421000        0.905000   \n",
       "max        7.780000              11.647000        0.983000   \n",
       "\n",
       "       Healthy life expectancy  Freedom to make life choices  Generosity  \\\n",
       "count               149.000000                    149.000000  149.000000   \n",
       "mean                 64.992799                      0.791597   -0.015134   \n",
       "std                   6.762043                      0.113332    0.150657   \n",
       "min                  48.478000                      0.382000   -0.288000   \n",
       "25%                  59.802000                      0.718000   -0.126000   \n",
       "50%                  66.603000                      0.804000   -0.036000   \n",
       "75%                  69.600000                      0.877000    0.079000   \n",
       "max                  76.953000                      0.970000    0.542000   \n",
       "\n",
       "       Perceptions of corruption  Ladder score in Dystopia  \\\n",
       "count                 149.000000              1.490000e+02   \n",
       "mean                    0.727450              2.430000e+00   \n",
       "std                     0.179226              5.347044e-15   \n",
       "min                     0.082000              2.430000e+00   \n",
       "25%                     0.667000              2.430000e+00   \n",
       "50%                     0.781000              2.430000e+00   \n",
       "75%                     0.845000              2.430000e+00   \n",
       "max                     0.939000              2.430000e+00   \n",
       "\n",
       "       Explained by: Log GDP per capita  Explained by: Social support  \\\n",
       "count                        149.000000                    149.000000   \n",
       "mean                           0.977161                      0.793315   \n",
       "std                            0.404740                      0.258871   \n",
       "min                            0.000000                      0.000000   \n",
       "25%                            0.666000                      0.647000   \n",
       "50%                            1.025000                      0.832000   \n",
       "75%                            1.323000                      0.996000   \n",
       "max                            1.751000                      1.172000   \n",
       "\n",
       "       Explained by: Healthy life expectancy  \\\n",
       "count                             149.000000   \n",
       "mean                                0.520161   \n",
       "std                                 0.213019   \n",
       "min                                 0.000000   \n",
       "25%                                 0.357000   \n",
       "50%                                 0.571000   \n",
       "75%                                 0.665000   \n",
       "max                                 0.897000   \n",
       "\n",
       "       Explained by: Freedom to make life choices  Explained by: Generosity  \\\n",
       "count                                  149.000000                149.000000   \n",
       "mean                                     0.498711                  0.178047   \n",
       "std                                      0.137888                  0.098270   \n",
       "min                                      0.000000                  0.000000   \n",
       "25%                                      0.409000                  0.105000   \n",
       "50%                                      0.514000                  0.164000   \n",
       "75%                                      0.603000                  0.239000   \n",
       "max                                      0.716000                  0.541000   \n",
       "\n",
       "       Explained by: Perceptions of corruption  Dystopia + residual  \n",
       "count                               149.000000           149.000000  \n",
       "mean                                  0.135141             2.430329  \n",
       "std                                   0.114361             0.537645  \n",
       "min                                   0.000000             0.648000  \n",
       "25%                                   0.060000             2.138000  \n",
       "50%                                   0.101000             2.509000  \n",
       "75%                                   0.174000             2.794000  \n",
       "max                                   0.547000             3.482000  "
      ]
     },
     "execution_count": 27,
     "metadata": {},
     "output_type": "execute_result"
    }
   ],
   "source": [
    "df.describe()"
   ]
  },
  {
   "cell_type": "code",
   "execution_count": 28,
   "id": "eb82b6c7",
   "metadata": {},
   "outputs": [
    {
     "data": {
      "text/plain": [
       "Country name                                  149\n",
       "Regional indicator                             10\n",
       "Ladder score                                  147\n",
       "Standard error of ladder score                 65\n",
       "upperwhisker                                  146\n",
       "lowerwhisker                                  143\n",
       "Logged GDP per capita                         148\n",
       "Social support                                119\n",
       "Healthy life expectancy                       135\n",
       "Freedom to make life choices                  126\n",
       "Generosity                                    130\n",
       "Perceptions of corruption                     130\n",
       "Ladder score in Dystopia                        1\n",
       "Explained by: Log GDP per capita              138\n",
       "Explained by: Social support                  135\n",
       "Explained by: Healthy life expectancy         119\n",
       "Explained by: Freedom to make life choices    130\n",
       "Explained by: Generosity                      119\n",
       "Explained by: Perceptions of corruption       117\n",
       "Dystopia + residual                           142\n",
       "dtype: int64"
      ]
     },
     "execution_count": 28,
     "metadata": {},
     "output_type": "execute_result"
    }
   ],
   "source": [
    "df.nunique()"
   ]
  },
  {
   "cell_type": "code",
   "execution_count": 29,
   "id": "73c024c9",
   "metadata": {},
   "outputs": [],
   "source": [
    "df.drop(columns='Ladder score in Dystopia', inplace=True)"
   ]
  },
  {
   "cell_type": "code",
   "execution_count": 30,
   "id": "6a879b6e",
   "metadata": {},
   "outputs": [
    {
     "data": {
      "text/plain": [
       "<AxesSubplot: >"
      ]
     },
     "execution_count": 30,
     "metadata": {},
     "output_type": "execute_result"
    },
    {
     "data": {
      "image/png": "[encoded data removed]",
      "text/plain": [
       "<Figure size 936x720 with 2 Axes>"
      ]
     },
     "metadata": {
      "needs_background": "light"
     },
     "output_type": "display_data"
    }
   ],
   "source": [
    "plt.figure(figsize=(13,10))\n",
    "sns.heatmap(df.corr(), annot=True)"
   ]
  },
  {
   "cell_type": "code",
   "execution_count": 31,
   "id": "2ccc96c7",
   "metadata": {},
   "outputs": [
    {
     "data": {
      "text/plain": [
       "Country name                                  0\n",
       "Regional indicator                            0\n",
       "Ladder score                                  0\n",
       "Standard error of ladder score                0\n",
       "upperwhisker                                  0\n",
       "lowerwhisker                                  0\n",
       "Logged GDP per capita                         0\n",
       "Social support                                0\n",
       "Healthy life expectancy                       0\n",
       "Freedom to make life choices                  0\n",
       "Generosity                                    0\n",
       "Perceptions of corruption                     0\n",
       "Explained by: Log GDP per capita              0\n",
       "Explained by: Social support                  0\n",
       "Explained by: Healthy life expectancy         0\n",
       "Explained by: Freedom to make life choices    0\n",
       "Explained by: Generosity                      0\n",
       "Explained by: Perceptions of corruption       0\n",
       "Dystopia + residual                           0\n",
       "dtype: int64"
      ]
     },
     "execution_count": 31,
     "metadata": {},
     "output_type": "execute_result"
    }
   ],
   "source": [
    "df.isnull().sum()"
   ]
  },
  {
   "cell_type": "code",
   "execution_count": 33,
   "id": "c46ecb9a",
   "metadata": {},
   "outputs": [
    {
     "data": {
      "text/plain": [
       "0"
      ]
     },
     "execution_count": 33,
     "metadata": {},
     "output_type": "execute_result"
    }
   ],
   "source": [
    "df.duplicated().sum()"
   ]
  },
  {
   "cell_type": "markdown",
   "id": "c9f7fcad",
   "metadata": {},
   "source": [
    "###  Alur\n",
    "1. Thing Simple\n",
    "2. Feature Importance\n",
    "3. Poly\n",
    "4. Tunning\n",
    "5. EDA\n"
   ]
  },
  {
   "cell_type": "markdown",
   "id": "d2f082fc",
   "metadata": {},
   "source": [
    "## Data Splitting"
   ]
  },
  {
   "cell_type": "code",
   "execution_count": 34,
   "id": "8f66782f",
   "metadata": {},
   "outputs": [
    {
     "data": {
      "text/plain": [
       "((119, 18), (30, 18), (119,), (30,))"
      ]
     },
     "execution_count": 34,
     "metadata": {},
     "output_type": "execute_result"
    }
   ],
   "source": [
    "X = df.drop(columns=\"Ladder score\")\n",
    "y = df['Ladder score']\n",
    "\n",
    "X_train, X_test, y_train, y_test = train_test_split(X, y, test_size=0.2, random_state=42)\n",
    "X_train.shape, X_test.shape, y_train.shape, y_test.shape"
   ]
  },
  {
   "cell_type": "markdown",
   "id": "be0ae10c",
   "metadata": {},
   "source": [
    "## Data Training"
   ]
  },
  {
   "cell_type": "code",
   "execution_count": 35,
   "id": "3bef0560",
   "metadata": {},
   "outputs": [
    {
     "data": {
      "text/html": [
       "<div>\n",
       "<style scoped>\n",
       "    .dataframe tbody tr th:only-of-type {\n",
       "        vertical-align: middle;\n",
       "    }\n",
       "\n",
       "    .dataframe tbody tr th {\n",
       "        vertical-align: top;\n",
       "    }\n",
       "\n",
       "    .dataframe thead th {\n",
       "        text-align: right;\n",
       "    }\n",
       "</style>\n",
       "<table border=\"1\" class=\"dataframe\">\n",
       "  <thead>\n",
       "    <tr style=\"text-align: right;\">\n",
       "      <th></th>\n",
       "      <th>Country name</th>\n",
       "      <th>Regional indicator</th>\n",
       "      <th>Standard error of ladder score</th>\n",
       "      <th>upperwhisker</th>\n",
       "      <th>lowerwhisker</th>\n",
       "      <th>Logged GDP per capita</th>\n",
       "      <th>Social support</th>\n",
       "      <th>Healthy life expectancy</th>\n",
       "      <th>Freedom to make life choices</th>\n",
       "      <th>Generosity</th>\n",
       "      <th>Perceptions of corruption</th>\n",
       "      <th>Explained by: Log GDP per capita</th>\n",
       "      <th>Explained by: Social support</th>\n",
       "      <th>Explained by: Healthy life expectancy</th>\n",
       "      <th>Explained by: Freedom to make life choices</th>\n",
       "      <th>Explained by: Generosity</th>\n",
       "      <th>Explained by: Perceptions of corruption</th>\n",
       "      <th>Dystopia + residual</th>\n",
       "    </tr>\n",
       "  </thead>\n",
       "  <tbody>\n",
       "    <tr>\n",
       "      <th>22</th>\n",
       "      <td>Malta</td>\n",
       "      <td>Western Europe</td>\n",
       "      <td>0.044</td>\n",
       "      <td>6.688</td>\n",
       "      <td>6.516</td>\n",
       "      <td>10.674</td>\n",
       "      <td>0.931</td>\n",
       "      <td>72.200</td>\n",
       "      <td>0.927</td>\n",
       "      <td>0.133</td>\n",
       "      <td>0.653</td>\n",
       "      <td>1.411</td>\n",
       "      <td>1.055</td>\n",
       "      <td>0.747</td>\n",
       "      <td>0.664</td>\n",
       "      <td>0.275</td>\n",
       "      <td>0.183</td>\n",
       "      <td>2.268</td>\n",
       "    </tr>\n",
       "    <tr>\n",
       "      <th>15</th>\n",
       "      <td>Costa Rica</td>\n",
       "      <td>Latin America and Caribbean</td>\n",
       "      <td>0.056</td>\n",
       "      <td>7.179</td>\n",
       "      <td>6.960</td>\n",
       "      <td>9.880</td>\n",
       "      <td>0.891</td>\n",
       "      <td>71.400</td>\n",
       "      <td>0.934</td>\n",
       "      <td>-0.126</td>\n",
       "      <td>0.809</td>\n",
       "      <td>1.134</td>\n",
       "      <td>0.966</td>\n",
       "      <td>0.722</td>\n",
       "      <td>0.673</td>\n",
       "      <td>0.105</td>\n",
       "      <td>0.083</td>\n",
       "      <td>3.387</td>\n",
       "    </tr>\n",
       "    <tr>\n",
       "      <th>65</th>\n",
       "      <td>Ecuador</td>\n",
       "      <td>Latin America and Caribbean</td>\n",
       "      <td>0.057</td>\n",
       "      <td>5.875</td>\n",
       "      <td>5.653</td>\n",
       "      <td>9.313</td>\n",
       "      <td>0.821</td>\n",
       "      <td>68.800</td>\n",
       "      <td>0.842</td>\n",
       "      <td>-0.124</td>\n",
       "      <td>0.843</td>\n",
       "      <td>0.935</td>\n",
       "      <td>0.806</td>\n",
       "      <td>0.640</td>\n",
       "      <td>0.560</td>\n",
       "      <td>0.107</td>\n",
       "      <td>0.062</td>\n",
       "      <td>2.653</td>\n",
       "    </tr>\n",
       "    <tr>\n",
       "      <th>11</th>\n",
       "      <td>Israel</td>\n",
       "      <td>Middle East and North Africa</td>\n",
       "      <td>0.034</td>\n",
       "      <td>7.224</td>\n",
       "      <td>7.090</td>\n",
       "      <td>10.575</td>\n",
       "      <td>0.939</td>\n",
       "      <td>73.503</td>\n",
       "      <td>0.800</td>\n",
       "      <td>0.031</td>\n",
       "      <td>0.753</td>\n",
       "      <td>1.376</td>\n",
       "      <td>1.074</td>\n",
       "      <td>0.788</td>\n",
       "      <td>0.509</td>\n",
       "      <td>0.208</td>\n",
       "      <td>0.119</td>\n",
       "      <td>3.083</td>\n",
       "    </tr>\n",
       "    <tr>\n",
       "      <th>42</th>\n",
       "      <td>Chile</td>\n",
       "      <td>Latin America and Caribbean</td>\n",
       "      <td>0.046</td>\n",
       "      <td>6.262</td>\n",
       "      <td>6.081</td>\n",
       "      <td>10.071</td>\n",
       "      <td>0.882</td>\n",
       "      <td>70.000</td>\n",
       "      <td>0.742</td>\n",
       "      <td>-0.044</td>\n",
       "      <td>0.830</td>\n",
       "      <td>1.200</td>\n",
       "      <td>0.946</td>\n",
       "      <td>0.678</td>\n",
       "      <td>0.438</td>\n",
       "      <td>0.159</td>\n",
       "      <td>0.070</td>\n",
       "      <td>2.682</td>\n",
       "    </tr>\n",
       "  </tbody>\n",
       "</table>\n",
       "</div>"
      ],
      "text/plain": [
       "   Country name            Regional indicator  Standard error of ladder score  \\\n",
       "22        Malta                Western Europe                           0.044   \n",
       "15   Costa Rica   Latin America and Caribbean                           0.056   \n",
       "65      Ecuador   Latin America and Caribbean                           0.057   \n",
       "11       Israel  Middle East and North Africa                           0.034   \n",
       "42        Chile   Latin America and Caribbean                           0.046   \n",
       "\n",
       "    upperwhisker  lowerwhisker  Logged GDP per capita  Social support  \\\n",
       "22         6.688         6.516                 10.674           0.931   \n",
       "15         7.179         6.960                  9.880           0.891   \n",
       "65         5.875         5.653                  9.313           0.821   \n",
       "11         7.224         7.090                 10.575           0.939   \n",
       "42         6.262         6.081                 10.071           0.882   \n",
       "\n",
       "    Healthy life expectancy  Freedom to make life choices  Generosity  \\\n",
       "22                   72.200                         0.927       0.133   \n",
       "15                   71.400                         0.934      -0.126   \n",
       "65                   68.800                         0.842      -0.124   \n",
       "11                   73.503                         0.800       0.031   \n",
       "42                   70.000                         0.742      -0.044   \n",
       "\n",
       "    Perceptions of corruption  Explained by: Log GDP per capita  \\\n",
       "22                      0.653                             1.411   \n",
       "15                      0.809                             1.134   \n",
       "65                      0.843                             0.935   \n",
       "11                      0.753                             1.376   \n",
       "42                      0.830                             1.200   \n",
       "\n",
       "    Explained by: Social support  Explained by: Healthy life expectancy  \\\n",
       "22                         1.055                                  0.747   \n",
       "15                         0.966                                  0.722   \n",
       "65                         0.806                                  0.640   \n",
       "11                         1.074                                  0.788   \n",
       "42                         0.946                                  0.678   \n",
       "\n",
       "    Explained by: Freedom to make life choices  Explained by: Generosity  \\\n",
       "22                                       0.664                     0.275   \n",
       "15                                       0.673                     0.105   \n",
       "65                                       0.560                     0.107   \n",
       "11                                       0.509                     0.208   \n",
       "42                                       0.438                     0.159   \n",
       "\n",
       "    Explained by: Perceptions of corruption  Dystopia + residual  \n",
       "22                                    0.183                2.268  \n",
       "15                                    0.083                3.387  \n",
       "65                                    0.062                2.653  \n",
       "11                                    0.119                3.083  \n",
       "42                                    0.070                2.682  "
      ]
     },
     "execution_count": 35,
     "metadata": {},
     "output_type": "execute_result"
    }
   ],
   "source": [
    "X_train.head()"
   ]
  },
  {
   "cell_type": "code",
   "execution_count": 36,
   "id": "c408261d",
   "metadata": {},
   "outputs": [
    {
     "data": {
      "text/plain": [
       "Index(['Country name', 'Regional indicator', 'Standard error of ladder score',\n",
       "       'upperwhisker', 'lowerwhisker', 'Logged GDP per capita',\n",
       "       'Social support', 'Healthy life expectancy',\n",
       "       'Freedom to make life choices', 'Generosity',\n",
       "       'Perceptions of corruption', 'Explained by: Log GDP per capita',\n",
       "       'Explained by: Social support', 'Explained by: Healthy life expectancy',\n",
       "       'Explained by: Freedom to make life choices',\n",
       "       'Explained by: Generosity', 'Explained by: Perceptions of corruption',\n",
       "       'Dystopia + residual'],\n",
       "      dtype='object')"
      ]
     },
     "execution_count": 36,
     "metadata": {},
     "output_type": "execute_result"
    }
   ],
   "source": [
    "X_train.columns"
   ]
  },
  {
   "cell_type": "code",
   "execution_count": 37,
   "id": "96ded2a2",
   "metadata": {},
   "outputs": [],
   "source": [
    "from xgboost import XGBRegressor\n",
    "from sklearn.model_selection import RandomizedSearchCV\n",
    "from jcopml.tuning import random_search_params as rsp"
   ]
  },
  {
   "cell_type": "code",
   "execution_count": 38,
   "id": "694a20fb",
   "metadata": {},
   "outputs": [
    {
     "data": {
      "text/plain": [
       "{'algo__max_depth': Integer(low=1, high=10),\n",
       " 'algo__learning_rate': Real(low=-2, high=0, prior='log-uniform'),\n",
       " 'algo__n_estimators': Integer(low=100, high=200),\n",
       " 'algo__subsample': Real(low=0.3, high=0.8, prior='uniform'),\n",
       " 'algo__gamma': Integer(low=1, high=10),\n",
       " 'algo__colsample_bytree': Real(low=0.1, high=1, prior='uniform'),\n",
       " 'algo__reg_alpha': Real(low=-3, high=1, prior='log-uniform'),\n",
       " 'algo__reg_lambda': Real(low=-3, high=1, prior='log-uniform')}"
      ]
     },
     "execution_count": 38,
     "metadata": {},
     "output_type": "execute_result"
    }
   ],
   "source": [
    "#Paramater\n",
    "rsp.xgb_params"
   ]
  },
  {
   "cell_type": "code",
   "execution_count": 39,
   "id": "5c59193b",
   "metadata": {},
   "outputs": [
    {
     "name": "stdout",
     "output_type": "stream",
     "text": [
      "Fitting 3 folds for each of 50 candidates, totalling 150 fits\n",
      "{'algo__colsample_bytree': 0.7419203085006956, 'algo__gamma': 1, 'algo__learning_rate': 0.27762530094438326, 'algo__max_depth': 7, 'algo__n_estimators': 113, 'algo__reg_alpha': 0.09444574254983565, 'algo__reg_lambda': 0.12329098365270522, 'algo__subsample': 0.5137705091792748}\n",
      "0.9781367124391849 0.9544394655127909 0.9893259780992966\n"
     ]
    }
   ],
   "source": [
    "preprocessor = ColumnTransformer([\n",
    "    ('numeric', num_pipe(), [\"Standard error of ladder score\", \"upperwhisker\", \"lowerwhisker\", \"Logged GDP per capita\",\n",
    "                            \"Social support\", \"Healthy life expectancy\", \"Freedom to make life choices\", \"Generosity\", \n",
    "                             'Perceptions of corruption', 'Explained by: Log GDP per capita', 'Explained by: Social support', \n",
    "                             'Explained by: Healthy life expectancy','Explained by: Freedom to make life choices',\n",
    "                             'Explained by: Generosity', 'Explained by: Perceptions of corruption',\n",
    "                             'Dystopia + residual']),\n",
    "    ('categoric', cat_pipe(encoder='onehot'), [\"Country name\", \"Regional indicator\",  ]),\n",
    "])\n",
    "\n",
    "pipeline = Pipeline([\n",
    "    ('prep', preprocessor),\n",
    "    ('algo', XGBRegressor(n_jobs=-1, random_state=42))\n",
    "])\n",
    "\n",
    "#Tunning\n",
    "model = RandomizedSearchCV(pipeline, rsp.xgb_params, cv=3, n_iter=50, n_jobs=-1, verbose=1, random_state=42)\n",
    "model.fit(X_train, y_train)\n",
    "\n",
    "print(model.best_params_)\n",
    "print(model.score(X_train, y_train), model.best_score_, model.score(X_test, y_test))"
   ]
  },
  {
   "cell_type": "markdown",
   "id": "f535d110",
   "metadata": {},
   "source": [
    "## mendapatkan akurasi score 98% selanjutnya kita cari feature importance"
   ]
  },
  {
   "cell_type": "code",
   "execution_count": 41,
   "id": "1a3b67c9",
   "metadata": {},
   "outputs": [
    {
     "data": {
      "image/png": "[encoded data removed]",
      "text/plain": [
       "<Figure size 1080x360 with 1 Axes>"
      ]
     },
     "metadata": {
      "needs_background": "light"
     },
     "output_type": "display_data"
    }
   ],
   "source": [
    "df_imp = mean_score_decrease(X_train, y_train, model, plot=True)"
   ]
  },
  {
   "cell_type": "code",
   "execution_count": 42,
   "id": "e567711d",
   "metadata": {},
   "outputs": [],
   "source": [
    "from jcopml.feature_importance import mean_loss_decrease"
   ]
  },
  {
   "cell_type": "code",
   "execution_count": 46,
   "id": "bf94673f",
   "metadata": {},
   "outputs": [
    {
     "data": {
      "image/png": "[encoded data removed]",
      "text/plain": [
       "<Figure size 1080x360 with 1 Axes>"
      ]
     },
     "metadata": {
      "needs_background": "light"
     },
     "output_type": "display_data"
    }
   ],
   "source": [
    "df_imp = mean_loss_decrease(X_train, model, plot=True, topk=20)"
   ]
  },
  {
   "cell_type": "markdown",
   "id": "ae4096f7",
   "metadata": {},
   "source": [
    "### Dari grafik di atas yang mempengaruhi score adalah kolom upperwhisker, lowerwhisker, Logged GDP per capita, selanjutnya kita akan hapus kolom yang tidak mempengaruhi score, untuk mengurangi beban komputasi"
   ]
  },
  {
   "cell_type": "code",
   "execution_count": 47,
   "id": "c42dd64a",
   "metadata": {},
   "outputs": [
    {
     "name": "stdout",
     "output_type": "stream",
     "text": [
      "Fitting 3 folds for each of 50 candidates, totalling 150 fits\n",
      "{'algo__colsample_bytree': 0.6918516030703091, 'algo__gamma': 1, 'algo__learning_rate': 0.1216411342539395, 'algo__max_depth': 3, 'algo__n_estimators': 185, 'algo__reg_alpha': 0.011502956321912733, 'algo__reg_lambda': 0.009461469059966103, 'algo__subsample': 0.7865052773762229}\n",
      "0.9823036897711999 0.9587073173857613 0.990226585669033\n"
     ]
    }
   ],
   "source": [
    "preprocessor = ColumnTransformer([\n",
    "    ('numeric', num_pipe(), [ \"upperwhisker\", \"lowerwhisker\", \"Logged GDP per capita\",]),\n",
    "])\n",
    "\n",
    "pipeline = Pipeline([\n",
    "    ('prep', preprocessor),\n",
    "    ('algo', XGBRegressor(n_jobs=-1, random_state=42))\n",
    "])\n",
    "\n",
    "#Tunning\n",
    "model = RandomizedSearchCV(pipeline, rsp.xgb_params, cv=3, n_iter=50, n_jobs=-1, verbose=1, random_state=42)\n",
    "model.fit(X_train, y_train)\n",
    "\n",
    "print(model.best_params_)\n",
    "print(model.score(X_train, y_train), model.best_score_, model.score(X_test, y_test))"
   ]
  },
  {
   "cell_type": "code",
   "execution_count": 66,
   "id": "d3a4f5cc",
   "metadata": {},
   "outputs": [
    {
     "data": {
      "text/plain": [
       "array([5.560756 , 6.8988953, 4.7474484, 5.387326 , 5.4677477, 6.3356204,\n",
       "       5.7353473, 3.8109229, 5.7353473, 5.36216  , 4.926323 , 7.0460086,\n",
       "       6.234511 , 7.1551433, 6.6421704, 5.926148 , 4.2528505, 5.7353473,\n",
       "       5.96479  , 4.3497596, 6.3356204, 4.684553 , 6.395501 , 4.4895215,\n",
       "       4.4119687, 3.8109229, 4.8803816, 5.0951347, 6.1314387, 6.395501 ],\n",
       "      dtype=float32)"
      ]
     },
     "execution_count": 66,
     "metadata": {},
     "output_type": "execute_result"
    }
   ],
   "source": [
    "model.predict(X_test)"
   ]
  },
  {
   "cell_type": "markdown",
   "id": "64c88ab6",
   "metadata": {},
   "source": [
    "### Dengan mengurangi kolom terlihat score naik menjadi 99%, serta mengurangi beban komputasi dan running menjadi lebih cepat."
   ]
  },
  {
   "cell_type": "markdown",
   "id": "c2cae8b9",
   "metadata": {},
   "source": [
    "### bisa di simpulkan sementara yang mempengaruhi ladder score adalah upperwhisker, lowerwhisker, Logged GDP per capita. selanjutnya kita akan EDA dan Visualisasi"
   ]
  },
  {
   "cell_type": "markdown",
   "id": "fd2e378f",
   "metadata": {},
   "source": [
    "### Save Model"
   ]
  },
  {
   "cell_type": "code",
   "execution_count": 56,
   "id": "97d604e2",
   "metadata": {},
   "outputs": [
    {
     "name": "stdout",
     "output_type": "stream",
     "text": [
      "Model is pickled as model/xgb_tingkat_harapan_hidup.pkl\n"
     ]
    }
   ],
   "source": [
    "save_model(model.best_estimator_, \"xgb_tingkat_harapan_hidup.pkl\")"
   ]
  },
  {
   "cell_type": "markdown",
   "id": "f71c8aaf",
   "metadata": {},
   "source": [
    "###  EDA & Visualisasi"
   ]
  },
  {
   "cell_type": "code",
   "execution_count": 83,
   "id": "24c48ee1",
   "metadata": {},
   "outputs": [
    {
     "data": {
      "text/html": [
       "<div>\n",
       "<style scoped>\n",
       "    .dataframe tbody tr th:only-of-type {\n",
       "        vertical-align: middle;\n",
       "    }\n",
       "\n",
       "    .dataframe tbody tr th {\n",
       "        vertical-align: top;\n",
       "    }\n",
       "\n",
       "    .dataframe thead th {\n",
       "        text-align: right;\n",
       "    }\n",
       "</style>\n",
       "<table border=\"1\" class=\"dataframe\">\n",
       "  <thead>\n",
       "    <tr style=\"text-align: right;\">\n",
       "      <th></th>\n",
       "      <th>Country name</th>\n",
       "      <th>Regional indicator</th>\n",
       "      <th>Ladder score</th>\n",
       "      <th>Standard error of ladder score</th>\n",
       "      <th>upperwhisker</th>\n",
       "      <th>lowerwhisker</th>\n",
       "      <th>Logged GDP per capita</th>\n",
       "      <th>Social support</th>\n",
       "      <th>Healthy life expectancy</th>\n",
       "      <th>Freedom to make life choices</th>\n",
       "      <th>Generosity</th>\n",
       "      <th>Perceptions of corruption</th>\n",
       "      <th>Ladder score in Dystopia</th>\n",
       "      <th>Explained by: Log GDP per capita</th>\n",
       "      <th>Explained by: Social support</th>\n",
       "      <th>Explained by: Healthy life expectancy</th>\n",
       "      <th>Explained by: Freedom to make life choices</th>\n",
       "      <th>Explained by: Generosity</th>\n",
       "      <th>Explained by: Perceptions of corruption</th>\n",
       "      <th>Dystopia + residual</th>\n",
       "    </tr>\n",
       "  </thead>\n",
       "  <tbody>\n",
       "    <tr>\n",
       "      <th>0</th>\n",
       "      <td>Finland</td>\n",
       "      <td>Western Europe</td>\n",
       "      <td>7.842</td>\n",
       "      <td>0.032</td>\n",
       "      <td>7.904</td>\n",
       "      <td>7.780</td>\n",
       "      <td>10.775</td>\n",
       "      <td>0.954</td>\n",
       "      <td>72.0</td>\n",
       "      <td>0.949</td>\n",
       "      <td>-0.098</td>\n",
       "      <td>0.186</td>\n",
       "      <td>2.43</td>\n",
       "      <td>1.446</td>\n",
       "      <td>1.106</td>\n",
       "      <td>0.741</td>\n",
       "      <td>0.691</td>\n",
       "      <td>0.124</td>\n",
       "      <td>0.481</td>\n",
       "      <td>3.253</td>\n",
       "    </tr>\n",
       "    <tr>\n",
       "      <th>1</th>\n",
       "      <td>Denmark</td>\n",
       "      <td>Western Europe</td>\n",
       "      <td>7.620</td>\n",
       "      <td>0.035</td>\n",
       "      <td>7.687</td>\n",
       "      <td>7.552</td>\n",
       "      <td>10.933</td>\n",
       "      <td>0.954</td>\n",
       "      <td>72.7</td>\n",
       "      <td>0.946</td>\n",
       "      <td>0.030</td>\n",
       "      <td>0.179</td>\n",
       "      <td>2.43</td>\n",
       "      <td>1.502</td>\n",
       "      <td>1.108</td>\n",
       "      <td>0.763</td>\n",
       "      <td>0.686</td>\n",
       "      <td>0.208</td>\n",
       "      <td>0.485</td>\n",
       "      <td>2.868</td>\n",
       "    </tr>\n",
       "    <tr>\n",
       "      <th>2</th>\n",
       "      <td>Switzerland</td>\n",
       "      <td>Western Europe</td>\n",
       "      <td>7.571</td>\n",
       "      <td>0.036</td>\n",
       "      <td>7.643</td>\n",
       "      <td>7.500</td>\n",
       "      <td>11.117</td>\n",
       "      <td>0.942</td>\n",
       "      <td>74.4</td>\n",
       "      <td>0.919</td>\n",
       "      <td>0.025</td>\n",
       "      <td>0.292</td>\n",
       "      <td>2.43</td>\n",
       "      <td>1.566</td>\n",
       "      <td>1.079</td>\n",
       "      <td>0.816</td>\n",
       "      <td>0.653</td>\n",
       "      <td>0.204</td>\n",
       "      <td>0.413</td>\n",
       "      <td>2.839</td>\n",
       "    </tr>\n",
       "    <tr>\n",
       "      <th>3</th>\n",
       "      <td>Iceland</td>\n",
       "      <td>Western Europe</td>\n",
       "      <td>7.554</td>\n",
       "      <td>0.059</td>\n",
       "      <td>7.670</td>\n",
       "      <td>7.438</td>\n",
       "      <td>10.878</td>\n",
       "      <td>0.983</td>\n",
       "      <td>73.0</td>\n",
       "      <td>0.955</td>\n",
       "      <td>0.160</td>\n",
       "      <td>0.673</td>\n",
       "      <td>2.43</td>\n",
       "      <td>1.482</td>\n",
       "      <td>1.172</td>\n",
       "      <td>0.772</td>\n",
       "      <td>0.698</td>\n",
       "      <td>0.293</td>\n",
       "      <td>0.170</td>\n",
       "      <td>2.967</td>\n",
       "    </tr>\n",
       "    <tr>\n",
       "      <th>4</th>\n",
       "      <td>Netherlands</td>\n",
       "      <td>Western Europe</td>\n",
       "      <td>7.464</td>\n",
       "      <td>0.027</td>\n",
       "      <td>7.518</td>\n",
       "      <td>7.410</td>\n",
       "      <td>10.932</td>\n",
       "      <td>0.942</td>\n",
       "      <td>72.4</td>\n",
       "      <td>0.913</td>\n",
       "      <td>0.175</td>\n",
       "      <td>0.338</td>\n",
       "      <td>2.43</td>\n",
       "      <td>1.501</td>\n",
       "      <td>1.079</td>\n",
       "      <td>0.753</td>\n",
       "      <td>0.647</td>\n",
       "      <td>0.302</td>\n",
       "      <td>0.384</td>\n",
       "      <td>2.798</td>\n",
       "    </tr>\n",
       "  </tbody>\n",
       "</table>\n",
       "</div>"
      ],
      "text/plain": [
       "  Country name Regional indicator  Ladder score  \\\n",
       "0      Finland     Western Europe         7.842   \n",
       "1      Denmark     Western Europe         7.620   \n",
       "2  Switzerland     Western Europe         7.571   \n",
       "3      Iceland     Western Europe         7.554   \n",
       "4  Netherlands     Western Europe         7.464   \n",
       "\n",
       "   Standard error of ladder score  upperwhisker  lowerwhisker  \\\n",
       "0                           0.032         7.904         7.780   \n",
       "1                           0.035         7.687         7.552   \n",
       "2                           0.036         7.643         7.500   \n",
       "3                           0.059         7.670         7.438   \n",
       "4                           0.027         7.518         7.410   \n",
       "\n",
       "   Logged GDP per capita  Social support  Healthy life expectancy  \\\n",
       "0                 10.775           0.954                     72.0   \n",
       "1                 10.933           0.954                     72.7   \n",
       "2                 11.117           0.942                     74.4   \n",
       "3                 10.878           0.983                     73.0   \n",
       "4                 10.932           0.942                     72.4   \n",
       "\n",
       "   Freedom to make life choices  Generosity  Perceptions of corruption  \\\n",
       "0                         0.949      -0.098                      0.186   \n",
       "1                         0.946       0.030                      0.179   \n",
       "2                         0.919       0.025                      0.292   \n",
       "3                         0.955       0.160                      0.673   \n",
       "4                         0.913       0.175                      0.338   \n",
       "\n",
       "   Ladder score in Dystopia  Explained by: Log GDP per capita  \\\n",
       "0                      2.43                             1.446   \n",
       "1                      2.43                             1.502   \n",
       "2                      2.43                             1.566   \n",
       "3                      2.43                             1.482   \n",
       "4                      2.43                             1.501   \n",
       "\n",
       "   Explained by: Social support  Explained by: Healthy life expectancy  \\\n",
       "0                         1.106                                  0.741   \n",
       "1                         1.108                                  0.763   \n",
       "2                         1.079                                  0.816   \n",
       "3                         1.172                                  0.772   \n",
       "4                         1.079                                  0.753   \n",
       "\n",
       "   Explained by: Freedom to make life choices  Explained by: Generosity  \\\n",
       "0                                       0.691                     0.124   \n",
       "1                                       0.686                     0.208   \n",
       "2                                       0.653                     0.204   \n",
       "3                                       0.698                     0.293   \n",
       "4                                       0.647                     0.302   \n",
       "\n",
       "   Explained by: Perceptions of corruption  Dystopia + residual  \n",
       "0                                    0.481                3.253  \n",
       "1                                    0.485                2.868  \n",
       "2                                    0.413                2.839  \n",
       "3                                    0.170                2.967  \n",
       "4                                    0.384                2.798  "
      ]
     },
     "execution_count": 83,
     "metadata": {},
     "output_type": "execute_result"
    }
   ],
   "source": [
    "df.head(5)"
   ]
  },
  {
   "cell_type": "code",
   "execution_count": 84,
   "id": "992822e7",
   "metadata": {},
   "outputs": [
    {
     "data": {
      "application/vnd.plotly.v1+json": {
       "config": {
        "plotlyServerURL": "https://plot.ly"
       },
       "data": [
        {
         "branchvalues": "total",
         "customdata": [
          [
           52.493
          ],
          [
           68.999
          ],
          [
           66.005
          ],
          [
           69
          ],
          [
           67.055
          ],
          [
           73.9
          ],
          [
           73.3
          ],
          [
           65.656
          ],
          [
           69.495
          ],
          [
           64.8
          ],
          [
           66.253
          ],
          [
           72.199
          ],
          [
           54.713
          ],
          [
           63.901
          ],
          [
           68.098
          ],
          [
           59.269
          ],
          [
           66.601
          ],
          [
           67
          ],
          [
           54.15100000000001
          ],
          [
           53.4
          ],
          [
           61.99999999999999
          ],
          [
           53.51500000000001
          ],
          [
           73.8
          ],
          [
           48.478
          ],
          [
           70
          ],
          [
           69.593
          ],
          [
           68.001
          ],
          [
           57.349
          ],
          [
           58.221
          ],
          [
           71.4
          ],
          [
           70.799
          ],
          [
           73.898
          ],
          [
           70.807
          ],
          [
           72.7
          ],
          [
           66.102
          ],
          [
           68.8
          ],
          [
           61.998
          ],
          [
           66.402
          ],
          [
           68.8
          ],
          [
           59
          ],
          [
           72
          ],
          [
           74
          ],
          [
           59.962
          ],
          [
           55.16
          ],
          [
           64.3
          ],
          [
           72.5
          ],
          [
           57.586
          ],
          [
           72.6
          ],
          [
           64.958
          ],
          [
           55.008
          ],
          [
           55.7
          ],
          [
           67.3
          ],
          [
           76.82
          ],
          [
           68
          ],
          [
           73
          ],
          [
           60.633
          ],
          [
           62.236
          ],
          [
           66.3
          ],
          [
           60.583
          ],
          [
           72.4
          ],
          [
           73.503
          ],
          [
           73.8
          ],
          [
           50.114
          ],
          [
           67.5
          ],
          [
           75.1
          ],
          [
           67
          ],
          [
           65.2
          ],
          [
           60.70400000000001
          ],
          [
           63.813
          ],
          [
           66.9
          ],
          [
           64.401
          ],
          [
           58.968
          ],
          [
           67.1
          ],
          [
           67.355
          ],
          [
           48.7
          ],
          [
           56.498
          ],
          [
           62.3
          ],
          [
           67.906
          ],
          [
           72.6
          ],
          [
           59.305
          ],
          [
           57.94799999999999
          ],
          [
           67.102
          ],
          [
           70.6
          ],
          [
           51.969
          ],
          [
           72.2
          ],
          [
           57.161
          ],
          [
           66.701
          ],
          [
           68.597
          ],
          [
           65.699
          ],
          [
           62.50000000000001
          ],
          [
           68.699
          ],
          [
           66.208
          ],
          [
           54.706
          ],
          [
           59.30200000000001
          ],
          [
           56.79900000000001
          ],
          [
           64.233
          ],
          [
           72.4
          ],
          [
           73.39999999999999
          ],
          [
           67.657
          ],
          [
           53.78000000000001
          ],
          [
           50.102
          ],
          [
           73.898
          ],
          [
           65.474
          ],
          [
           73.3
          ],
          [
           58.708999999999996
          ],
          [
           62.25000000000001
          ],
          [
           69.652
          ],
          [
           65.9
          ],
          [
           68.25
          ],
          [
           62
          ],
          [
           69.702
          ],
          [
           72.6
          ],
          [
           67.355
          ],
          [
           64.703
          ],
          [
           61.39999999999999
          ],
          [
           66.603
          ],
          [
           59.80200000000001
          ],
          [
           68.6
          ],
          [
           51.651
          ],
          [
           76.953
          ],
          [
           69.201
          ],
          [
           71.4
          ],
          [
           56.903999999999996
          ],
          [
           73.9
          ],
          [
           74.7
          ],
          [
           67.299
          ],
          [
           50.833
          ],
          [
           72.7
          ],
          [
           74.4
          ],
          [
           69.6
          ],
          [
           64.281
          ],
          [
           57.999
          ],
          [
           67.401
          ],
          [
           54.914
          ],
          [
           67.201
          ],
          [
           67.199
          ],
          [
           62.409000000000006
          ],
          [
           56.10099999999999
          ],
          [
           64.902
          ],
          [
           67.333
          ],
          [
           72.5
          ],
          [
           68.2
          ],
          [
           69.1
          ],
          [
           65.255
          ],
          [
           66.7
          ],
          [
           68.034
          ],
          [
           57.122
          ],
          [
           55.809
          ],
          [
           56.201
          ],
          [
           68.38777731691256
          ],
          [
           65.03040191146881
          ],
          [
           71.23511465205668
          ],
          [
           67.36804201894027
          ],
          [
           66.07599643887487
          ],
          [
           72.35796801571156
          ],
          [
           63.54414575627955
          ],
          [
           65.32597435686694
          ],
          [
           55.953127644452145
          ],
          [
           73.01340271187843
          ]
         ],
         "domain": {
          "x": [
           0,
           1
          ],
          "y": [
           0,
           1
          ]
         },
         "hovertemplate": "labels=%{label}<br>Ladder score=%{value}<br>parent=%{parent}<br>id=%{id}<br>Healthy life expectancy=%{color}<extra></extra>",
         "ids": [
          "South Asia/Afghanistan",
          "Central and Eastern Europe/Albania",
          "Middle East and North Africa/Algeria",
          "Latin America and Caribbean/Argentina",
          "Commonwealth of Independent States/Armenia",
          "North America and ANZ/Australia",
          "Western Europe/Austria",
          "Commonwealth of Independent States/Azerbaijan",
          "Middle East and North Africa/Bahrain",
          "South Asia/Bangladesh",
          "Commonwealth of Independent States/Belarus",
          "Western Europe/Belgium",
          "Sub-Saharan Africa/Benin",
          "Latin America and Caribbean/Bolivia",
          "Central and Eastern Europe/Bosnia and Herzegovina",
          "Sub-Saharan Africa/Botswana",
          "Latin America and Caribbean/Brazil",
          "Central and Eastern Europe/Bulgaria",
          "Sub-Saharan Africa/Burkina Faso",
          "Sub-Saharan Africa/Burundi",
          "Southeast Asia/Cambodia",
          "Sub-Saharan Africa/Cameroon",
          "North America and ANZ/Canada",
          "Sub-Saharan Africa/Chad",
          "Latin America and Caribbean/Chile",
          "East Asia/China",
          "Latin America and Caribbean/Colombia",
          "Sub-Saharan Africa/Comoros",
          "Sub-Saharan Africa/Congo (Brazzaville)",
          "Latin America and Caribbean/Costa Rica",
          "Central and Eastern Europe/Croatia",
          "Western Europe/Cyprus",
          "Central and Eastern Europe/Czech Republic",
          "Western Europe/Denmark",
          "Latin America and Caribbean/Dominican Republic",
          "Latin America and Caribbean/Ecuador",
          "Middle East and North Africa/Egypt",
          "Latin America and Caribbean/El Salvador",
          "Central and Eastern Europe/Estonia",
          "Sub-Saharan Africa/Ethiopia",
          "Western Europe/Finland",
          "Western Europe/France",
          "Sub-Saharan Africa/Gabon",
          "Sub-Saharan Africa/Gambia",
          "Commonwealth of Independent States/Georgia",
          "Western Europe/Germany",
          "Sub-Saharan Africa/Ghana",
          "Western Europe/Greece",
          "Latin America and Caribbean/Guatemala",
          "Sub-Saharan Africa/Guinea",
          "Latin America and Caribbean/Haiti",
          "Latin America and Caribbean/Honduras",
          "East Asia/Hong Kong S.A.R. of China",
          "Central and Eastern Europe/Hungary",
          "Western Europe/Iceland",
          "South Asia/India",
          "Southeast Asia/Indonesia",
          "Middle East and North Africa/Iran",
          "Middle East and North Africa/Iraq",
          "Western Europe/Ireland",
          "Middle East and North Africa/Israel",
          "Western Europe/Italy",
          "Sub-Saharan Africa/Ivory Coast",
          "Latin America and Caribbean/Jamaica",
          "East Asia/Japan",
          "Middle East and North Africa/Jordan",
          "Commonwealth of Independent States/Kazakhstan",
          "Sub-Saharan Africa/Kenya",
          "Central and Eastern Europe/Kosovo",
          "Middle East and North Africa/Kuwait",
          "Commonwealth of Independent States/Kyrgyzstan",
          "Southeast Asia/Laos",
          "Central and Eastern Europe/Latvia",
          "Middle East and North Africa/Lebanon",
          "Sub-Saharan Africa/Lesotho",
          "Sub-Saharan Africa/Liberia",
          "Middle East and North Africa/Libya",
          "Central and Eastern Europe/Lithuania",
          "Western Europe/Luxembourg",
          "Sub-Saharan Africa/Madagascar",
          "Sub-Saharan Africa/Malawi",
          "Southeast Asia/Malaysia",
          "South Asia/Maldives",
          "Sub-Saharan Africa/Mali",
          "Western Europe/Malta",
          "Sub-Saharan Africa/Mauritania",
          "Sub-Saharan Africa/Mauritius",
          "Latin America and Caribbean/Mexico",
          "Commonwealth of Independent States/Moldova",
          "East Asia/Mongolia",
          "Central and Eastern Europe/Montenegro",
          "Middle East and North Africa/Morocco",
          "Sub-Saharan Africa/Mozambique",
          "Southeast Asia/Myanmar",
          "Sub-Saharan Africa/Namibia",
          "South Asia/Nepal",
          "Western Europe/Netherlands",
          "North America and ANZ/New Zealand",
          "Latin America and Caribbean/Nicaragua",
          "Sub-Saharan Africa/Niger",
          "Sub-Saharan Africa/Nigeria",
          "Western Europe/North Cyprus",
          "Central and Eastern Europe/North Macedonia",
          "Western Europe/Norway",
          "South Asia/Pakistan",
          "Middle East and North Africa/Palestinian Territories",
          "Latin America and Caribbean/Panama",
          "Latin America and Caribbean/Paraguay",
          "Latin America and Caribbean/Peru",
          "Southeast Asia/Philippines",
          "Central and Eastern Europe/Poland",
          "Western Europe/Portugal",
          "Central and Eastern Europe/Romania",
          "Commonwealth of Independent States/Russia",
          "Sub-Saharan Africa/Rwanda",
          "Middle East and North Africa/Saudi Arabia",
          "Sub-Saharan Africa/Senegal",
          "Central and Eastern Europe/Serbia",
          "Sub-Saharan Africa/Sierra Leone",
          "Southeast Asia/Singapore",
          "Central and Eastern Europe/Slovakia",
          "Central and Eastern Europe/Slovenia",
          "Sub-Saharan Africa/South Africa",
          "East Asia/South Korea",
          "Western Europe/Spain",
          "South Asia/Sri Lanka",
          "Sub-Saharan Africa/Swaziland",
          "Western Europe/Sweden",
          "Western Europe/Switzerland",
          "East Asia/Taiwan Province of China",
          "Commonwealth of Independent States/Tajikistan",
          "Sub-Saharan Africa/Tanzania",
          "Southeast Asia/Thailand",
          "Sub-Saharan Africa/Togo",
          "Middle East and North Africa/Tunisia",
          "Middle East and North Africa/Turkey",
          "Commonwealth of Independent States/Turkmenistan",
          "Sub-Saharan Africa/Uganda",
          "Commonwealth of Independent States/Ukraine",
          "Middle East and North Africa/United Arab Emirates",
          "Western Europe/United Kingdom",
          "North America and ANZ/United States",
          "Latin America and Caribbean/Uruguay",
          "Commonwealth of Independent States/Uzbekistan",
          "Latin America and Caribbean/Venezuela",
          "Southeast Asia/Vietnam",
          "Middle East and North Africa/Yemen",
          "Sub-Saharan Africa/Zambia",
          "Sub-Saharan Africa/Zimbabwe",
          "Central and Eastern Europe",
          "Commonwealth of Independent States",
          "East Asia",
          "Latin America and Caribbean",
          "Middle East and North Africa",
          "North America and ANZ",
          "South Asia",
          "Southeast Asia",
          "Sub-Saharan Africa",
          "Western Europe"
         ],
         "labels": [
          "Afghanistan",
          "Albania",
          "Algeria",
          "Argentina",
          "Armenia",
          "Australia",
          "Austria",
          "Azerbaijan",
          "Bahrain",
          "Bangladesh",
          "Belarus",
          "Belgium",
          "Benin",
          "Bolivia",
          "Bosnia and Herzegovina",
          "Botswana",
          "Brazil",
          "Bulgaria",
          "Burkina Faso",
          "Burundi",
          "Cambodia",
          "Cameroon",
          "Canada",
          "Chad",
          "Chile",
          "China",
          "Colombia",
          "Comoros",
          "Congo (Brazzaville)",
          "Costa Rica",
          "Croatia",
          "Cyprus",
          "Czech Republic",
          "Denmark",
          "Dominican Republic",
          "Ecuador",
          "Egypt",
          "El Salvador",
          "Estonia",
          "Ethiopia",
          "Finland",
          "France",
          "Gabon",
          "Gambia",
          "Georgia",
          "Germany",
          "Ghana",
          "Greece",
          "Guatemala",
          "Guinea",
          "Haiti",
          "Honduras",
          "Hong Kong S.A.R. of China",
          "Hungary",
          "Iceland",
          "India",
          "Indonesia",
          "Iran",
          "Iraq",
          "Ireland",
          "Israel",
          "Italy",
          "Ivory Coast",
          "Jamaica",
          "Japan",
          "Jordan",
          "Kazakhstan",
          "Kenya",
          "Kosovo",
          "Kuwait",
          "Kyrgyzstan",
          "Laos",
          "Latvia",
          "Lebanon",
          "Lesotho",
          "Liberia",
          "Libya",
          "Lithuania",
          "Luxembourg",
          "Madagascar",
          "Malawi",
          "Malaysia",
          "Maldives",
          "Mali",
          "Malta",
          "Mauritania",
          "Mauritius",
          "Mexico",
          "Moldova",
          "Mongolia",
          "Montenegro",
          "Morocco",
          "Mozambique",
          "Myanmar",
          "Namibia",
          "Nepal",
          "Netherlands",
          "New Zealand",
          "Nicaragua",
          "Niger",
          "Nigeria",
          "North Cyprus",
          "North Macedonia",
          "Norway",
          "Pakistan",
          "Palestinian Territories",
          "Panama",
          "Paraguay",
          "Peru",
          "Philippines",
          "Poland",
          "Portugal",
          "Romania",
          "Russia",
          "Rwanda",
          "Saudi Arabia",
          "Senegal",
          "Serbia",
          "Sierra Leone",
          "Singapore",
          "Slovakia",
          "Slovenia",
          "South Africa",
          "South Korea",
          "Spain",
          "Sri Lanka",
          "Swaziland",
          "Sweden",
          "Switzerland",
          "Taiwan Province of China",
          "Tajikistan",
          "Tanzania",
          "Thailand",
          "Togo",
          "Tunisia",
          "Turkey",
          "Turkmenistan",
          "Uganda",
          "Ukraine",
          "United Arab Emirates",
          "United Kingdom",
          "United States",
          "Uruguay",
          "Uzbekistan",
          "Venezuela",
          "Vietnam",
          "Yemen",
          "Zambia",
          "Zimbabwe",
          "Central and Eastern Europe",
          "Commonwealth of Independent States",
          "East Asia",
          "Latin America and Caribbean",
          "Middle East and North Africa",
          "North America and ANZ",
          "South Asia",
          "Southeast Asia",
          "Sub-Saharan Africa",
          "Western Europe"
         ],
         "marker": {
          "coloraxis": "coloraxis",
          "colors": [
           52.493,
           68.999,
           66.005,
           69,
           67.055,
           73.9,
           73.3,
           65.656,
           69.495,
           64.8,
           66.253,
           72.199,
           54.713,
           63.901,
           68.098,
           59.269,
           66.601,
           67,
           54.15100000000001,
           53.4,
           61.99999999999999,
           53.51500000000001,
           73.8,
           48.478,
           70,
           69.593,
           68.001,
           57.349,
           58.221,
           71.4,
           70.799,
           73.898,
           70.807,
           72.7,
           66.102,
           68.8,
           61.998,
           66.402,
           68.8,
           59,
           72,
           74,
           59.962,
           55.16,
           64.3,
           72.5,
           57.586,
           72.6,
           64.958,
           55.008,
           55.7,
           67.3,
           76.82,
           68,
           73,
           60.633,
           62.236,
           66.3,
           60.583,
           72.4,
           73.503,
           73.8,
           50.114,
           67.5,
           75.1,
           67,
           65.2,
           60.70400000000001,
           63.813,
           66.9,
           64.401,
           58.968,
           67.1,
           67.355,
           48.7,
           56.498,
           62.3,
           67.906,
           72.6,
           59.305,
           57.94799999999999,
           67.102,
           70.6,
           51.969,
           72.2,
           57.161,
           66.701,
           68.597,
           65.699,
           62.50000000000001,
           68.699,
           66.208,
           54.706,
           59.30200000000001,
           56.79900000000001,
           64.233,
           72.4,
           73.39999999999999,
           67.657,
           53.78000000000001,
           50.102,
           73.898,
           65.474,
           73.3,
           58.708999999999996,
           62.25000000000001,
           69.652,
           65.9,
           68.25,
           62,
           69.702,
           72.6,
           67.355,
           64.703,
           61.39999999999999,
           66.603,
           59.80200000000001,
           68.6,
           51.651,
           76.953,
           69.201,
           71.4,
           56.903999999999996,
           73.9,
           74.7,
           67.299,
           50.833,
           72.7,
           74.4,
           69.6,
           64.281,
           57.999,
           67.401,
           54.914,
           67.201,
           67.199,
           62.409000000000006,
           56.10099999999999,
           64.902,
           67.333,
           72.5,
           68.2,
           69.1,
           65.255,
           66.7,
           68.034,
           57.122,
           55.809,
           56.201,
           68.38777731691256,
           65.03040191146881,
           71.23511465205668,
           67.36804201894027,
           66.07599643887487,
           72.35796801571156,
           63.54414575627955,
           65.32597435686694,
           55.953127644452145,
           73.01340271187843
          ]
         },
         "name": "",
         "parents": [
          "South Asia",
          "Central and Eastern Europe",
          "Middle East and North Africa",
          "Latin America and Caribbean",
          "Commonwealth of Independent States",
          "North America and ANZ",
          "Western Europe",
          "Commonwealth of Independent States",
          "Middle East and North Africa",
          "South Asia",
          "Commonwealth of Independent States",
          "Western Europe",
          "Sub-Saharan Africa",
          "Latin America and Caribbean",
          "Central and Eastern Europe",
          "Sub-Saharan Africa",
          "Latin America and Caribbean",
          "Central and Eastern Europe",
          "Sub-Saharan Africa",
          "Sub-Saharan Africa",
          "Southeast Asia",
          "Sub-Saharan Africa",
          "North America and ANZ",
          "Sub-Saharan Africa",
          "Latin America and Caribbean",
          "East Asia",
          "Latin America and Caribbean",
          "Sub-Saharan Africa",
          "Sub-Saharan Africa",
          "Latin America and Caribbean",
          "Central and Eastern Europe",
          "Western Europe",
          "Central and Eastern Europe",
          "Western Europe",
          "Latin America and Caribbean",
          "Latin America and Caribbean",
          "Middle East and North Africa",
          "Latin America and Caribbean",
          "Central and Eastern Europe",
          "Sub-Saharan Africa",
          "Western Europe",
          "Western Europe",
          "Sub-Saharan Africa",
          "Sub-Saharan Africa",
          "Commonwealth of Independent States",
          "Western Europe",
          "Sub-Saharan Africa",
          "Western Europe",
          "Latin America and Caribbean",
          "Sub-Saharan Africa",
          "Latin America and Caribbean",
          "Latin America and Caribbean",
          "East Asia",
          "Central and Eastern Europe",
          "Western Europe",
          "South Asia",
          "Southeast Asia",
          "Middle East and North Africa",
          "Middle East and North Africa",
          "Western Europe",
          "Middle East and North Africa",
          "Western Europe",
          "Sub-Saharan Africa",
          "Latin America and Caribbean",
          "East Asia",
          "Middle East and North Africa",
          "Commonwealth of Independent States",
          "Sub-Saharan Africa",
          "Central and Eastern Europe",
          "Middle East and North Africa",
          "Commonwealth of Independent States",
          "Southeast Asia",
          "Central and Eastern Europe",
          "Middle East and North Africa",
          "Sub-Saharan Africa",
          "Sub-Saharan Africa",
          "Middle East and North Africa",
          "Central and Eastern Europe",
          "Western Europe",
          "Sub-Saharan Africa",
          "Sub-Saharan Africa",
          "Southeast Asia",
          "South Asia",
          "Sub-Saharan Africa",
          "Western Europe",
          "Sub-Saharan Africa",
          "Sub-Saharan Africa",
          "Latin America and Caribbean",
          "Commonwealth of Independent States",
          "East Asia",
          "Central and Eastern Europe",
          "Middle East and North Africa",
          "Sub-Saharan Africa",
          "Southeast Asia",
          "Sub-Saharan Africa",
          "South Asia",
          "Western Europe",
          "North America and ANZ",
          "Latin America and Caribbean",
          "Sub-Saharan Africa",
          "Sub-Saharan Africa",
          "Western Europe",
          "Central and Eastern Europe",
          "Western Europe",
          "South Asia",
          "Middle East and North Africa",
          "Latin America and Caribbean",
          "Latin America and Caribbean",
          "Latin America and Caribbean",
          "Southeast Asia",
          "Central and Eastern Europe",
          "Western Europe",
          "Central and Eastern Europe",
          "Commonwealth of Independent States",
          "Sub-Saharan Africa",
          "Middle East and North Africa",
          "Sub-Saharan Africa",
          "Central and Eastern Europe",
          "Sub-Saharan Africa",
          "Southeast Asia",
          "Central and Eastern Europe",
          "Central and Eastern Europe",
          "Sub-Saharan Africa",
          "East Asia",
          "Western Europe",
          "South Asia",
          "Sub-Saharan Africa",
          "Western Europe",
          "Western Europe",
          "East Asia",
          "Commonwealth of Independent States",
          "Sub-Saharan Africa",
          "Southeast Asia",
          "Sub-Saharan Africa",
          "Middle East and North Africa",
          "Middle East and North Africa",
          "Commonwealth of Independent States",
          "Sub-Saharan Africa",
          "Commonwealth of Independent States",
          "Middle East and North Africa",
          "Western Europe",
          "North America and ANZ",
          "Latin America and Caribbean",
          "Commonwealth of Independent States",
          "Latin America and Caribbean",
          "Southeast Asia",
          "Middle East and North Africa",
          "Sub-Saharan Africa",
          "Sub-Saharan Africa",
          "",
          "",
          "",
          "",
          "",
          "",
          "",
          "",
          "",
          ""
         ],
         "type": "sunburst",
         "values": [
          2.523,
          5.117,
          4.887,
          5.929,
          5.283,
          7.183,
          7.268,
          5.171,
          6.647,
          5.025,
          5.534,
          6.834,
          5.045,
          5.716,
          5.813,
          3.467,
          6.33,
          5.266,
          4.834,
          3.775,
          4.83,
          5.142,
          7.103,
          4.355,
          6.172,
          5.339,
          6.012,
          4.289,
          5.342,
          7.069,
          5.882,
          6.223,
          6.965,
          7.62,
          5.545,
          5.764,
          4.283,
          6.061,
          6.189,
          4.275,
          7.842,
          6.69,
          4.852,
          5.051,
          4.891,
          7.155,
          5.088,
          5.723,
          6.435,
          4.984,
          3.615,
          5.919,
          5.477,
          5.992,
          7.554,
          3.819,
          5.345,
          4.721,
          4.854,
          7.085,
          7.157,
          6.483,
          5.306,
          6.309,
          5.94,
          4.395,
          6.152,
          4.607,
          6.372,
          6.106,
          5.744,
          5.03,
          6.032,
          4.584,
          3.512,
          4.625,
          5.41,
          6.255,
          7.324,
          4.208,
          3.6,
          5.384,
          5.198,
          4.723,
          6.602,
          4.227,
          6.049,
          6.317,
          5.766,
          5.677,
          5.581,
          4.918,
          4.794,
          4.426,
          4.574,
          5.269,
          7.464,
          7.277,
          5.972,
          5.074,
          4.759,
          5.536,
          5.101,
          7.392,
          4.934,
          4.517,
          6.18,
          5.653,
          5.84,
          5.88,
          6.166,
          5.929,
          6.14,
          5.477,
          3.415,
          6.494,
          5.132,
          6.078,
          3.849,
          6.377,
          6.331,
          6.461,
          4.956,
          5.845,
          6.491,
          4.325,
          4.308,
          7.363,
          7.571,
          6.584,
          5.466,
          3.623,
          5.985,
          4.107,
          4.596,
          4.948,
          5.066,
          4.636,
          4.875,
          6.561,
          7.064,
          6.951,
          6.431,
          6.179,
          4.892,
          5.411,
          3.658,
          4.073,
          3.145,
          101.741,
          65.604,
          34.862,
          118.161,
          88.736,
          28.514,
          31.093,
          48.668,
          161.80100000000002,
          145.213
         ]
        }
       ],
       "layout": {
        "coloraxis": {
         "colorbar": {
          "title": {
           "text": "Healthy life expectancy"
          }
         },
         "colorscale": [
          [
           0,
           "#000004"
          ],
          [
           0.1111111111111111,
           "#1b0c41"
          ],
          [
           0.2222222222222222,
           "#4a0c6b"
          ],
          [
           0.3333333333333333,
           "#781c6d"
          ],
          [
           0.4444444444444444,
           "#a52c60"
          ],
          [
           0.5555555555555556,
           "#cf4446"
          ],
          [
           0.6666666666666666,
           "#ed6925"
          ],
          [
           0.7777777777777778,
           "#fb9b06"
          ],
          [
           0.8888888888888888,
           "#f7d13d"
          ],
          [
           1,
           "#fcffa4"
          ]
         ]
        },
        "legend": {
         "tracegroupgap": 0
        },
        "margin": {
         "t": 60
        },
        "template": {
         "data": {
          "bar": [
           {
            "error_x": {
             "color": "#2a3f5f"
            },
            "error_y": {
             "color": "#2a3f5f"
            },
            "marker": {
             "line": {
              "color": "#E5ECF6",
              "width": 0.5
             },
             "pattern": {
              "fillmode": "overlay",
              "size": 10,
              "solidity": 0.2
             }
            },
            "type": "bar"
           }
          ],
          "barpolar": [
           {
            "marker": {
             "line": {
              "color": "#E5ECF6",
              "width": 0.5
             },
             "pattern": {
              "fillmode": "overlay",
              "size": 10,
              "solidity": 0.2
             }
            },
            "type": "barpolar"
           }
          ],
          "carpet": [
           {
            "aaxis": {
             "endlinecolor": "#2a3f5f",
             "gridcolor": "white",
             "linecolor": "white",
             "minorgridcolor": "white",
             "startlinecolor": "#2a3f5f"
            },
            "baxis": {
             "endlinecolor": "#2a3f5f",
             "gridcolor": "white",
             "linecolor": "white",
             "minorgridcolor": "white",
             "startlinecolor": "#2a3f5f"
            },
            "type": "carpet"
           }
          ],
          "choropleth": [
           {
            "colorbar": {
             "outlinewidth": 0,
             "ticks": ""
            },
            "type": "choropleth"
           }
          ],
          "contour": [
           {
            "colorbar": {
             "outlinewidth": 0,
             "ticks": ""
            },
            "colorscale": [
             [
              0,
              "#0d0887"
             ],
             [
              0.1111111111111111,
              "#46039f"
             ],
             [
              0.2222222222222222,
              "#7201a8"
             ],
             [
              0.3333333333333333,
              "#9c179e"
             ],
             [
              0.4444444444444444,
              "#bd3786"
             ],
             [
              0.5555555555555556,
              "#d8576b"
             ],
             [
              0.6666666666666666,
              "#ed7953"
             ],
             [
              0.7777777777777778,
              "#fb9f3a"
             ],
             [
              0.8888888888888888,
              "#fdca26"
             ],
             [
              1,
              "#f0f921"
             ]
            ],
            "type": "contour"
           }
          ],
          "contourcarpet": [
           {
            "colorbar": {
             "outlinewidth": 0,
             "ticks": ""
            },
            "type": "contourcarpet"
           }
          ],
          "heatmap": [
           {
            "colorbar": {
             "outlinewidth": 0,
             "ticks": ""
            },
            "colorscale": [
             [
              0,
              "#0d0887"
             ],
             [
              0.1111111111111111,
              "#46039f"
             ],
             [
              0.2222222222222222,
              "#7201a8"
             ],
             [
              0.3333333333333333,
              "#9c179e"
             ],
             [
              0.4444444444444444,
              "#bd3786"
             ],
             [
              0.5555555555555556,
              "#d8576b"
             ],
             [
              0.6666666666666666,
              "#ed7953"
             ],
             [
              0.7777777777777778,
              "#fb9f3a"
             ],
             [
              0.8888888888888888,
              "#fdca26"
             ],
             [
              1,
              "#f0f921"
             ]
            ],
            "type": "heatmap"
           }
          ],
          "heatmapgl": [
           {
            "colorbar": {
             "outlinewidth": 0,
             "ticks": ""
            },
            "colorscale": [
             [
              0,
              "#0d0887"
             ],
             [
              0.1111111111111111,
              "#46039f"
             ],
             [
              0.2222222222222222,
              "#7201a8"
             ],
             [
              0.3333333333333333,
              "#9c179e"
             ],
             [
              0.4444444444444444,
              "#bd3786"
             ],
             [
              0.5555555555555556,
              "#d8576b"
             ],
             [
              0.6666666666666666,
              "#ed7953"
             ],
             [
              0.7777777777777778,
              "#fb9f3a"
             ],
             [
              0.8888888888888888,
              "#fdca26"
             ],
             [
              1,
              "#f0f921"
             ]
            ],
            "type": "heatmapgl"
           }
          ],
          "histogram": [
           {
            "marker": {
             "pattern": {
              "fillmode": "overlay",
              "size": 10,
              "solidity": 0.2
             }
            },
            "type": "histogram"
           }
          ],
          "histogram2d": [
           {
            "colorbar": {
             "outlinewidth": 0,
             "ticks": ""
            },
            "colorscale": [
             [
              0,
              "#0d0887"
             ],
             [
              0.1111111111111111,
              "#46039f"
             ],
             [
              0.2222222222222222,
              "#7201a8"
             ],
             [
              0.3333333333333333,
              "#9c179e"
             ],
             [
              0.4444444444444444,
              "#bd3786"
             ],
             [
              0.5555555555555556,
              "#d8576b"
             ],
             [
              0.6666666666666666,
              "#ed7953"
             ],
             [
              0.7777777777777778,
              "#fb9f3a"
             ],
             [
              0.8888888888888888,
              "#fdca26"
             ],
             [
              1,
              "#f0f921"
             ]
            ],
            "type": "histogram2d"
           }
          ],
          "histogram2dcontour": [
           {
            "colorbar": {
             "outlinewidth": 0,
             "ticks": ""
            },
            "colorscale": [
             [
              0,
              "#0d0887"
             ],
             [
              0.1111111111111111,
              "#46039f"
             ],
             [
              0.2222222222222222,
              "#7201a8"
             ],
             [
              0.3333333333333333,
              "#9c179e"
             ],
             [
              0.4444444444444444,
              "#bd3786"
             ],
             [
              0.5555555555555556,
              "#d8576b"
             ],
             [
              0.6666666666666666,
              "#ed7953"
             ],
             [
              0.7777777777777778,
              "#fb9f3a"
             ],
             [
              0.8888888888888888,
              "#fdca26"
             ],
             [
              1,
              "#f0f921"
             ]
            ],
            "type": "histogram2dcontour"
           }
          ],
          "mesh3d": [
           {
            "colorbar": {
             "outlinewidth": 0,
             "ticks": ""
            },
            "type": "mesh3d"
           }
          ],
          "parcoords": [
           {
            "line": {
             "colorbar": {
              "outlinewidth": 0,
              "ticks": ""
             }
            },
            "type": "parcoords"
           }
          ],
          "pie": [
           {
            "automargin": true,
            "type": "pie"
           }
          ],
          "scatter": [
           {
            "fillpattern": {
             "fillmode": "overlay",
             "size": 10,
             "solidity": 0.2
            },
            "type": "scatter"
           }
          ],
          "scatter3d": [
           {
            "line": {
             "colorbar": {
              "outlinewidth": 0,
              "ticks": ""
             }
            },
            "marker": {
             "colorbar": {
              "outlinewidth": 0,
              "ticks": ""
             }
            },
            "type": "scatter3d"
           }
          ],
          "scattercarpet": [
           {
            "marker": {
             "colorbar": {
              "outlinewidth": 0,
              "ticks": ""
             }
            },
            "type": "scattercarpet"
           }
          ],
          "scattergeo": [
           {
            "marker": {
             "colorbar": {
              "outlinewidth": 0,
              "ticks": ""
             }
            },
            "type": "scattergeo"
           }
          ],
          "scattergl": [
           {
            "marker": {
             "colorbar": {
              "outlinewidth": 0,
              "ticks": ""
             }
            },
            "type": "scattergl"
           }
          ],
          "scattermapbox": [
           {
            "marker": {
             "colorbar": {
              "outlinewidth": 0,
              "ticks": ""
             }
            },
            "type": "scattermapbox"
           }
          ],
          "scatterpolar": [
           {
            "marker": {
             "colorbar": {
              "outlinewidth": 0,
              "ticks": ""
             }
            },
            "type": "scatterpolar"
           }
          ],
          "scatterpolargl": [
           {
            "marker": {
             "colorbar": {
              "outlinewidth": 0,
              "ticks": ""
             }
            },
            "type": "scatterpolargl"
           }
          ],
          "scatterternary": [
           {
            "marker": {
             "colorbar": {
              "outlinewidth": 0,
              "ticks": ""
             }
            },
            "type": "scatterternary"
           }
          ],
          "surface": [
           {
            "colorbar": {
             "outlinewidth": 0,
             "ticks": ""
            },
            "colorscale": [
             [
              0,
              "#0d0887"
             ],
             [
              0.1111111111111111,
              "#46039f"
             ],
             [
              0.2222222222222222,
              "#7201a8"
             ],
             [
              0.3333333333333333,
              "#9c179e"
             ],
             [
              0.4444444444444444,
              "#bd3786"
             ],
             [
              0.5555555555555556,
              "#d8576b"
             ],
             [
              0.6666666666666666,
              "#ed7953"
             ],
             [
              0.7777777777777778,
              "#fb9f3a"
             ],
             [
              0.8888888888888888,
              "#fdca26"
             ],
             [
              1,
              "#f0f921"
             ]
            ],
            "type": "surface"
           }
          ],
          "table": [
           {
            "cells": {
             "fill": {
              "color": "#EBF0F8"
             },
             "line": {
              "color": "white"
             }
            },
            "header": {
             "fill": {
              "color": "#C8D4E3"
             },
             "line": {
              "color": "white"
             }
            },
            "type": "table"
           }
          ]
         },
         "layout": {
          "annotationdefaults": {
           "arrowcolor": "#2a3f5f",
           "arrowhead": 0,
           "arrowwidth": 1
          },
          "autotypenumbers": "strict",
          "coloraxis": {
           "colorbar": {
            "outlinewidth": 0,
            "ticks": ""
           }
          },
          "colorscale": {
           "diverging": [
            [
             0,
             "#8e0152"
            ],
            [
             0.1,
             "#c51b7d"
            ],
            [
             0.2,
             "#de77ae"
            ],
            [
             0.3,
             "#f1b6da"
            ],
            [
             0.4,
             "#fde0ef"
            ],
            [
             0.5,
             "#f7f7f7"
            ],
            [
             0.6,
             "#e6f5d0"
            ],
            [
             0.7,
             "#b8e186"
            ],
            [
             0.8,
             "#7fbc41"
            ],
            [
             0.9,
             "#4d9221"
            ],
            [
             1,
             "#276419"
            ]
           ],
           "sequential": [
            [
             0,
             "#0d0887"
            ],
            [
             0.1111111111111111,
             "#46039f"
            ],
            [
             0.2222222222222222,
             "#7201a8"
            ],
            [
             0.3333333333333333,
             "#9c179e"
            ],
            [
             0.4444444444444444,
             "#bd3786"
            ],
            [
             0.5555555555555556,
             "#d8576b"
            ],
            [
             0.6666666666666666,
             "#ed7953"
            ],
            [
             0.7777777777777778,
             "#fb9f3a"
            ],
            [
             0.8888888888888888,
             "#fdca26"
            ],
            [
             1,
             "#f0f921"
            ]
           ],
           "sequentialminus": [
            [
             0,
             "#0d0887"
            ],
            [
             0.1111111111111111,
             "#46039f"
            ],
            [
             0.2222222222222222,
             "#7201a8"
            ],
            [
             0.3333333333333333,
             "#9c179e"
            ],
            [
             0.4444444444444444,
             "#bd3786"
            ],
            [
             0.5555555555555556,
             "#d8576b"
            ],
            [
             0.6666666666666666,
             "#ed7953"
            ],
            [
             0.7777777777777778,
             "#fb9f3a"
            ],
            [
             0.8888888888888888,
             "#fdca26"
            ],
            [
             1,
             "#f0f921"
            ]
           ]
          },
          "colorway": [
           "#636efa",
           "#EF553B",
           "#00cc96",
           "#ab63fa",
           "#FFA15A",
           "#19d3f3",
           "#FF6692",
           "#B6E880",
           "#FF97FF",
           "#FECB52"
          ],
          "font": {
           "color": "#2a3f5f"
          },
          "geo": {
           "bgcolor": "white",
           "lakecolor": "white",
           "landcolor": "#E5ECF6",
           "showlakes": true,
           "showland": true,
           "subunitcolor": "white"
          },
          "hoverlabel": {
           "align": "left"
          },
          "hovermode": "closest",
          "mapbox": {
           "style": "light"
          },
          "paper_bgcolor": "white",
          "plot_bgcolor": "#E5ECF6",
          "polar": {
           "angularaxis": {
            "gridcolor": "white",
            "linecolor": "white",
            "ticks": ""
           },
           "bgcolor": "#E5ECF6",
           "radialaxis": {
            "gridcolor": "white",
            "linecolor": "white",
            "ticks": ""
           }
          },
          "scene": {
           "xaxis": {
            "backgroundcolor": "#E5ECF6",
            "gridcolor": "white",
            "gridwidth": 2,
            "linecolor": "white",
            "showbackground": true,
            "ticks": "",
            "zerolinecolor": "white"
           },
           "yaxis": {
            "backgroundcolor": "#E5ECF6",
            "gridcolor": "white",
            "gridwidth": 2,
            "linecolor": "white",
            "showbackground": true,
            "ticks": "",
            "zerolinecolor": "white"
           },
           "zaxis": {
            "backgroundcolor": "#E5ECF6",
            "gridcolor": "white",
            "gridwidth": 2,
            "linecolor": "white",
            "showbackground": true,
            "ticks": "",
            "zerolinecolor": "white"
           }
          },
          "shapedefaults": {
           "line": {
            "color": "#2a3f5f"
           }
          },
          "ternary": {
           "aaxis": {
            "gridcolor": "white",
            "linecolor": "white",
            "ticks": ""
           },
           "baxis": {
            "gridcolor": "white",
            "linecolor": "white",
            "ticks": ""
           },
           "bgcolor": "#E5ECF6",
           "caxis": {
            "gridcolor": "white",
            "linecolor": "white",
            "ticks": ""
           }
          },
          "title": {
           "x": 0.05
          },
          "xaxis": {
           "automargin": true,
           "gridcolor": "white",
           "linecolor": "white",
           "ticks": "",
           "title": {
            "standoff": 15
           },
           "zerolinecolor": "white",
           "zerolinewidth": 2
          },
          "yaxis": {
           "automargin": true,
           "gridcolor": "white",
           "linecolor": "white",
           "ticks": "",
           "title": {
            "standoff": 15
           },
           "zerolinecolor": "white",
           "zerolinewidth": 2
          }
         }
        }
       }
      },
      "text/html": [
       "<div>                            <div id=\"d86056f2-6fb1-4570-a5b2-a0a06af4e882\" class=\"plotly-graph-div\" style=\"height:525px; width:100%;\"></div>            <script type=\"text/javascript\">                require([\"plotly\"], function(Plotly) {                    window.PLOTLYENV=window.PLOTLYENV || {};                                    if (document.getElementById(\"d86056f2-6fb1-4570-a5b2-a0a06af4e882\")) {                    Plotly.newPlot(                        \"d86056f2-6fb1-4570-a5b2-a0a06af4e882\",                        [{\"branchvalues\":\"total\",\"customdata\":[[52.493],[68.999],[66.005],[69.0],[67.055],[73.9],[73.3],[65.656],[69.495],[64.8],[66.253],[72.199],[54.713],[63.901],[68.098],[59.269],[66.601],[67.0],[54.15100000000001],[53.4],[61.99999999999999],[53.51500000000001],[73.8],[48.478],[70.0],[69.593],[68.001],[57.349],[58.221],[71.4],[70.799],[73.898],[70.807],[72.7],[66.102],[68.8],[61.998],[66.402],[68.8],[59.0],[72.0],[74.0],[59.962],[55.16],[64.3],[72.5],[57.586],[72.6],[64.958],[55.008],[55.7],[67.3],[76.82],[68.0],[73.0],[60.633],[62.236],[66.3],[60.583],[72.4],[73.503],[73.8],[50.114],[67.5],[75.1],[67.0],[65.2],[60.70400000000001],[63.813],[66.9],[64.401],[58.968],[67.1],[67.355],[48.7],[56.498],[62.3],[67.906],[72.6],[59.305],[57.94799999999999],[67.102],[70.6],[51.969],[72.2],[57.161],[66.701],[68.597],[65.699],[62.50000000000001],[68.699],[66.208],[54.706],[59.30200000000001],[56.79900000000001],[64.233],[72.4],[73.39999999999999],[67.657],[53.78000000000001],[50.102],[73.898],[65.474],[73.3],[58.708999999999996],[62.25000000000001],[69.652],[65.9],[68.25],[62.0],[69.702],[72.6],[67.355],[64.703],[61.39999999999999],[66.603],[59.80200000000001],[68.6],[51.651],[76.953],[69.201],[71.4],[56.903999999999996],[73.9],[74.7],[67.299],[50.833],[72.7],[74.4],[69.6],[64.281],[57.999],[67.401],[54.914],[67.201],[67.199],[62.409000000000006],[56.10099999999999],[64.902],[67.333],[72.5],[68.2],[69.1],[65.255],[66.7],[68.034],[57.122],[55.809],[56.201],[68.38777731691256],[65.03040191146881],[71.23511465205668],[67.36804201894027],[66.07599643887487],[72.35796801571156],[63.54414575627955],[65.32597435686694],[55.953127644452145],[73.01340271187843]],\"domain\":{\"x\":[0.0,1.0],\"y\":[0.0,1.0]},\"hovertemplate\":\"labels=%{label}<br>Ladder score=%{value}<br>parent=%{parent}<br>id=%{id}<br>Healthy life expectancy=%{color}<extra></extra>\",\"ids\":[\"South Asia/Afghanistan\",\"Central and Eastern Europe/Albania\",\"Middle East and North Africa/Algeria\",\"Latin America and Caribbean/Argentina\",\"Commonwealth of Independent States/Armenia\",\"North America and ANZ/Australia\",\"Western Europe/Austria\",\"Commonwealth of Independent States/Azerbaijan\",\"Middle East and North Africa/Bahrain\",\"South Asia/Bangladesh\",\"Commonwealth of Independent States/Belarus\",\"Western Europe/Belgium\",\"Sub-Saharan Africa/Benin\",\"Latin America and Caribbean/Bolivia\",\"Central and Eastern Europe/Bosnia and Herzegovina\",\"Sub-Saharan Africa/Botswana\",\"Latin America and Caribbean/Brazil\",\"Central and Eastern Europe/Bulgaria\",\"Sub-Saharan Africa/Burkina Faso\",\"Sub-Saharan Africa/Burundi\",\"Southeast Asia/Cambodia\",\"Sub-Saharan Africa/Cameroon\",\"North America and ANZ/Canada\",\"Sub-Saharan Africa/Chad\",\"Latin America and Caribbean/Chile\",\"East Asia/China\",\"Latin America and Caribbean/Colombia\",\"Sub-Saharan Africa/Comoros\",\"Sub-Saharan Africa/Congo (Brazzaville)\",\"Latin America and Caribbean/Costa Rica\",\"Central and Eastern Europe/Croatia\",\"Western Europe/Cyprus\",\"Central and Eastern Europe/Czech Republic\",\"Western Europe/Denmark\",\"Latin America and Caribbean/Dominican Republic\",\"Latin America and Caribbean/Ecuador\",\"Middle East and North Africa/Egypt\",\"Latin America and Caribbean/El Salvador\",\"Central and Eastern Europe/Estonia\",\"Sub-Saharan Africa/Ethiopia\",\"Western Europe/Finland\",\"Western Europe/France\",\"Sub-Saharan Africa/Gabon\",\"Sub-Saharan Africa/Gambia\",\"Commonwealth of Independent States/Georgia\",\"Western Europe/Germany\",\"Sub-Saharan Africa/Ghana\",\"Western Europe/Greece\",\"Latin America and Caribbean/Guatemala\",\"Sub-Saharan Africa/Guinea\",\"Latin America and Caribbean/Haiti\",\"Latin America and Caribbean/Honduras\",\"East Asia/Hong Kong S.A.R. of China\",\"Central and Eastern Europe/Hungary\",\"Western Europe/Iceland\",\"South Asia/India\",\"Southeast Asia/Indonesia\",\"Middle East and North Africa/Iran\",\"Middle East and North Africa/Iraq\",\"Western Europe/Ireland\",\"Middle East and North Africa/Israel\",\"Western Europe/Italy\",\"Sub-Saharan Africa/Ivory Coast\",\"Latin America and Caribbean/Jamaica\",\"East Asia/Japan\",\"Middle East and North Africa/Jordan\",\"Commonwealth of Independent States/Kazakhstan\",\"Sub-Saharan Africa/Kenya\",\"Central and Eastern Europe/Kosovo\",\"Middle East and North Africa/Kuwait\",\"Commonwealth of Independent States/Kyrgyzstan\",\"Southeast Asia/Laos\",\"Central and Eastern Europe/Latvia\",\"Middle East and North Africa/Lebanon\",\"Sub-Saharan Africa/Lesotho\",\"Sub-Saharan Africa/Liberia\",\"Middle East and North Africa/Libya\",\"Central and Eastern Europe/Lithuania\",\"Western Europe/Luxembourg\",\"Sub-Saharan Africa/Madagascar\",\"Sub-Saharan Africa/Malawi\",\"Southeast Asia/Malaysia\",\"South Asia/Maldives\",\"Sub-Saharan Africa/Mali\",\"Western Europe/Malta\",\"Sub-Saharan Africa/Mauritania\",\"Sub-Saharan Africa/Mauritius\",\"Latin America and Caribbean/Mexico\",\"Commonwealth of Independent States/Moldova\",\"East Asia/Mongolia\",\"Central and Eastern Europe/Montenegro\",\"Middle East and North Africa/Morocco\",\"Sub-Saharan Africa/Mozambique\",\"Southeast Asia/Myanmar\",\"Sub-Saharan Africa/Namibia\",\"South Asia/Nepal\",\"Western Europe/Netherlands\",\"North America and ANZ/New Zealand\",\"Latin America and Caribbean/Nicaragua\",\"Sub-Saharan Africa/Niger\",\"Sub-Saharan Africa/Nigeria\",\"Western Europe/North Cyprus\",\"Central and Eastern Europe/North Macedonia\",\"Western Europe/Norway\",\"South Asia/Pakistan\",\"Middle East and North Africa/Palestinian Territories\",\"Latin America and Caribbean/Panama\",\"Latin America and Caribbean/Paraguay\",\"Latin America and Caribbean/Peru\",\"Southeast Asia/Philippines\",\"Central and Eastern Europe/Poland\",\"Western Europe/Portugal\",\"Central and Eastern Europe/Romania\",\"Commonwealth of Independent States/Russia\",\"Sub-Saharan Africa/Rwanda\",\"Middle East and North Africa/Saudi Arabia\",\"Sub-Saharan Africa/Senegal\",\"Central and Eastern Europe/Serbia\",\"Sub-Saharan Africa/Sierra Leone\",\"Southeast Asia/Singapore\",\"Central and Eastern Europe/Slovakia\",\"Central and Eastern Europe/Slovenia\",\"Sub-Saharan Africa/South Africa\",\"East Asia/South Korea\",\"Western Europe/Spain\",\"South Asia/Sri Lanka\",\"Sub-Saharan Africa/Swaziland\",\"Western Europe/Sweden\",\"Western Europe/Switzerland\",\"East Asia/Taiwan Province of China\",\"Commonwealth of Independent States/Tajikistan\",\"Sub-Saharan Africa/Tanzania\",\"Southeast Asia/Thailand\",\"Sub-Saharan Africa/Togo\",\"Middle East and North Africa/Tunisia\",\"Middle East and North Africa/Turkey\",\"Commonwealth of Independent States/Turkmenistan\",\"Sub-Saharan Africa/Uganda\",\"Commonwealth of Independent States/Ukraine\",\"Middle East and North Africa/United Arab Emirates\",\"Western Europe/United Kingdom\",\"North America and ANZ/United States\",\"Latin America and Caribbean/Uruguay\",\"Commonwealth of Independent States/Uzbekistan\",\"Latin America and Caribbean/Venezuela\",\"Southeast Asia/Vietnam\",\"Middle East and North Africa/Yemen\",\"Sub-Saharan Africa/Zambia\",\"Sub-Saharan Africa/Zimbabwe\",\"Central and Eastern Europe\",\"Commonwealth of Independent States\",\"East Asia\",\"Latin America and Caribbean\",\"Middle East and North Africa\",\"North America and ANZ\",\"South Asia\",\"Southeast Asia\",\"Sub-Saharan Africa\",\"Western Europe\"],\"labels\":[\"Afghanistan\",\"Albania\",\"Algeria\",\"Argentina\",\"Armenia\",\"Australia\",\"Austria\",\"Azerbaijan\",\"Bahrain\",\"Bangladesh\",\"Belarus\",\"Belgium\",\"Benin\",\"Bolivia\",\"Bosnia and Herzegovina\",\"Botswana\",\"Brazil\",\"Bulgaria\",\"Burkina Faso\",\"Burundi\",\"Cambodia\",\"Cameroon\",\"Canada\",\"Chad\",\"Chile\",\"China\",\"Colombia\",\"Comoros\",\"Congo (Brazzaville)\",\"Costa Rica\",\"Croatia\",\"Cyprus\",\"Czech Republic\",\"Denmark\",\"Dominican Republic\",\"Ecuador\",\"Egypt\",\"El Salvador\",\"Estonia\",\"Ethiopia\",\"Finland\",\"France\",\"Gabon\",\"Gambia\",\"Georgia\",\"Germany\",\"Ghana\",\"Greece\",\"Guatemala\",\"Guinea\",\"Haiti\",\"Honduras\",\"Hong Kong S.A.R. of China\",\"Hungary\",\"Iceland\",\"India\",\"Indonesia\",\"Iran\",\"Iraq\",\"Ireland\",\"Israel\",\"Italy\",\"Ivory Coast\",\"Jamaica\",\"Japan\",\"Jordan\",\"Kazakhstan\",\"Kenya\",\"Kosovo\",\"Kuwait\",\"Kyrgyzstan\",\"Laos\",\"Latvia\",\"Lebanon\",\"Lesotho\",\"Liberia\",\"Libya\",\"Lithuania\",\"Luxembourg\",\"Madagascar\",\"Malawi\",\"Malaysia\",\"Maldives\",\"Mali\",\"Malta\",\"Mauritania\",\"Mauritius\",\"Mexico\",\"Moldova\",\"Mongolia\",\"Montenegro\",\"Morocco\",\"Mozambique\",\"Myanmar\",\"Namibia\",\"Nepal\",\"Netherlands\",\"New Zealand\",\"Nicaragua\",\"Niger\",\"Nigeria\",\"North Cyprus\",\"North Macedonia\",\"Norway\",\"Pakistan\",\"Palestinian Territories\",\"Panama\",\"Paraguay\",\"Peru\",\"Philippines\",\"Poland\",\"Portugal\",\"Romania\",\"Russia\",\"Rwanda\",\"Saudi Arabia\",\"Senegal\",\"Serbia\",\"Sierra Leone\",\"Singapore\",\"Slovakia\",\"Slovenia\",\"South Africa\",\"South Korea\",\"Spain\",\"Sri Lanka\",\"Swaziland\",\"Sweden\",\"Switzerland\",\"Taiwan Province of China\",\"Tajikistan\",\"Tanzania\",\"Thailand\",\"Togo\",\"Tunisia\",\"Turkey\",\"Turkmenistan\",\"Uganda\",\"Ukraine\",\"United Arab Emirates\",\"United Kingdom\",\"United States\",\"Uruguay\",\"Uzbekistan\",\"Venezuela\",\"Vietnam\",\"Yemen\",\"Zambia\",\"Zimbabwe\",\"Central and Eastern Europe\",\"Commonwealth of Independent States\",\"East Asia\",\"Latin America and Caribbean\",\"Middle East and North Africa\",\"North America and ANZ\",\"South Asia\",\"Southeast Asia\",\"Sub-Saharan Africa\",\"Western Europe\"],\"marker\":{\"coloraxis\":\"coloraxis\",\"colors\":[52.493,68.999,66.005,69.0,67.055,73.9,73.3,65.656,69.495,64.8,66.253,72.199,54.713,63.901,68.098,59.269,66.601,67.0,54.15100000000001,53.4,61.99999999999999,53.51500000000001,73.8,48.478,70.0,69.593,68.001,57.349,58.221,71.4,70.799,73.898,70.807,72.7,66.102,68.8,61.998,66.402,68.8,59.0,72.0,74.0,59.962,55.16,64.3,72.5,57.586,72.6,64.958,55.008,55.7,67.3,76.82,68.0,73.0,60.633,62.236,66.3,60.583,72.4,73.503,73.8,50.114,67.5,75.1,67.0,65.2,60.70400000000001,63.813,66.9,64.401,58.968,67.1,67.355,48.7,56.498,62.3,67.906,72.6,59.305,57.94799999999999,67.102,70.6,51.969,72.2,57.161,66.701,68.597,65.699,62.50000000000001,68.699,66.208,54.706,59.30200000000001,56.79900000000001,64.233,72.4,73.39999999999999,67.657,53.78000000000001,50.102,73.898,65.474,73.3,58.708999999999996,62.25000000000001,69.652,65.9,68.25,62.0,69.702,72.6,67.355,64.703,61.39999999999999,66.603,59.80200000000001,68.6,51.651,76.953,69.201,71.4,56.903999999999996,73.9,74.7,67.299,50.833,72.7,74.4,69.6,64.281,57.999,67.401,54.914,67.201,67.199,62.409000000000006,56.10099999999999,64.902,67.333,72.5,68.2,69.1,65.255,66.7,68.034,57.122,55.809,56.201,68.38777731691256,65.03040191146881,71.23511465205668,67.36804201894027,66.07599643887487,72.35796801571156,63.54414575627955,65.32597435686694,55.953127644452145,73.01340271187843]},\"name\":\"\",\"parents\":[\"South Asia\",\"Central and Eastern Europe\",\"Middle East and North Africa\",\"Latin America and Caribbean\",\"Commonwealth of Independent States\",\"North America and ANZ\",\"Western Europe\",\"Commonwealth of Independent States\",\"Middle East and North Africa\",\"South Asia\",\"Commonwealth of Independent States\",\"Western Europe\",\"Sub-Saharan Africa\",\"Latin America and Caribbean\",\"Central and Eastern Europe\",\"Sub-Saharan Africa\",\"Latin America and Caribbean\",\"Central and Eastern Europe\",\"Sub-Saharan Africa\",\"Sub-Saharan Africa\",\"Southeast Asia\",\"Sub-Saharan Africa\",\"North America and ANZ\",\"Sub-Saharan Africa\",\"Latin America and Caribbean\",\"East Asia\",\"Latin America and Caribbean\",\"Sub-Saharan Africa\",\"Sub-Saharan Africa\",\"Latin America and Caribbean\",\"Central and Eastern Europe\",\"Western Europe\",\"Central and Eastern Europe\",\"Western Europe\",\"Latin America and Caribbean\",\"Latin America and Caribbean\",\"Middle East and North Africa\",\"Latin America and Caribbean\",\"Central and Eastern Europe\",\"Sub-Saharan Africa\",\"Western Europe\",\"Western Europe\",\"Sub-Saharan Africa\",\"Sub-Saharan Africa\",\"Commonwealth of Independent States\",\"Western Europe\",\"Sub-Saharan Africa\",\"Western Europe\",\"Latin America and Caribbean\",\"Sub-Saharan Africa\",\"Latin America and Caribbean\",\"Latin America and Caribbean\",\"East Asia\",\"Central and Eastern Europe\",\"Western Europe\",\"South Asia\",\"Southeast Asia\",\"Middle East and North Africa\",\"Middle East and North Africa\",\"Western Europe\",\"Middle East and North Africa\",\"Western Europe\",\"Sub-Saharan Africa\",\"Latin America and Caribbean\",\"East Asia\",\"Middle East and North Africa\",\"Commonwealth of Independent States\",\"Sub-Saharan Africa\",\"Central and Eastern Europe\",\"Middle East and North Africa\",\"Commonwealth of Independent States\",\"Southeast Asia\",\"Central and Eastern Europe\",\"Middle East and North Africa\",\"Sub-Saharan Africa\",\"Sub-Saharan Africa\",\"Middle East and North Africa\",\"Central and Eastern Europe\",\"Western Europe\",\"Sub-Saharan Africa\",\"Sub-Saharan Africa\",\"Southeast Asia\",\"South Asia\",\"Sub-Saharan Africa\",\"Western Europe\",\"Sub-Saharan Africa\",\"Sub-Saharan Africa\",\"Latin America and Caribbean\",\"Commonwealth of Independent States\",\"East Asia\",\"Central and Eastern Europe\",\"Middle East and North Africa\",\"Sub-Saharan Africa\",\"Southeast Asia\",\"Sub-Saharan Africa\",\"South Asia\",\"Western Europe\",\"North America and ANZ\",\"Latin America and Caribbean\",\"Sub-Saharan Africa\",\"Sub-Saharan Africa\",\"Western Europe\",\"Central and Eastern Europe\",\"Western Europe\",\"South Asia\",\"Middle East and North Africa\",\"Latin America and Caribbean\",\"Latin America and Caribbean\",\"Latin America and Caribbean\",\"Southeast Asia\",\"Central and Eastern Europe\",\"Western Europe\",\"Central and Eastern Europe\",\"Commonwealth of Independent States\",\"Sub-Saharan Africa\",\"Middle East and North Africa\",\"Sub-Saharan Africa\",\"Central and Eastern Europe\",\"Sub-Saharan Africa\",\"Southeast Asia\",\"Central and Eastern Europe\",\"Central and Eastern Europe\",\"Sub-Saharan Africa\",\"East Asia\",\"Western Europe\",\"South Asia\",\"Sub-Saharan Africa\",\"Western Europe\",\"Western Europe\",\"East Asia\",\"Commonwealth of Independent States\",\"Sub-Saharan Africa\",\"Southeast Asia\",\"Sub-Saharan Africa\",\"Middle East and North Africa\",\"Middle East and North Africa\",\"Commonwealth of Independent States\",\"Sub-Saharan Africa\",\"Commonwealth of Independent States\",\"Middle East and North Africa\",\"Western Europe\",\"North America and ANZ\",\"Latin America and Caribbean\",\"Commonwealth of Independent States\",\"Latin America and Caribbean\",\"Southeast Asia\",\"Middle East and North Africa\",\"Sub-Saharan Africa\",\"Sub-Saharan Africa\",\"\",\"\",\"\",\"\",\"\",\"\",\"\",\"\",\"\",\"\"],\"values\":[2.523,5.117,4.887,5.929,5.283,7.183,7.268,5.171,6.647,5.025,5.534,6.834,5.045,5.716,5.813,3.467,6.33,5.266,4.834,3.775,4.83,5.142,7.103,4.355,6.172,5.339,6.012,4.289,5.342,7.069,5.882,6.223,6.965,7.62,5.545,5.764,4.283,6.061,6.189,4.275,7.842,6.69,4.852,5.051,4.891,7.155,5.088,5.723,6.435,4.984,3.615,5.919,5.477,5.992,7.554,3.819,5.345,4.721,4.854,7.085,7.157,6.483,5.306,6.309,5.94,4.395,6.152,4.607,6.372,6.106,5.744,5.03,6.032,4.584,3.512,4.625,5.41,6.255,7.324,4.208,3.6,5.384,5.198,4.723,6.602,4.227,6.049,6.317,5.766,5.677,5.581,4.918,4.794,4.426,4.574,5.269,7.464,7.277,5.972,5.074,4.759,5.536,5.101,7.392,4.934,4.517,6.18,5.653,5.84,5.88,6.166,5.929,6.14,5.477,3.415,6.494,5.132,6.078,3.849,6.377,6.331,6.461,4.956,5.845,6.491,4.325,4.308,7.363,7.571,6.584,5.466,3.623,5.985,4.107,4.596,4.948,5.066,4.636,4.875,6.561,7.064,6.951,6.431,6.179,4.892,5.411,3.658,4.073,3.145,101.741,65.604,34.862,118.161,88.736,28.514,31.093,48.668,161.80100000000002,145.213],\"type\":\"sunburst\"}],                        {\"template\":{\"data\":{\"histogram2dcontour\":[{\"type\":\"histogram2dcontour\",\"colorbar\":{\"outlinewidth\":0,\"ticks\":\"\"},\"colorscale\":[[0.0,\"#0d0887\"],[0.1111111111111111,\"#46039f\"],[0.2222222222222222,\"#7201a8\"],[0.3333333333333333,\"#9c179e\"],[0.4444444444444444,\"#bd3786\"],[0.5555555555555556,\"#d8576b\"],[0.6666666666666666,\"#ed7953\"],[0.7777777777777778,\"#fb9f3a\"],[0.8888888888888888,\"#fdca26\"],[1.0,\"#f0f921\"]]}],\"choropleth\":[{\"type\":\"choropleth\",\"colorbar\":{\"outlinewidth\":0,\"ticks\":\"\"}}],\"histogram2d\":[{\"type\":\"histogram2d\",\"colorbar\":{\"outlinewidth\":0,\"ticks\":\"\"},\"colorscale\":[[0.0,\"#0d0887\"],[0.1111111111111111,\"#46039f\"],[0.2222222222222222,\"#7201a8\"],[0.3333333333333333,\"#9c179e\"],[0.4444444444444444,\"#bd3786\"],[0.5555555555555556,\"#d8576b\"],[0.6666666666666666,\"#ed7953\"],[0.7777777777777778,\"#fb9f3a\"],[0.8888888888888888,\"#fdca26\"],[1.0,\"#f0f921\"]]}],\"heatmap\":[{\"type\":\"heatmap\",\"colorbar\":{\"outlinewidth\":0,\"ticks\":\"\"},\"colorscale\":[[0.0,\"#0d0887\"],[0.1111111111111111,\"#46039f\"],[0.2222222222222222,\"#7201a8\"],[0.3333333333333333,\"#9c179e\"],[0.4444444444444444,\"#bd3786\"],[0.5555555555555556,\"#d8576b\"],[0.6666666666666666,\"#ed7953\"],[0.7777777777777778,\"#fb9f3a\"],[0.8888888888888888,\"#fdca26\"],[1.0,\"#f0f921\"]]}],\"heatmapgl\":[{\"type\":\"heatmapgl\",\"colorbar\":{\"outlinewidth\":0,\"ticks\":\"\"},\"colorscale\":[[0.0,\"#0d0887\"],[0.1111111111111111,\"#46039f\"],[0.2222222222222222,\"#7201a8\"],[0.3333333333333333,\"#9c179e\"],[0.4444444444444444,\"#bd3786\"],[0.5555555555555556,\"#d8576b\"],[0.6666666666666666,\"#ed7953\"],[0.7777777777777778,\"#fb9f3a\"],[0.8888888888888888,\"#fdca26\"],[1.0,\"#f0f921\"]]}],\"contourcarpet\":[{\"type\":\"contourcarpet\",\"colorbar\":{\"outlinewidth\":0,\"ticks\":\"\"}}],\"contour\":[{\"type\":\"contour\",\"colorbar\":{\"outlinewidth\":0,\"ticks\":\"\"},\"colorscale\":[[0.0,\"#0d0887\"],[0.1111111111111111,\"#46039f\"],[0.2222222222222222,\"#7201a8\"],[0.3333333333333333,\"#9c179e\"],[0.4444444444444444,\"#bd3786\"],[0.5555555555555556,\"#d8576b\"],[0.6666666666666666,\"#ed7953\"],[0.7777777777777778,\"#fb9f3a\"],[0.8888888888888888,\"#fdca26\"],[1.0,\"#f0f921\"]]}],\"surface\":[{\"type\":\"surface\",\"colorbar\":{\"outlinewidth\":0,\"ticks\":\"\"},\"colorscale\":[[0.0,\"#0d0887\"],[0.1111111111111111,\"#46039f\"],[0.2222222222222222,\"#7201a8\"],[0.3333333333333333,\"#9c179e\"],[0.4444444444444444,\"#bd3786\"],[0.5555555555555556,\"#d8576b\"],[0.6666666666666666,\"#ed7953\"],[0.7777777777777778,\"#fb9f3a\"],[0.8888888888888888,\"#fdca26\"],[1.0,\"#f0f921\"]]}],\"mesh3d\":[{\"type\":\"mesh3d\",\"colorbar\":{\"outlinewidth\":0,\"ticks\":\"\"}}],\"scatter\":[{\"fillpattern\":{\"fillmode\":\"overlay\",\"size\":10,\"solidity\":0.2},\"type\":\"scatter\"}],\"parcoords\":[{\"type\":\"parcoords\",\"line\":{\"colorbar\":{\"outlinewidth\":0,\"ticks\":\"\"}}}],\"scatterpolargl\":[{\"type\":\"scatterpolargl\",\"marker\":{\"colorbar\":{\"outlinewidth\":0,\"ticks\":\"\"}}}],\"bar\":[{\"error_x\":{\"color\":\"#2a3f5f\"},\"error_y\":{\"color\":\"#2a3f5f\"},\"marker\":{\"line\":{\"color\":\"#E5ECF6\",\"width\":0.5},\"pattern\":{\"fillmode\":\"overlay\",\"size\":10,\"solidity\":0.2}},\"type\":\"bar\"}],\"scattergeo\":[{\"type\":\"scattergeo\",\"marker\":{\"colorbar\":{\"outlinewidth\":0,\"ticks\":\"\"}}}],\"scatterpolar\":[{\"type\":\"scatterpolar\",\"marker\":{\"colorbar\":{\"outlinewidth\":0,\"ticks\":\"\"}}}],\"histogram\":[{\"marker\":{\"pattern\":{\"fillmode\":\"overlay\",\"size\":10,\"solidity\":0.2}},\"type\":\"histogram\"}],\"scattergl\":[{\"type\":\"scattergl\",\"marker\":{\"colorbar\":{\"outlinewidth\":0,\"ticks\":\"\"}}}],\"scatter3d\":[{\"type\":\"scatter3d\",\"line\":{\"colorbar\":{\"outlinewidth\":0,\"ticks\":\"\"}},\"marker\":{\"colorbar\":{\"outlinewidth\":0,\"ticks\":\"\"}}}],\"scattermapbox\":[{\"type\":\"scattermapbox\",\"marker\":{\"colorbar\":{\"outlinewidth\":0,\"ticks\":\"\"}}}],\"scatterternary\":[{\"type\":\"scatterternary\",\"marker\":{\"colorbar\":{\"outlinewidth\":0,\"ticks\":\"\"}}}],\"scattercarpet\":[{\"type\":\"scattercarpet\",\"marker\":{\"colorbar\":{\"outlinewidth\":0,\"ticks\":\"\"}}}],\"carpet\":[{\"aaxis\":{\"endlinecolor\":\"#2a3f5f\",\"gridcolor\":\"white\",\"linecolor\":\"white\",\"minorgridcolor\":\"white\",\"startlinecolor\":\"#2a3f5f\"},\"baxis\":{\"endlinecolor\":\"#2a3f5f\",\"gridcolor\":\"white\",\"linecolor\":\"white\",\"minorgridcolor\":\"white\",\"startlinecolor\":\"#2a3f5f\"},\"type\":\"carpet\"}],\"table\":[{\"cells\":{\"fill\":{\"color\":\"#EBF0F8\"},\"line\":{\"color\":\"white\"}},\"header\":{\"fill\":{\"color\":\"#C8D4E3\"},\"line\":{\"color\":\"white\"}},\"type\":\"table\"}],\"barpolar\":[{\"marker\":{\"line\":{\"color\":\"#E5ECF6\",\"width\":0.5},\"pattern\":{\"fillmode\":\"overlay\",\"size\":10,\"solidity\":0.2}},\"type\":\"barpolar\"}],\"pie\":[{\"automargin\":true,\"type\":\"pie\"}]},\"layout\":{\"autotypenumbers\":\"strict\",\"colorway\":[\"#636efa\",\"#EF553B\",\"#00cc96\",\"#ab63fa\",\"#FFA15A\",\"#19d3f3\",\"#FF6692\",\"#B6E880\",\"#FF97FF\",\"#FECB52\"],\"font\":{\"color\":\"#2a3f5f\"},\"hovermode\":\"closest\",\"hoverlabel\":{\"align\":\"left\"},\"paper_bgcolor\":\"white\",\"plot_bgcolor\":\"#E5ECF6\",\"polar\":{\"bgcolor\":\"#E5ECF6\",\"angularaxis\":{\"gridcolor\":\"white\",\"linecolor\":\"white\",\"ticks\":\"\"},\"radialaxis\":{\"gridcolor\":\"white\",\"linecolor\":\"white\",\"ticks\":\"\"}},\"ternary\":{\"bgcolor\":\"#E5ECF6\",\"aaxis\":{\"gridcolor\":\"white\",\"linecolor\":\"white\",\"ticks\":\"\"},\"baxis\":{\"gridcolor\":\"white\",\"linecolor\":\"white\",\"ticks\":\"\"},\"caxis\":{\"gridcolor\":\"white\",\"linecolor\":\"white\",\"ticks\":\"\"}},\"coloraxis\":{\"colorbar\":{\"outlinewidth\":0,\"ticks\":\"\"}},\"colorscale\":{\"sequential\":[[0.0,\"#0d0887\"],[0.1111111111111111,\"#46039f\"],[0.2222222222222222,\"#7201a8\"],[0.3333333333333333,\"#9c179e\"],[0.4444444444444444,\"#bd3786\"],[0.5555555555555556,\"#d8576b\"],[0.6666666666666666,\"#ed7953\"],[0.7777777777777778,\"#fb9f3a\"],[0.8888888888888888,\"#fdca26\"],[1.0,\"#f0f921\"]],\"sequentialminus\":[[0.0,\"#0d0887\"],[0.1111111111111111,\"#46039f\"],[0.2222222222222222,\"#7201a8\"],[0.3333333333333333,\"#9c179e\"],[0.4444444444444444,\"#bd3786\"],[0.5555555555555556,\"#d8576b\"],[0.6666666666666666,\"#ed7953\"],[0.7777777777777778,\"#fb9f3a\"],[0.8888888888888888,\"#fdca26\"],[1.0,\"#f0f921\"]],\"diverging\":[[0,\"#8e0152\"],[0.1,\"#c51b7d\"],[0.2,\"#de77ae\"],[0.3,\"#f1b6da\"],[0.4,\"#fde0ef\"],[0.5,\"#f7f7f7\"],[0.6,\"#e6f5d0\"],[0.7,\"#b8e186\"],[0.8,\"#7fbc41\"],[0.9,\"#4d9221\"],[1,\"#276419\"]]},\"xaxis\":{\"gridcolor\":\"white\",\"linecolor\":\"white\",\"ticks\":\"\",\"title\":{\"standoff\":15},\"zerolinecolor\":\"white\",\"automargin\":true,\"zerolinewidth\":2},\"yaxis\":{\"gridcolor\":\"white\",\"linecolor\":\"white\",\"ticks\":\"\",\"title\":{\"standoff\":15},\"zerolinecolor\":\"white\",\"automargin\":true,\"zerolinewidth\":2},\"scene\":{\"xaxis\":{\"backgroundcolor\":\"#E5ECF6\",\"gridcolor\":\"white\",\"linecolor\":\"white\",\"showbackground\":true,\"ticks\":\"\",\"zerolinecolor\":\"white\",\"gridwidth\":2},\"yaxis\":{\"backgroundcolor\":\"#E5ECF6\",\"gridcolor\":\"white\",\"linecolor\":\"white\",\"showbackground\":true,\"ticks\":\"\",\"zerolinecolor\":\"white\",\"gridwidth\":2},\"zaxis\":{\"backgroundcolor\":\"#E5ECF6\",\"gridcolor\":\"white\",\"linecolor\":\"white\",\"showbackground\":true,\"ticks\":\"\",\"zerolinecolor\":\"white\",\"gridwidth\":2}},\"shapedefaults\":{\"line\":{\"color\":\"#2a3f5f\"}},\"annotationdefaults\":{\"arrowcolor\":\"#2a3f5f\",\"arrowhead\":0,\"arrowwidth\":1},\"geo\":{\"bgcolor\":\"white\",\"landcolor\":\"#E5ECF6\",\"subunitcolor\":\"white\",\"showland\":true,\"showlakes\":true,\"lakecolor\":\"white\"},\"title\":{\"x\":0.05},\"mapbox\":{\"style\":\"light\"}}},\"coloraxis\":{\"colorbar\":{\"title\":{\"text\":\"Healthy life expectancy\"}},\"colorscale\":[[0.0,\"#000004\"],[0.1111111111111111,\"#1b0c41\"],[0.2222222222222222,\"#4a0c6b\"],[0.3333333333333333,\"#781c6d\"],[0.4444444444444444,\"#a52c60\"],[0.5555555555555556,\"#cf4446\"],[0.6666666666666666,\"#ed6925\"],[0.7777777777777778,\"#fb9b06\"],[0.8888888888888888,\"#f7d13d\"],[1.0,\"#fcffa4\"]]},\"legend\":{\"tracegroupgap\":0},\"margin\":{\"t\":60}},                        {\"responsive\": true}                    ).then(function(){\n",
       "                            \n",
       "var gd = document.getElementById('d86056f2-6fb1-4570-a5b2-a0a06af4e882');\n",
       "var x = new MutationObserver(function (mutations, observer) {{\n",
       "        var display = window.getComputedStyle(gd).display;\n",
       "        if (!display || display === 'none') {{\n",
       "            console.log([gd, 'removed!']);\n",
       "            Plotly.purge(gd);\n",
       "            observer.disconnect();\n",
       "        }}\n",
       "}});\n",
       "\n",
       "// Listen for the removal of the full notebook cells\n",
       "var notebookContainer = gd.closest('#notebook-container');\n",
       "if (notebookContainer) {{\n",
       "    x.observe(notebookContainer, {childList: true});\n",
       "}}\n",
       "\n",
       "// Listen for the clearing of the current output cell\n",
       "var outputEl = gd.closest('.output');\n",
       "if (outputEl) {{\n",
       "    x.observe(outputEl, {childList: true});\n",
       "}}\n",
       "\n",
       "                        })                };                });            </script>        </div>"
      ]
     },
     "metadata": {},
     "output_type": "display_data"
    }
   ],
   "source": [
    "#sunburst plotly\n",
    "fig = px.sunburst(df, path=[\"Regional indicator\", \"Country name\"], \n",
    "                  values='Ladder score', \n",
    "                  color=\"Healthy life expectancy\",\n",
    "                 color_continuous_scale=\"Inferno\",\n",
    "                 )\n",
    "fig.show()"
   ]
  },
  {
   "cell_type": "code",
   "execution_count": 85,
   "id": "7acbf0ec",
   "metadata": {},
   "outputs": [
    {
     "data": {
      "application/vnd.plotly.v1+json": {
       "config": {
        "plotlyServerURL": "https://plot.ly"
       },
       "data": [
        {
         "branchvalues": "total",
         "domain": {
          "x": [
           0,
           1
          ],
          "y": [
           0,
           1
          ]
         },
         "hovertemplate": "labels=%{label}<br>Freedom to make life choices=%{value}<br>parent=%{parent}<br>id=%{id}<extra></extra>",
         "ids": [
          "South Asia/Afghanistan",
          "Central and Eastern Europe/Albania",
          "Middle East and North Africa/Algeria",
          "Latin America and Caribbean/Argentina",
          "Commonwealth of Independent States/Armenia",
          "North America and ANZ/Australia",
          "Western Europe/Austria",
          "Commonwealth of Independent States/Azerbaijan",
          "Middle East and North Africa/Bahrain",
          "South Asia/Bangladesh",
          "Commonwealth of Independent States/Belarus",
          "Western Europe/Belgium",
          "Sub-Saharan Africa/Benin",
          "Latin America and Caribbean/Bolivia",
          "Central and Eastern Europe/Bosnia and Herzegovina",
          "Sub-Saharan Africa/Botswana",
          "Latin America and Caribbean/Brazil",
          "Central and Eastern Europe/Bulgaria",
          "Sub-Saharan Africa/Burkina Faso",
          "Sub-Saharan Africa/Burundi",
          "Southeast Asia/Cambodia",
          "Sub-Saharan Africa/Cameroon",
          "North America and ANZ/Canada",
          "Sub-Saharan Africa/Chad",
          "Latin America and Caribbean/Chile",
          "East Asia/China",
          "Latin America and Caribbean/Colombia",
          "Sub-Saharan Africa/Comoros",
          "Sub-Saharan Africa/Congo (Brazzaville)",
          "Latin America and Caribbean/Costa Rica",
          "Central and Eastern Europe/Croatia",
          "Western Europe/Cyprus",
          "Central and Eastern Europe/Czech Republic",
          "Western Europe/Denmark",
          "Latin America and Caribbean/Dominican Republic",
          "Latin America and Caribbean/Ecuador",
          "Middle East and North Africa/Egypt",
          "Latin America and Caribbean/El Salvador",
          "Central and Eastern Europe/Estonia",
          "Sub-Saharan Africa/Ethiopia",
          "Western Europe/Finland",
          "Western Europe/France",
          "Sub-Saharan Africa/Gabon",
          "Sub-Saharan Africa/Gambia",
          "Commonwealth of Independent States/Georgia",
          "Western Europe/Germany",
          "Sub-Saharan Africa/Ghana",
          "Western Europe/Greece",
          "Latin America and Caribbean/Guatemala",
          "Sub-Saharan Africa/Guinea",
          "Latin America and Caribbean/Haiti",
          "Latin America and Caribbean/Honduras",
          "East Asia/Hong Kong S.A.R. of China",
          "Central and Eastern Europe/Hungary",
          "Western Europe/Iceland",
          "South Asia/India",
          "Southeast Asia/Indonesia",
          "Middle East and North Africa/Iran",
          "Middle East and North Africa/Iraq",
          "Western Europe/Ireland",
          "Middle East and North Africa/Israel",
          "Western Europe/Italy",
          "Sub-Saharan Africa/Ivory Coast",
          "Latin America and Caribbean/Jamaica",
          "East Asia/Japan",
          "Middle East and North Africa/Jordan",
          "Commonwealth of Independent States/Kazakhstan",
          "Sub-Saharan Africa/Kenya",
          "Central and Eastern Europe/Kosovo",
          "Middle East and North Africa/Kuwait",
          "Commonwealth of Independent States/Kyrgyzstan",
          "Southeast Asia/Laos",
          "Central and Eastern Europe/Latvia",
          "Middle East and North Africa/Lebanon",
          "Sub-Saharan Africa/Lesotho",
          "Sub-Saharan Africa/Liberia",
          "Middle East and North Africa/Libya",
          "Central and Eastern Europe/Lithuania",
          "Western Europe/Luxembourg",
          "Sub-Saharan Africa/Madagascar",
          "Sub-Saharan Africa/Malawi",
          "Southeast Asia/Malaysia",
          "South Asia/Maldives",
          "Sub-Saharan Africa/Mali",
          "Western Europe/Malta",
          "Sub-Saharan Africa/Mauritania",
          "Sub-Saharan Africa/Mauritius",
          "Latin America and Caribbean/Mexico",
          "Commonwealth of Independent States/Moldova",
          "East Asia/Mongolia",
          "Central and Eastern Europe/Montenegro",
          "Middle East and North Africa/Morocco",
          "Sub-Saharan Africa/Mozambique",
          "Southeast Asia/Myanmar",
          "Sub-Saharan Africa/Namibia",
          "South Asia/Nepal",
          "Western Europe/Netherlands",
          "North America and ANZ/New Zealand",
          "Latin America and Caribbean/Nicaragua",
          "Sub-Saharan Africa/Niger",
          "Sub-Saharan Africa/Nigeria",
          "Western Europe/North Cyprus",
          "Central and Eastern Europe/North Macedonia",
          "Western Europe/Norway",
          "South Asia/Pakistan",
          "Middle East and North Africa/Palestinian Territories",
          "Latin America and Caribbean/Panama",
          "Latin America and Caribbean/Paraguay",
          "Latin America and Caribbean/Peru",
          "Southeast Asia/Philippines",
          "Central and Eastern Europe/Poland",
          "Western Europe/Portugal",
          "Central and Eastern Europe/Romania",
          "Commonwealth of Independent States/Russia",
          "Sub-Saharan Africa/Rwanda",
          "Middle East and North Africa/Saudi Arabia",
          "Sub-Saharan Africa/Senegal",
          "Central and Eastern Europe/Serbia",
          "Sub-Saharan Africa/Sierra Leone",
          "Southeast Asia/Singapore",
          "Central and Eastern Europe/Slovakia",
          "Central and Eastern Europe/Slovenia",
          "Sub-Saharan Africa/South Africa",
          "East Asia/South Korea",
          "Western Europe/Spain",
          "South Asia/Sri Lanka",
          "Sub-Saharan Africa/Swaziland",
          "Western Europe/Sweden",
          "Western Europe/Switzerland",
          "East Asia/Taiwan Province of China",
          "Commonwealth of Independent States/Tajikistan",
          "Sub-Saharan Africa/Tanzania",
          "Southeast Asia/Thailand",
          "Sub-Saharan Africa/Togo",
          "Middle East and North Africa/Tunisia",
          "Middle East and North Africa/Turkey",
          "Commonwealth of Independent States/Turkmenistan",
          "Sub-Saharan Africa/Uganda",
          "Commonwealth of Independent States/Ukraine",
          "Middle East and North Africa/United Arab Emirates",
          "Western Europe/United Kingdom",
          "North America and ANZ/United States",
          "Latin America and Caribbean/Uruguay",
          "Commonwealth of Independent States/Uzbekistan",
          "Latin America and Caribbean/Venezuela",
          "Southeast Asia/Vietnam",
          "Middle East and North Africa/Yemen",
          "Sub-Saharan Africa/Zambia",
          "Sub-Saharan Africa/Zimbabwe",
          "Central and Eastern Europe",
          "Commonwealth of Independent States",
          "East Asia",
          "Latin America and Caribbean",
          "Middle East and North Africa",
          "North America and ANZ",
          "South Asia",
          "Southeast Asia",
          "Sub-Saharan Africa",
          "Western Europe"
         ],
         "labels": [
          "Afghanistan",
          "Albania",
          "Algeria",
          "Argentina",
          "Armenia",
          "Australia",
          "Austria",
          "Azerbaijan",
          "Bahrain",
          "Bangladesh",
          "Belarus",
          "Belgium",
          "Benin",
          "Bolivia",
          "Bosnia and Herzegovina",
          "Botswana",
          "Brazil",
          "Bulgaria",
          "Burkina Faso",
          "Burundi",
          "Cambodia",
          "Cameroon",
          "Canada",
          "Chad",
          "Chile",
          "China",
          "Colombia",
          "Comoros",
          "Congo (Brazzaville)",
          "Costa Rica",
          "Croatia",
          "Cyprus",
          "Czech Republic",
          "Denmark",
          "Dominican Republic",
          "Ecuador",
          "Egypt",
          "El Salvador",
          "Estonia",
          "Ethiopia",
          "Finland",
          "France",
          "Gabon",
          "Gambia",
          "Georgia",
          "Germany",
          "Ghana",
          "Greece",
          "Guatemala",
          "Guinea",
          "Haiti",
          "Honduras",
          "Hong Kong S.A.R. of China",
          "Hungary",
          "Iceland",
          "India",
          "Indonesia",
          "Iran",
          "Iraq",
          "Ireland",
          "Israel",
          "Italy",
          "Ivory Coast",
          "Jamaica",
          "Japan",
          "Jordan",
          "Kazakhstan",
          "Kenya",
          "Kosovo",
          "Kuwait",
          "Kyrgyzstan",
          "Laos",
          "Latvia",
          "Lebanon",
          "Lesotho",
          "Liberia",
          "Libya",
          "Lithuania",
          "Luxembourg",
          "Madagascar",
          "Malawi",
          "Malaysia",
          "Maldives",
          "Mali",
          "Malta",
          "Mauritania",
          "Mauritius",
          "Mexico",
          "Moldova",
          "Mongolia",
          "Montenegro",
          "Morocco",
          "Mozambique",
          "Myanmar",
          "Namibia",
          "Nepal",
          "Netherlands",
          "New Zealand",
          "Nicaragua",
          "Niger",
          "Nigeria",
          "North Cyprus",
          "North Macedonia",
          "Norway",
          "Pakistan",
          "Palestinian Territories",
          "Panama",
          "Paraguay",
          "Peru",
          "Philippines",
          "Poland",
          "Portugal",
          "Romania",
          "Russia",
          "Rwanda",
          "Saudi Arabia",
          "Senegal",
          "Serbia",
          "Sierra Leone",
          "Singapore",
          "Slovakia",
          "Slovenia",
          "South Africa",
          "South Korea",
          "Spain",
          "Sri Lanka",
          "Swaziland",
          "Sweden",
          "Switzerland",
          "Taiwan Province of China",
          "Tajikistan",
          "Tanzania",
          "Thailand",
          "Togo",
          "Tunisia",
          "Turkey",
          "Turkmenistan",
          "Uganda",
          "Ukraine",
          "United Arab Emirates",
          "United Kingdom",
          "United States",
          "Uruguay",
          "Uzbekistan",
          "Venezuela",
          "Vietnam",
          "Yemen",
          "Zambia",
          "Zimbabwe",
          "Central and Eastern Europe",
          "Commonwealth of Independent States",
          "East Asia",
          "Latin America and Caribbean",
          "Middle East and North Africa",
          "North America and ANZ",
          "South Asia",
          "Southeast Asia",
          "Sub-Saharan Africa",
          "Western Europe"
         ],
         "name": "",
         "parents": [
          "South Asia",
          "Central and Eastern Europe",
          "Middle East and North Africa",
          "Latin America and Caribbean",
          "Commonwealth of Independent States",
          "North America and ANZ",
          "Western Europe",
          "Commonwealth of Independent States",
          "Middle East and North Africa",
          "South Asia",
          "Commonwealth of Independent States",
          "Western Europe",
          "Sub-Saharan Africa",
          "Latin America and Caribbean",
          "Central and Eastern Europe",
          "Sub-Saharan Africa",
          "Latin America and Caribbean",
          "Central and Eastern Europe",
          "Sub-Saharan Africa",
          "Sub-Saharan Africa",
          "Southeast Asia",
          "Sub-Saharan Africa",
          "North America and ANZ",
          "Sub-Saharan Africa",
          "Latin America and Caribbean",
          "East Asia",
          "Latin America and Caribbean",
          "Sub-Saharan Africa",
          "Sub-Saharan Africa",
          "Latin America and Caribbean",
          "Central and Eastern Europe",
          "Western Europe",
          "Central and Eastern Europe",
          "Western Europe",
          "Latin America and Caribbean",
          "Latin America and Caribbean",
          "Middle East and North Africa",
          "Latin America and Caribbean",
          "Central and Eastern Europe",
          "Sub-Saharan Africa",
          "Western Europe",
          "Western Europe",
          "Sub-Saharan Africa",
          "Sub-Saharan Africa",
          "Commonwealth of Independent States",
          "Western Europe",
          "Sub-Saharan Africa",
          "Western Europe",
          "Latin America and Caribbean",
          "Sub-Saharan Africa",
          "Latin America and Caribbean",
          "Latin America and Caribbean",
          "East Asia",
          "Central and Eastern Europe",
          "Western Europe",
          "South Asia",
          "Southeast Asia",
          "Middle East and North Africa",
          "Middle East and North Africa",
          "Western Europe",
          "Middle East and North Africa",
          "Western Europe",
          "Sub-Saharan Africa",
          "Latin America and Caribbean",
          "East Asia",
          "Middle East and North Africa",
          "Commonwealth of Independent States",
          "Sub-Saharan Africa",
          "Central and Eastern Europe",
          "Middle East and North Africa",
          "Commonwealth of Independent States",
          "Southeast Asia",
          "Central and Eastern Europe",
          "Middle East and North Africa",
          "Sub-Saharan Africa",
          "Sub-Saharan Africa",
          "Middle East and North Africa",
          "Central and Eastern Europe",
          "Western Europe",
          "Sub-Saharan Africa",
          "Sub-Saharan Africa",
          "Southeast Asia",
          "South Asia",
          "Sub-Saharan Africa",
          "Western Europe",
          "Sub-Saharan Africa",
          "Sub-Saharan Africa",
          "Latin America and Caribbean",
          "Commonwealth of Independent States",
          "East Asia",
          "Central and Eastern Europe",
          "Middle East and North Africa",
          "Sub-Saharan Africa",
          "Southeast Asia",
          "Sub-Saharan Africa",
          "South Asia",
          "Western Europe",
          "North America and ANZ",
          "Latin America and Caribbean",
          "Sub-Saharan Africa",
          "Sub-Saharan Africa",
          "Western Europe",
          "Central and Eastern Europe",
          "Western Europe",
          "South Asia",
          "Middle East and North Africa",
          "Latin America and Caribbean",
          "Latin America and Caribbean",
          "Latin America and Caribbean",
          "Southeast Asia",
          "Central and Eastern Europe",
          "Western Europe",
          "Central and Eastern Europe",
          "Commonwealth of Independent States",
          "Sub-Saharan Africa",
          "Middle East and North Africa",
          "Sub-Saharan Africa",
          "Central and Eastern Europe",
          "Sub-Saharan Africa",
          "Southeast Asia",
          "Central and Eastern Europe",
          "Central and Eastern Europe",
          "Sub-Saharan Africa",
          "East Asia",
          "Western Europe",
          "South Asia",
          "Sub-Saharan Africa",
          "Western Europe",
          "Western Europe",
          "East Asia",
          "Commonwealth of Independent States",
          "Sub-Saharan Africa",
          "Southeast Asia",
          "Sub-Saharan Africa",
          "Middle East and North Africa",
          "Middle East and North Africa",
          "Commonwealth of Independent States",
          "Sub-Saharan Africa",
          "Commonwealth of Independent States",
          "Middle East and North Africa",
          "Western Europe",
          "North America and ANZ",
          "Latin America and Caribbean",
          "Commonwealth of Independent States",
          "Latin America and Caribbean",
          "Southeast Asia",
          "Middle East and North Africa",
          "Sub-Saharan Africa",
          "Sub-Saharan Africa",
          "",
          "",
          "",
          "",
          "",
          "",
          "",
          "",
          "",
          ""
         ],
         "type": "treemap",
         "values": [
          0.382,
          0.785,
          0.48,
          0.828,
          0.825,
          0.914,
          0.908,
          0.814,
          0.925,
          0.877,
          0.65,
          0.783,
          0.757,
          0.875,
          0.706,
          0.824,
          0.804,
          0.788,
          0.695,
          0.626,
          0.959,
          0.731,
          0.915,
          0.579,
          0.742,
          0.904,
          0.837,
          0.548,
          0.695,
          0.934,
          0.754,
          0.763,
          0.858,
          0.946,
          0.86,
          0.842,
          0.749,
          0.888,
          0.909,
          0.752,
          0.949,
          0.822,
          0.731,
          0.697,
          0.783,
          0.875,
          0.807,
          0.582,
          0.906,
          0.697,
          0.593,
          0.857,
          0.717,
          0.755,
          0.955,
          0.893,
          0.873,
          0.608,
          0.63,
          0.879,
          0.8,
          0.693,
          0.741,
          0.89,
          0.796,
          0.755,
          0.853,
          0.779,
          0.869,
          0.867,
          0.935,
          0.91,
          0.715,
          0.525,
          0.715,
          0.735,
          0.771,
          0.773,
          0.907,
          0.552,
          0.78,
          0.895,
          0.854,
          0.697,
          0.927,
          0.561,
          0.867,
          0.862,
          0.822,
          0.708,
          0.708,
          0.774,
          0.882,
          0.876,
          0.719,
          0.782,
          0.913,
          0.929,
          0.836,
          0.806,
          0.737,
          0.795,
          0.751,
          0.96,
          0.726,
          0.653,
          0.872,
          0.876,
          0.822,
          0.917,
          0.841,
          0.892,
          0.845,
          0.718,
          0.897,
          0.877,
          0.695,
          0.778,
          0.717,
          0.927,
          0.766,
          0.949,
          0.749,
          0.672,
          0.761,
          0.841,
          0.647,
          0.945,
          0.919,
          0.784,
          0.832,
          0.833,
          0.884,
          0.619,
          0.656,
          0.576,
          0.877,
          0.709,
          0.724,
          0.932,
          0.859,
          0.837,
          0.896,
          0.97,
          0.615,
          0.94,
          0.602,
          0.782,
          0.677,
          13.55,
          9.802999999999999,
          4.581,
          16.635,
          12.18,
          3.595,
          5.355,
          8.181000000000001,
          26.035,
          18.033
         ]
        }
       ],
       "layout": {
        "legend": {
         "tracegroupgap": 0
        },
        "margin": {
         "t": 60
        },
        "template": {
         "data": {
          "bar": [
           {
            "error_x": {
             "color": "#2a3f5f"
            },
            "error_y": {
             "color": "#2a3f5f"
            },
            "marker": {
             "line": {
              "color": "#E5ECF6",
              "width": 0.5
             },
             "pattern": {
              "fillmode": "overlay",
              "size": 10,
              "solidity": 0.2
             }
            },
            "type": "bar"
           }
          ],
          "barpolar": [
           {
            "marker": {
             "line": {
              "color": "#E5ECF6",
              "width": 0.5
             },
             "pattern": {
              "fillmode": "overlay",
              "size": 10,
              "solidity": 0.2
             }
            },
            "type": "barpolar"
           }
          ],
          "carpet": [
           {
            "aaxis": {
             "endlinecolor": "#2a3f5f",
             "gridcolor": "white",
             "linecolor": "white",
             "minorgridcolor": "white",
             "startlinecolor": "#2a3f5f"
            },
            "baxis": {
             "endlinecolor": "#2a3f5f",
             "gridcolor": "white",
             "linecolor": "white",
             "minorgridcolor": "white",
             "startlinecolor": "#2a3f5f"
            },
            "type": "carpet"
           }
          ],
          "choropleth": [
           {
            "colorbar": {
             "outlinewidth": 0,
             "ticks": ""
            },
            "type": "choropleth"
           }
          ],
          "contour": [
           {
            "colorbar": {
             "outlinewidth": 0,
             "ticks": ""
            },
            "colorscale": [
             [
              0,
              "#0d0887"
             ],
             [
              0.1111111111111111,
              "#46039f"
             ],
             [
              0.2222222222222222,
              "#7201a8"
             ],
             [
              0.3333333333333333,
              "#9c179e"
             ],
             [
              0.4444444444444444,
              "#bd3786"
             ],
             [
              0.5555555555555556,
              "#d8576b"
             ],
             [
              0.6666666666666666,
              "#ed7953"
             ],
             [
              0.7777777777777778,
              "#fb9f3a"
             ],
             [
              0.8888888888888888,
              "#fdca26"
             ],
             [
              1,
              "#f0f921"
             ]
            ],
            "type": "contour"
           }
          ],
          "contourcarpet": [
           {
            "colorbar": {
             "outlinewidth": 0,
             "ticks": ""
            },
            "type": "contourcarpet"
           }
          ],
          "heatmap": [
           {
            "colorbar": {
             "outlinewidth": 0,
             "ticks": ""
            },
            "colorscale": [
             [
              0,
              "#0d0887"
             ],
             [
              0.1111111111111111,
              "#46039f"
             ],
             [
              0.2222222222222222,
              "#7201a8"
             ],
             [
              0.3333333333333333,
              "#9c179e"
             ],
             [
              0.4444444444444444,
              "#bd3786"
             ],
             [
              0.5555555555555556,
              "#d8576b"
             ],
             [
              0.6666666666666666,
              "#ed7953"
             ],
             [
              0.7777777777777778,
              "#fb9f3a"
             ],
             [
              0.8888888888888888,
              "#fdca26"
             ],
             [
              1,
              "#f0f921"
             ]
            ],
            "type": "heatmap"
           }
          ],
          "heatmapgl": [
           {
            "colorbar": {
             "outlinewidth": 0,
             "ticks": ""
            },
            "colorscale": [
             [
              0,
              "#0d0887"
             ],
             [
              0.1111111111111111,
              "#46039f"
             ],
             [
              0.2222222222222222,
              "#7201a8"
             ],
             [
              0.3333333333333333,
              "#9c179e"
             ],
             [
              0.4444444444444444,
              "#bd3786"
             ],
             [
              0.5555555555555556,
              "#d8576b"
             ],
             [
              0.6666666666666666,
              "#ed7953"
             ],
             [
              0.7777777777777778,
              "#fb9f3a"
             ],
             [
              0.8888888888888888,
              "#fdca26"
             ],
             [
              1,
              "#f0f921"
             ]
            ],
            "type": "heatmapgl"
           }
          ],
          "histogram": [
           {
            "marker": {
             "pattern": {
              "fillmode": "overlay",
              "size": 10,
              "solidity": 0.2
             }
            },
            "type": "histogram"
           }
          ],
          "histogram2d": [
           {
            "colorbar": {
             "outlinewidth": 0,
             "ticks": ""
            },
            "colorscale": [
             [
              0,
              "#0d0887"
             ],
             [
              0.1111111111111111,
              "#46039f"
             ],
             [
              0.2222222222222222,
              "#7201a8"
             ],
             [
              0.3333333333333333,
              "#9c179e"
             ],
             [
              0.4444444444444444,
              "#bd3786"
             ],
             [
              0.5555555555555556,
              "#d8576b"
             ],
             [
              0.6666666666666666,
              "#ed7953"
             ],
             [
              0.7777777777777778,
              "#fb9f3a"
             ],
             [
              0.8888888888888888,
              "#fdca26"
             ],
             [
              1,
              "#f0f921"
             ]
            ],
            "type": "histogram2d"
           }
          ],
          "histogram2dcontour": [
           {
            "colorbar": {
             "outlinewidth": 0,
             "ticks": ""
            },
            "colorscale": [
             [
              0,
              "#0d0887"
             ],
             [
              0.1111111111111111,
              "#46039f"
             ],
             [
              0.2222222222222222,
              "#7201a8"
             ],
             [
              0.3333333333333333,
              "#9c179e"
             ],
             [
              0.4444444444444444,
              "#bd3786"
             ],
             [
              0.5555555555555556,
              "#d8576b"
             ],
             [
              0.6666666666666666,
              "#ed7953"
             ],
             [
              0.7777777777777778,
              "#fb9f3a"
             ],
             [
              0.8888888888888888,
              "#fdca26"
             ],
             [
              1,
              "#f0f921"
             ]
            ],
            "type": "histogram2dcontour"
           }
          ],
          "mesh3d": [
           {
            "colorbar": {
             "outlinewidth": 0,
             "ticks": ""
            },
            "type": "mesh3d"
           }
          ],
          "parcoords": [
           {
            "line": {
             "colorbar": {
              "outlinewidth": 0,
              "ticks": ""
             }
            },
            "type": "parcoords"
           }
          ],
          "pie": [
           {
            "automargin": true,
            "type": "pie"
           }
          ],
          "scatter": [
           {
            "fillpattern": {
             "fillmode": "overlay",
             "size": 10,
             "solidity": 0.2
            },
            "type": "scatter"
           }
          ],
          "scatter3d": [
           {
            "line": {
             "colorbar": {
              "outlinewidth": 0,
              "ticks": ""
             }
            },
            "marker": {
             "colorbar": {
              "outlinewidth": 0,
              "ticks": ""
             }
            },
            "type": "scatter3d"
           }
          ],
          "scattercarpet": [
           {
            "marker": {
             "colorbar": {
              "outlinewidth": 0,
              "ticks": ""
             }
            },
            "type": "scattercarpet"
           }
          ],
          "scattergeo": [
           {
            "marker": {
             "colorbar": {
              "outlinewidth": 0,
              "ticks": ""
             }
            },
            "type": "scattergeo"
           }
          ],
          "scattergl": [
           {
            "marker": {
             "colorbar": {
              "outlinewidth": 0,
              "ticks": ""
             }
            },
            "type": "scattergl"
           }
          ],
          "scattermapbox": [
           {
            "marker": {
             "colorbar": {
              "outlinewidth": 0,
              "ticks": ""
             }
            },
            "type": "scattermapbox"
           }
          ],
          "scatterpolar": [
           {
            "marker": {
             "colorbar": {
              "outlinewidth": 0,
              "ticks": ""
             }
            },
            "type": "scatterpolar"
           }
          ],
          "scatterpolargl": [
           {
            "marker": {
             "colorbar": {
              "outlinewidth": 0,
              "ticks": ""
             }
            },
            "type": "scatterpolargl"
           }
          ],
          "scatterternary": [
           {
            "marker": {
             "colorbar": {
              "outlinewidth": 0,
              "ticks": ""
             }
            },
            "type": "scatterternary"
           }
          ],
          "surface": [
           {
            "colorbar": {
             "outlinewidth": 0,
             "ticks": ""
            },
            "colorscale": [
             [
              0,
              "#0d0887"
             ],
             [
              0.1111111111111111,
              "#46039f"
             ],
             [
              0.2222222222222222,
              "#7201a8"
             ],
             [
              0.3333333333333333,
              "#9c179e"
             ],
             [
              0.4444444444444444,
              "#bd3786"
             ],
             [
              0.5555555555555556,
              "#d8576b"
             ],
             [
              0.6666666666666666,
              "#ed7953"
             ],
             [
              0.7777777777777778,
              "#fb9f3a"
             ],
             [
              0.8888888888888888,
              "#fdca26"
             ],
             [
              1,
              "#f0f921"
             ]
            ],
            "type": "surface"
           }
          ],
          "table": [
           {
            "cells": {
             "fill": {
              "color": "#EBF0F8"
             },
             "line": {
              "color": "white"
             }
            },
            "header": {
             "fill": {
              "color": "#C8D4E3"
             },
             "line": {
              "color": "white"
             }
            },
            "type": "table"
           }
          ]
         },
         "layout": {
          "annotationdefaults": {
           "arrowcolor": "#2a3f5f",
           "arrowhead": 0,
           "arrowwidth": 1
          },
          "autotypenumbers": "strict",
          "coloraxis": {
           "colorbar": {
            "outlinewidth": 0,
            "ticks": ""
           }
          },
          "colorscale": {
           "diverging": [
            [
             0,
             "#8e0152"
            ],
            [
             0.1,
             "#c51b7d"
            ],
            [
             0.2,
             "#de77ae"
            ],
            [
             0.3,
             "#f1b6da"
            ],
            [
             0.4,
             "#fde0ef"
            ],
            [
             0.5,
             "#f7f7f7"
            ],
            [
             0.6,
             "#e6f5d0"
            ],
            [
             0.7,
             "#b8e186"
            ],
            [
             0.8,
             "#7fbc41"
            ],
            [
             0.9,
             "#4d9221"
            ],
            [
             1,
             "#276419"
            ]
           ],
           "sequential": [
            [
             0,
             "#0d0887"
            ],
            [
             0.1111111111111111,
             "#46039f"
            ],
            [
             0.2222222222222222,
             "#7201a8"
            ],
            [
             0.3333333333333333,
             "#9c179e"
            ],
            [
             0.4444444444444444,
             "#bd3786"
            ],
            [
             0.5555555555555556,
             "#d8576b"
            ],
            [
             0.6666666666666666,
             "#ed7953"
            ],
            [
             0.7777777777777778,
             "#fb9f3a"
            ],
            [
             0.8888888888888888,
             "#fdca26"
            ],
            [
             1,
             "#f0f921"
            ]
           ],
           "sequentialminus": [
            [
             0,
             "#0d0887"
            ],
            [
             0.1111111111111111,
             "#46039f"
            ],
            [
             0.2222222222222222,
             "#7201a8"
            ],
            [
             0.3333333333333333,
             "#9c179e"
            ],
            [
             0.4444444444444444,
             "#bd3786"
            ],
            [
             0.5555555555555556,
             "#d8576b"
            ],
            [
             0.6666666666666666,
             "#ed7953"
            ],
            [
             0.7777777777777778,
             "#fb9f3a"
            ],
            [
             0.8888888888888888,
             "#fdca26"
            ],
            [
             1,
             "#f0f921"
            ]
           ]
          },
          "colorway": [
           "#636efa",
           "#EF553B",
           "#00cc96",
           "#ab63fa",
           "#FFA15A",
           "#19d3f3",
           "#FF6692",
           "#B6E880",
           "#FF97FF",
           "#FECB52"
          ],
          "font": {
           "color": "#2a3f5f"
          },
          "geo": {
           "bgcolor": "white",
           "lakecolor": "white",
           "landcolor": "#E5ECF6",
           "showlakes": true,
           "showland": true,
           "subunitcolor": "white"
          },
          "hoverlabel": {
           "align": "left"
          },
          "hovermode": "closest",
          "mapbox": {
           "style": "light"
          },
          "paper_bgcolor": "white",
          "plot_bgcolor": "#E5ECF6",
          "polar": {
           "angularaxis": {
            "gridcolor": "white",
            "linecolor": "white",
            "ticks": ""
           },
           "bgcolor": "#E5ECF6",
           "radialaxis": {
            "gridcolor": "white",
            "linecolor": "white",
            "ticks": ""
           }
          },
          "scene": {
           "xaxis": {
            "backgroundcolor": "#E5ECF6",
            "gridcolor": "white",
            "gridwidth": 2,
            "linecolor": "white",
            "showbackground": true,
            "ticks": "",
            "zerolinecolor": "white"
           },
           "yaxis": {
            "backgroundcolor": "#E5ECF6",
            "gridcolor": "white",
            "gridwidth": 2,
            "linecolor": "white",
            "showbackground": true,
            "ticks": "",
            "zerolinecolor": "white"
           },
           "zaxis": {
            "backgroundcolor": "#E5ECF6",
            "gridcolor": "white",
            "gridwidth": 2,
            "linecolor": "white",
            "showbackground": true,
            "ticks": "",
            "zerolinecolor": "white"
           }
          },
          "shapedefaults": {
           "line": {
            "color": "#2a3f5f"
           }
          },
          "ternary": {
           "aaxis": {
            "gridcolor": "white",
            "linecolor": "white",
            "ticks": ""
           },
           "baxis": {
            "gridcolor": "white",
            "linecolor": "white",
            "ticks": ""
           },
           "bgcolor": "#E5ECF6",
           "caxis": {
            "gridcolor": "white",
            "linecolor": "white",
            "ticks": ""
           }
          },
          "title": {
           "x": 0.05
          },
          "xaxis": {
           "automargin": true,
           "gridcolor": "white",
           "linecolor": "white",
           "ticks": "",
           "title": {
            "standoff": 15
           },
           "zerolinecolor": "white",
           "zerolinewidth": 2
          },
          "yaxis": {
           "automargin": true,
           "gridcolor": "white",
           "linecolor": "white",
           "ticks": "",
           "title": {
            "standoff": 15
           },
           "zerolinecolor": "white",
           "zerolinewidth": 2
          }
         }
        }
       }
      },
      "text/html": [
       "<div>                            <div id=\"0872b723-cc5d-4180-8903-6fd2ef5b1482\" class=\"plotly-graph-div\" style=\"height:525px; width:100%;\"></div>            <script type=\"text/javascript\">                require([\"plotly\"], function(Plotly) {                    window.PLOTLYENV=window.PLOTLYENV || {};                                    if (document.getElementById(\"0872b723-cc5d-4180-8903-6fd2ef5b1482\")) {                    Plotly.newPlot(                        \"0872b723-cc5d-4180-8903-6fd2ef5b1482\",                        [{\"branchvalues\":\"total\",\"domain\":{\"x\":[0.0,1.0],\"y\":[0.0,1.0]},\"hovertemplate\":\"labels=%{label}<br>Freedom to make life choices=%{value}<br>parent=%{parent}<br>id=%{id}<extra></extra>\",\"ids\":[\"South Asia/Afghanistan\",\"Central and Eastern Europe/Albania\",\"Middle East and North Africa/Algeria\",\"Latin America and Caribbean/Argentina\",\"Commonwealth of Independent States/Armenia\",\"North America and ANZ/Australia\",\"Western Europe/Austria\",\"Commonwealth of Independent States/Azerbaijan\",\"Middle East and North Africa/Bahrain\",\"South Asia/Bangladesh\",\"Commonwealth of Independent States/Belarus\",\"Western Europe/Belgium\",\"Sub-Saharan Africa/Benin\",\"Latin America and Caribbean/Bolivia\",\"Central and Eastern Europe/Bosnia and Herzegovina\",\"Sub-Saharan Africa/Botswana\",\"Latin America and Caribbean/Brazil\",\"Central and Eastern Europe/Bulgaria\",\"Sub-Saharan Africa/Burkina Faso\",\"Sub-Saharan Africa/Burundi\",\"Southeast Asia/Cambodia\",\"Sub-Saharan Africa/Cameroon\",\"North America and ANZ/Canada\",\"Sub-Saharan Africa/Chad\",\"Latin America and Caribbean/Chile\",\"East Asia/China\",\"Latin America and Caribbean/Colombia\",\"Sub-Saharan Africa/Comoros\",\"Sub-Saharan Africa/Congo (Brazzaville)\",\"Latin America and Caribbean/Costa Rica\",\"Central and Eastern Europe/Croatia\",\"Western Europe/Cyprus\",\"Central and Eastern Europe/Czech Republic\",\"Western Europe/Denmark\",\"Latin America and Caribbean/Dominican Republic\",\"Latin America and Caribbean/Ecuador\",\"Middle East and North Africa/Egypt\",\"Latin America and Caribbean/El Salvador\",\"Central and Eastern Europe/Estonia\",\"Sub-Saharan Africa/Ethiopia\",\"Western Europe/Finland\",\"Western Europe/France\",\"Sub-Saharan Africa/Gabon\",\"Sub-Saharan Africa/Gambia\",\"Commonwealth of Independent States/Georgia\",\"Western Europe/Germany\",\"Sub-Saharan Africa/Ghana\",\"Western Europe/Greece\",\"Latin America and Caribbean/Guatemala\",\"Sub-Saharan Africa/Guinea\",\"Latin America and Caribbean/Haiti\",\"Latin America and Caribbean/Honduras\",\"East Asia/Hong Kong S.A.R. of China\",\"Central and Eastern Europe/Hungary\",\"Western Europe/Iceland\",\"South Asia/India\",\"Southeast Asia/Indonesia\",\"Middle East and North Africa/Iran\",\"Middle East and North Africa/Iraq\",\"Western Europe/Ireland\",\"Middle East and North Africa/Israel\",\"Western Europe/Italy\",\"Sub-Saharan Africa/Ivory Coast\",\"Latin America and Caribbean/Jamaica\",\"East Asia/Japan\",\"Middle East and North Africa/Jordan\",\"Commonwealth of Independent States/Kazakhstan\",\"Sub-Saharan Africa/Kenya\",\"Central and Eastern Europe/Kosovo\",\"Middle East and North Africa/Kuwait\",\"Commonwealth of Independent States/Kyrgyzstan\",\"Southeast Asia/Laos\",\"Central and Eastern Europe/Latvia\",\"Middle East and North Africa/Lebanon\",\"Sub-Saharan Africa/Lesotho\",\"Sub-Saharan Africa/Liberia\",\"Middle East and North Africa/Libya\",\"Central and Eastern Europe/Lithuania\",\"Western Europe/Luxembourg\",\"Sub-Saharan Africa/Madagascar\",\"Sub-Saharan Africa/Malawi\",\"Southeast Asia/Malaysia\",\"South Asia/Maldives\",\"Sub-Saharan Africa/Mali\",\"Western Europe/Malta\",\"Sub-Saharan Africa/Mauritania\",\"Sub-Saharan Africa/Mauritius\",\"Latin America and Caribbean/Mexico\",\"Commonwealth of Independent States/Moldova\",\"East Asia/Mongolia\",\"Central and Eastern Europe/Montenegro\",\"Middle East and North Africa/Morocco\",\"Sub-Saharan Africa/Mozambique\",\"Southeast Asia/Myanmar\",\"Sub-Saharan Africa/Namibia\",\"South Asia/Nepal\",\"Western Europe/Netherlands\",\"North America and ANZ/New Zealand\",\"Latin America and Caribbean/Nicaragua\",\"Sub-Saharan Africa/Niger\",\"Sub-Saharan Africa/Nigeria\",\"Western Europe/North Cyprus\",\"Central and Eastern Europe/North Macedonia\",\"Western Europe/Norway\",\"South Asia/Pakistan\",\"Middle East and North Africa/Palestinian Territories\",\"Latin America and Caribbean/Panama\",\"Latin America and Caribbean/Paraguay\",\"Latin America and Caribbean/Peru\",\"Southeast Asia/Philippines\",\"Central and Eastern Europe/Poland\",\"Western Europe/Portugal\",\"Central and Eastern Europe/Romania\",\"Commonwealth of Independent States/Russia\",\"Sub-Saharan Africa/Rwanda\",\"Middle East and North Africa/Saudi Arabia\",\"Sub-Saharan Africa/Senegal\",\"Central and Eastern Europe/Serbia\",\"Sub-Saharan Africa/Sierra Leone\",\"Southeast Asia/Singapore\",\"Central and Eastern Europe/Slovakia\",\"Central and Eastern Europe/Slovenia\",\"Sub-Saharan Africa/South Africa\",\"East Asia/South Korea\",\"Western Europe/Spain\",\"South Asia/Sri Lanka\",\"Sub-Saharan Africa/Swaziland\",\"Western Europe/Sweden\",\"Western Europe/Switzerland\",\"East Asia/Taiwan Province of China\",\"Commonwealth of Independent States/Tajikistan\",\"Sub-Saharan Africa/Tanzania\",\"Southeast Asia/Thailand\",\"Sub-Saharan Africa/Togo\",\"Middle East and North Africa/Tunisia\",\"Middle East and North Africa/Turkey\",\"Commonwealth of Independent States/Turkmenistan\",\"Sub-Saharan Africa/Uganda\",\"Commonwealth of Independent States/Ukraine\",\"Middle East and North Africa/United Arab Emirates\",\"Western Europe/United Kingdom\",\"North America and ANZ/United States\",\"Latin America and Caribbean/Uruguay\",\"Commonwealth of Independent States/Uzbekistan\",\"Latin America and Caribbean/Venezuela\",\"Southeast Asia/Vietnam\",\"Middle East and North Africa/Yemen\",\"Sub-Saharan Africa/Zambia\",\"Sub-Saharan Africa/Zimbabwe\",\"Central and Eastern Europe\",\"Commonwealth of Independent States\",\"East Asia\",\"Latin America and Caribbean\",\"Middle East and North Africa\",\"North America and ANZ\",\"South Asia\",\"Southeast Asia\",\"Sub-Saharan Africa\",\"Western Europe\"],\"labels\":[\"Afghanistan\",\"Albania\",\"Algeria\",\"Argentina\",\"Armenia\",\"Australia\",\"Austria\",\"Azerbaijan\",\"Bahrain\",\"Bangladesh\",\"Belarus\",\"Belgium\",\"Benin\",\"Bolivia\",\"Bosnia and Herzegovina\",\"Botswana\",\"Brazil\",\"Bulgaria\",\"Burkina Faso\",\"Burundi\",\"Cambodia\",\"Cameroon\",\"Canada\",\"Chad\",\"Chile\",\"China\",\"Colombia\",\"Comoros\",\"Congo (Brazzaville)\",\"Costa Rica\",\"Croatia\",\"Cyprus\",\"Czech Republic\",\"Denmark\",\"Dominican Republic\",\"Ecuador\",\"Egypt\",\"El Salvador\",\"Estonia\",\"Ethiopia\",\"Finland\",\"France\",\"Gabon\",\"Gambia\",\"Georgia\",\"Germany\",\"Ghana\",\"Greece\",\"Guatemala\",\"Guinea\",\"Haiti\",\"Honduras\",\"Hong Kong S.A.R. of China\",\"Hungary\",\"Iceland\",\"India\",\"Indonesia\",\"Iran\",\"Iraq\",\"Ireland\",\"Israel\",\"Italy\",\"Ivory Coast\",\"Jamaica\",\"Japan\",\"Jordan\",\"Kazakhstan\",\"Kenya\",\"Kosovo\",\"Kuwait\",\"Kyrgyzstan\",\"Laos\",\"Latvia\",\"Lebanon\",\"Lesotho\",\"Liberia\",\"Libya\",\"Lithuania\",\"Luxembourg\",\"Madagascar\",\"Malawi\",\"Malaysia\",\"Maldives\",\"Mali\",\"Malta\",\"Mauritania\",\"Mauritius\",\"Mexico\",\"Moldova\",\"Mongolia\",\"Montenegro\",\"Morocco\",\"Mozambique\",\"Myanmar\",\"Namibia\",\"Nepal\",\"Netherlands\",\"New Zealand\",\"Nicaragua\",\"Niger\",\"Nigeria\",\"North Cyprus\",\"North Macedonia\",\"Norway\",\"Pakistan\",\"Palestinian Territories\",\"Panama\",\"Paraguay\",\"Peru\",\"Philippines\",\"Poland\",\"Portugal\",\"Romania\",\"Russia\",\"Rwanda\",\"Saudi Arabia\",\"Senegal\",\"Serbia\",\"Sierra Leone\",\"Singapore\",\"Slovakia\",\"Slovenia\",\"South Africa\",\"South Korea\",\"Spain\",\"Sri Lanka\",\"Swaziland\",\"Sweden\",\"Switzerland\",\"Taiwan Province of China\",\"Tajikistan\",\"Tanzania\",\"Thailand\",\"Togo\",\"Tunisia\",\"Turkey\",\"Turkmenistan\",\"Uganda\",\"Ukraine\",\"United Arab Emirates\",\"United Kingdom\",\"United States\",\"Uruguay\",\"Uzbekistan\",\"Venezuela\",\"Vietnam\",\"Yemen\",\"Zambia\",\"Zimbabwe\",\"Central and Eastern Europe\",\"Commonwealth of Independent States\",\"East Asia\",\"Latin America and Caribbean\",\"Middle East and North Africa\",\"North America and ANZ\",\"South Asia\",\"Southeast Asia\",\"Sub-Saharan Africa\",\"Western Europe\"],\"name\":\"\",\"parents\":[\"South Asia\",\"Central and Eastern Europe\",\"Middle East and North Africa\",\"Latin America and Caribbean\",\"Commonwealth of Independent States\",\"North America and ANZ\",\"Western Europe\",\"Commonwealth of Independent States\",\"Middle East and North Africa\",\"South Asia\",\"Commonwealth of Independent States\",\"Western Europe\",\"Sub-Saharan Africa\",\"Latin America and Caribbean\",\"Central and Eastern Europe\",\"Sub-Saharan Africa\",\"Latin America and Caribbean\",\"Central and Eastern Europe\",\"Sub-Saharan Africa\",\"Sub-Saharan Africa\",\"Southeast Asia\",\"Sub-Saharan Africa\",\"North America and ANZ\",\"Sub-Saharan Africa\",\"Latin America and Caribbean\",\"East Asia\",\"Latin America and Caribbean\",\"Sub-Saharan Africa\",\"Sub-Saharan Africa\",\"Latin America and Caribbean\",\"Central and Eastern Europe\",\"Western Europe\",\"Central and Eastern Europe\",\"Western Europe\",\"Latin America and Caribbean\",\"Latin America and Caribbean\",\"Middle East and North Africa\",\"Latin America and Caribbean\",\"Central and Eastern Europe\",\"Sub-Saharan Africa\",\"Western Europe\",\"Western Europe\",\"Sub-Saharan Africa\",\"Sub-Saharan Africa\",\"Commonwealth of Independent States\",\"Western Europe\",\"Sub-Saharan Africa\",\"Western Europe\",\"Latin America and Caribbean\",\"Sub-Saharan Africa\",\"Latin America and Caribbean\",\"Latin America and Caribbean\",\"East Asia\",\"Central and Eastern Europe\",\"Western Europe\",\"South Asia\",\"Southeast Asia\",\"Middle East and North Africa\",\"Middle East and North Africa\",\"Western Europe\",\"Middle East and North Africa\",\"Western Europe\",\"Sub-Saharan Africa\",\"Latin America and Caribbean\",\"East Asia\",\"Middle East and North Africa\",\"Commonwealth of Independent States\",\"Sub-Saharan Africa\",\"Central and Eastern Europe\",\"Middle East and North Africa\",\"Commonwealth of Independent States\",\"Southeast Asia\",\"Central and Eastern Europe\",\"Middle East and North Africa\",\"Sub-Saharan Africa\",\"Sub-Saharan Africa\",\"Middle East and North Africa\",\"Central and Eastern Europe\",\"Western Europe\",\"Sub-Saharan Africa\",\"Sub-Saharan Africa\",\"Southeast Asia\",\"South Asia\",\"Sub-Saharan Africa\",\"Western Europe\",\"Sub-Saharan Africa\",\"Sub-Saharan Africa\",\"Latin America and Caribbean\",\"Commonwealth of Independent States\",\"East Asia\",\"Central and Eastern Europe\",\"Middle East and North Africa\",\"Sub-Saharan Africa\",\"Southeast Asia\",\"Sub-Saharan Africa\",\"South Asia\",\"Western Europe\",\"North America and ANZ\",\"Latin America and Caribbean\",\"Sub-Saharan Africa\",\"Sub-Saharan Africa\",\"Western Europe\",\"Central and Eastern Europe\",\"Western Europe\",\"South Asia\",\"Middle East and North Africa\",\"Latin America and Caribbean\",\"Latin America and Caribbean\",\"Latin America and Caribbean\",\"Southeast Asia\",\"Central and Eastern Europe\",\"Western Europe\",\"Central and Eastern Europe\",\"Commonwealth of Independent States\",\"Sub-Saharan Africa\",\"Middle East and North Africa\",\"Sub-Saharan Africa\",\"Central and Eastern Europe\",\"Sub-Saharan Africa\",\"Southeast Asia\",\"Central and Eastern Europe\",\"Central and Eastern Europe\",\"Sub-Saharan Africa\",\"East Asia\",\"Western Europe\",\"South Asia\",\"Sub-Saharan Africa\",\"Western Europe\",\"Western Europe\",\"East Asia\",\"Commonwealth of Independent States\",\"Sub-Saharan Africa\",\"Southeast Asia\",\"Sub-Saharan Africa\",\"Middle East and North Africa\",\"Middle East and North Africa\",\"Commonwealth of Independent States\",\"Sub-Saharan Africa\",\"Commonwealth of Independent States\",\"Middle East and North Africa\",\"Western Europe\",\"North America and ANZ\",\"Latin America and Caribbean\",\"Commonwealth of Independent States\",\"Latin America and Caribbean\",\"Southeast Asia\",\"Middle East and North Africa\",\"Sub-Saharan Africa\",\"Sub-Saharan Africa\",\"\",\"\",\"\",\"\",\"\",\"\",\"\",\"\",\"\",\"\"],\"values\":[0.382,0.785,0.48,0.828,0.825,0.914,0.908,0.814,0.925,0.877,0.65,0.783,0.757,0.875,0.706,0.824,0.804,0.788,0.695,0.626,0.959,0.731,0.915,0.579,0.742,0.904,0.837,0.548,0.695,0.934,0.754,0.763,0.858,0.946,0.86,0.842,0.749,0.888,0.909,0.752,0.949,0.822,0.731,0.697,0.783,0.875,0.807,0.582,0.906,0.697,0.593,0.857,0.717,0.755,0.955,0.893,0.873,0.608,0.63,0.879,0.8,0.693,0.741,0.89,0.796,0.755,0.853,0.779,0.869,0.867,0.935,0.91,0.715,0.525,0.715,0.735,0.771,0.773,0.907,0.552,0.78,0.895,0.854,0.697,0.927,0.561,0.867,0.862,0.822,0.708,0.708,0.774,0.882,0.876,0.719,0.782,0.913,0.929,0.836,0.806,0.737,0.795,0.751,0.96,0.726,0.653,0.872,0.876,0.822,0.917,0.841,0.892,0.845,0.718,0.897,0.877,0.695,0.778,0.717,0.927,0.766,0.949,0.749,0.672,0.761,0.841,0.647,0.945,0.919,0.784,0.832,0.833,0.884,0.619,0.656,0.576,0.877,0.709,0.724,0.932,0.859,0.837,0.896,0.97,0.615,0.94,0.602,0.782,0.677,13.55,9.802999999999999,4.581,16.635,12.18,3.595,5.355,8.181000000000001,26.035,18.033],\"type\":\"treemap\"}],                        {\"template\":{\"data\":{\"histogram2dcontour\":[{\"type\":\"histogram2dcontour\",\"colorbar\":{\"outlinewidth\":0,\"ticks\":\"\"},\"colorscale\":[[0.0,\"#0d0887\"],[0.1111111111111111,\"#46039f\"],[0.2222222222222222,\"#7201a8\"],[0.3333333333333333,\"#9c179e\"],[0.4444444444444444,\"#bd3786\"],[0.5555555555555556,\"#d8576b\"],[0.6666666666666666,\"#ed7953\"],[0.7777777777777778,\"#fb9f3a\"],[0.8888888888888888,\"#fdca26\"],[1.0,\"#f0f921\"]]}],\"choropleth\":[{\"type\":\"choropleth\",\"colorbar\":{\"outlinewidth\":0,\"ticks\":\"\"}}],\"histogram2d\":[{\"type\":\"histogram2d\",\"colorbar\":{\"outlinewidth\":0,\"ticks\":\"\"},\"colorscale\":[[0.0,\"#0d0887\"],[0.1111111111111111,\"#46039f\"],[0.2222222222222222,\"#7201a8\"],[0.3333333333333333,\"#9c179e\"],[0.4444444444444444,\"#bd3786\"],[0.5555555555555556,\"#d8576b\"],[0.6666666666666666,\"#ed7953\"],[0.7777777777777778,\"#fb9f3a\"],[0.8888888888888888,\"#fdca26\"],[1.0,\"#f0f921\"]]}],\"heatmap\":[{\"type\":\"heatmap\",\"colorbar\":{\"outlinewidth\":0,\"ticks\":\"\"},\"colorscale\":[[0.0,\"#0d0887\"],[0.1111111111111111,\"#46039f\"],[0.2222222222222222,\"#7201a8\"],[0.3333333333333333,\"#9c179e\"],[0.4444444444444444,\"#bd3786\"],[0.5555555555555556,\"#d8576b\"],[0.6666666666666666,\"#ed7953\"],[0.7777777777777778,\"#fb9f3a\"],[0.8888888888888888,\"#fdca26\"],[1.0,\"#f0f921\"]]}],\"heatmapgl\":[{\"type\":\"heatmapgl\",\"colorbar\":{\"outlinewidth\":0,\"ticks\":\"\"},\"colorscale\":[[0.0,\"#0d0887\"],[0.1111111111111111,\"#46039f\"],[0.2222222222222222,\"#7201a8\"],[0.3333333333333333,\"#9c179e\"],[0.4444444444444444,\"#bd3786\"],[0.5555555555555556,\"#d8576b\"],[0.6666666666666666,\"#ed7953\"],[0.7777777777777778,\"#fb9f3a\"],[0.8888888888888888,\"#fdca26\"],[1.0,\"#f0f921\"]]}],\"contourcarpet\":[{\"type\":\"contourcarpet\",\"colorbar\":{\"outlinewidth\":0,\"ticks\":\"\"}}],\"contour\":[{\"type\":\"contour\",\"colorbar\":{\"outlinewidth\":0,\"ticks\":\"\"},\"colorscale\":[[0.0,\"#0d0887\"],[0.1111111111111111,\"#46039f\"],[0.2222222222222222,\"#7201a8\"],[0.3333333333333333,\"#9c179e\"],[0.4444444444444444,\"#bd3786\"],[0.5555555555555556,\"#d8576b\"],[0.6666666666666666,\"#ed7953\"],[0.7777777777777778,\"#fb9f3a\"],[0.8888888888888888,\"#fdca26\"],[1.0,\"#f0f921\"]]}],\"surface\":[{\"type\":\"surface\",\"colorbar\":{\"outlinewidth\":0,\"ticks\":\"\"},\"colorscale\":[[0.0,\"#0d0887\"],[0.1111111111111111,\"#46039f\"],[0.2222222222222222,\"#7201a8\"],[0.3333333333333333,\"#9c179e\"],[0.4444444444444444,\"#bd3786\"],[0.5555555555555556,\"#d8576b\"],[0.6666666666666666,\"#ed7953\"],[0.7777777777777778,\"#fb9f3a\"],[0.8888888888888888,\"#fdca26\"],[1.0,\"#f0f921\"]]}],\"mesh3d\":[{\"type\":\"mesh3d\",\"colorbar\":{\"outlinewidth\":0,\"ticks\":\"\"}}],\"scatter\":[{\"fillpattern\":{\"fillmode\":\"overlay\",\"size\":10,\"solidity\":0.2},\"type\":\"scatter\"}],\"parcoords\":[{\"type\":\"parcoords\",\"line\":{\"colorbar\":{\"outlinewidth\":0,\"ticks\":\"\"}}}],\"scatterpolargl\":[{\"type\":\"scatterpolargl\",\"marker\":{\"colorbar\":{\"outlinewidth\":0,\"ticks\":\"\"}}}],\"bar\":[{\"error_x\":{\"color\":\"#2a3f5f\"},\"error_y\":{\"color\":\"#2a3f5f\"},\"marker\":{\"line\":{\"color\":\"#E5ECF6\",\"width\":0.5},\"pattern\":{\"fillmode\":\"overlay\",\"size\":10,\"solidity\":0.2}},\"type\":\"bar\"}],\"scattergeo\":[{\"type\":\"scattergeo\",\"marker\":{\"colorbar\":{\"outlinewidth\":0,\"ticks\":\"\"}}}],\"scatterpolar\":[{\"type\":\"scatterpolar\",\"marker\":{\"colorbar\":{\"outlinewidth\":0,\"ticks\":\"\"}}}],\"histogram\":[{\"marker\":{\"pattern\":{\"fillmode\":\"overlay\",\"size\":10,\"solidity\":0.2}},\"type\":\"histogram\"}],\"scattergl\":[{\"type\":\"scattergl\",\"marker\":{\"colorbar\":{\"outlinewidth\":0,\"ticks\":\"\"}}}],\"scatter3d\":[{\"type\":\"scatter3d\",\"line\":{\"colorbar\":{\"outlinewidth\":0,\"ticks\":\"\"}},\"marker\":{\"colorbar\":{\"outlinewidth\":0,\"ticks\":\"\"}}}],\"scattermapbox\":[{\"type\":\"scattermapbox\",\"marker\":{\"colorbar\":{\"outlinewidth\":0,\"ticks\":\"\"}}}],\"scatterternary\":[{\"type\":\"scatterternary\",\"marker\":{\"colorbar\":{\"outlinewidth\":0,\"ticks\":\"\"}}}],\"scattercarpet\":[{\"type\":\"scattercarpet\",\"marker\":{\"colorbar\":{\"outlinewidth\":0,\"ticks\":\"\"}}}],\"carpet\":[{\"aaxis\":{\"endlinecolor\":\"#2a3f5f\",\"gridcolor\":\"white\",\"linecolor\":\"white\",\"minorgridcolor\":\"white\",\"startlinecolor\":\"#2a3f5f\"},\"baxis\":{\"endlinecolor\":\"#2a3f5f\",\"gridcolor\":\"white\",\"linecolor\":\"white\",\"minorgridcolor\":\"white\",\"startlinecolor\":\"#2a3f5f\"},\"type\":\"carpet\"}],\"table\":[{\"cells\":{\"fill\":{\"color\":\"#EBF0F8\"},\"line\":{\"color\":\"white\"}},\"header\":{\"fill\":{\"color\":\"#C8D4E3\"},\"line\":{\"color\":\"white\"}},\"type\":\"table\"}],\"barpolar\":[{\"marker\":{\"line\":{\"color\":\"#E5ECF6\",\"width\":0.5},\"pattern\":{\"fillmode\":\"overlay\",\"size\":10,\"solidity\":0.2}},\"type\":\"barpolar\"}],\"pie\":[{\"automargin\":true,\"type\":\"pie\"}]},\"layout\":{\"autotypenumbers\":\"strict\",\"colorway\":[\"#636efa\",\"#EF553B\",\"#00cc96\",\"#ab63fa\",\"#FFA15A\",\"#19d3f3\",\"#FF6692\",\"#B6E880\",\"#FF97FF\",\"#FECB52\"],\"font\":{\"color\":\"#2a3f5f\"},\"hovermode\":\"closest\",\"hoverlabel\":{\"align\":\"left\"},\"paper_bgcolor\":\"white\",\"plot_bgcolor\":\"#E5ECF6\",\"polar\":{\"bgcolor\":\"#E5ECF6\",\"angularaxis\":{\"gridcolor\":\"white\",\"linecolor\":\"white\",\"ticks\":\"\"},\"radialaxis\":{\"gridcolor\":\"white\",\"linecolor\":\"white\",\"ticks\":\"\"}},\"ternary\":{\"bgcolor\":\"#E5ECF6\",\"aaxis\":{\"gridcolor\":\"white\",\"linecolor\":\"white\",\"ticks\":\"\"},\"baxis\":{\"gridcolor\":\"white\",\"linecolor\":\"white\",\"ticks\":\"\"},\"caxis\":{\"gridcolor\":\"white\",\"linecolor\":\"white\",\"ticks\":\"\"}},\"coloraxis\":{\"colorbar\":{\"outlinewidth\":0,\"ticks\":\"\"}},\"colorscale\":{\"sequential\":[[0.0,\"#0d0887\"],[0.1111111111111111,\"#46039f\"],[0.2222222222222222,\"#7201a8\"],[0.3333333333333333,\"#9c179e\"],[0.4444444444444444,\"#bd3786\"],[0.5555555555555556,\"#d8576b\"],[0.6666666666666666,\"#ed7953\"],[0.7777777777777778,\"#fb9f3a\"],[0.8888888888888888,\"#fdca26\"],[1.0,\"#f0f921\"]],\"sequentialminus\":[[0.0,\"#0d0887\"],[0.1111111111111111,\"#46039f\"],[0.2222222222222222,\"#7201a8\"],[0.3333333333333333,\"#9c179e\"],[0.4444444444444444,\"#bd3786\"],[0.5555555555555556,\"#d8576b\"],[0.6666666666666666,\"#ed7953\"],[0.7777777777777778,\"#fb9f3a\"],[0.8888888888888888,\"#fdca26\"],[1.0,\"#f0f921\"]],\"diverging\":[[0,\"#8e0152\"],[0.1,\"#c51b7d\"],[0.2,\"#de77ae\"],[0.3,\"#f1b6da\"],[0.4,\"#fde0ef\"],[0.5,\"#f7f7f7\"],[0.6,\"#e6f5d0\"],[0.7,\"#b8e186\"],[0.8,\"#7fbc41\"],[0.9,\"#4d9221\"],[1,\"#276419\"]]},\"xaxis\":{\"gridcolor\":\"white\",\"linecolor\":\"white\",\"ticks\":\"\",\"title\":{\"standoff\":15},\"zerolinecolor\":\"white\",\"automargin\":true,\"zerolinewidth\":2},\"yaxis\":{\"gridcolor\":\"white\",\"linecolor\":\"white\",\"ticks\":\"\",\"title\":{\"standoff\":15},\"zerolinecolor\":\"white\",\"automargin\":true,\"zerolinewidth\":2},\"scene\":{\"xaxis\":{\"backgroundcolor\":\"#E5ECF6\",\"gridcolor\":\"white\",\"linecolor\":\"white\",\"showbackground\":true,\"ticks\":\"\",\"zerolinecolor\":\"white\",\"gridwidth\":2},\"yaxis\":{\"backgroundcolor\":\"#E5ECF6\",\"gridcolor\":\"white\",\"linecolor\":\"white\",\"showbackground\":true,\"ticks\":\"\",\"zerolinecolor\":\"white\",\"gridwidth\":2},\"zaxis\":{\"backgroundcolor\":\"#E5ECF6\",\"gridcolor\":\"white\",\"linecolor\":\"white\",\"showbackground\":true,\"ticks\":\"\",\"zerolinecolor\":\"white\",\"gridwidth\":2}},\"shapedefaults\":{\"line\":{\"color\":\"#2a3f5f\"}},\"annotationdefaults\":{\"arrowcolor\":\"#2a3f5f\",\"arrowhead\":0,\"arrowwidth\":1},\"geo\":{\"bgcolor\":\"white\",\"landcolor\":\"#E5ECF6\",\"subunitcolor\":\"white\",\"showland\":true,\"showlakes\":true,\"lakecolor\":\"white\"},\"title\":{\"x\":0.05},\"mapbox\":{\"style\":\"light\"}}},\"legend\":{\"tracegroupgap\":0},\"margin\":{\"t\":60}},                        {\"responsive\": true}                    ).then(function(){\n",
       "                            \n",
       "var gd = document.getElementById('0872b723-cc5d-4180-8903-6fd2ef5b1482');\n",
       "var x = new MutationObserver(function (mutations, observer) {{\n",
       "        var display = window.getComputedStyle(gd).display;\n",
       "        if (!display || display === 'none') {{\n",
       "            console.log([gd, 'removed!']);\n",
       "            Plotly.purge(gd);\n",
       "            observer.disconnect();\n",
       "        }}\n",
       "}});\n",
       "\n",
       "// Listen for the removal of the full notebook cells\n",
       "var notebookContainer = gd.closest('#notebook-container');\n",
       "if (notebookContainer) {{\n",
       "    x.observe(notebookContainer, {childList: true});\n",
       "}}\n",
       "\n",
       "// Listen for the clearing of the current output cell\n",
       "var outputEl = gd.closest('.output');\n",
       "if (outputEl) {{\n",
       "    x.observe(outputEl, {childList: true});\n",
       "}}\n",
       "\n",
       "                        })                };                });            </script>        </div>"
      ]
     },
     "metadata": {},
     "output_type": "display_data"
    }
   ],
   "source": [
    "# Treemaps berdasarkan freedom to make life choices\n",
    "fig = px.treemap(df, path=[\"Regional indicator\", \"Country name\"],\n",
    "                values=\"Freedom to make life choices\")\n",
    "fig.show()"
   ]
  },
  {
   "cell_type": "markdown",
   "id": "659d3f2f",
   "metadata": {},
   "source": [
    "#### dari grafik diatas sub-saharan african memiliki lebih banyak kebebasan untuk menentukan pilihan hidup, sedangkan negara-negara north america memiliki kebebasan paling sedikit"
   ]
  },
  {
   "cell_type": "code",
   "execution_count": 88,
   "id": "b6525f8f",
   "metadata": {},
   "outputs": [
    {
     "data": {
      "text/plain": [
       "Sub-Saharan Africa                    36\n",
       "Western Europe                        21\n",
       "Latin America and Caribbean           20\n",
       "Middle East and North Africa          17\n",
       "Central and Eastern Europe            17\n",
       "Commonwealth of Independent States    12\n",
       "Southeast Asia                         9\n",
       "South Asia                             7\n",
       "East Asia                              6\n",
       "North America and ANZ                  4\n",
       "Name: Regional indicator, dtype: int64"
      ]
     },
     "execution_count": 88,
     "metadata": {},
     "output_type": "execute_result"
    }
   ],
   "source": [
    "df['Regional indicator'].value_counts()"
   ]
  },
  {
   "cell_type": "code",
   "execution_count": 87,
   "id": "4c352b1b",
   "metadata": {},
   "outputs": [
    {
     "data": {
      "text/html": [
       "<div>\n",
       "<style scoped>\n",
       "    .dataframe tbody tr th:only-of-type {\n",
       "        vertical-align: middle;\n",
       "    }\n",
       "\n",
       "    .dataframe tbody tr th {\n",
       "        vertical-align: top;\n",
       "    }\n",
       "\n",
       "    .dataframe thead th {\n",
       "        text-align: right;\n",
       "    }\n",
       "</style>\n",
       "<table border=\"1\" class=\"dataframe\">\n",
       "  <thead>\n",
       "    <tr style=\"text-align: right;\">\n",
       "      <th></th>\n",
       "      <th>Country name</th>\n",
       "      <th>Regional indicator</th>\n",
       "      <th>Ladder score</th>\n",
       "      <th>Standard error of ladder score</th>\n",
       "      <th>upperwhisker</th>\n",
       "      <th>lowerwhisker</th>\n",
       "      <th>Logged GDP per capita</th>\n",
       "      <th>Social support</th>\n",
       "      <th>Healthy life expectancy</th>\n",
       "      <th>Freedom to make life choices</th>\n",
       "      <th>Generosity</th>\n",
       "      <th>Perceptions of corruption</th>\n",
       "      <th>Ladder score in Dystopia</th>\n",
       "      <th>Explained by: Log GDP per capita</th>\n",
       "      <th>Explained by: Social support</th>\n",
       "      <th>Explained by: Healthy life expectancy</th>\n",
       "      <th>Explained by: Freedom to make life choices</th>\n",
       "      <th>Explained by: Generosity</th>\n",
       "      <th>Explained by: Perceptions of corruption</th>\n",
       "      <th>Dystopia + residual</th>\n",
       "    </tr>\n",
       "  </thead>\n",
       "  <tbody>\n",
       "    <tr>\n",
       "      <th>31</th>\n",
       "      <td>Singapore</td>\n",
       "      <td>Southeast Asia</td>\n",
       "      <td>6.377</td>\n",
       "      <td>0.043</td>\n",
       "      <td>6.460</td>\n",
       "      <td>6.293</td>\n",
       "      <td>11.488</td>\n",
       "      <td>0.915</td>\n",
       "      <td>76.953</td>\n",
       "      <td>0.927</td>\n",
       "      <td>-0.018</td>\n",
       "      <td>0.082</td>\n",
       "      <td>2.43</td>\n",
       "      <td>1.695</td>\n",
       "      <td>1.019</td>\n",
       "      <td>0.897</td>\n",
       "      <td>0.664</td>\n",
       "      <td>0.176</td>\n",
       "      <td>0.547</td>\n",
       "      <td>1.379</td>\n",
       "    </tr>\n",
       "    <tr>\n",
       "      <th>53</th>\n",
       "      <td>Thailand</td>\n",
       "      <td>Southeast Asia</td>\n",
       "      <td>5.985</td>\n",
       "      <td>0.047</td>\n",
       "      <td>6.077</td>\n",
       "      <td>5.893</td>\n",
       "      <td>9.805</td>\n",
       "      <td>0.888</td>\n",
       "      <td>67.401</td>\n",
       "      <td>0.884</td>\n",
       "      <td>0.287</td>\n",
       "      <td>0.895</td>\n",
       "      <td>2.43</td>\n",
       "      <td>1.107</td>\n",
       "      <td>0.957</td>\n",
       "      <td>0.596</td>\n",
       "      <td>0.611</td>\n",
       "      <td>0.375</td>\n",
       "      <td>0.028</td>\n",
       "      <td>2.309</td>\n",
       "    </tr>\n",
       "    <tr>\n",
       "      <th>60</th>\n",
       "      <td>Philippines</td>\n",
       "      <td>Southeast Asia</td>\n",
       "      <td>5.880</td>\n",
       "      <td>0.052</td>\n",
       "      <td>5.982</td>\n",
       "      <td>5.778</td>\n",
       "      <td>9.076</td>\n",
       "      <td>0.830</td>\n",
       "      <td>62.000</td>\n",
       "      <td>0.917</td>\n",
       "      <td>-0.097</td>\n",
       "      <td>0.742</td>\n",
       "      <td>2.43</td>\n",
       "      <td>0.853</td>\n",
       "      <td>0.828</td>\n",
       "      <td>0.426</td>\n",
       "      <td>0.651</td>\n",
       "      <td>0.125</td>\n",
       "      <td>0.126</td>\n",
       "      <td>2.872</td>\n",
       "    </tr>\n",
       "    <tr>\n",
       "      <th>78</th>\n",
       "      <td>Vietnam</td>\n",
       "      <td>Southeast Asia</td>\n",
       "      <td>5.411</td>\n",
       "      <td>0.039</td>\n",
       "      <td>5.488</td>\n",
       "      <td>5.334</td>\n",
       "      <td>8.973</td>\n",
       "      <td>0.850</td>\n",
       "      <td>68.034</td>\n",
       "      <td>0.940</td>\n",
       "      <td>-0.098</td>\n",
       "      <td>0.796</td>\n",
       "      <td>2.43</td>\n",
       "      <td>0.817</td>\n",
       "      <td>0.873</td>\n",
       "      <td>0.616</td>\n",
       "      <td>0.679</td>\n",
       "      <td>0.124</td>\n",
       "      <td>0.091</td>\n",
       "      <td>2.211</td>\n",
       "    </tr>\n",
       "    <tr>\n",
       "      <th>80</th>\n",
       "      <td>Malaysia</td>\n",
       "      <td>Southeast Asia</td>\n",
       "      <td>5.384</td>\n",
       "      <td>0.049</td>\n",
       "      <td>5.480</td>\n",
       "      <td>5.289</td>\n",
       "      <td>10.238</td>\n",
       "      <td>0.817</td>\n",
       "      <td>67.102</td>\n",
       "      <td>0.895</td>\n",
       "      <td>0.125</td>\n",
       "      <td>0.839</td>\n",
       "      <td>2.43</td>\n",
       "      <td>1.259</td>\n",
       "      <td>0.797</td>\n",
       "      <td>0.587</td>\n",
       "      <td>0.624</td>\n",
       "      <td>0.270</td>\n",
       "      <td>0.064</td>\n",
       "      <td>1.784</td>\n",
       "    </tr>\n",
       "    <tr>\n",
       "      <th>81</th>\n",
       "      <td>Indonesia</td>\n",
       "      <td>Southeast Asia</td>\n",
       "      <td>5.345</td>\n",
       "      <td>0.056</td>\n",
       "      <td>5.454</td>\n",
       "      <td>5.235</td>\n",
       "      <td>9.365</td>\n",
       "      <td>0.811</td>\n",
       "      <td>62.236</td>\n",
       "      <td>0.873</td>\n",
       "      <td>0.542</td>\n",
       "      <td>0.867</td>\n",
       "      <td>2.43</td>\n",
       "      <td>0.954</td>\n",
       "      <td>0.786</td>\n",
       "      <td>0.433</td>\n",
       "      <td>0.598</td>\n",
       "      <td>0.541</td>\n",
       "      <td>0.046</td>\n",
       "      <td>1.987</td>\n",
       "    </tr>\n",
       "    <tr>\n",
       "      <th>99</th>\n",
       "      <td>Laos</td>\n",
       "      <td>Southeast Asia</td>\n",
       "      <td>5.030</td>\n",
       "      <td>0.045</td>\n",
       "      <td>5.119</td>\n",
       "      <td>4.941</td>\n",
       "      <td>8.947</td>\n",
       "      <td>0.728</td>\n",
       "      <td>58.968</td>\n",
       "      <td>0.910</td>\n",
       "      <td>0.123</td>\n",
       "      <td>0.658</td>\n",
       "      <td>2.43</td>\n",
       "      <td>0.808</td>\n",
       "      <td>0.598</td>\n",
       "      <td>0.330</td>\n",
       "      <td>0.643</td>\n",
       "      <td>0.268</td>\n",
       "      <td>0.179</td>\n",
       "      <td>2.204</td>\n",
       "    </tr>\n",
       "    <tr>\n",
       "      <th>113</th>\n",
       "      <td>Cambodia</td>\n",
       "      <td>Southeast Asia</td>\n",
       "      <td>4.830</td>\n",
       "      <td>0.067</td>\n",
       "      <td>4.963</td>\n",
       "      <td>4.698</td>\n",
       "      <td>8.360</td>\n",
       "      <td>0.765</td>\n",
       "      <td>62.000</td>\n",
       "      <td>0.959</td>\n",
       "      <td>0.034</td>\n",
       "      <td>0.843</td>\n",
       "      <td>2.43</td>\n",
       "      <td>0.603</td>\n",
       "      <td>0.680</td>\n",
       "      <td>0.426</td>\n",
       "      <td>0.702</td>\n",
       "      <td>0.210</td>\n",
       "      <td>0.061</td>\n",
       "      <td>2.148</td>\n",
       "    </tr>\n",
       "    <tr>\n",
       "      <th>125</th>\n",
       "      <td>Myanmar</td>\n",
       "      <td>Southeast Asia</td>\n",
       "      <td>4.426</td>\n",
       "      <td>0.052</td>\n",
       "      <td>4.527</td>\n",
       "      <td>4.324</td>\n",
       "      <td>8.541</td>\n",
       "      <td>0.779</td>\n",
       "      <td>59.302</td>\n",
       "      <td>0.876</td>\n",
       "      <td>0.509</td>\n",
       "      <td>0.660</td>\n",
       "      <td>2.43</td>\n",
       "      <td>0.666</td>\n",
       "      <td>0.713</td>\n",
       "      <td>0.341</td>\n",
       "      <td>0.601</td>\n",
       "      <td>0.520</td>\n",
       "      <td>0.178</td>\n",
       "      <td>1.407</td>\n",
       "    </tr>\n",
       "  </tbody>\n",
       "</table>\n",
       "</div>"
      ],
      "text/plain": [
       "    Country name Regional indicator  Ladder score  \\\n",
       "31     Singapore     Southeast Asia         6.377   \n",
       "53      Thailand     Southeast Asia         5.985   \n",
       "60   Philippines     Southeast Asia         5.880   \n",
       "78       Vietnam     Southeast Asia         5.411   \n",
       "80      Malaysia     Southeast Asia         5.384   \n",
       "81     Indonesia     Southeast Asia         5.345   \n",
       "99          Laos     Southeast Asia         5.030   \n",
       "113     Cambodia     Southeast Asia         4.830   \n",
       "125      Myanmar     Southeast Asia         4.426   \n",
       "\n",
       "     Standard error of ladder score  upperwhisker  lowerwhisker  \\\n",
       "31                            0.043         6.460         6.293   \n",
       "53                            0.047         6.077         5.893   \n",
       "60                            0.052         5.982         5.778   \n",
       "78                            0.039         5.488         5.334   \n",
       "80                            0.049         5.480         5.289   \n",
       "81                            0.056         5.454         5.235   \n",
       "99                            0.045         5.119         4.941   \n",
       "113                           0.067         4.963         4.698   \n",
       "125                           0.052         4.527         4.324   \n",
       "\n",
       "     Logged GDP per capita  Social support  Healthy life expectancy  \\\n",
       "31                  11.488           0.915                   76.953   \n",
       "53                   9.805           0.888                   67.401   \n",
       "60                   9.076           0.830                   62.000   \n",
       "78                   8.973           0.850                   68.034   \n",
       "80                  10.238           0.817                   67.102   \n",
       "81                   9.365           0.811                   62.236   \n",
       "99                   8.947           0.728                   58.968   \n",
       "113                  8.360           0.765                   62.000   \n",
       "125                  8.541           0.779                   59.302   \n",
       "\n",
       "     Freedom to make life choices  Generosity  Perceptions of corruption  \\\n",
       "31                          0.927      -0.018                      0.082   \n",
       "53                          0.884       0.287                      0.895   \n",
       "60                          0.917      -0.097                      0.742   \n",
       "78                          0.940      -0.098                      0.796   \n",
       "80                          0.895       0.125                      0.839   \n",
       "81                          0.873       0.542                      0.867   \n",
       "99                          0.910       0.123                      0.658   \n",
       "113                         0.959       0.034                      0.843   \n",
       "125                         0.876       0.509                      0.660   \n",
       "\n",
       "     Ladder score in Dystopia  Explained by: Log GDP per capita  \\\n",
       "31                       2.43                             1.695   \n",
       "53                       2.43                             1.107   \n",
       "60                       2.43                             0.853   \n",
       "78                       2.43                             0.817   \n",
       "80                       2.43                             1.259   \n",
       "81                       2.43                             0.954   \n",
       "99                       2.43                             0.808   \n",
       "113                      2.43                             0.603   \n",
       "125                      2.43                             0.666   \n",
       "\n",
       "     Explained by: Social support  Explained by: Healthy life expectancy  \\\n",
       "31                          1.019                                  0.897   \n",
       "53                          0.957                                  0.596   \n",
       "60                          0.828                                  0.426   \n",
       "78                          0.873                                  0.616   \n",
       "80                          0.797                                  0.587   \n",
       "81                          0.786                                  0.433   \n",
       "99                          0.598                                  0.330   \n",
       "113                         0.680                                  0.426   \n",
       "125                         0.713                                  0.341   \n",
       "\n",
       "     Explained by: Freedom to make life choices  Explained by: Generosity  \\\n",
       "31                                        0.664                     0.176   \n",
       "53                                        0.611                     0.375   \n",
       "60                                        0.651                     0.125   \n",
       "78                                        0.679                     0.124   \n",
       "80                                        0.624                     0.270   \n",
       "81                                        0.598                     0.541   \n",
       "99                                        0.643                     0.268   \n",
       "113                                       0.702                     0.210   \n",
       "125                                       0.601                     0.520   \n",
       "\n",
       "     Explained by: Perceptions of corruption  Dystopia + residual  \n",
       "31                                     0.547                1.379  \n",
       "53                                     0.028                2.309  \n",
       "60                                     0.126                2.872  \n",
       "78                                     0.091                2.211  \n",
       "80                                     0.064                1.784  \n",
       "81                                     0.046                1.987  \n",
       "99                                     0.179                2.204  \n",
       "113                                    0.061                2.148  \n",
       "125                                    0.178                1.407  "
      ]
     },
     "execution_count": 87,
     "metadata": {},
     "output_type": "execute_result"
    }
   ],
   "source": [
    "df[df['Regional indicator'] == \"Southeast Asia\"]"
   ]
  },
  {
   "cell_type": "code",
   "execution_count": 91,
   "id": "8eca208c",
   "metadata": {
    "scrolled": false
   },
   "outputs": [
    {
     "data": {
      "application/vnd.plotly.v1+json": {
       "config": {
        "plotlyServerURL": "https://plot.ly"
       },
       "data": [
        {
         "hovertemplate": "<b>%{hovertext}</b><br><br>Regional indicator=Western Europe<br>Healthy life expectancy=%{x}<br>Ladder score=%{y}<br>Social support=%{marker.size}<extra></extra>",
         "hovertext": [
          "Finland",
          "Denmark",
          "Switzerland",
          "Iceland",
          "Netherlands",
          "Norway",
          "Sweden",
          "Luxembourg",
          "Austria",
          "Germany",
          "Ireland",
          "United Kingdom",
          "Belgium",
          "France",
          "Malta",
          "Spain",
          "Italy",
          "Cyprus",
          "Portugal",
          "Greece",
          "North Cyprus"
         ],
         "legendgroup": "Western Europe",
         "marker": {
          "color": "rgb(255,245,235)",
          "size": [
           0.954,
           0.954,
           0.942,
           0.983,
           0.942,
           0.954,
           0.934,
           0.908,
           0.934,
           0.903,
           0.947,
           0.934,
           0.906,
           0.942,
           0.931,
           0.932,
           0.88,
           0.802,
           0.879,
           0.823,
           0.82
          ],
          "sizemode": "area",
          "sizeref": 0.0024575,
          "symbol": "circle"
         },
         "mode": "markers",
         "name": "Western Europe",
         "orientation": "v",
         "showlegend": true,
         "type": "scatter",
         "x": [
          72,
          72.7,
          74.4,
          73,
          72.4,
          73.3,
          72.7,
          72.6,
          73.3,
          72.5,
          72.4,
          72.5,
          72.199,
          74,
          72.2,
          74.7,
          73.8,
          73.898,
          72.6,
          72.6,
          73.898
         ],
         "xaxis": "x",
         "y": [
          7.842,
          7.62,
          7.571,
          7.554,
          7.464,
          7.392,
          7.363,
          7.324,
          7.268,
          7.155,
          7.085,
          7.064,
          6.834,
          6.69,
          6.602,
          6.491,
          6.483,
          6.223,
          5.929,
          5.723,
          5.536
         ],
         "yaxis": "y"
        },
        {
         "hovertemplate": "<b>%{hovertext}</b><br><br>Regional indicator=North America and ANZ<br>Healthy life expectancy=%{x}<br>Ladder score=%{y}<br>Social support=%{marker.size}<extra></extra>",
         "hovertext": [
          "New Zealand",
          "Australia",
          "Canada",
          "United States"
         ],
         "legendgroup": "North America and ANZ",
         "marker": {
          "color": "rgb(254,230,206)",
          "size": [
           0.948,
           0.94,
           0.926,
           0.92
          ],
          "sizemode": "area",
          "sizeref": 0.0024575,
          "symbol": "circle"
         },
         "mode": "markers",
         "name": "North America and ANZ",
         "orientation": "v",
         "showlegend": true,
         "type": "scatter",
         "x": [
          73.4,
          73.9,
          73.8,
          68.2
         ],
         "xaxis": "x",
         "y": [
          7.277,
          7.183,
          7.103,
          6.951
         ],
         "yaxis": "y"
        },
        {
         "hovertemplate": "<b>%{hovertext}</b><br><br>Regional indicator=Middle East and North Africa<br>Healthy life expectancy=%{x}<br>Ladder score=%{y}<br>Social support=%{marker.size}<extra></extra>",
         "hovertext": [
          "Israel",
          "Bahrain",
          "United Arab Emirates",
          "Saudi Arabia",
          "Kuwait",
          "Libya",
          "Turkey",
          "Morocco",
          "Algeria",
          "Iraq",
          "Iran",
          "Tunisia",
          "Lebanon",
          "Palestinian Territories",
          "Jordan",
          "Egypt",
          "Yemen"
         ],
         "legendgroup": "Middle East and North Africa",
         "marker": {
          "color": "rgb(253,208,162)",
          "size": [
           0.939,
           0.862,
           0.844,
           0.891,
           0.843,
           0.827,
           0.822,
           0.56,
           0.802,
           0.746,
           0.71,
           0.691,
           0.848,
           0.826,
           0.767,
           0.75,
           0.832
          ],
          "sizemode": "area",
          "sizeref": 0.0024575,
          "symbol": "circle"
         },
         "mode": "markers",
         "name": "Middle East and North Africa",
         "orientation": "v",
         "showlegend": true,
         "type": "scatter",
         "x": [
          73.503,
          69.495,
          67.333,
          66.603,
          66.9,
          62.3,
          67.199,
          66.208,
          66.005,
          60.583,
          66.3,
          67.201,
          67.355,
          62.25,
          67,
          61.998,
          57.122
         ],
         "xaxis": "x",
         "y": [
          7.157,
          6.647,
          6.561,
          6.494,
          6.106,
          5.41,
          4.948,
          4.918,
          4.887,
          4.854,
          4.721,
          4.596,
          4.584,
          4.517,
          4.395,
          4.283,
          3.658
         ],
         "yaxis": "y"
        },
        {
         "hovertemplate": "<b>%{hovertext}</b><br><br>Regional indicator=Latin America and Caribbean<br>Healthy life expectancy=%{x}<br>Ladder score=%{y}<br>Social support=%{marker.size}<extra></extra>",
         "hovertext": [
          "Costa Rica",
          "Guatemala",
          "Uruguay",
          "Brazil",
          "Mexico",
          "Jamaica",
          "Panama",
          "Chile",
          "El Salvador",
          "Colombia",
          "Nicaragua",
          "Argentina",
          "Honduras",
          "Peru",
          "Ecuador",
          "Bolivia",
          "Paraguay",
          "Dominican Republic",
          "Venezuela",
          "Haiti"
         ],
         "legendgroup": "Latin America and Caribbean",
         "marker": {
          "color": "rgb(253,174,107)",
          "size": [
           0.891,
           0.813,
           0.925,
           0.882,
           0.831,
           0.877,
           0.896,
           0.882,
           0.762,
           0.847,
           0.864,
           0.898,
           0.812,
           0.832,
           0.821,
           0.81,
           0.893,
           0.853,
           0.861,
           0.54
          ],
          "sizemode": "area",
          "sizeref": 0.0024575,
          "symbol": "circle"
         },
         "mode": "markers",
         "name": "Latin America and Caribbean",
         "orientation": "v",
         "showlegend": true,
         "type": "scatter",
         "x": [
          71.4,
          64.958,
          69.1,
          66.601,
          68.597,
          67.5,
          69.652,
          70,
          66.402,
          68.001,
          67.657,
          69,
          67.3,
          68.25,
          68.8,
          63.901,
          65.9,
          66.102,
          66.7,
          55.7
         ],
         "xaxis": "x",
         "y": [
          7.069,
          6.435,
          6.431,
          6.33,
          6.317,
          6.309,
          6.18,
          6.172,
          6.061,
          6.012,
          5.972,
          5.929,
          5.919,
          5.84,
          5.764,
          5.716,
          5.653,
          5.545,
          4.892,
          3.615
         ],
         "yaxis": "y"
        },
        {
         "hovertemplate": "<b>%{hovertext}</b><br><br>Regional indicator=Central and Eastern Europe<br>Healthy life expectancy=%{x}<br>Ladder score=%{y}<br>Social support=%{marker.size}<extra></extra>",
         "hovertext": [
          "Czech Republic",
          "Slovenia",
          "Kosovo",
          "Slovakia",
          "Lithuania",
          "Estonia",
          "Poland",
          "Romania",
          "Serbia",
          "Latvia",
          "Hungary",
          "Croatia",
          "Bosnia and Herzegovina",
          "Montenegro",
          "Bulgaria",
          "Albania",
          "North Macedonia"
         ],
         "legendgroup": "Central and Eastern Europe",
         "marker": {
          "color": "rgb(253,141,60)",
          "size": [
           0.947,
           0.948,
           0.821,
           0.936,
           0.935,
           0.941,
           0.898,
           0.832,
           0.873,
           0.927,
           0.943,
           0.924,
           0.87,
           0.858,
           0.931,
           0.697,
           0.805
          ],
          "sizemode": "area",
          "sizeref": 0.0024575,
          "symbol": "circle"
         },
         "mode": "markers",
         "name": "Central and Eastern Europe",
         "orientation": "v",
         "showlegend": true,
         "type": "scatter",
         "x": [
          70.807,
          71.4,
          63.813,
          69.201,
          67.906,
          68.8,
          69.702,
          67.355,
          68.6,
          67.1,
          68,
          70.799,
          68.098,
          68.699,
          67,
          68.999,
          65.474
         ],
         "xaxis": "x",
         "y": [
          6.965,
          6.461,
          6.372,
          6.331,
          6.255,
          6.189,
          6.166,
          6.14,
          6.078,
          6.032,
          5.992,
          5.882,
          5.813,
          5.581,
          5.266,
          5.117,
          5.101
         ],
         "yaxis": "y"
        },
        {
         "hovertemplate": "<b>%{hovertext}</b><br><br>Regional indicator=East Asia<br>Healthy life expectancy=%{x}<br>Ladder score=%{y}<br>Social support=%{marker.size}<extra></extra>",
         "hovertext": [
          "Taiwan Province of China",
          "Japan",
          "South Korea",
          "Mongolia",
          "Hong Kong S.A.R. of China",
          "China"
         ],
         "legendgroup": "East Asia",
         "marker": {
          "color": "rgb(241,105,19)",
          "size": [
           0.898,
           0.884,
           0.799,
           0.935,
           0.836,
           0.811
          ],
          "sizemode": "area",
          "sizeref": 0.0024575,
          "symbol": "circle"
         },
         "mode": "markers",
         "name": "East Asia",
         "orientation": "v",
         "showlegend": true,
         "type": "scatter",
         "x": [
          69.6,
          75.1,
          73.9,
          62.5,
          76.82,
          69.593
         ],
         "xaxis": "x",
         "y": [
          6.584,
          5.94,
          5.845,
          5.677,
          5.477,
          5.339
         ],
         "yaxis": "y"
        },
        {
         "hovertemplate": "<b>%{hovertext}</b><br><br>Regional indicator=Southeast Asia<br>Healthy life expectancy=%{x}<br>Ladder score=%{y}<br>Social support=%{marker.size}<extra></extra>",
         "hovertext": [
          "Singapore",
          "Thailand",
          "Philippines",
          "Vietnam",
          "Malaysia",
          "Indonesia",
          "Laos",
          "Cambodia",
          "Myanmar"
         ],
         "legendgroup": "Southeast Asia",
         "marker": {
          "color": "rgb(217,72,1)",
          "size": [
           0.915,
           0.888,
           0.83,
           0.85,
           0.817,
           0.811,
           0.728,
           0.765,
           0.779
          ],
          "sizemode": "area",
          "sizeref": 0.0024575,
          "symbol": "circle"
         },
         "mode": "markers",
         "name": "Southeast Asia",
         "orientation": "v",
         "showlegend": true,
         "type": "scatter",
         "x": [
          76.953,
          67.401,
          62,
          68.034,
          67.102,
          62.236,
          58.968,
          62,
          59.302
         ],
         "xaxis": "x",
         "y": [
          6.377,
          5.985,
          5.88,
          5.411,
          5.384,
          5.345,
          5.03,
          4.83,
          4.426
         ],
         "yaxis": "y"
        },
        {
         "hovertemplate": "<b>%{hovertext}</b><br><br>Regional indicator=Commonwealth of Independent States<br>Healthy life expectancy=%{x}<br>Ladder score=%{y}<br>Social support=%{marker.size}<extra></extra>",
         "hovertext": [
          "Uzbekistan",
          "Kazakhstan",
          "Moldova",
          "Kyrgyzstan",
          "Belarus",
          "Russia",
          "Tajikistan",
          "Armenia",
          "Azerbaijan",
          "Turkmenistan",
          "Georgia",
          "Ukraine"
         ],
         "legendgroup": "Commonwealth of Independent States",
         "marker": {
          "color": "rgb(166,54,3)",
          "size": [
           0.918,
           0.952,
           0.857,
           0.893,
           0.91,
           0.903,
           0.86,
           0.799,
           0.836,
           0.983,
           0.671,
           0.888
          ],
          "sizemode": "area",
          "sizeref": 0.0024575,
          "symbol": "circle"
         },
         "mode": "markers",
         "name": "Commonwealth of Independent States",
         "orientation": "v",
         "showlegend": true,
         "type": "scatter",
         "x": [
          65.255,
          65.2,
          65.699,
          64.401,
          66.253,
          64.703,
          64.281,
          67.055,
          65.656,
          62.409,
          64.3,
          64.902
         ],
         "xaxis": "x",
         "y": [
          6.179,
          6.152,
          5.766,
          5.744,
          5.534,
          5.477,
          5.466,
          5.283,
          5.171,
          5.066,
          4.891,
          4.875
         ],
         "yaxis": "y"
        },
        {
         "hovertemplate": "<b>%{hovertext}</b><br><br>Regional indicator=Sub-Saharan Africa<br>Healthy life expectancy=%{x}<br>Ladder score=%{y}<br>Social support=%{marker.size}<extra></extra>",
         "hovertext": [
          "Mauritius",
          "Congo (Brazzaville)",
          "Ivory Coast",
          "Cameroon",
          "Senegal",
          "Ghana",
          "Niger",
          "Gambia",
          "Benin",
          "Guinea",
          "South Africa",
          "Gabon",
          "Burkina Faso",
          "Mozambique",
          "Nigeria",
          "Mali",
          "Uganda",
          "Liberia",
          "Kenya",
          "Namibia",
          "Chad",
          "Swaziland",
          "Comoros",
          "Ethiopia",
          "Mauritania",
          "Madagascar",
          "Togo",
          "Zambia",
          "Sierra Leone",
          "Burundi",
          "Tanzania",
          "Malawi",
          "Lesotho",
          "Botswana",
          "Rwanda",
          "Zimbabwe"
         ],
         "legendgroup": "Sub-Saharan Africa",
         "marker": {
          "color": "rgb(127,39,4)",
          "size": [
           0.905,
           0.636,
           0.644,
           0.71,
           0.71,
           0.727,
           0.641,
           0.69,
           0.489,
           0.639,
           0.86,
           0.776,
           0.672,
           0.744,
           0.74,
           0.724,
           0.781,
           0.72,
           0.688,
           0.818,
           0.619,
           0.77,
           0.626,
           0.764,
           0.795,
           0.686,
           0.569,
           0.708,
           0.63,
           0.49,
           0.702,
           0.537,
           0.787,
           0.784,
           0.552,
           0.75
          ],
          "sizemode": "area",
          "sizeref": 0.0024575,
          "symbol": "circle"
         },
         "mode": "markers",
         "name": "Sub-Saharan Africa",
         "orientation": "v",
         "showlegend": true,
         "type": "scatter",
         "x": [
          66.701,
          58.221,
          50.114,
          53.515,
          59.802,
          57.586,
          53.78,
          55.16,
          54.713,
          55.008,
          56.904,
          59.962,
          54.151,
          54.706,
          50.102,
          51.969,
          56.101,
          56.498,
          60.704,
          56.799,
          48.478,
          50.833,
          57.349,
          59,
          57.161,
          59.305,
          54.914,
          55.809,
          51.651,
          53.4,
          57.999,
          57.948,
          48.7,
          59.269,
          61.4,
          56.201
         ],
         "xaxis": "x",
         "y": [
          6.049,
          5.342,
          5.306,
          5.142,
          5.132,
          5.088,
          5.074,
          5.051,
          5.045,
          4.984,
          4.956,
          4.852,
          4.834,
          4.794,
          4.759,
          4.723,
          4.636,
          4.625,
          4.607,
          4.574,
          4.355,
          4.308,
          4.289,
          4.275,
          4.227,
          4.208,
          4.107,
          4.073,
          3.849,
          3.775,
          3.623,
          3.6,
          3.512,
          3.467,
          3.415,
          3.145
         ],
         "yaxis": "y"
        },
        {
         "hovertemplate": "<b>%{hovertext}</b><br><br>Regional indicator=South Asia<br>Healthy life expectancy=%{x}<br>Ladder score=%{y}<br>Social support=%{marker.size}<extra></extra>",
         "hovertext": [
          "Nepal",
          "Maldives",
          "Bangladesh",
          "Pakistan",
          "Sri Lanka",
          "India",
          "Afghanistan"
         ],
         "legendgroup": "South Asia",
         "marker": {
          "color": "rgb(255,245,235)",
          "size": [
           0.774,
           0.913,
           0.693,
           0.651,
           0.827,
           0.603,
           0.463
          ],
          "sizemode": "area",
          "sizeref": 0.0024575,
          "symbol": "circle"
         },
         "mode": "markers",
         "name": "South Asia",
         "orientation": "v",
         "showlegend": true,
         "type": "scatter",
         "x": [
          64.233,
          70.6,
          64.8,
          58.709,
          67.299,
          60.633,
          52.493
         ],
         "xaxis": "x",
         "y": [
          5.269,
          5.198,
          5.025,
          4.934,
          4.325,
          3.819,
          2.523
         ],
         "yaxis": "y"
        }
       ],
       "layout": {
        "legend": {
         "itemsizing": "constant",
         "title": {
          "text": "Regional indicator"
         },
         "tracegroupgap": 0
        },
        "margin": {
         "t": 60
        },
        "template": {
         "data": {
          "bar": [
           {
            "error_x": {
             "color": "#f2f5fa"
            },
            "error_y": {
             "color": "#f2f5fa"
            },
            "marker": {
             "line": {
              "color": "rgb(17,17,17)",
              "width": 0.5
             },
             "pattern": {
              "fillmode": "overlay",
              "size": 10,
              "solidity": 0.2
             }
            },
            "type": "bar"
           }
          ],
          "barpolar": [
           {
            "marker": {
             "line": {
              "color": "rgb(17,17,17)",
              "width": 0.5
             },
             "pattern": {
              "fillmode": "overlay",
              "size": 10,
              "solidity": 0.2
             }
            },
            "type": "barpolar"
           }
          ],
          "carpet": [
           {
            "aaxis": {
             "endlinecolor": "#A2B1C6",
             "gridcolor": "#506784",
             "linecolor": "#506784",
             "minorgridcolor": "#506784",
             "startlinecolor": "#A2B1C6"
            },
            "baxis": {
             "endlinecolor": "#A2B1C6",
             "gridcolor": "#506784",
             "linecolor": "#506784",
             "minorgridcolor": "#506784",
             "startlinecolor": "#A2B1C6"
            },
            "type": "carpet"
           }
          ],
          "choropleth": [
           {
            "colorbar": {
             "outlinewidth": 0,
             "ticks": ""
            },
            "type": "choropleth"
           }
          ],
          "contour": [
           {
            "colorbar": {
             "outlinewidth": 0,
             "ticks": ""
            },
            "colorscale": [
             [
              0,
              "#0d0887"
             ],
             [
              0.1111111111111111,
              "#46039f"
             ],
             [
              0.2222222222222222,
              "#7201a8"
             ],
             [
              0.3333333333333333,
              "#9c179e"
             ],
             [
              0.4444444444444444,
              "#bd3786"
             ],
             [
              0.5555555555555556,
              "#d8576b"
             ],
             [
              0.6666666666666666,
              "#ed7953"
             ],
             [
              0.7777777777777778,
              "#fb9f3a"
             ],
             [
              0.8888888888888888,
              "#fdca26"
             ],
             [
              1,
              "#f0f921"
             ]
            ],
            "type": "contour"
           }
          ],
          "contourcarpet": [
           {
            "colorbar": {
             "outlinewidth": 0,
             "ticks": ""
            },
            "type": "contourcarpet"
           }
          ],
          "heatmap": [
           {
            "colorbar": {
             "outlinewidth": 0,
             "ticks": ""
            },
            "colorscale": [
             [
              0,
              "#0d0887"
             ],
             [
              0.1111111111111111,
              "#46039f"
             ],
             [
              0.2222222222222222,
              "#7201a8"
             ],
             [
              0.3333333333333333,
              "#9c179e"
             ],
             [
              0.4444444444444444,
              "#bd3786"
             ],
             [
              0.5555555555555556,
              "#d8576b"
             ],
             [
              0.6666666666666666,
              "#ed7953"
             ],
             [
              0.7777777777777778,
              "#fb9f3a"
             ],
             [
              0.8888888888888888,
              "#fdca26"
             ],
             [
              1,
              "#f0f921"
             ]
            ],
            "type": "heatmap"
           }
          ],
          "heatmapgl": [
           {
            "colorbar": {
             "outlinewidth": 0,
             "ticks": ""
            },
            "colorscale": [
             [
              0,
              "#0d0887"
             ],
             [
              0.1111111111111111,
              "#46039f"
             ],
             [
              0.2222222222222222,
              "#7201a8"
             ],
             [
              0.3333333333333333,
              "#9c179e"
             ],
             [
              0.4444444444444444,
              "#bd3786"
             ],
             [
              0.5555555555555556,
              "#d8576b"
             ],
             [
              0.6666666666666666,
              "#ed7953"
             ],
             [
              0.7777777777777778,
              "#fb9f3a"
             ],
             [
              0.8888888888888888,
              "#fdca26"
             ],
             [
              1,
              "#f0f921"
             ]
            ],
            "type": "heatmapgl"
           }
          ],
          "histogram": [
           {
            "marker": {
             "pattern": {
              "fillmode": "overlay",
              "size": 10,
              "solidity": 0.2
             }
            },
            "type": "histogram"
           }
          ],
          "histogram2d": [
           {
            "colorbar": {
             "outlinewidth": 0,
             "ticks": ""
            },
            "colorscale": [
             [
              0,
              "#0d0887"
             ],
             [
              0.1111111111111111,
              "#46039f"
             ],
             [
              0.2222222222222222,
              "#7201a8"
             ],
             [
              0.3333333333333333,
              "#9c179e"
             ],
             [
              0.4444444444444444,
              "#bd3786"
             ],
             [
              0.5555555555555556,
              "#d8576b"
             ],
             [
              0.6666666666666666,
              "#ed7953"
             ],
             [
              0.7777777777777778,
              "#fb9f3a"
             ],
             [
              0.8888888888888888,
              "#fdca26"
             ],
             [
              1,
              "#f0f921"
             ]
            ],
            "type": "histogram2d"
           }
          ],
          "histogram2dcontour": [
           {
            "colorbar": {
             "outlinewidth": 0,
             "ticks": ""
            },
            "colorscale": [
             [
              0,
              "#0d0887"
             ],
             [
              0.1111111111111111,
              "#46039f"
             ],
             [
              0.2222222222222222,
              "#7201a8"
             ],
             [
              0.3333333333333333,
              "#9c179e"
             ],
             [
              0.4444444444444444,
              "#bd3786"
             ],
             [
              0.5555555555555556,
              "#d8576b"
             ],
             [
              0.6666666666666666,
              "#ed7953"
             ],
             [
              0.7777777777777778,
              "#fb9f3a"
             ],
             [
              0.8888888888888888,
              "#fdca26"
             ],
             [
              1,
              "#f0f921"
             ]
            ],
            "type": "histogram2dcontour"
           }
          ],
          "mesh3d": [
           {
            "colorbar": {
             "outlinewidth": 0,
             "ticks": ""
            },
            "type": "mesh3d"
           }
          ],
          "parcoords": [
           {
            "line": {
             "colorbar": {
              "outlinewidth": 0,
              "ticks": ""
             }
            },
            "type": "parcoords"
           }
          ],
          "pie": [
           {
            "automargin": true,
            "type": "pie"
           }
          ],
          "scatter": [
           {
            "marker": {
             "line": {
              "color": "#283442"
             }
            },
            "type": "scatter"
           }
          ],
          "scatter3d": [
           {
            "line": {
             "colorbar": {
              "outlinewidth": 0,
              "ticks": ""
             }
            },
            "marker": {
             "colorbar": {
              "outlinewidth": 0,
              "ticks": ""
             }
            },
            "type": "scatter3d"
           }
          ],
          "scattercarpet": [
           {
            "marker": {
             "colorbar": {
              "outlinewidth": 0,
              "ticks": ""
             }
            },
            "type": "scattercarpet"
           }
          ],
          "scattergeo": [
           {
            "marker": {
             "colorbar": {
              "outlinewidth": 0,
              "ticks": ""
             }
            },
            "type": "scattergeo"
           }
          ],
          "scattergl": [
           {
            "marker": {
             "line": {
              "color": "#283442"
             }
            },
            "type": "scattergl"
           }
          ],
          "scattermapbox": [
           {
            "marker": {
             "colorbar": {
              "outlinewidth": 0,
              "ticks": ""
             }
            },
            "type": "scattermapbox"
           }
          ],
          "scatterpolar": [
           {
            "marker": {
             "colorbar": {
              "outlinewidth": 0,
              "ticks": ""
             }
            },
            "type": "scatterpolar"
           }
          ],
          "scatterpolargl": [
           {
            "marker": {
             "colorbar": {
              "outlinewidth": 0,
              "ticks": ""
             }
            },
            "type": "scatterpolargl"
           }
          ],
          "scatterternary": [
           {
            "marker": {
             "colorbar": {
              "outlinewidth": 0,
              "ticks": ""
             }
            },
            "type": "scatterternary"
           }
          ],
          "surface": [
           {
            "colorbar": {
             "outlinewidth": 0,
             "ticks": ""
            },
            "colorscale": [
             [
              0,
              "#0d0887"
             ],
             [
              0.1111111111111111,
              "#46039f"
             ],
             [
              0.2222222222222222,
              "#7201a8"
             ],
             [
              0.3333333333333333,
              "#9c179e"
             ],
             [
              0.4444444444444444,
              "#bd3786"
             ],
             [
              0.5555555555555556,
              "#d8576b"
             ],
             [
              0.6666666666666666,
              "#ed7953"
             ],
             [
              0.7777777777777778,
              "#fb9f3a"
             ],
             [
              0.8888888888888888,
              "#fdca26"
             ],
             [
              1,
              "#f0f921"
             ]
            ],
            "type": "surface"
           }
          ],
          "table": [
           {
            "cells": {
             "fill": {
              "color": "#506784"
             },
             "line": {
              "color": "rgb(17,17,17)"
             }
            },
            "header": {
             "fill": {
              "color": "#2a3f5f"
             },
             "line": {
              "color": "rgb(17,17,17)"
             }
            },
            "type": "table"
           }
          ]
         },
         "layout": {
          "annotationdefaults": {
           "arrowcolor": "#f2f5fa",
           "arrowhead": 0,
           "arrowwidth": 1
          },
          "autotypenumbers": "strict",
          "coloraxis": {
           "colorbar": {
            "outlinewidth": 0,
            "ticks": ""
           }
          },
          "colorscale": {
           "diverging": [
            [
             0,
             "#8e0152"
            ],
            [
             0.1,
             "#c51b7d"
            ],
            [
             0.2,
             "#de77ae"
            ],
            [
             0.3,
             "#f1b6da"
            ],
            [
             0.4,
             "#fde0ef"
            ],
            [
             0.5,
             "#f7f7f7"
            ],
            [
             0.6,
             "#e6f5d0"
            ],
            [
             0.7,
             "#b8e186"
            ],
            [
             0.8,
             "#7fbc41"
            ],
            [
             0.9,
             "#4d9221"
            ],
            [
             1,
             "#276419"
            ]
           ],
           "sequential": [
            [
             0,
             "#0d0887"
            ],
            [
             0.1111111111111111,
             "#46039f"
            ],
            [
             0.2222222222222222,
             "#7201a8"
            ],
            [
             0.3333333333333333,
             "#9c179e"
            ],
            [
             0.4444444444444444,
             "#bd3786"
            ],
            [
             0.5555555555555556,
             "#d8576b"
            ],
            [
             0.6666666666666666,
             "#ed7953"
            ],
            [
             0.7777777777777778,
             "#fb9f3a"
            ],
            [
             0.8888888888888888,
             "#fdca26"
            ],
            [
             1,
             "#f0f921"
            ]
           ],
           "sequentialminus": [
            [
             0,
             "#0d0887"
            ],
            [
             0.1111111111111111,
             "#46039f"
            ],
            [
             0.2222222222222222,
             "#7201a8"
            ],
            [
             0.3333333333333333,
             "#9c179e"
            ],
            [
             0.4444444444444444,
             "#bd3786"
            ],
            [
             0.5555555555555556,
             "#d8576b"
            ],
            [
             0.6666666666666666,
             "#ed7953"
            ],
            [
             0.7777777777777778,
             "#fb9f3a"
            ],
            [
             0.8888888888888888,
             "#fdca26"
            ],
            [
             1,
             "#f0f921"
            ]
           ]
          },
          "colorway": [
           "#636efa",
           "#EF553B",
           "#00cc96",
           "#ab63fa",
           "#FFA15A",
           "#19d3f3",
           "#FF6692",
           "#B6E880",
           "#FF97FF",
           "#FECB52"
          ],
          "font": {
           "color": "#f2f5fa"
          },
          "geo": {
           "bgcolor": "rgb(17,17,17)",
           "lakecolor": "rgb(17,17,17)",
           "landcolor": "rgb(17,17,17)",
           "showlakes": true,
           "showland": true,
           "subunitcolor": "#506784"
          },
          "hoverlabel": {
           "align": "left"
          },
          "hovermode": "closest",
          "mapbox": {
           "style": "dark"
          },
          "paper_bgcolor": "rgb(17,17,17)",
          "plot_bgcolor": "rgb(17,17,17)",
          "polar": {
           "angularaxis": {
            "gridcolor": "#506784",
            "linecolor": "#506784",
            "ticks": ""
           },
           "bgcolor": "rgb(17,17,17)",
           "radialaxis": {
            "gridcolor": "#506784",
            "linecolor": "#506784",
            "ticks": ""
           }
          },
          "scene": {
           "xaxis": {
            "backgroundcolor": "rgb(17,17,17)",
            "gridcolor": "#506784",
            "gridwidth": 2,
            "linecolor": "#506784",
            "showbackground": true,
            "ticks": "",
            "zerolinecolor": "#C8D4E3"
           },
           "yaxis": {
            "backgroundcolor": "rgb(17,17,17)",
            "gridcolor": "#506784",
            "gridwidth": 2,
            "linecolor": "#506784",
            "showbackground": true,
            "ticks": "",
            "zerolinecolor": "#C8D4E3"
           },
           "zaxis": {
            "backgroundcolor": "rgb(17,17,17)",
            "gridcolor": "#506784",
            "gridwidth": 2,
            "linecolor": "#506784",
            "showbackground": true,
            "ticks": "",
            "zerolinecolor": "#C8D4E3"
           }
          },
          "shapedefaults": {
           "line": {
            "color": "#f2f5fa"
           }
          },
          "sliderdefaults": {
           "bgcolor": "#C8D4E3",
           "bordercolor": "rgb(17,17,17)",
           "borderwidth": 1,
           "tickwidth": 0
          },
          "ternary": {
           "aaxis": {
            "gridcolor": "#506784",
            "linecolor": "#506784",
            "ticks": ""
           },
           "baxis": {
            "gridcolor": "#506784",
            "linecolor": "#506784",
            "ticks": ""
           },
           "bgcolor": "rgb(17,17,17)",
           "caxis": {
            "gridcolor": "#506784",
            "linecolor": "#506784",
            "ticks": ""
           }
          },
          "title": {
           "x": 0.05
          },
          "updatemenudefaults": {
           "bgcolor": "#506784",
           "borderwidth": 0
          },
          "xaxis": {
           "automargin": true,
           "gridcolor": "#283442",
           "linecolor": "#506784",
           "ticks": "",
           "title": {
            "standoff": 15
           },
           "zerolinecolor": "#283442",
           "zerolinewidth": 2
          },
          "yaxis": {
           "automargin": true,
           "gridcolor": "#283442",
           "linecolor": "#506784",
           "ticks": "",
           "title": {
            "standoff": 15
           },
           "zerolinecolor": "#283442",
           "zerolinewidth": 2
          }
         }
        },
        "xaxis": {
         "anchor": "y",
         "domain": [
          0,
          1
         ],
         "title": {
          "text": "Healthy life expectancy"
         }
        },
        "yaxis": {
         "anchor": "x",
         "domain": [
          0,
          1
         ],
         "title": {
          "text": "Ladder score"
         }
        }
       }
      },
      "text/html": [
       "<div>                            <div id=\"84937b42-d54f-44a0-88fe-4723b92f451e\" class=\"plotly-graph-div\" style=\"height:525px; width:100%;\"></div>            <script type=\"text/javascript\">                require([\"plotly\"], function(Plotly) {                    window.PLOTLYENV=window.PLOTLYENV || {};                                    if (document.getElementById(\"84937b42-d54f-44a0-88fe-4723b92f451e\")) {                    Plotly.newPlot(                        \"84937b42-d54f-44a0-88fe-4723b92f451e\",                        [{\"hovertemplate\":\"<b>%{hovertext}</b><br><br>Regional indicator=Western Europe<br>Healthy life expectancy=%{x}<br>Ladder score=%{y}<br>Social support=%{marker.size}<extra></extra>\",\"hovertext\":[\"Finland\",\"Denmark\",\"Switzerland\",\"Iceland\",\"Netherlands\",\"Norway\",\"Sweden\",\"Luxembourg\",\"Austria\",\"Germany\",\"Ireland\",\"United Kingdom\",\"Belgium\",\"France\",\"Malta\",\"Spain\",\"Italy\",\"Cyprus\",\"Portugal\",\"Greece\",\"North Cyprus\"],\"legendgroup\":\"Western Europe\",\"marker\":{\"color\":\"rgb(255,245,235)\",\"size\":[0.954,0.954,0.942,0.983,0.942,0.954,0.934,0.908,0.934,0.903,0.947,0.934,0.906,0.942,0.931,0.932,0.88,0.802,0.879,0.823,0.82],\"sizemode\":\"area\",\"sizeref\":0.0024575,\"symbol\":\"circle\"},\"mode\":\"markers\",\"name\":\"Western Europe\",\"orientation\":\"v\",\"showlegend\":true,\"x\":[72.0,72.7,74.4,73.0,72.4,73.3,72.7,72.6,73.3,72.5,72.4,72.5,72.199,74.0,72.2,74.7,73.8,73.898,72.6,72.6,73.898],\"xaxis\":\"x\",\"y\":[7.842,7.62,7.571,7.554,7.464,7.392,7.363,7.324,7.268,7.155,7.085,7.064,6.834,6.69,6.602,6.491,6.483,6.223,5.929,5.723,5.536],\"yaxis\":\"y\",\"type\":\"scatter\"},{\"hovertemplate\":\"<b>%{hovertext}</b><br><br>Regional indicator=North America and ANZ<br>Healthy life expectancy=%{x}<br>Ladder score=%{y}<br>Social support=%{marker.size}<extra></extra>\",\"hovertext\":[\"New Zealand\",\"Australia\",\"Canada\",\"United States\"],\"legendgroup\":\"North America and ANZ\",\"marker\":{\"color\":\"rgb(254,230,206)\",\"size\":[0.948,0.94,0.926,0.92],\"sizemode\":\"area\",\"sizeref\":0.0024575,\"symbol\":\"circle\"},\"mode\":\"markers\",\"name\":\"North America and ANZ\",\"orientation\":\"v\",\"showlegend\":true,\"x\":[73.4,73.9,73.8,68.2],\"xaxis\":\"x\",\"y\":[7.277,7.183,7.103,6.951],\"yaxis\":\"y\",\"type\":\"scatter\"},{\"hovertemplate\":\"<b>%{hovertext}</b><br><br>Regional indicator=Middle East and North Africa<br>Healthy life expectancy=%{x}<br>Ladder score=%{y}<br>Social support=%{marker.size}<extra></extra>\",\"hovertext\":[\"Israel\",\"Bahrain\",\"United Arab Emirates\",\"Saudi Arabia\",\"Kuwait\",\"Libya\",\"Turkey\",\"Morocco\",\"Algeria\",\"Iraq\",\"Iran\",\"Tunisia\",\"Lebanon\",\"Palestinian Territories\",\"Jordan\",\"Egypt\",\"Yemen\"],\"legendgroup\":\"Middle East and North Africa\",\"marker\":{\"color\":\"rgb(253,208,162)\",\"size\":[0.939,0.862,0.844,0.891,0.843,0.827,0.822,0.56,0.802,0.746,0.71,0.691,0.848,0.826,0.767,0.75,0.832],\"sizemode\":\"area\",\"sizeref\":0.0024575,\"symbol\":\"circle\"},\"mode\":\"markers\",\"name\":\"Middle East and North Africa\",\"orientation\":\"v\",\"showlegend\":true,\"x\":[73.503,69.495,67.333,66.603,66.9,62.3,67.199,66.208,66.005,60.583,66.3,67.201,67.355,62.25,67.0,61.998,57.122],\"xaxis\":\"x\",\"y\":[7.157,6.647,6.561,6.494,6.106,5.41,4.948,4.918,4.887,4.854,4.721,4.596,4.584,4.517,4.395,4.283,3.658],\"yaxis\":\"y\",\"type\":\"scatter\"},{\"hovertemplate\":\"<b>%{hovertext}</b><br><br>Regional indicator=Latin America and Caribbean<br>Healthy life expectancy=%{x}<br>Ladder score=%{y}<br>Social support=%{marker.size}<extra></extra>\",\"hovertext\":[\"Costa Rica\",\"Guatemala\",\"Uruguay\",\"Brazil\",\"Mexico\",\"Jamaica\",\"Panama\",\"Chile\",\"El Salvador\",\"Colombia\",\"Nicaragua\",\"Argentina\",\"Honduras\",\"Peru\",\"Ecuador\",\"Bolivia\",\"Paraguay\",\"Dominican Republic\",\"Venezuela\",\"Haiti\"],\"legendgroup\":\"Latin America and Caribbean\",\"marker\":{\"color\":\"rgb(253,174,107)\",\"size\":[0.891,0.813,0.925,0.882,0.831,0.877,0.896,0.882,0.762,0.847,0.864,0.898,0.812,0.832,0.821,0.81,0.893,0.853,0.861,0.54],\"sizemode\":\"area\",\"sizeref\":0.0024575,\"symbol\":\"circle\"},\"mode\":\"markers\",\"name\":\"Latin America and Caribbean\",\"orientation\":\"v\",\"showlegend\":true,\"x\":[71.4,64.958,69.1,66.601,68.597,67.5,69.652,70.0,66.402,68.001,67.657,69.0,67.3,68.25,68.8,63.901,65.9,66.102,66.7,55.7],\"xaxis\":\"x\",\"y\":[7.069,6.435,6.431,6.33,6.317,6.309,6.18,6.172,6.061,6.012,5.972,5.929,5.919,5.84,5.764,5.716,5.653,5.545,4.892,3.615],\"yaxis\":\"y\",\"type\":\"scatter\"},{\"hovertemplate\":\"<b>%{hovertext}</b><br><br>Regional indicator=Central and Eastern Europe<br>Healthy life expectancy=%{x}<br>Ladder score=%{y}<br>Social support=%{marker.size}<extra></extra>\",\"hovertext\":[\"Czech Republic\",\"Slovenia\",\"Kosovo\",\"Slovakia\",\"Lithuania\",\"Estonia\",\"Poland\",\"Romania\",\"Serbia\",\"Latvia\",\"Hungary\",\"Croatia\",\"Bosnia and Herzegovina\",\"Montenegro\",\"Bulgaria\",\"Albania\",\"North Macedonia\"],\"legendgroup\":\"Central and Eastern Europe\",\"marker\":{\"color\":\"rgb(253,141,60)\",\"size\":[0.947,0.948,0.821,0.936,0.935,0.941,0.898,0.832,0.873,0.927,0.943,0.924,0.87,0.858,0.931,0.697,0.805],\"sizemode\":\"area\",\"sizeref\":0.0024575,\"symbol\":\"circle\"},\"mode\":\"markers\",\"name\":\"Central and Eastern Europe\",\"orientation\":\"v\",\"showlegend\":true,\"x\":[70.807,71.4,63.813,69.201,67.906,68.8,69.702,67.355,68.6,67.1,68.0,70.799,68.098,68.699,67.0,68.999,65.474],\"xaxis\":\"x\",\"y\":[6.965,6.461,6.372,6.331,6.255,6.189,6.166,6.14,6.078,6.032,5.992,5.882,5.813,5.581,5.266,5.117,5.101],\"yaxis\":\"y\",\"type\":\"scatter\"},{\"hovertemplate\":\"<b>%{hovertext}</b><br><br>Regional indicator=East Asia<br>Healthy life expectancy=%{x}<br>Ladder score=%{y}<br>Social support=%{marker.size}<extra></extra>\",\"hovertext\":[\"Taiwan Province of China\",\"Japan\",\"South Korea\",\"Mongolia\",\"Hong Kong S.A.R. of China\",\"China\"],\"legendgroup\":\"East Asia\",\"marker\":{\"color\":\"rgb(241,105,19)\",\"size\":[0.898,0.884,0.799,0.935,0.836,0.811],\"sizemode\":\"area\",\"sizeref\":0.0024575,\"symbol\":\"circle\"},\"mode\":\"markers\",\"name\":\"East Asia\",\"orientation\":\"v\",\"showlegend\":true,\"x\":[69.6,75.1,73.9,62.5,76.82,69.593],\"xaxis\":\"x\",\"y\":[6.584,5.94,5.845,5.677,5.477,5.339],\"yaxis\":\"y\",\"type\":\"scatter\"},{\"hovertemplate\":\"<b>%{hovertext}</b><br><br>Regional indicator=Southeast Asia<br>Healthy life expectancy=%{x}<br>Ladder score=%{y}<br>Social support=%{marker.size}<extra></extra>\",\"hovertext\":[\"Singapore\",\"Thailand\",\"Philippines\",\"Vietnam\",\"Malaysia\",\"Indonesia\",\"Laos\",\"Cambodia\",\"Myanmar\"],\"legendgroup\":\"Southeast Asia\",\"marker\":{\"color\":\"rgb(217,72,1)\",\"size\":[0.915,0.888,0.83,0.85,0.817,0.811,0.728,0.765,0.779],\"sizemode\":\"area\",\"sizeref\":0.0024575,\"symbol\":\"circle\"},\"mode\":\"markers\",\"name\":\"Southeast Asia\",\"orientation\":\"v\",\"showlegend\":true,\"x\":[76.953,67.401,62.0,68.034,67.102,62.236,58.968,62.0,59.302],\"xaxis\":\"x\",\"y\":[6.377,5.985,5.88,5.411,5.384,5.345,5.03,4.83,4.426],\"yaxis\":\"y\",\"type\":\"scatter\"},{\"hovertemplate\":\"<b>%{hovertext}</b><br><br>Regional indicator=Commonwealth of Independent States<br>Healthy life expectancy=%{x}<br>Ladder score=%{y}<br>Social support=%{marker.size}<extra></extra>\",\"hovertext\":[\"Uzbekistan\",\"Kazakhstan\",\"Moldova\",\"Kyrgyzstan\",\"Belarus\",\"Russia\",\"Tajikistan\",\"Armenia\",\"Azerbaijan\",\"Turkmenistan\",\"Georgia\",\"Ukraine\"],\"legendgroup\":\"Commonwealth of Independent States\",\"marker\":{\"color\":\"rgb(166,54,3)\",\"size\":[0.918,0.952,0.857,0.893,0.91,0.903,0.86,0.799,0.836,0.983,0.671,0.888],\"sizemode\":\"area\",\"sizeref\":0.0024575,\"symbol\":\"circle\"},\"mode\":\"markers\",\"name\":\"Commonwealth of Independent States\",\"orientation\":\"v\",\"showlegend\":true,\"x\":[65.255,65.2,65.699,64.401,66.253,64.703,64.281,67.055,65.656,62.409,64.3,64.902],\"xaxis\":\"x\",\"y\":[6.179,6.152,5.766,5.744,5.534,5.477,5.466,5.283,5.171,5.066,4.891,4.875],\"yaxis\":\"y\",\"type\":\"scatter\"},{\"hovertemplate\":\"<b>%{hovertext}</b><br><br>Regional indicator=Sub-Saharan Africa<br>Healthy life expectancy=%{x}<br>Ladder score=%{y}<br>Social support=%{marker.size}<extra></extra>\",\"hovertext\":[\"Mauritius\",\"Congo (Brazzaville)\",\"Ivory Coast\",\"Cameroon\",\"Senegal\",\"Ghana\",\"Niger\",\"Gambia\",\"Benin\",\"Guinea\",\"South Africa\",\"Gabon\",\"Burkina Faso\",\"Mozambique\",\"Nigeria\",\"Mali\",\"Uganda\",\"Liberia\",\"Kenya\",\"Namibia\",\"Chad\",\"Swaziland\",\"Comoros\",\"Ethiopia\",\"Mauritania\",\"Madagascar\",\"Togo\",\"Zambia\",\"Sierra Leone\",\"Burundi\",\"Tanzania\",\"Malawi\",\"Lesotho\",\"Botswana\",\"Rwanda\",\"Zimbabwe\"],\"legendgroup\":\"Sub-Saharan Africa\",\"marker\":{\"color\":\"rgb(127,39,4)\",\"size\":[0.905,0.636,0.644,0.71,0.71,0.727,0.641,0.69,0.489,0.639,0.86,0.776,0.672,0.744,0.74,0.724,0.781,0.72,0.688,0.818,0.619,0.77,0.626,0.764,0.795,0.686,0.569,0.708,0.63,0.49,0.702,0.537,0.787,0.784,0.552,0.75],\"sizemode\":\"area\",\"sizeref\":0.0024575,\"symbol\":\"circle\"},\"mode\":\"markers\",\"name\":\"Sub-Saharan Africa\",\"orientation\":\"v\",\"showlegend\":true,\"x\":[66.701,58.221,50.114,53.515,59.802,57.586,53.78,55.16,54.713,55.008,56.904,59.962,54.151,54.706,50.102,51.969,56.101,56.498,60.704,56.799,48.478,50.833,57.349,59.0,57.161,59.305,54.914,55.809,51.651,53.4,57.999,57.948,48.7,59.269,61.4,56.201],\"xaxis\":\"x\",\"y\":[6.049,5.342,5.306,5.142,5.132,5.088,5.074,5.051,5.045,4.984,4.956,4.852,4.834,4.794,4.759,4.723,4.636,4.625,4.607,4.574,4.355,4.308,4.289,4.275,4.227,4.208,4.107,4.073,3.849,3.775,3.623,3.6,3.512,3.467,3.415,3.145],\"yaxis\":\"y\",\"type\":\"scatter\"},{\"hovertemplate\":\"<b>%{hovertext}</b><br><br>Regional indicator=South Asia<br>Healthy life expectancy=%{x}<br>Ladder score=%{y}<br>Social support=%{marker.size}<extra></extra>\",\"hovertext\":[\"Nepal\",\"Maldives\",\"Bangladesh\",\"Pakistan\",\"Sri Lanka\",\"India\",\"Afghanistan\"],\"legendgroup\":\"South Asia\",\"marker\":{\"color\":\"rgb(255,245,235)\",\"size\":[0.774,0.913,0.693,0.651,0.827,0.603,0.463],\"sizemode\":\"area\",\"sizeref\":0.0024575,\"symbol\":\"circle\"},\"mode\":\"markers\",\"name\":\"South Asia\",\"orientation\":\"v\",\"showlegend\":true,\"x\":[64.233,70.6,64.8,58.709,67.299,60.633,52.493],\"xaxis\":\"x\",\"y\":[5.269,5.198,5.025,4.934,4.325,3.819,2.523],\"yaxis\":\"y\",\"type\":\"scatter\"}],                        {\"template\":{\"data\":{\"barpolar\":[{\"marker\":{\"line\":{\"color\":\"rgb(17,17,17)\",\"width\":0.5},\"pattern\":{\"fillmode\":\"overlay\",\"size\":10,\"solidity\":0.2}},\"type\":\"barpolar\"}],\"bar\":[{\"error_x\":{\"color\":\"#f2f5fa\"},\"error_y\":{\"color\":\"#f2f5fa\"},\"marker\":{\"line\":{\"color\":\"rgb(17,17,17)\",\"width\":0.5},\"pattern\":{\"fillmode\":\"overlay\",\"size\":10,\"solidity\":0.2}},\"type\":\"bar\"}],\"carpet\":[{\"aaxis\":{\"endlinecolor\":\"#A2B1C6\",\"gridcolor\":\"#506784\",\"linecolor\":\"#506784\",\"minorgridcolor\":\"#506784\",\"startlinecolor\":\"#A2B1C6\"},\"baxis\":{\"endlinecolor\":\"#A2B1C6\",\"gridcolor\":\"#506784\",\"linecolor\":\"#506784\",\"minorgridcolor\":\"#506784\",\"startlinecolor\":\"#A2B1C6\"},\"type\":\"carpet\"}],\"choropleth\":[{\"colorbar\":{\"outlinewidth\":0,\"ticks\":\"\"},\"type\":\"choropleth\"}],\"contourcarpet\":[{\"colorbar\":{\"outlinewidth\":0,\"ticks\":\"\"},\"type\":\"contourcarpet\"}],\"contour\":[{\"colorbar\":{\"outlinewidth\":0,\"ticks\":\"\"},\"colorscale\":[[0.0,\"#0d0887\"],[0.1111111111111111,\"#46039f\"],[0.2222222222222222,\"#7201a8\"],[0.3333333333333333,\"#9c179e\"],[0.4444444444444444,\"#bd3786\"],[0.5555555555555556,\"#d8576b\"],[0.6666666666666666,\"#ed7953\"],[0.7777777777777778,\"#fb9f3a\"],[0.8888888888888888,\"#fdca26\"],[1.0,\"#f0f921\"]],\"type\":\"contour\"}],\"heatmapgl\":[{\"colorbar\":{\"outlinewidth\":0,\"ticks\":\"\"},\"colorscale\":[[0.0,\"#0d0887\"],[0.1111111111111111,\"#46039f\"],[0.2222222222222222,\"#7201a8\"],[0.3333333333333333,\"#9c179e\"],[0.4444444444444444,\"#bd3786\"],[0.5555555555555556,\"#d8576b\"],[0.6666666666666666,\"#ed7953\"],[0.7777777777777778,\"#fb9f3a\"],[0.8888888888888888,\"#fdca26\"],[1.0,\"#f0f921\"]],\"type\":\"heatmapgl\"}],\"heatmap\":[{\"colorbar\":{\"outlinewidth\":0,\"ticks\":\"\"},\"colorscale\":[[0.0,\"#0d0887\"],[0.1111111111111111,\"#46039f\"],[0.2222222222222222,\"#7201a8\"],[0.3333333333333333,\"#9c179e\"],[0.4444444444444444,\"#bd3786\"],[0.5555555555555556,\"#d8576b\"],[0.6666666666666666,\"#ed7953\"],[0.7777777777777778,\"#fb9f3a\"],[0.8888888888888888,\"#fdca26\"],[1.0,\"#f0f921\"]],\"type\":\"heatmap\"}],\"histogram2dcontour\":[{\"colorbar\":{\"outlinewidth\":0,\"ticks\":\"\"},\"colorscale\":[[0.0,\"#0d0887\"],[0.1111111111111111,\"#46039f\"],[0.2222222222222222,\"#7201a8\"],[0.3333333333333333,\"#9c179e\"],[0.4444444444444444,\"#bd3786\"],[0.5555555555555556,\"#d8576b\"],[0.6666666666666666,\"#ed7953\"],[0.7777777777777778,\"#fb9f3a\"],[0.8888888888888888,\"#fdca26\"],[1.0,\"#f0f921\"]],\"type\":\"histogram2dcontour\"}],\"histogram2d\":[{\"colorbar\":{\"outlinewidth\":0,\"ticks\":\"\"},\"colorscale\":[[0.0,\"#0d0887\"],[0.1111111111111111,\"#46039f\"],[0.2222222222222222,\"#7201a8\"],[0.3333333333333333,\"#9c179e\"],[0.4444444444444444,\"#bd3786\"],[0.5555555555555556,\"#d8576b\"],[0.6666666666666666,\"#ed7953\"],[0.7777777777777778,\"#fb9f3a\"],[0.8888888888888888,\"#fdca26\"],[1.0,\"#f0f921\"]],\"type\":\"histogram2d\"}],\"histogram\":[{\"marker\":{\"pattern\":{\"fillmode\":\"overlay\",\"size\":10,\"solidity\":0.2}},\"type\":\"histogram\"}],\"mesh3d\":[{\"colorbar\":{\"outlinewidth\":0,\"ticks\":\"\"},\"type\":\"mesh3d\"}],\"parcoords\":[{\"line\":{\"colorbar\":{\"outlinewidth\":0,\"ticks\":\"\"}},\"type\":\"parcoords\"}],\"pie\":[{\"automargin\":true,\"type\":\"pie\"}],\"scatter3d\":[{\"line\":{\"colorbar\":{\"outlinewidth\":0,\"ticks\":\"\"}},\"marker\":{\"colorbar\":{\"outlinewidth\":0,\"ticks\":\"\"}},\"type\":\"scatter3d\"}],\"scattercarpet\":[{\"marker\":{\"colorbar\":{\"outlinewidth\":0,\"ticks\":\"\"}},\"type\":\"scattercarpet\"}],\"scattergeo\":[{\"marker\":{\"colorbar\":{\"outlinewidth\":0,\"ticks\":\"\"}},\"type\":\"scattergeo\"}],\"scattergl\":[{\"marker\":{\"line\":{\"color\":\"#283442\"}},\"type\":\"scattergl\"}],\"scattermapbox\":[{\"marker\":{\"colorbar\":{\"outlinewidth\":0,\"ticks\":\"\"}},\"type\":\"scattermapbox\"}],\"scatterpolargl\":[{\"marker\":{\"colorbar\":{\"outlinewidth\":0,\"ticks\":\"\"}},\"type\":\"scatterpolargl\"}],\"scatterpolar\":[{\"marker\":{\"colorbar\":{\"outlinewidth\":0,\"ticks\":\"\"}},\"type\":\"scatterpolar\"}],\"scatter\":[{\"marker\":{\"line\":{\"color\":\"#283442\"}},\"type\":\"scatter\"}],\"scatterternary\":[{\"marker\":{\"colorbar\":{\"outlinewidth\":0,\"ticks\":\"\"}},\"type\":\"scatterternary\"}],\"surface\":[{\"colorbar\":{\"outlinewidth\":0,\"ticks\":\"\"},\"colorscale\":[[0.0,\"#0d0887\"],[0.1111111111111111,\"#46039f\"],[0.2222222222222222,\"#7201a8\"],[0.3333333333333333,\"#9c179e\"],[0.4444444444444444,\"#bd3786\"],[0.5555555555555556,\"#d8576b\"],[0.6666666666666666,\"#ed7953\"],[0.7777777777777778,\"#fb9f3a\"],[0.8888888888888888,\"#fdca26\"],[1.0,\"#f0f921\"]],\"type\":\"surface\"}],\"table\":[{\"cells\":{\"fill\":{\"color\":\"#506784\"},\"line\":{\"color\":\"rgb(17,17,17)\"}},\"header\":{\"fill\":{\"color\":\"#2a3f5f\"},\"line\":{\"color\":\"rgb(17,17,17)\"}},\"type\":\"table\"}]},\"layout\":{\"annotationdefaults\":{\"arrowcolor\":\"#f2f5fa\",\"arrowhead\":0,\"arrowwidth\":1},\"autotypenumbers\":\"strict\",\"coloraxis\":{\"colorbar\":{\"outlinewidth\":0,\"ticks\":\"\"}},\"colorscale\":{\"diverging\":[[0,\"#8e0152\"],[0.1,\"#c51b7d\"],[0.2,\"#de77ae\"],[0.3,\"#f1b6da\"],[0.4,\"#fde0ef\"],[0.5,\"#f7f7f7\"],[0.6,\"#e6f5d0\"],[0.7,\"#b8e186\"],[0.8,\"#7fbc41\"],[0.9,\"#4d9221\"],[1,\"#276419\"]],\"sequential\":[[0.0,\"#0d0887\"],[0.1111111111111111,\"#46039f\"],[0.2222222222222222,\"#7201a8\"],[0.3333333333333333,\"#9c179e\"],[0.4444444444444444,\"#bd3786\"],[0.5555555555555556,\"#d8576b\"],[0.6666666666666666,\"#ed7953\"],[0.7777777777777778,\"#fb9f3a\"],[0.8888888888888888,\"#fdca26\"],[1.0,\"#f0f921\"]],\"sequentialminus\":[[0.0,\"#0d0887\"],[0.1111111111111111,\"#46039f\"],[0.2222222222222222,\"#7201a8\"],[0.3333333333333333,\"#9c179e\"],[0.4444444444444444,\"#bd3786\"],[0.5555555555555556,\"#d8576b\"],[0.6666666666666666,\"#ed7953\"],[0.7777777777777778,\"#fb9f3a\"],[0.8888888888888888,\"#fdca26\"],[1.0,\"#f0f921\"]]},\"colorway\":[\"#636efa\",\"#EF553B\",\"#00cc96\",\"#ab63fa\",\"#FFA15A\",\"#19d3f3\",\"#FF6692\",\"#B6E880\",\"#FF97FF\",\"#FECB52\"],\"font\":{\"color\":\"#f2f5fa\"},\"geo\":{\"bgcolor\":\"rgb(17,17,17)\",\"lakecolor\":\"rgb(17,17,17)\",\"landcolor\":\"rgb(17,17,17)\",\"showlakes\":true,\"showland\":true,\"subunitcolor\":\"#506784\"},\"hoverlabel\":{\"align\":\"left\"},\"hovermode\":\"closest\",\"mapbox\":{\"style\":\"dark\"},\"paper_bgcolor\":\"rgb(17,17,17)\",\"plot_bgcolor\":\"rgb(17,17,17)\",\"polar\":{\"angularaxis\":{\"gridcolor\":\"#506784\",\"linecolor\":\"#506784\",\"ticks\":\"\"},\"bgcolor\":\"rgb(17,17,17)\",\"radialaxis\":{\"gridcolor\":\"#506784\",\"linecolor\":\"#506784\",\"ticks\":\"\"}},\"scene\":{\"xaxis\":{\"backgroundcolor\":\"rgb(17,17,17)\",\"gridcolor\":\"#506784\",\"gridwidth\":2,\"linecolor\":\"#506784\",\"showbackground\":true,\"ticks\":\"\",\"zerolinecolor\":\"#C8D4E3\"},\"yaxis\":{\"backgroundcolor\":\"rgb(17,17,17)\",\"gridcolor\":\"#506784\",\"gridwidth\":2,\"linecolor\":\"#506784\",\"showbackground\":true,\"ticks\":\"\",\"zerolinecolor\":\"#C8D4E3\"},\"zaxis\":{\"backgroundcolor\":\"rgb(17,17,17)\",\"gridcolor\":\"#506784\",\"gridwidth\":2,\"linecolor\":\"#506784\",\"showbackground\":true,\"ticks\":\"\",\"zerolinecolor\":\"#C8D4E3\"}},\"shapedefaults\":{\"line\":{\"color\":\"#f2f5fa\"}},\"sliderdefaults\":{\"bgcolor\":\"#C8D4E3\",\"bordercolor\":\"rgb(17,17,17)\",\"borderwidth\":1,\"tickwidth\":0},\"ternary\":{\"aaxis\":{\"gridcolor\":\"#506784\",\"linecolor\":\"#506784\",\"ticks\":\"\"},\"baxis\":{\"gridcolor\":\"#506784\",\"linecolor\":\"#506784\",\"ticks\":\"\"},\"bgcolor\":\"rgb(17,17,17)\",\"caxis\":{\"gridcolor\":\"#506784\",\"linecolor\":\"#506784\",\"ticks\":\"\"}},\"title\":{\"x\":0.05},\"updatemenudefaults\":{\"bgcolor\":\"#506784\",\"borderwidth\":0},\"xaxis\":{\"automargin\":true,\"gridcolor\":\"#283442\",\"linecolor\":\"#506784\",\"ticks\":\"\",\"title\":{\"standoff\":15},\"zerolinecolor\":\"#283442\",\"zerolinewidth\":2},\"yaxis\":{\"automargin\":true,\"gridcolor\":\"#283442\",\"linecolor\":\"#506784\",\"ticks\":\"\",\"title\":{\"standoff\":15},\"zerolinecolor\":\"#283442\",\"zerolinewidth\":2}}},\"xaxis\":{\"anchor\":\"y\",\"domain\":[0.0,1.0],\"title\":{\"text\":\"Healthy life expectancy\"}},\"yaxis\":{\"anchor\":\"x\",\"domain\":[0.0,1.0],\"title\":{\"text\":\"Ladder score\"}},\"legend\":{\"title\":{\"text\":\"Regional indicator\"},\"tracegroupgap\":0,\"itemsizing\":\"constant\"},\"margin\":{\"t\":60}},                        {\"responsive\": true}                    ).then(function(){\n",
       "                            \n",
       "var gd = document.getElementById('84937b42-d54f-44a0-88fe-4723b92f451e');\n",
       "var x = new MutationObserver(function (mutations, observer) {{\n",
       "        var display = window.getComputedStyle(gd).display;\n",
       "        if (!display || display === 'none') {{\n",
       "            console.log([gd, 'removed!']);\n",
       "            Plotly.purge(gd);\n",
       "            observer.disconnect();\n",
       "        }}\n",
       "}});\n",
       "\n",
       "// Listen for the removal of the full notebook cells\n",
       "var notebookContainer = gd.closest('#notebook-container');\n",
       "if (notebookContainer) {{\n",
       "    x.observe(notebookContainer, {childList: true});\n",
       "}}\n",
       "\n",
       "// Listen for the clearing of the current output cell\n",
       "var outputEl = gd.closest('.output');\n",
       "if (outputEl) {{\n",
       "    x.observe(outputEl, {childList: true});\n",
       "}}\n",
       "\n",
       "                        })                };                });            </script>        </div>"
      ]
     },
     "metadata": {},
     "output_type": "display_data"
    }
   ],
   "source": [
    "#Scatter plot Regional indicator\n",
    "fig = px.scatter(df, x=\"Healthy life expectancy\", y=\"Ladder score\", \n",
    "                color=\"Regional indicator\", \n",
    "                color_discrete_sequence = px.colors.sequential.Oranges, \n",
    "                template = 'plotly_dark',\n",
    "                size = 'Social support',\n",
    "                hover_name=\"Country name\")\n",
    "fig.show()"
   ]
  },
  {
   "cell_type": "markdown",
   "id": "c93d5208",
   "metadata": {},
   "source": [
    "### bisa dilihat rata-rata negara sub-sahara africa tingkat harapan hidup paling rendah sedangkan western Europe rata-rata negara  tingkat harapan hidup paling tinggi"
   ]
  },
  {
   "cell_type": "code",
   "execution_count": 90,
   "id": "e52d47aa",
   "metadata": {},
   "outputs": [
    {
     "data": {
      "application/vnd.plotly.v1+json": {
       "config": {
        "plotlyServerURL": "https://plot.ly"
       },
       "data": [
        {
         "hovertemplate": "<b>%{hovertext}</b><br><br>Country name=Singapore<br>Healthy life expectancy=%{x}<br>Ladder score=%{y}<br>Social support=%{marker.size}<extra></extra>",
         "hovertext": [
          "Singapore"
         ],
         "legendgroup": "Singapore",
         "marker": {
          "color": "rgb(255,245,235)",
          "size": [
           0.915
          ],
          "sizemode": "area",
          "sizeref": 0.0022875,
          "symbol": "circle"
         },
         "mode": "markers",
         "name": "Singapore",
         "orientation": "v",
         "showlegend": true,
         "type": "scatter",
         "x": [
          76.953
         ],
         "xaxis": "x",
         "y": [
          6.377
         ],
         "yaxis": "y"
        },
        {
         "hovertemplate": "<b>%{hovertext}</b><br><br>Country name=Thailand<br>Healthy life expectancy=%{x}<br>Ladder score=%{y}<br>Social support=%{marker.size}<extra></extra>",
         "hovertext": [
          "Thailand"
         ],
         "legendgroup": "Thailand",
         "marker": {
          "color": "rgb(254,230,206)",
          "size": [
           0.888
          ],
          "sizemode": "area",
          "sizeref": 0.0022875,
          "symbol": "circle"
         },
         "mode": "markers",
         "name": "Thailand",
         "orientation": "v",
         "showlegend": true,
         "type": "scatter",
         "x": [
          67.401
         ],
         "xaxis": "x",
         "y": [
          5.985
         ],
         "yaxis": "y"
        },
        {
         "hovertemplate": "<b>%{hovertext}</b><br><br>Country name=Philippines<br>Healthy life expectancy=%{x}<br>Ladder score=%{y}<br>Social support=%{marker.size}<extra></extra>",
         "hovertext": [
          "Philippines"
         ],
         "legendgroup": "Philippines",
         "marker": {
          "color": "rgb(253,208,162)",
          "size": [
           0.83
          ],
          "sizemode": "area",
          "sizeref": 0.0022875,
          "symbol": "circle"
         },
         "mode": "markers",
         "name": "Philippines",
         "orientation": "v",
         "showlegend": true,
         "type": "scatter",
         "x": [
          62
         ],
         "xaxis": "x",
         "y": [
          5.88
         ],
         "yaxis": "y"
        },
        {
         "hovertemplate": "<b>%{hovertext}</b><br><br>Country name=Vietnam<br>Healthy life expectancy=%{x}<br>Ladder score=%{y}<br>Social support=%{marker.size}<extra></extra>",
         "hovertext": [
          "Vietnam"
         ],
         "legendgroup": "Vietnam",
         "marker": {
          "color": "rgb(253,174,107)",
          "size": [
           0.85
          ],
          "sizemode": "area",
          "sizeref": 0.0022875,
          "symbol": "circle"
         },
         "mode": "markers",
         "name": "Vietnam",
         "orientation": "v",
         "showlegend": true,
         "type": "scatter",
         "x": [
          68.034
         ],
         "xaxis": "x",
         "y": [
          5.411
         ],
         "yaxis": "y"
        },
        {
         "hovertemplate": "<b>%{hovertext}</b><br><br>Country name=Malaysia<br>Healthy life expectancy=%{x}<br>Ladder score=%{y}<br>Social support=%{marker.size}<extra></extra>",
         "hovertext": [
          "Malaysia"
         ],
         "legendgroup": "Malaysia",
         "marker": {
          "color": "rgb(253,141,60)",
          "size": [
           0.817
          ],
          "sizemode": "area",
          "sizeref": 0.0022875,
          "symbol": "circle"
         },
         "mode": "markers",
         "name": "Malaysia",
         "orientation": "v",
         "showlegend": true,
         "type": "scatter",
         "x": [
          67.102
         ],
         "xaxis": "x",
         "y": [
          5.384
         ],
         "yaxis": "y"
        },
        {
         "hovertemplate": "<b>%{hovertext}</b><br><br>Country name=Indonesia<br>Healthy life expectancy=%{x}<br>Ladder score=%{y}<br>Social support=%{marker.size}<extra></extra>",
         "hovertext": [
          "Indonesia"
         ],
         "legendgroup": "Indonesia",
         "marker": {
          "color": "rgb(241,105,19)",
          "size": [
           0.811
          ],
          "sizemode": "area",
          "sizeref": 0.0022875,
          "symbol": "circle"
         },
         "mode": "markers",
         "name": "Indonesia",
         "orientation": "v",
         "showlegend": true,
         "type": "scatter",
         "x": [
          62.236
         ],
         "xaxis": "x",
         "y": [
          5.345
         ],
         "yaxis": "y"
        },
        {
         "hovertemplate": "<b>%{hovertext}</b><br><br>Country name=Laos<br>Healthy life expectancy=%{x}<br>Ladder score=%{y}<br>Social support=%{marker.size}<extra></extra>",
         "hovertext": [
          "Laos"
         ],
         "legendgroup": "Laos",
         "marker": {
          "color": "rgb(217,72,1)",
          "size": [
           0.728
          ],
          "sizemode": "area",
          "sizeref": 0.0022875,
          "symbol": "circle"
         },
         "mode": "markers",
         "name": "Laos",
         "orientation": "v",
         "showlegend": true,
         "type": "scatter",
         "x": [
          58.968
         ],
         "xaxis": "x",
         "y": [
          5.03
         ],
         "yaxis": "y"
        },
        {
         "hovertemplate": "<b>%{hovertext}</b><br><br>Country name=Cambodia<br>Healthy life expectancy=%{x}<br>Ladder score=%{y}<br>Social support=%{marker.size}<extra></extra>",
         "hovertext": [
          "Cambodia"
         ],
         "legendgroup": "Cambodia",
         "marker": {
          "color": "rgb(166,54,3)",
          "size": [
           0.765
          ],
          "sizemode": "area",
          "sizeref": 0.0022875,
          "symbol": "circle"
         },
         "mode": "markers",
         "name": "Cambodia",
         "orientation": "v",
         "showlegend": true,
         "type": "scatter",
         "x": [
          62
         ],
         "xaxis": "x",
         "y": [
          4.83
         ],
         "yaxis": "y"
        },
        {
         "hovertemplate": "<b>%{hovertext}</b><br><br>Country name=Myanmar<br>Healthy life expectancy=%{x}<br>Ladder score=%{y}<br>Social support=%{marker.size}<extra></extra>",
         "hovertext": [
          "Myanmar"
         ],
         "legendgroup": "Myanmar",
         "marker": {
          "color": "rgb(127,39,4)",
          "size": [
           0.779
          ],
          "sizemode": "area",
          "sizeref": 0.0022875,
          "symbol": "circle"
         },
         "mode": "markers",
         "name": "Myanmar",
         "orientation": "v",
         "showlegend": true,
         "type": "scatter",
         "x": [
          59.302
         ],
         "xaxis": "x",
         "y": [
          4.426
         ],
         "yaxis": "y"
        }
       ],
       "layout": {
        "legend": {
         "itemsizing": "constant",
         "title": {
          "text": "Country name"
         },
         "tracegroupgap": 0
        },
        "margin": {
         "t": 60
        },
        "template": {
         "data": {
          "bar": [
           {
            "error_x": {
             "color": "#f2f5fa"
            },
            "error_y": {
             "color": "#f2f5fa"
            },
            "marker": {
             "line": {
              "color": "rgb(17,17,17)",
              "width": 0.5
             },
             "pattern": {
              "fillmode": "overlay",
              "size": 10,
              "solidity": 0.2
             }
            },
            "type": "bar"
           }
          ],
          "barpolar": [
           {
            "marker": {
             "line": {
              "color": "rgb(17,17,17)",
              "width": 0.5
             },
             "pattern": {
              "fillmode": "overlay",
              "size": 10,
              "solidity": 0.2
             }
            },
            "type": "barpolar"
           }
          ],
          "carpet": [
           {
            "aaxis": {
             "endlinecolor": "#A2B1C6",
             "gridcolor": "#506784",
             "linecolor": "#506784",
             "minorgridcolor": "#506784",
             "startlinecolor": "#A2B1C6"
            },
            "baxis": {
             "endlinecolor": "#A2B1C6",
             "gridcolor": "#506784",
             "linecolor": "#506784",
             "minorgridcolor": "#506784",
             "startlinecolor": "#A2B1C6"
            },
            "type": "carpet"
           }
          ],
          "choropleth": [
           {
            "colorbar": {
             "outlinewidth": 0,
             "ticks": ""
            },
            "type": "choropleth"
           }
          ],
          "contour": [
           {
            "colorbar": {
             "outlinewidth": 0,
             "ticks": ""
            },
            "colorscale": [
             [
              0,
              "#0d0887"
             ],
             [
              0.1111111111111111,
              "#46039f"
             ],
             [
              0.2222222222222222,
              "#7201a8"
             ],
             [
              0.3333333333333333,
              "#9c179e"
             ],
             [
              0.4444444444444444,
              "#bd3786"
             ],
             [
              0.5555555555555556,
              "#d8576b"
             ],
             [
              0.6666666666666666,
              "#ed7953"
             ],
             [
              0.7777777777777778,
              "#fb9f3a"
             ],
             [
              0.8888888888888888,
              "#fdca26"
             ],
             [
              1,
              "#f0f921"
             ]
            ],
            "type": "contour"
           }
          ],
          "contourcarpet": [
           {
            "colorbar": {
             "outlinewidth": 0,
             "ticks": ""
            },
            "type": "contourcarpet"
           }
          ],
          "heatmap": [
           {
            "colorbar": {
             "outlinewidth": 0,
             "ticks": ""
            },
            "colorscale": [
             [
              0,
              "#0d0887"
             ],
             [
              0.1111111111111111,
              "#46039f"
             ],
             [
              0.2222222222222222,
              "#7201a8"
             ],
             [
              0.3333333333333333,
              "#9c179e"
             ],
             [
              0.4444444444444444,
              "#bd3786"
             ],
             [
              0.5555555555555556,
              "#d8576b"
             ],
             [
              0.6666666666666666,
              "#ed7953"
             ],
             [
              0.7777777777777778,
              "#fb9f3a"
             ],
             [
              0.8888888888888888,
              "#fdca26"
             ],
             [
              1,
              "#f0f921"
             ]
            ],
            "type": "heatmap"
           }
          ],
          "heatmapgl": [
           {
            "colorbar": {
             "outlinewidth": 0,
             "ticks": ""
            },
            "colorscale": [
             [
              0,
              "#0d0887"
             ],
             [
              0.1111111111111111,
              "#46039f"
             ],
             [
              0.2222222222222222,
              "#7201a8"
             ],
             [
              0.3333333333333333,
              "#9c179e"
             ],
             [
              0.4444444444444444,
              "#bd3786"
             ],
             [
              0.5555555555555556,
              "#d8576b"
             ],
             [
              0.6666666666666666,
              "#ed7953"
             ],
             [
              0.7777777777777778,
              "#fb9f3a"
             ],
             [
              0.8888888888888888,
              "#fdca26"
             ],
             [
              1,
              "#f0f921"
             ]
            ],
            "type": "heatmapgl"
           }
          ],
          "histogram": [
           {
            "marker": {
             "pattern": {
              "fillmode": "overlay",
              "size": 10,
              "solidity": 0.2
             }
            },
            "type": "histogram"
           }
          ],
          "histogram2d": [
           {
            "colorbar": {
             "outlinewidth": 0,
             "ticks": ""
            },
            "colorscale": [
             [
              0,
              "#0d0887"
             ],
             [
              0.1111111111111111,
              "#46039f"
             ],
             [
              0.2222222222222222,
              "#7201a8"
             ],
             [
              0.3333333333333333,
              "#9c179e"
             ],
             [
              0.4444444444444444,
              "#bd3786"
             ],
             [
              0.5555555555555556,
              "#d8576b"
             ],
             [
              0.6666666666666666,
              "#ed7953"
             ],
             [
              0.7777777777777778,
              "#fb9f3a"
             ],
             [
              0.8888888888888888,
              "#fdca26"
             ],
             [
              1,
              "#f0f921"
             ]
            ],
            "type": "histogram2d"
           }
          ],
          "histogram2dcontour": [
           {
            "colorbar": {
             "outlinewidth": 0,
             "ticks": ""
            },
            "colorscale": [
             [
              0,
              "#0d0887"
             ],
             [
              0.1111111111111111,
              "#46039f"
             ],
             [
              0.2222222222222222,
              "#7201a8"
             ],
             [
              0.3333333333333333,
              "#9c179e"
             ],
             [
              0.4444444444444444,
              "#bd3786"
             ],
             [
              0.5555555555555556,
              "#d8576b"
             ],
             [
              0.6666666666666666,
              "#ed7953"
             ],
             [
              0.7777777777777778,
              "#fb9f3a"
             ],
             [
              0.8888888888888888,
              "#fdca26"
             ],
             [
              1,
              "#f0f921"
             ]
            ],
            "type": "histogram2dcontour"
           }
          ],
          "mesh3d": [
           {
            "colorbar": {
             "outlinewidth": 0,
             "ticks": ""
            },
            "type": "mesh3d"
           }
          ],
          "parcoords": [
           {
            "line": {
             "colorbar": {
              "outlinewidth": 0,
              "ticks": ""
             }
            },
            "type": "parcoords"
           }
          ],
          "pie": [
           {
            "automargin": true,
            "type": "pie"
           }
          ],
          "scatter": [
           {
            "marker": {
             "line": {
              "color": "#283442"
             }
            },
            "type": "scatter"
           }
          ],
          "scatter3d": [
           {
            "line": {
             "colorbar": {
              "outlinewidth": 0,
              "ticks": ""
             }
            },
            "marker": {
             "colorbar": {
              "outlinewidth": 0,
              "ticks": ""
             }
            },
            "type": "scatter3d"
           }
          ],
          "scattercarpet": [
           {
            "marker": {
             "colorbar": {
              "outlinewidth": 0,
              "ticks": ""
             }
            },
            "type": "scattercarpet"
           }
          ],
          "scattergeo": [
           {
            "marker": {
             "colorbar": {
              "outlinewidth": 0,
              "ticks": ""
             }
            },
            "type": "scattergeo"
           }
          ],
          "scattergl": [
           {
            "marker": {
             "line": {
              "color": "#283442"
             }
            },
            "type": "scattergl"
           }
          ],
          "scattermapbox": [
           {
            "marker": {
             "colorbar": {
              "outlinewidth": 0,
              "ticks": ""
             }
            },
            "type": "scattermapbox"
           }
          ],
          "scatterpolar": [
           {
            "marker": {
             "colorbar": {
              "outlinewidth": 0,
              "ticks": ""
             }
            },
            "type": "scatterpolar"
           }
          ],
          "scatterpolargl": [
           {
            "marker": {
             "colorbar": {
              "outlinewidth": 0,
              "ticks": ""
             }
            },
            "type": "scatterpolargl"
           }
          ],
          "scatterternary": [
           {
            "marker": {
             "colorbar": {
              "outlinewidth": 0,
              "ticks": ""
             }
            },
            "type": "scatterternary"
           }
          ],
          "surface": [
           {
            "colorbar": {
             "outlinewidth": 0,
             "ticks": ""
            },
            "colorscale": [
             [
              0,
              "#0d0887"
             ],
             [
              0.1111111111111111,
              "#46039f"
             ],
             [
              0.2222222222222222,
              "#7201a8"
             ],
             [
              0.3333333333333333,
              "#9c179e"
             ],
             [
              0.4444444444444444,
              "#bd3786"
             ],
             [
              0.5555555555555556,
              "#d8576b"
             ],
             [
              0.6666666666666666,
              "#ed7953"
             ],
             [
              0.7777777777777778,
              "#fb9f3a"
             ],
             [
              0.8888888888888888,
              "#fdca26"
             ],
             [
              1,
              "#f0f921"
             ]
            ],
            "type": "surface"
           }
          ],
          "table": [
           {
            "cells": {
             "fill": {
              "color": "#506784"
             },
             "line": {
              "color": "rgb(17,17,17)"
             }
            },
            "header": {
             "fill": {
              "color": "#2a3f5f"
             },
             "line": {
              "color": "rgb(17,17,17)"
             }
            },
            "type": "table"
           }
          ]
         },
         "layout": {
          "annotationdefaults": {
           "arrowcolor": "#f2f5fa",
           "arrowhead": 0,
           "arrowwidth": 1
          },
          "autotypenumbers": "strict",
          "coloraxis": {
           "colorbar": {
            "outlinewidth": 0,
            "ticks": ""
           }
          },
          "colorscale": {
           "diverging": [
            [
             0,
             "#8e0152"
            ],
            [
             0.1,
             "#c51b7d"
            ],
            [
             0.2,
             "#de77ae"
            ],
            [
             0.3,
             "#f1b6da"
            ],
            [
             0.4,
             "#fde0ef"
            ],
            [
             0.5,
             "#f7f7f7"
            ],
            [
             0.6,
             "#e6f5d0"
            ],
            [
             0.7,
             "#b8e186"
            ],
            [
             0.8,
             "#7fbc41"
            ],
            [
             0.9,
             "#4d9221"
            ],
            [
             1,
             "#276419"
            ]
           ],
           "sequential": [
            [
             0,
             "#0d0887"
            ],
            [
             0.1111111111111111,
             "#46039f"
            ],
            [
             0.2222222222222222,
             "#7201a8"
            ],
            [
             0.3333333333333333,
             "#9c179e"
            ],
            [
             0.4444444444444444,
             "#bd3786"
            ],
            [
             0.5555555555555556,
             "#d8576b"
            ],
            [
             0.6666666666666666,
             "#ed7953"
            ],
            [
             0.7777777777777778,
             "#fb9f3a"
            ],
            [
             0.8888888888888888,
             "#fdca26"
            ],
            [
             1,
             "#f0f921"
            ]
           ],
           "sequentialminus": [
            [
             0,
             "#0d0887"
            ],
            [
             0.1111111111111111,
             "#46039f"
            ],
            [
             0.2222222222222222,
             "#7201a8"
            ],
            [
             0.3333333333333333,
             "#9c179e"
            ],
            [
             0.4444444444444444,
             "#bd3786"
            ],
            [
             0.5555555555555556,
             "#d8576b"
            ],
            [
             0.6666666666666666,
             "#ed7953"
            ],
            [
             0.7777777777777778,
             "#fb9f3a"
            ],
            [
             0.8888888888888888,
             "#fdca26"
            ],
            [
             1,
             "#f0f921"
            ]
           ]
          },
          "colorway": [
           "#636efa",
           "#EF553B",
           "#00cc96",
           "#ab63fa",
           "#FFA15A",
           "#19d3f3",
           "#FF6692",
           "#B6E880",
           "#FF97FF",
           "#FECB52"
          ],
          "font": {
           "color": "#f2f5fa"
          },
          "geo": {
           "bgcolor": "rgb(17,17,17)",
           "lakecolor": "rgb(17,17,17)",
           "landcolor": "rgb(17,17,17)",
           "showlakes": true,
           "showland": true,
           "subunitcolor": "#506784"
          },
          "hoverlabel": {
           "align": "left"
          },
          "hovermode": "closest",
          "mapbox": {
           "style": "dark"
          },
          "paper_bgcolor": "rgb(17,17,17)",
          "plot_bgcolor": "rgb(17,17,17)",
          "polar": {
           "angularaxis": {
            "gridcolor": "#506784",
            "linecolor": "#506784",
            "ticks": ""
           },
           "bgcolor": "rgb(17,17,17)",
           "radialaxis": {
            "gridcolor": "#506784",
            "linecolor": "#506784",
            "ticks": ""
           }
          },
          "scene": {
           "xaxis": {
            "backgroundcolor": "rgb(17,17,17)",
            "gridcolor": "#506784",
            "gridwidth": 2,
            "linecolor": "#506784",
            "showbackground": true,
            "ticks": "",
            "zerolinecolor": "#C8D4E3"
           },
           "yaxis": {
            "backgroundcolor": "rgb(17,17,17)",
            "gridcolor": "#506784",
            "gridwidth": 2,
            "linecolor": "#506784",
            "showbackground": true,
            "ticks": "",
            "zerolinecolor": "#C8D4E3"
           },
           "zaxis": {
            "backgroundcolor": "rgb(17,17,17)",
            "gridcolor": "#506784",
            "gridwidth": 2,
            "linecolor": "#506784",
            "showbackground": true,
            "ticks": "",
            "zerolinecolor": "#C8D4E3"
           }
          },
          "shapedefaults": {
           "line": {
            "color": "#f2f5fa"
           }
          },
          "sliderdefaults": {
           "bgcolor": "#C8D4E3",
           "bordercolor": "rgb(17,17,17)",
           "borderwidth": 1,
           "tickwidth": 0
          },
          "ternary": {
           "aaxis": {
            "gridcolor": "#506784",
            "linecolor": "#506784",
            "ticks": ""
           },
           "baxis": {
            "gridcolor": "#506784",
            "linecolor": "#506784",
            "ticks": ""
           },
           "bgcolor": "rgb(17,17,17)",
           "caxis": {
            "gridcolor": "#506784",
            "linecolor": "#506784",
            "ticks": ""
           }
          },
          "title": {
           "x": 0.05
          },
          "updatemenudefaults": {
           "bgcolor": "#506784",
           "borderwidth": 0
          },
          "xaxis": {
           "automargin": true,
           "gridcolor": "#283442",
           "linecolor": "#506784",
           "ticks": "",
           "title": {
            "standoff": 15
           },
           "zerolinecolor": "#283442",
           "zerolinewidth": 2
          },
          "yaxis": {
           "automargin": true,
           "gridcolor": "#283442",
           "linecolor": "#506784",
           "ticks": "",
           "title": {
            "standoff": 15
           },
           "zerolinecolor": "#283442",
           "zerolinewidth": 2
          }
         }
        },
        "xaxis": {
         "anchor": "y",
         "domain": [
          0,
          1
         ],
         "title": {
          "text": "Healthy life expectancy"
         }
        },
        "yaxis": {
         "anchor": "x",
         "domain": [
          0,
          1
         ],
         "title": {
          "text": "Ladder score"
         }
        }
       }
      },
      "text/html": [
       "<div>                            <div id=\"f98bfc66-d712-46d4-a608-71f359638f3a\" class=\"plotly-graph-div\" style=\"height:525px; width:100%;\"></div>            <script type=\"text/javascript\">                require([\"plotly\"], function(Plotly) {                    window.PLOTLYENV=window.PLOTLYENV || {};                                    if (document.getElementById(\"f98bfc66-d712-46d4-a608-71f359638f3a\")) {                    Plotly.newPlot(                        \"f98bfc66-d712-46d4-a608-71f359638f3a\",                        [{\"hovertemplate\":\"<b>%{hovertext}</b><br><br>Country name=Singapore<br>Healthy life expectancy=%{x}<br>Ladder score=%{y}<br>Social support=%{marker.size}<extra></extra>\",\"hovertext\":[\"Singapore\"],\"legendgroup\":\"Singapore\",\"marker\":{\"color\":\"rgb(255,245,235)\",\"size\":[0.915],\"sizemode\":\"area\",\"sizeref\":0.0022875,\"symbol\":\"circle\"},\"mode\":\"markers\",\"name\":\"Singapore\",\"orientation\":\"v\",\"showlegend\":true,\"x\":[76.953],\"xaxis\":\"x\",\"y\":[6.377],\"yaxis\":\"y\",\"type\":\"scatter\"},{\"hovertemplate\":\"<b>%{hovertext}</b><br><br>Country name=Thailand<br>Healthy life expectancy=%{x}<br>Ladder score=%{y}<br>Social support=%{marker.size}<extra></extra>\",\"hovertext\":[\"Thailand\"],\"legendgroup\":\"Thailand\",\"marker\":{\"color\":\"rgb(254,230,206)\",\"size\":[0.888],\"sizemode\":\"area\",\"sizeref\":0.0022875,\"symbol\":\"circle\"},\"mode\":\"markers\",\"name\":\"Thailand\",\"orientation\":\"v\",\"showlegend\":true,\"x\":[67.401],\"xaxis\":\"x\",\"y\":[5.985],\"yaxis\":\"y\",\"type\":\"scatter\"},{\"hovertemplate\":\"<b>%{hovertext}</b><br><br>Country name=Philippines<br>Healthy life expectancy=%{x}<br>Ladder score=%{y}<br>Social support=%{marker.size}<extra></extra>\",\"hovertext\":[\"Philippines\"],\"legendgroup\":\"Philippines\",\"marker\":{\"color\":\"rgb(253,208,162)\",\"size\":[0.83],\"sizemode\":\"area\",\"sizeref\":0.0022875,\"symbol\":\"circle\"},\"mode\":\"markers\",\"name\":\"Philippines\",\"orientation\":\"v\",\"showlegend\":true,\"x\":[62.0],\"xaxis\":\"x\",\"y\":[5.88],\"yaxis\":\"y\",\"type\":\"scatter\"},{\"hovertemplate\":\"<b>%{hovertext}</b><br><br>Country name=Vietnam<br>Healthy life expectancy=%{x}<br>Ladder score=%{y}<br>Social support=%{marker.size}<extra></extra>\",\"hovertext\":[\"Vietnam\"],\"legendgroup\":\"Vietnam\",\"marker\":{\"color\":\"rgb(253,174,107)\",\"size\":[0.85],\"sizemode\":\"area\",\"sizeref\":0.0022875,\"symbol\":\"circle\"},\"mode\":\"markers\",\"name\":\"Vietnam\",\"orientation\":\"v\",\"showlegend\":true,\"x\":[68.034],\"xaxis\":\"x\",\"y\":[5.411],\"yaxis\":\"y\",\"type\":\"scatter\"},{\"hovertemplate\":\"<b>%{hovertext}</b><br><br>Country name=Malaysia<br>Healthy life expectancy=%{x}<br>Ladder score=%{y}<br>Social support=%{marker.size}<extra></extra>\",\"hovertext\":[\"Malaysia\"],\"legendgroup\":\"Malaysia\",\"marker\":{\"color\":\"rgb(253,141,60)\",\"size\":[0.817],\"sizemode\":\"area\",\"sizeref\":0.0022875,\"symbol\":\"circle\"},\"mode\":\"markers\",\"name\":\"Malaysia\",\"orientation\":\"v\",\"showlegend\":true,\"x\":[67.102],\"xaxis\":\"x\",\"y\":[5.384],\"yaxis\":\"y\",\"type\":\"scatter\"},{\"hovertemplate\":\"<b>%{hovertext}</b><br><br>Country name=Indonesia<br>Healthy life expectancy=%{x}<br>Ladder score=%{y}<br>Social support=%{marker.size}<extra></extra>\",\"hovertext\":[\"Indonesia\"],\"legendgroup\":\"Indonesia\",\"marker\":{\"color\":\"rgb(241,105,19)\",\"size\":[0.811],\"sizemode\":\"area\",\"sizeref\":0.0022875,\"symbol\":\"circle\"},\"mode\":\"markers\",\"name\":\"Indonesia\",\"orientation\":\"v\",\"showlegend\":true,\"x\":[62.236],\"xaxis\":\"x\",\"y\":[5.345],\"yaxis\":\"y\",\"type\":\"scatter\"},{\"hovertemplate\":\"<b>%{hovertext}</b><br><br>Country name=Laos<br>Healthy life expectancy=%{x}<br>Ladder score=%{y}<br>Social support=%{marker.size}<extra></extra>\",\"hovertext\":[\"Laos\"],\"legendgroup\":\"Laos\",\"marker\":{\"color\":\"rgb(217,72,1)\",\"size\":[0.728],\"sizemode\":\"area\",\"sizeref\":0.0022875,\"symbol\":\"circle\"},\"mode\":\"markers\",\"name\":\"Laos\",\"orientation\":\"v\",\"showlegend\":true,\"x\":[58.968],\"xaxis\":\"x\",\"y\":[5.03],\"yaxis\":\"y\",\"type\":\"scatter\"},{\"hovertemplate\":\"<b>%{hovertext}</b><br><br>Country name=Cambodia<br>Healthy life expectancy=%{x}<br>Ladder score=%{y}<br>Social support=%{marker.size}<extra></extra>\",\"hovertext\":[\"Cambodia\"],\"legendgroup\":\"Cambodia\",\"marker\":{\"color\":\"rgb(166,54,3)\",\"size\":[0.765],\"sizemode\":\"area\",\"sizeref\":0.0022875,\"symbol\":\"circle\"},\"mode\":\"markers\",\"name\":\"Cambodia\",\"orientation\":\"v\",\"showlegend\":true,\"x\":[62.0],\"xaxis\":\"x\",\"y\":[4.83],\"yaxis\":\"y\",\"type\":\"scatter\"},{\"hovertemplate\":\"<b>%{hovertext}</b><br><br>Country name=Myanmar<br>Healthy life expectancy=%{x}<br>Ladder score=%{y}<br>Social support=%{marker.size}<extra></extra>\",\"hovertext\":[\"Myanmar\"],\"legendgroup\":\"Myanmar\",\"marker\":{\"color\":\"rgb(127,39,4)\",\"size\":[0.779],\"sizemode\":\"area\",\"sizeref\":0.0022875,\"symbol\":\"circle\"},\"mode\":\"markers\",\"name\":\"Myanmar\",\"orientation\":\"v\",\"showlegend\":true,\"x\":[59.302],\"xaxis\":\"x\",\"y\":[4.426],\"yaxis\":\"y\",\"type\":\"scatter\"}],                        {\"template\":{\"data\":{\"barpolar\":[{\"marker\":{\"line\":{\"color\":\"rgb(17,17,17)\",\"width\":0.5},\"pattern\":{\"fillmode\":\"overlay\",\"size\":10,\"solidity\":0.2}},\"type\":\"barpolar\"}],\"bar\":[{\"error_x\":{\"color\":\"#f2f5fa\"},\"error_y\":{\"color\":\"#f2f5fa\"},\"marker\":{\"line\":{\"color\":\"rgb(17,17,17)\",\"width\":0.5},\"pattern\":{\"fillmode\":\"overlay\",\"size\":10,\"solidity\":0.2}},\"type\":\"bar\"}],\"carpet\":[{\"aaxis\":{\"endlinecolor\":\"#A2B1C6\",\"gridcolor\":\"#506784\",\"linecolor\":\"#506784\",\"minorgridcolor\":\"#506784\",\"startlinecolor\":\"#A2B1C6\"},\"baxis\":{\"endlinecolor\":\"#A2B1C6\",\"gridcolor\":\"#506784\",\"linecolor\":\"#506784\",\"minorgridcolor\":\"#506784\",\"startlinecolor\":\"#A2B1C6\"},\"type\":\"carpet\"}],\"choropleth\":[{\"colorbar\":{\"outlinewidth\":0,\"ticks\":\"\"},\"type\":\"choropleth\"}],\"contourcarpet\":[{\"colorbar\":{\"outlinewidth\":0,\"ticks\":\"\"},\"type\":\"contourcarpet\"}],\"contour\":[{\"colorbar\":{\"outlinewidth\":0,\"ticks\":\"\"},\"colorscale\":[[0.0,\"#0d0887\"],[0.1111111111111111,\"#46039f\"],[0.2222222222222222,\"#7201a8\"],[0.3333333333333333,\"#9c179e\"],[0.4444444444444444,\"#bd3786\"],[0.5555555555555556,\"#d8576b\"],[0.6666666666666666,\"#ed7953\"],[0.7777777777777778,\"#fb9f3a\"],[0.8888888888888888,\"#fdca26\"],[1.0,\"#f0f921\"]],\"type\":\"contour\"}],\"heatmapgl\":[{\"colorbar\":{\"outlinewidth\":0,\"ticks\":\"\"},\"colorscale\":[[0.0,\"#0d0887\"],[0.1111111111111111,\"#46039f\"],[0.2222222222222222,\"#7201a8\"],[0.3333333333333333,\"#9c179e\"],[0.4444444444444444,\"#bd3786\"],[0.5555555555555556,\"#d8576b\"],[0.6666666666666666,\"#ed7953\"],[0.7777777777777778,\"#fb9f3a\"],[0.8888888888888888,\"#fdca26\"],[1.0,\"#f0f921\"]],\"type\":\"heatmapgl\"}],\"heatmap\":[{\"colorbar\":{\"outlinewidth\":0,\"ticks\":\"\"},\"colorscale\":[[0.0,\"#0d0887\"],[0.1111111111111111,\"#46039f\"],[0.2222222222222222,\"#7201a8\"],[0.3333333333333333,\"#9c179e\"],[0.4444444444444444,\"#bd3786\"],[0.5555555555555556,\"#d8576b\"],[0.6666666666666666,\"#ed7953\"],[0.7777777777777778,\"#fb9f3a\"],[0.8888888888888888,\"#fdca26\"],[1.0,\"#f0f921\"]],\"type\":\"heatmap\"}],\"histogram2dcontour\":[{\"colorbar\":{\"outlinewidth\":0,\"ticks\":\"\"},\"colorscale\":[[0.0,\"#0d0887\"],[0.1111111111111111,\"#46039f\"],[0.2222222222222222,\"#7201a8\"],[0.3333333333333333,\"#9c179e\"],[0.4444444444444444,\"#bd3786\"],[0.5555555555555556,\"#d8576b\"],[0.6666666666666666,\"#ed7953\"],[0.7777777777777778,\"#fb9f3a\"],[0.8888888888888888,\"#fdca26\"],[1.0,\"#f0f921\"]],\"type\":\"histogram2dcontour\"}],\"histogram2d\":[{\"colorbar\":{\"outlinewidth\":0,\"ticks\":\"\"},\"colorscale\":[[0.0,\"#0d0887\"],[0.1111111111111111,\"#46039f\"],[0.2222222222222222,\"#7201a8\"],[0.3333333333333333,\"#9c179e\"],[0.4444444444444444,\"#bd3786\"],[0.5555555555555556,\"#d8576b\"],[0.6666666666666666,\"#ed7953\"],[0.7777777777777778,\"#fb9f3a\"],[0.8888888888888888,\"#fdca26\"],[1.0,\"#f0f921\"]],\"type\":\"histogram2d\"}],\"histogram\":[{\"marker\":{\"pattern\":{\"fillmode\":\"overlay\",\"size\":10,\"solidity\":0.2}},\"type\":\"histogram\"}],\"mesh3d\":[{\"colorbar\":{\"outlinewidth\":0,\"ticks\":\"\"},\"type\":\"mesh3d\"}],\"parcoords\":[{\"line\":{\"colorbar\":{\"outlinewidth\":0,\"ticks\":\"\"}},\"type\":\"parcoords\"}],\"pie\":[{\"automargin\":true,\"type\":\"pie\"}],\"scatter3d\":[{\"line\":{\"colorbar\":{\"outlinewidth\":0,\"ticks\":\"\"}},\"marker\":{\"colorbar\":{\"outlinewidth\":0,\"ticks\":\"\"}},\"type\":\"scatter3d\"}],\"scattercarpet\":[{\"marker\":{\"colorbar\":{\"outlinewidth\":0,\"ticks\":\"\"}},\"type\":\"scattercarpet\"}],\"scattergeo\":[{\"marker\":{\"colorbar\":{\"outlinewidth\":0,\"ticks\":\"\"}},\"type\":\"scattergeo\"}],\"scattergl\":[{\"marker\":{\"line\":{\"color\":\"#283442\"}},\"type\":\"scattergl\"}],\"scattermapbox\":[{\"marker\":{\"colorbar\":{\"outlinewidth\":0,\"ticks\":\"\"}},\"type\":\"scattermapbox\"}],\"scatterpolargl\":[{\"marker\":{\"colorbar\":{\"outlinewidth\":0,\"ticks\":\"\"}},\"type\":\"scatterpolargl\"}],\"scatterpolar\":[{\"marker\":{\"colorbar\":{\"outlinewidth\":0,\"ticks\":\"\"}},\"type\":\"scatterpolar\"}],\"scatter\":[{\"marker\":{\"line\":{\"color\":\"#283442\"}},\"type\":\"scatter\"}],\"scatterternary\":[{\"marker\":{\"colorbar\":{\"outlinewidth\":0,\"ticks\":\"\"}},\"type\":\"scatterternary\"}],\"surface\":[{\"colorbar\":{\"outlinewidth\":0,\"ticks\":\"\"},\"colorscale\":[[0.0,\"#0d0887\"],[0.1111111111111111,\"#46039f\"],[0.2222222222222222,\"#7201a8\"],[0.3333333333333333,\"#9c179e\"],[0.4444444444444444,\"#bd3786\"],[0.5555555555555556,\"#d8576b\"],[0.6666666666666666,\"#ed7953\"],[0.7777777777777778,\"#fb9f3a\"],[0.8888888888888888,\"#fdca26\"],[1.0,\"#f0f921\"]],\"type\":\"surface\"}],\"table\":[{\"cells\":{\"fill\":{\"color\":\"#506784\"},\"line\":{\"color\":\"rgb(17,17,17)\"}},\"header\":{\"fill\":{\"color\":\"#2a3f5f\"},\"line\":{\"color\":\"rgb(17,17,17)\"}},\"type\":\"table\"}]},\"layout\":{\"annotationdefaults\":{\"arrowcolor\":\"#f2f5fa\",\"arrowhead\":0,\"arrowwidth\":1},\"autotypenumbers\":\"strict\",\"coloraxis\":{\"colorbar\":{\"outlinewidth\":0,\"ticks\":\"\"}},\"colorscale\":{\"diverging\":[[0,\"#8e0152\"],[0.1,\"#c51b7d\"],[0.2,\"#de77ae\"],[0.3,\"#f1b6da\"],[0.4,\"#fde0ef\"],[0.5,\"#f7f7f7\"],[0.6,\"#e6f5d0\"],[0.7,\"#b8e186\"],[0.8,\"#7fbc41\"],[0.9,\"#4d9221\"],[1,\"#276419\"]],\"sequential\":[[0.0,\"#0d0887\"],[0.1111111111111111,\"#46039f\"],[0.2222222222222222,\"#7201a8\"],[0.3333333333333333,\"#9c179e\"],[0.4444444444444444,\"#bd3786\"],[0.5555555555555556,\"#d8576b\"],[0.6666666666666666,\"#ed7953\"],[0.7777777777777778,\"#fb9f3a\"],[0.8888888888888888,\"#fdca26\"],[1.0,\"#f0f921\"]],\"sequentialminus\":[[0.0,\"#0d0887\"],[0.1111111111111111,\"#46039f\"],[0.2222222222222222,\"#7201a8\"],[0.3333333333333333,\"#9c179e\"],[0.4444444444444444,\"#bd3786\"],[0.5555555555555556,\"#d8576b\"],[0.6666666666666666,\"#ed7953\"],[0.7777777777777778,\"#fb9f3a\"],[0.8888888888888888,\"#fdca26\"],[1.0,\"#f0f921\"]]},\"colorway\":[\"#636efa\",\"#EF553B\",\"#00cc96\",\"#ab63fa\",\"#FFA15A\",\"#19d3f3\",\"#FF6692\",\"#B6E880\",\"#FF97FF\",\"#FECB52\"],\"font\":{\"color\":\"#f2f5fa\"},\"geo\":{\"bgcolor\":\"rgb(17,17,17)\",\"lakecolor\":\"rgb(17,17,17)\",\"landcolor\":\"rgb(17,17,17)\",\"showlakes\":true,\"showland\":true,\"subunitcolor\":\"#506784\"},\"hoverlabel\":{\"align\":\"left\"},\"hovermode\":\"closest\",\"mapbox\":{\"style\":\"dark\"},\"paper_bgcolor\":\"rgb(17,17,17)\",\"plot_bgcolor\":\"rgb(17,17,17)\",\"polar\":{\"angularaxis\":{\"gridcolor\":\"#506784\",\"linecolor\":\"#506784\",\"ticks\":\"\"},\"bgcolor\":\"rgb(17,17,17)\",\"radialaxis\":{\"gridcolor\":\"#506784\",\"linecolor\":\"#506784\",\"ticks\":\"\"}},\"scene\":{\"xaxis\":{\"backgroundcolor\":\"rgb(17,17,17)\",\"gridcolor\":\"#506784\",\"gridwidth\":2,\"linecolor\":\"#506784\",\"showbackground\":true,\"ticks\":\"\",\"zerolinecolor\":\"#C8D4E3\"},\"yaxis\":{\"backgroundcolor\":\"rgb(17,17,17)\",\"gridcolor\":\"#506784\",\"gridwidth\":2,\"linecolor\":\"#506784\",\"showbackground\":true,\"ticks\":\"\",\"zerolinecolor\":\"#C8D4E3\"},\"zaxis\":{\"backgroundcolor\":\"rgb(17,17,17)\",\"gridcolor\":\"#506784\",\"gridwidth\":2,\"linecolor\":\"#506784\",\"showbackground\":true,\"ticks\":\"\",\"zerolinecolor\":\"#C8D4E3\"}},\"shapedefaults\":{\"line\":{\"color\":\"#f2f5fa\"}},\"sliderdefaults\":{\"bgcolor\":\"#C8D4E3\",\"bordercolor\":\"rgb(17,17,17)\",\"borderwidth\":1,\"tickwidth\":0},\"ternary\":{\"aaxis\":{\"gridcolor\":\"#506784\",\"linecolor\":\"#506784\",\"ticks\":\"\"},\"baxis\":{\"gridcolor\":\"#506784\",\"linecolor\":\"#506784\",\"ticks\":\"\"},\"bgcolor\":\"rgb(17,17,17)\",\"caxis\":{\"gridcolor\":\"#506784\",\"linecolor\":\"#506784\",\"ticks\":\"\"}},\"title\":{\"x\":0.05},\"updatemenudefaults\":{\"bgcolor\":\"#506784\",\"borderwidth\":0},\"xaxis\":{\"automargin\":true,\"gridcolor\":\"#283442\",\"linecolor\":\"#506784\",\"ticks\":\"\",\"title\":{\"standoff\":15},\"zerolinecolor\":\"#283442\",\"zerolinewidth\":2},\"yaxis\":{\"automargin\":true,\"gridcolor\":\"#283442\",\"linecolor\":\"#506784\",\"ticks\":\"\",\"title\":{\"standoff\":15},\"zerolinecolor\":\"#283442\",\"zerolinewidth\":2}}},\"xaxis\":{\"anchor\":\"y\",\"domain\":[0.0,1.0],\"title\":{\"text\":\"Healthy life expectancy\"}},\"yaxis\":{\"anchor\":\"x\",\"domain\":[0.0,1.0],\"title\":{\"text\":\"Ladder score\"}},\"legend\":{\"title\":{\"text\":\"Country name\"},\"tracegroupgap\":0,\"itemsizing\":\"constant\"},\"margin\":{\"t\":60}},                        {\"responsive\": true}                    ).then(function(){\n",
       "                            \n",
       "var gd = document.getElementById('f98bfc66-d712-46d4-a608-71f359638f3a');\n",
       "var x = new MutationObserver(function (mutations, observer) {{\n",
       "        var display = window.getComputedStyle(gd).display;\n",
       "        if (!display || display === 'none') {{\n",
       "            console.log([gd, 'removed!']);\n",
       "            Plotly.purge(gd);\n",
       "            observer.disconnect();\n",
       "        }}\n",
       "}});\n",
       "\n",
       "// Listen for the removal of the full notebook cells\n",
       "var notebookContainer = gd.closest('#notebook-container');\n",
       "if (notebookContainer) {{\n",
       "    x.observe(notebookContainer, {childList: true});\n",
       "}}\n",
       "\n",
       "// Listen for the clearing of the current output cell\n",
       "var outputEl = gd.closest('.output');\n",
       "if (outputEl) {{\n",
       "    x.observe(outputEl, {childList: true});\n",
       "}}\n",
       "\n",
       "                        })                };                });            </script>        </div>"
      ]
     },
     "metadata": {},
     "output_type": "display_data"
    }
   ],
   "source": [
    "#Scatter plot Southeast Asia\n",
    "df_southeast = df[df['Regional indicator'] == \"Southeast Asia\"]\n",
    "fig = px.scatter(df_southeast, x=\"Healthy life expectancy\", y=\"Ladder score\", \n",
    "                color=\"Country name\", color_discrete_sequence = px.colors.sequential.Oranges, \n",
    "                template = 'plotly_dark',\n",
    "                size = 'Social support',\n",
    "                hover_name=\"Country name\")\n",
    "fig.show()"
   ]
  },
  {
   "cell_type": "markdown",
   "id": "fc92c812",
   "metadata": {},
   "source": [
    "### tingkat harapan hidup dan ladder score paling tinggi di regional southeast adalah singapura, dan yang paling rendah myanmar, sementara indonesia ada di score tengah dengan tingkat harapan hidup 62.236"
   ]
  },
  {
   "cell_type": "code",
   "execution_count": 93,
   "id": "0b482901",
   "metadata": {},
   "outputs": [
    {
     "data": {
      "application/vnd.plotly.v1+json": {
       "config": {
        "plotlyServerURL": "https://plot.ly"
       },
       "data": [
        {
         "hovertemplate": "<b>%{hovertext}</b><br><br>Regional indicator=Western Europe<br>Logged GDP per capita=%{x}<br>Ladder score=%{y}<br>Perceptions of corruption=%{marker.size}<extra></extra>",
         "hovertext": [
          "Finland",
          "Denmark",
          "Switzerland",
          "Iceland",
          "Netherlands",
          "Norway",
          "Sweden",
          "Luxembourg",
          "Austria",
          "Germany",
          "Ireland",
          "United Kingdom",
          "Belgium",
          "France",
          "Malta",
          "Spain",
          "Italy",
          "Cyprus",
          "Portugal",
          "Greece",
          "North Cyprus"
         ],
         "legendgroup": "Western Europe",
         "marker": {
          "color": "rgb(255,245,235)",
          "size": [
           0.186,
           0.179,
           0.292,
           0.673,
           0.338,
           0.27,
           0.237,
           0.386,
           0.481,
           0.46,
           0.363,
           0.459,
           0.646,
           0.571,
           0.653,
           0.745,
           0.866,
           0.844,
           0.887,
           0.823,
           0.626
          ],
          "sizemode": "area",
          "sizeref": 0.0023474999999999998,
          "symbol": "circle"
         },
         "mode": "markers",
         "name": "Western Europe",
         "orientation": "v",
         "showlegend": true,
         "type": "scatter",
         "x": [
          10.775,
          10.933,
          11.117,
          10.878,
          10.932,
          11.053,
          10.867,
          11.647,
          10.906,
          10.873,
          11.342,
          10.707,
          10.823,
          10.704,
          10.674,
          10.571,
          10.623,
          10.576,
          10.421,
          10.279,
          10.576
         ],
         "xaxis": "x",
         "y": [
          7.842,
          7.62,
          7.571,
          7.554,
          7.464,
          7.392,
          7.363,
          7.324,
          7.268,
          7.155,
          7.085,
          7.064,
          6.834,
          6.69,
          6.602,
          6.491,
          6.483,
          6.223,
          5.929,
          5.723,
          5.536
         ],
         "yaxis": "y"
        },
        {
         "hovertemplate": "<b>%{hovertext}</b><br><br>Regional indicator=North America and ANZ<br>Logged GDP per capita=%{x}<br>Ladder score=%{y}<br>Perceptions of corruption=%{marker.size}<extra></extra>",
         "hovertext": [
          "New Zealand",
          "Australia",
          "Canada",
          "United States"
         ],
         "legendgroup": "North America and ANZ",
         "marker": {
          "color": "rgb(254,230,206)",
          "size": [
           0.242,
           0.442,
           0.415,
           0.698
          ],
          "sizemode": "area",
          "sizeref": 0.0023474999999999998,
          "symbol": "circle"
         },
         "mode": "markers",
         "name": "North America and ANZ",
         "orientation": "v",
         "showlegend": true,
         "type": "scatter",
         "x": [
          10.643,
          10.796,
          10.776,
          11.023
         ],
         "xaxis": "x",
         "y": [
          7.277,
          7.183,
          7.103,
          6.951
         ],
         "yaxis": "y"
        },
        {
         "hovertemplate": "<b>%{hovertext}</b><br><br>Regional indicator=Middle East and North Africa<br>Logged GDP per capita=%{x}<br>Ladder score=%{y}<br>Perceptions of corruption=%{marker.size}<extra></extra>",
         "hovertext": [
          "Israel",
          "Bahrain",
          "United Arab Emirates",
          "Saudi Arabia",
          "Kuwait",
          "Libya",
          "Turkey",
          "Morocco",
          "Algeria",
          "Iraq",
          "Iran",
          "Tunisia",
          "Lebanon",
          "Palestinian Territories",
          "Jordan",
          "Egypt",
          "Yemen"
         ],
         "legendgroup": "Middle East and North Africa",
         "marker": {
          "color": "rgb(253,208,162)",
          "size": [
           0.753,
           0.722,
           0.589,
           0.684,
           0.736,
           0.667,
           0.776,
           0.801,
           0.752,
           0.875,
           0.714,
           0.87,
           0.898,
           0.821,
           0.705,
           0.795,
           0.8
          ],
          "sizemode": "area",
          "sizeref": 0.0023474999999999998,
          "symbol": "circle"
         },
         "mode": "markers",
         "name": "Middle East and North Africa",
         "orientation": "v",
         "showlegend": true,
         "type": "scatter",
         "x": [
          10.575,
          10.669,
          11.085,
          10.743,
          10.817,
          9.622,
          10.24,
          8.903,
          9.342,
          9.24,
          9.584,
          9.266,
          9.626,
          8.485,
          9.182,
          9.367,
          7.578
         ],
         "xaxis": "x",
         "y": [
          7.157,
          6.647,
          6.561,
          6.494,
          6.106,
          5.41,
          4.948,
          4.918,
          4.887,
          4.854,
          4.721,
          4.596,
          4.584,
          4.517,
          4.395,
          4.283,
          3.658
         ],
         "yaxis": "y"
        },
        {
         "hovertemplate": "<b>%{hovertext}</b><br><br>Regional indicator=Latin America and Caribbean<br>Logged GDP per capita=%{x}<br>Ladder score=%{y}<br>Perceptions of corruption=%{marker.size}<extra></extra>",
         "hovertext": [
          "Costa Rica",
          "Guatemala",
          "Uruguay",
          "Brazil",
          "Mexico",
          "Jamaica",
          "Panama",
          "Chile",
          "El Salvador",
          "Colombia",
          "Nicaragua",
          "Argentina",
          "Honduras",
          "Peru",
          "Ecuador",
          "Bolivia",
          "Paraguay",
          "Dominican Republic",
          "Venezuela",
          "Haiti"
         ],
         "legendgroup": "Latin America and Caribbean",
         "marker": {
          "color": "rgb(253,174,107)",
          "size": [
           0.809,
           0.775,
           0.59,
           0.756,
           0.799,
           0.884,
           0.856,
           0.83,
           0.688,
           0.841,
           0.664,
           0.834,
           0.809,
           0.891,
           0.843,
           0.839,
           0.882,
           0.714,
           0.827,
           0.721
          ],
          "sizemode": "area",
          "sizeref": 0.0023474999999999998,
          "symbol": "circle"
         },
         "mode": "markers",
         "name": "Latin America and Caribbean",
         "orientation": "v",
         "showlegend": true,
         "type": "scatter",
         "x": [
          9.88,
          9.053,
          9.966,
          9.577,
          9.859,
          9.186,
          10.35,
          10.071,
          9.054,
          9.557,
          8.62,
          9.962,
          8.648,
          9.458,
          9.313,
          9.046,
          9.448,
          9.802,
          9.073,
          7.477
         ],
         "xaxis": "x",
         "y": [
          7.069,
          6.435,
          6.431,
          6.33,
          6.317,
          6.309,
          6.18,
          6.172,
          6.061,
          6.012,
          5.972,
          5.929,
          5.919,
          5.84,
          5.764,
          5.716,
          5.653,
          5.545,
          4.892,
          3.615
         ],
         "yaxis": "y"
        },
        {
         "hovertemplate": "<b>%{hovertext}</b><br><br>Regional indicator=Central and Eastern Europe<br>Logged GDP per capita=%{x}<br>Ladder score=%{y}<br>Perceptions of corruption=%{marker.size}<extra></extra>",
         "hovertext": [
          "Czech Republic",
          "Slovenia",
          "Kosovo",
          "Slovakia",
          "Lithuania",
          "Estonia",
          "Poland",
          "Romania",
          "Serbia",
          "Latvia",
          "Hungary",
          "Croatia",
          "Bosnia and Herzegovina",
          "Montenegro",
          "Bulgaria",
          "Albania",
          "North Macedonia"
         ],
         "legendgroup": "Central and Eastern Europe",
         "marker": {
          "color": "rgb(253,141,60)",
          "size": [
           0.868,
           0.806,
           0.917,
           0.911,
           0.826,
           0.527,
           0.735,
           0.938,
           0.835,
           0.8,
           0.876,
           0.939,
           0.931,
           0.812,
           0.932,
           0.901,
           0.905
          ],
          "sizemode": "area",
          "sizeref": 0.0023474999999999998,
          "symbol": "circle"
         },
         "mode": "markers",
         "name": "Central and Eastern Europe",
         "orientation": "v",
         "showlegend": true,
         "type": "scatter",
         "x": [
          10.556,
          10.529,
          9.318,
          10.369,
          10.499,
          10.481,
          10.382,
          10.284,
          9.787,
          10.315,
          10.358,
          10.217,
          9.59,
          9.94,
          10.016,
          9.52,
          9.693
         ],
         "xaxis": "x",
         "y": [
          6.965,
          6.461,
          6.372,
          6.331,
          6.255,
          6.189,
          6.166,
          6.14,
          6.078,
          6.032,
          5.992,
          5.882,
          5.813,
          5.581,
          5.266,
          5.117,
          5.101
         ],
         "yaxis": "y"
        },
        {
         "hovertemplate": "<b>%{hovertext}</b><br><br>Regional indicator=East Asia<br>Logged GDP per capita=%{x}<br>Ladder score=%{y}<br>Perceptions of corruption=%{marker.size}<extra></extra>",
         "hovertext": [
          "Taiwan Province of China",
          "Japan",
          "South Korea",
          "Mongolia",
          "Hong Kong S.A.R. of China",
          "China"
         ],
         "legendgroup": "East Asia",
         "marker": {
          "color": "rgb(241,105,19)",
          "size": [
           0.721,
           0.638,
           0.727,
           0.856,
           0.403,
           0.755
          ],
          "sizemode": "area",
          "sizeref": 0.0023474999999999998,
          "symbol": "circle"
         },
         "mode": "markers",
         "name": "East Asia",
         "orientation": "v",
         "showlegend": true,
         "type": "scatter",
         "x": [
          10.871,
          10.611,
          10.651,
          9.4,
          11,
          9.673
         ],
         "xaxis": "x",
         "y": [
          6.584,
          5.94,
          5.845,
          5.677,
          5.477,
          5.339
         ],
         "yaxis": "y"
        },
        {
         "hovertemplate": "<b>%{hovertext}</b><br><br>Regional indicator=Southeast Asia<br>Logged GDP per capita=%{x}<br>Ladder score=%{y}<br>Perceptions of corruption=%{marker.size}<extra></extra>",
         "hovertext": [
          "Singapore",
          "Thailand",
          "Philippines",
          "Vietnam",
          "Malaysia",
          "Indonesia",
          "Laos",
          "Cambodia",
          "Myanmar"
         ],
         "legendgroup": "Southeast Asia",
         "marker": {
          "color": "rgb(217,72,1)",
          "size": [
           0.082,
           0.895,
           0.742,
           0.796,
           0.839,
           0.867,
           0.658,
           0.843,
           0.66
          ],
          "sizemode": "area",
          "sizeref": 0.0023474999999999998,
          "symbol": "circle"
         },
         "mode": "markers",
         "name": "Southeast Asia",
         "orientation": "v",
         "showlegend": true,
         "type": "scatter",
         "x": [
          11.488,
          9.805,
          9.076,
          8.973,
          10.238,
          9.365,
          8.947,
          8.36,
          8.541
         ],
         "xaxis": "x",
         "y": [
          6.377,
          5.985,
          5.88,
          5.411,
          5.384,
          5.345,
          5.03,
          4.83,
          4.426
         ],
         "yaxis": "y"
        },
        {
         "hovertemplate": "<b>%{hovertext}</b><br><br>Regional indicator=Commonwealth of Independent States<br>Logged GDP per capita=%{x}<br>Ladder score=%{y}<br>Perceptions of corruption=%{marker.size}<extra></extra>",
         "hovertext": [
          "Uzbekistan",
          "Kazakhstan",
          "Moldova",
          "Kyrgyzstan",
          "Belarus",
          "Russia",
          "Tajikistan",
          "Armenia",
          "Azerbaijan",
          "Turkmenistan",
          "Georgia",
          "Ukraine"
         ],
         "legendgroup": "Commonwealth of Independent States",
         "marker": {
          "color": "rgb(166,54,3)",
          "size": [
           0.515,
           0.733,
           0.918,
           0.908,
           0.627,
           0.845,
           0.553,
           0.629,
           0.506,
           0.888,
           0.655,
           0.924
          ],
          "sizemode": "area",
          "sizeref": 0.0023474999999999998,
          "symbol": "circle"
         },
         "mode": "markers",
         "name": "Commonwealth of Independent States",
         "orientation": "v",
         "showlegend": true,
         "type": "scatter",
         "x": [
          8.836,
          10.155,
          9.454,
          8.538,
          9.853,
          10.189,
          8.091,
          9.487,
          9.569,
          9.629,
          9.585,
          9.436
         ],
         "xaxis": "x",
         "y": [
          6.179,
          6.152,
          5.766,
          5.744,
          5.534,
          5.477,
          5.466,
          5.283,
          5.171,
          5.066,
          4.891,
          4.875
         ],
         "yaxis": "y"
        },
        {
         "hovertemplate": "<b>%{hovertext}</b><br><br>Regional indicator=Sub-Saharan Africa<br>Logged GDP per capita=%{x}<br>Ladder score=%{y}<br>Perceptions of corruption=%{marker.size}<extra></extra>",
         "hovertext": [
          "Mauritius",
          "Congo (Brazzaville)",
          "Ivory Coast",
          "Cameroon",
          "Senegal",
          "Ghana",
          "Niger",
          "Gambia",
          "Benin",
          "Guinea",
          "South Africa",
          "Gabon",
          "Burkina Faso",
          "Mozambique",
          "Nigeria",
          "Mali",
          "Uganda",
          "Liberia",
          "Kenya",
          "Namibia",
          "Chad",
          "Swaziland",
          "Comoros",
          "Ethiopia",
          "Mauritania",
          "Madagascar",
          "Togo",
          "Zambia",
          "Sierra Leone",
          "Burundi",
          "Tanzania",
          "Malawi",
          "Lesotho",
          "Botswana",
          "Rwanda",
          "Zimbabwe"
         ],
         "legendgroup": "Sub-Saharan Africa",
         "marker": {
          "color": "rgb(127,39,4)",
          "size": [
           0.789,
           0.745,
           0.794,
           0.848,
           0.801,
           0.848,
           0.693,
           0.746,
           0.661,
           0.766,
           0.86,
           0.84,
           0.748,
           0.684,
           0.878,
           0.827,
           0.855,
           0.85,
           0.825,
           0.847,
           0.807,
           0.708,
           0.781,
           0.761,
           0.731,
           0.803,
           0.772,
           0.823,
           0.866,
           0.607,
           0.577,
           0.729,
           0.915,
           0.801,
           0.167,
           0.821
          ],
          "sizemode": "area",
          "sizeref": 0.0023474999999999998,
          "symbol": "circle"
         },
         "mode": "markers",
         "name": "Sub-Saharan Africa",
         "orientation": "v",
         "showlegend": true,
         "type": "scatter",
         "x": [
          10.008,
          8.117,
          8.551,
          8.189,
          8.118,
          8.58,
          7.098,
          7.686,
          8.087,
          7.838,
          9.403,
          9.603,
          7.678,
          7.158,
          8.533,
          7.744,
          7.677,
          7.288,
          8.361,
          9.161,
          7.364,
          9.065,
          8.031,
          7.694,
          8.542,
          7.396,
          7.362,
          8.145,
          7.434,
          6.635,
          7.876,
          6.958,
          7.926,
          9.782,
          7.676,
          7.943
         ],
         "xaxis": "x",
         "y": [
          6.049,
          5.342,
          5.306,
          5.142,
          5.132,
          5.088,
          5.074,
          5.051,
          5.045,
          4.984,
          4.956,
          4.852,
          4.834,
          4.794,
          4.759,
          4.723,
          4.636,
          4.625,
          4.607,
          4.574,
          4.355,
          4.308,
          4.289,
          4.275,
          4.227,
          4.208,
          4.107,
          4.073,
          3.849,
          3.775,
          3.623,
          3.6,
          3.512,
          3.467,
          3.415,
          3.145
         ],
         "yaxis": "y"
        },
        {
         "hovertemplate": "<b>%{hovertext}</b><br><br>Regional indicator=South Asia<br>Logged GDP per capita=%{x}<br>Ladder score=%{y}<br>Perceptions of corruption=%{marker.size}<extra></extra>",
         "hovertext": [
          "Nepal",
          "Maldives",
          "Bangladesh",
          "Pakistan",
          "Sri Lanka",
          "India",
          "Afghanistan"
         ],
         "legendgroup": "South Asia",
         "marker": {
          "color": "rgb(255,245,235)",
          "size": [
           0.727,
           0.825,
           0.682,
           0.787,
           0.863,
           0.774,
           0.924
          ],
          "sizemode": "area",
          "sizeref": 0.0023474999999999998,
          "symbol": "circle"
         },
         "mode": "markers",
         "name": "South Asia",
         "orientation": "v",
         "showlegend": true,
         "type": "scatter",
         "x": [
          8.12,
          9.826,
          8.454,
          8.458,
          9.47,
          8.755,
          7.695
         ],
         "xaxis": "x",
         "y": [
          5.269,
          5.198,
          5.025,
          4.934,
          4.325,
          3.819,
          2.523
         ],
         "yaxis": "y"
        }
       ],
       "layout": {
        "legend": {
         "itemsizing": "constant",
         "title": {
          "text": "Regional indicator"
         },
         "tracegroupgap": 0
        },
        "margin": {
         "t": 60
        },
        "template": {
         "data": {
          "bar": [
           {
            "error_x": {
             "color": "#f2f5fa"
            },
            "error_y": {
             "color": "#f2f5fa"
            },
            "marker": {
             "line": {
              "color": "rgb(17,17,17)",
              "width": 0.5
             },
             "pattern": {
              "fillmode": "overlay",
              "size": 10,
              "solidity": 0.2
             }
            },
            "type": "bar"
           }
          ],
          "barpolar": [
           {
            "marker": {
             "line": {
              "color": "rgb(17,17,17)",
              "width": 0.5
             },
             "pattern": {
              "fillmode": "overlay",
              "size": 10,
              "solidity": 0.2
             }
            },
            "type": "barpolar"
           }
          ],
          "carpet": [
           {
            "aaxis": {
             "endlinecolor": "#A2B1C6",
             "gridcolor": "#506784",
             "linecolor": "#506784",
             "minorgridcolor": "#506784",
             "startlinecolor": "#A2B1C6"
            },
            "baxis": {
             "endlinecolor": "#A2B1C6",
             "gridcolor": "#506784",
             "linecolor": "#506784",
             "minorgridcolor": "#506784",
             "startlinecolor": "#A2B1C6"
            },
            "type": "carpet"
           }
          ],
          "choropleth": [
           {
            "colorbar": {
             "outlinewidth": 0,
             "ticks": ""
            },
            "type": "choropleth"
           }
          ],
          "contour": [
           {
            "colorbar": {
             "outlinewidth": 0,
             "ticks": ""
            },
            "colorscale": [
             [
              0,
              "#0d0887"
             ],
             [
              0.1111111111111111,
              "#46039f"
             ],
             [
              0.2222222222222222,
              "#7201a8"
             ],
             [
              0.3333333333333333,
              "#9c179e"
             ],
             [
              0.4444444444444444,
              "#bd3786"
             ],
             [
              0.5555555555555556,
              "#d8576b"
             ],
             [
              0.6666666666666666,
              "#ed7953"
             ],
             [
              0.7777777777777778,
              "#fb9f3a"
             ],
             [
              0.8888888888888888,
              "#fdca26"
             ],
             [
              1,
              "#f0f921"
             ]
            ],
            "type": "contour"
           }
          ],
          "contourcarpet": [
           {
            "colorbar": {
             "outlinewidth": 0,
             "ticks": ""
            },
            "type": "contourcarpet"
           }
          ],
          "heatmap": [
           {
            "colorbar": {
             "outlinewidth": 0,
             "ticks": ""
            },
            "colorscale": [
             [
              0,
              "#0d0887"
             ],
             [
              0.1111111111111111,
              "#46039f"
             ],
             [
              0.2222222222222222,
              "#7201a8"
             ],
             [
              0.3333333333333333,
              "#9c179e"
             ],
             [
              0.4444444444444444,
              "#bd3786"
             ],
             [
              0.5555555555555556,
              "#d8576b"
             ],
             [
              0.6666666666666666,
              "#ed7953"
             ],
             [
              0.7777777777777778,
              "#fb9f3a"
             ],
             [
              0.8888888888888888,
              "#fdca26"
             ],
             [
              1,
              "#f0f921"
             ]
            ],
            "type": "heatmap"
           }
          ],
          "heatmapgl": [
           {
            "colorbar": {
             "outlinewidth": 0,
             "ticks": ""
            },
            "colorscale": [
             [
              0,
              "#0d0887"
             ],
             [
              0.1111111111111111,
              "#46039f"
             ],
             [
              0.2222222222222222,
              "#7201a8"
             ],
             [
              0.3333333333333333,
              "#9c179e"
             ],
             [
              0.4444444444444444,
              "#bd3786"
             ],
             [
              0.5555555555555556,
              "#d8576b"
             ],
             [
              0.6666666666666666,
              "#ed7953"
             ],
             [
              0.7777777777777778,
              "#fb9f3a"
             ],
             [
              0.8888888888888888,
              "#fdca26"
             ],
             [
              1,
              "#f0f921"
             ]
            ],
            "type": "heatmapgl"
           }
          ],
          "histogram": [
           {
            "marker": {
             "pattern": {
              "fillmode": "overlay",
              "size": 10,
              "solidity": 0.2
             }
            },
            "type": "histogram"
           }
          ],
          "histogram2d": [
           {
            "colorbar": {
             "outlinewidth": 0,
             "ticks": ""
            },
            "colorscale": [
             [
              0,
              "#0d0887"
             ],
             [
              0.1111111111111111,
              "#46039f"
             ],
             [
              0.2222222222222222,
              "#7201a8"
             ],
             [
              0.3333333333333333,
              "#9c179e"
             ],
             [
              0.4444444444444444,
              "#bd3786"
             ],
             [
              0.5555555555555556,
              "#d8576b"
             ],
             [
              0.6666666666666666,
              "#ed7953"
             ],
             [
              0.7777777777777778,
              "#fb9f3a"
             ],
             [
              0.8888888888888888,
              "#fdca26"
             ],
             [
              1,
              "#f0f921"
             ]
            ],
            "type": "histogram2d"
           }
          ],
          "histogram2dcontour": [
           {
            "colorbar": {
             "outlinewidth": 0,
             "ticks": ""
            },
            "colorscale": [
             [
              0,
              "#0d0887"
             ],
             [
              0.1111111111111111,
              "#46039f"
             ],
             [
              0.2222222222222222,
              "#7201a8"
             ],
             [
              0.3333333333333333,
              "#9c179e"
             ],
             [
              0.4444444444444444,
              "#bd3786"
             ],
             [
              0.5555555555555556,
              "#d8576b"
             ],
             [
              0.6666666666666666,
              "#ed7953"
             ],
             [
              0.7777777777777778,
              "#fb9f3a"
             ],
             [
              0.8888888888888888,
              "#fdca26"
             ],
             [
              1,
              "#f0f921"
             ]
            ],
            "type": "histogram2dcontour"
           }
          ],
          "mesh3d": [
           {
            "colorbar": {
             "outlinewidth": 0,
             "ticks": ""
            },
            "type": "mesh3d"
           }
          ],
          "parcoords": [
           {
            "line": {
             "colorbar": {
              "outlinewidth": 0,
              "ticks": ""
             }
            },
            "type": "parcoords"
           }
          ],
          "pie": [
           {
            "automargin": true,
            "type": "pie"
           }
          ],
          "scatter": [
           {
            "marker": {
             "line": {
              "color": "#283442"
             }
            },
            "type": "scatter"
           }
          ],
          "scatter3d": [
           {
            "line": {
             "colorbar": {
              "outlinewidth": 0,
              "ticks": ""
             }
            },
            "marker": {
             "colorbar": {
              "outlinewidth": 0,
              "ticks": ""
             }
            },
            "type": "scatter3d"
           }
          ],
          "scattercarpet": [
           {
            "marker": {
             "colorbar": {
              "outlinewidth": 0,
              "ticks": ""
             }
            },
            "type": "scattercarpet"
           }
          ],
          "scattergeo": [
           {
            "marker": {
             "colorbar": {
              "outlinewidth": 0,
              "ticks": ""
             }
            },
            "type": "scattergeo"
           }
          ],
          "scattergl": [
           {
            "marker": {
             "line": {
              "color": "#283442"
             }
            },
            "type": "scattergl"
           }
          ],
          "scattermapbox": [
           {
            "marker": {
             "colorbar": {
              "outlinewidth": 0,
              "ticks": ""
             }
            },
            "type": "scattermapbox"
           }
          ],
          "scatterpolar": [
           {
            "marker": {
             "colorbar": {
              "outlinewidth": 0,
              "ticks": ""
             }
            },
            "type": "scatterpolar"
           }
          ],
          "scatterpolargl": [
           {
            "marker": {
             "colorbar": {
              "outlinewidth": 0,
              "ticks": ""
             }
            },
            "type": "scatterpolargl"
           }
          ],
          "scatterternary": [
           {
            "marker": {
             "colorbar": {
              "outlinewidth": 0,
              "ticks": ""
             }
            },
            "type": "scatterternary"
           }
          ],
          "surface": [
           {
            "colorbar": {
             "outlinewidth": 0,
             "ticks": ""
            },
            "colorscale": [
             [
              0,
              "#0d0887"
             ],
             [
              0.1111111111111111,
              "#46039f"
             ],
             [
              0.2222222222222222,
              "#7201a8"
             ],
             [
              0.3333333333333333,
              "#9c179e"
             ],
             [
              0.4444444444444444,
              "#bd3786"
             ],
             [
              0.5555555555555556,
              "#d8576b"
             ],
             [
              0.6666666666666666,
              "#ed7953"
             ],
             [
              0.7777777777777778,
              "#fb9f3a"
             ],
             [
              0.8888888888888888,
              "#fdca26"
             ],
             [
              1,
              "#f0f921"
             ]
            ],
            "type": "surface"
           }
          ],
          "table": [
           {
            "cells": {
             "fill": {
              "color": "#506784"
             },
             "line": {
              "color": "rgb(17,17,17)"
             }
            },
            "header": {
             "fill": {
              "color": "#2a3f5f"
             },
             "line": {
              "color": "rgb(17,17,17)"
             }
            },
            "type": "table"
           }
          ]
         },
         "layout": {
          "annotationdefaults": {
           "arrowcolor": "#f2f5fa",
           "arrowhead": 0,
           "arrowwidth": 1
          },
          "autotypenumbers": "strict",
          "coloraxis": {
           "colorbar": {
            "outlinewidth": 0,
            "ticks": ""
           }
          },
          "colorscale": {
           "diverging": [
            [
             0,
             "#8e0152"
            ],
            [
             0.1,
             "#c51b7d"
            ],
            [
             0.2,
             "#de77ae"
            ],
            [
             0.3,
             "#f1b6da"
            ],
            [
             0.4,
             "#fde0ef"
            ],
            [
             0.5,
             "#f7f7f7"
            ],
            [
             0.6,
             "#e6f5d0"
            ],
            [
             0.7,
             "#b8e186"
            ],
            [
             0.8,
             "#7fbc41"
            ],
            [
             0.9,
             "#4d9221"
            ],
            [
             1,
             "#276419"
            ]
           ],
           "sequential": [
            [
             0,
             "#0d0887"
            ],
            [
             0.1111111111111111,
             "#46039f"
            ],
            [
             0.2222222222222222,
             "#7201a8"
            ],
            [
             0.3333333333333333,
             "#9c179e"
            ],
            [
             0.4444444444444444,
             "#bd3786"
            ],
            [
             0.5555555555555556,
             "#d8576b"
            ],
            [
             0.6666666666666666,
             "#ed7953"
            ],
            [
             0.7777777777777778,
             "#fb9f3a"
            ],
            [
             0.8888888888888888,
             "#fdca26"
            ],
            [
             1,
             "#f0f921"
            ]
           ],
           "sequentialminus": [
            [
             0,
             "#0d0887"
            ],
            [
             0.1111111111111111,
             "#46039f"
            ],
            [
             0.2222222222222222,
             "#7201a8"
            ],
            [
             0.3333333333333333,
             "#9c179e"
            ],
            [
             0.4444444444444444,
             "#bd3786"
            ],
            [
             0.5555555555555556,
             "#d8576b"
            ],
            [
             0.6666666666666666,
             "#ed7953"
            ],
            [
             0.7777777777777778,
             "#fb9f3a"
            ],
            [
             0.8888888888888888,
             "#fdca26"
            ],
            [
             1,
             "#f0f921"
            ]
           ]
          },
          "colorway": [
           "#636efa",
           "#EF553B",
           "#00cc96",
           "#ab63fa",
           "#FFA15A",
           "#19d3f3",
           "#FF6692",
           "#B6E880",
           "#FF97FF",
           "#FECB52"
          ],
          "font": {
           "color": "#f2f5fa"
          },
          "geo": {
           "bgcolor": "rgb(17,17,17)",
           "lakecolor": "rgb(17,17,17)",
           "landcolor": "rgb(17,17,17)",
           "showlakes": true,
           "showland": true,
           "subunitcolor": "#506784"
          },
          "hoverlabel": {
           "align": "left"
          },
          "hovermode": "closest",
          "mapbox": {
           "style": "dark"
          },
          "paper_bgcolor": "rgb(17,17,17)",
          "plot_bgcolor": "rgb(17,17,17)",
          "polar": {
           "angularaxis": {
            "gridcolor": "#506784",
            "linecolor": "#506784",
            "ticks": ""
           },
           "bgcolor": "rgb(17,17,17)",
           "radialaxis": {
            "gridcolor": "#506784",
            "linecolor": "#506784",
            "ticks": ""
           }
          },
          "scene": {
           "xaxis": {
            "backgroundcolor": "rgb(17,17,17)",
            "gridcolor": "#506784",
            "gridwidth": 2,
            "linecolor": "#506784",
            "showbackground": true,
            "ticks": "",
            "zerolinecolor": "#C8D4E3"
           },
           "yaxis": {
            "backgroundcolor": "rgb(17,17,17)",
            "gridcolor": "#506784",
            "gridwidth": 2,
            "linecolor": "#506784",
            "showbackground": true,
            "ticks": "",
            "zerolinecolor": "#C8D4E3"
           },
           "zaxis": {
            "backgroundcolor": "rgb(17,17,17)",
            "gridcolor": "#506784",
            "gridwidth": 2,
            "linecolor": "#506784",
            "showbackground": true,
            "ticks": "",
            "zerolinecolor": "#C8D4E3"
           }
          },
          "shapedefaults": {
           "line": {
            "color": "#f2f5fa"
           }
          },
          "sliderdefaults": {
           "bgcolor": "#C8D4E3",
           "bordercolor": "rgb(17,17,17)",
           "borderwidth": 1,
           "tickwidth": 0
          },
          "ternary": {
           "aaxis": {
            "gridcolor": "#506784",
            "linecolor": "#506784",
            "ticks": ""
           },
           "baxis": {
            "gridcolor": "#506784",
            "linecolor": "#506784",
            "ticks": ""
           },
           "bgcolor": "rgb(17,17,17)",
           "caxis": {
            "gridcolor": "#506784",
            "linecolor": "#506784",
            "ticks": ""
           }
          },
          "title": {
           "x": 0.05
          },
          "updatemenudefaults": {
           "bgcolor": "#506784",
           "borderwidth": 0
          },
          "xaxis": {
           "automargin": true,
           "gridcolor": "#283442",
           "linecolor": "#506784",
           "ticks": "",
           "title": {
            "standoff": 15
           },
           "zerolinecolor": "#283442",
           "zerolinewidth": 2
          },
          "yaxis": {
           "automargin": true,
           "gridcolor": "#283442",
           "linecolor": "#506784",
           "ticks": "",
           "title": {
            "standoff": 15
           },
           "zerolinecolor": "#283442",
           "zerolinewidth": 2
          }
         }
        },
        "xaxis": {
         "anchor": "y",
         "domain": [
          0,
          1
         ],
         "title": {
          "text": "Logged GDP per capita"
         }
        },
        "yaxis": {
         "anchor": "x",
         "domain": [
          0,
          1
         ],
         "title": {
          "text": "Ladder score"
         }
        }
       }
      },
      "text/html": [
       "<div>                            <div id=\"a95aedd8-df08-4fc9-b3aa-d5c57e05e710\" class=\"plotly-graph-div\" style=\"height:525px; width:100%;\"></div>            <script type=\"text/javascript\">                require([\"plotly\"], function(Plotly) {                    window.PLOTLYENV=window.PLOTLYENV || {};                                    if (document.getElementById(\"a95aedd8-df08-4fc9-b3aa-d5c57e05e710\")) {                    Plotly.newPlot(                        \"a95aedd8-df08-4fc9-b3aa-d5c57e05e710\",                        [{\"hovertemplate\":\"<b>%{hovertext}</b><br><br>Regional indicator=Western Europe<br>Logged GDP per capita=%{x}<br>Ladder score=%{y}<br>Perceptions of corruption=%{marker.size}<extra></extra>\",\"hovertext\":[\"Finland\",\"Denmark\",\"Switzerland\",\"Iceland\",\"Netherlands\",\"Norway\",\"Sweden\",\"Luxembourg\",\"Austria\",\"Germany\",\"Ireland\",\"United Kingdom\",\"Belgium\",\"France\",\"Malta\",\"Spain\",\"Italy\",\"Cyprus\",\"Portugal\",\"Greece\",\"North Cyprus\"],\"legendgroup\":\"Western Europe\",\"marker\":{\"color\":\"rgb(255,245,235)\",\"size\":[0.186,0.179,0.292,0.673,0.338,0.27,0.237,0.386,0.481,0.46,0.363,0.459,0.646,0.571,0.653,0.745,0.866,0.844,0.887,0.823,0.626],\"sizemode\":\"area\",\"sizeref\":0.0023474999999999998,\"symbol\":\"circle\"},\"mode\":\"markers\",\"name\":\"Western Europe\",\"orientation\":\"v\",\"showlegend\":true,\"x\":[10.775,10.933,11.117,10.878,10.932,11.053,10.867,11.647,10.906,10.873,11.342,10.707,10.823,10.704,10.674,10.571,10.623,10.576,10.421,10.279,10.576],\"xaxis\":\"x\",\"y\":[7.842,7.62,7.571,7.554,7.464,7.392,7.363,7.324,7.268,7.155,7.085,7.064,6.834,6.69,6.602,6.491,6.483,6.223,5.929,5.723,5.536],\"yaxis\":\"y\",\"type\":\"scatter\"},{\"hovertemplate\":\"<b>%{hovertext}</b><br><br>Regional indicator=North America and ANZ<br>Logged GDP per capita=%{x}<br>Ladder score=%{y}<br>Perceptions of corruption=%{marker.size}<extra></extra>\",\"hovertext\":[\"New Zealand\",\"Australia\",\"Canada\",\"United States\"],\"legendgroup\":\"North America and ANZ\",\"marker\":{\"color\":\"rgb(254,230,206)\",\"size\":[0.242,0.442,0.415,0.698],\"sizemode\":\"area\",\"sizeref\":0.0023474999999999998,\"symbol\":\"circle\"},\"mode\":\"markers\",\"name\":\"North America and ANZ\",\"orientation\":\"v\",\"showlegend\":true,\"x\":[10.643,10.796,10.776,11.023],\"xaxis\":\"x\",\"y\":[7.277,7.183,7.103,6.951],\"yaxis\":\"y\",\"type\":\"scatter\"},{\"hovertemplate\":\"<b>%{hovertext}</b><br><br>Regional indicator=Middle East and North Africa<br>Logged GDP per capita=%{x}<br>Ladder score=%{y}<br>Perceptions of corruption=%{marker.size}<extra></extra>\",\"hovertext\":[\"Israel\",\"Bahrain\",\"United Arab Emirates\",\"Saudi Arabia\",\"Kuwait\",\"Libya\",\"Turkey\",\"Morocco\",\"Algeria\",\"Iraq\",\"Iran\",\"Tunisia\",\"Lebanon\",\"Palestinian Territories\",\"Jordan\",\"Egypt\",\"Yemen\"],\"legendgroup\":\"Middle East and North Africa\",\"marker\":{\"color\":\"rgb(253,208,162)\",\"size\":[0.753,0.722,0.589,0.684,0.736,0.667,0.776,0.801,0.752,0.875,0.714,0.87,0.898,0.821,0.705,0.795,0.8],\"sizemode\":\"area\",\"sizeref\":0.0023474999999999998,\"symbol\":\"circle\"},\"mode\":\"markers\",\"name\":\"Middle East and North Africa\",\"orientation\":\"v\",\"showlegend\":true,\"x\":[10.575,10.669,11.085,10.743,10.817,9.622,10.24,8.903,9.342,9.24,9.584,9.266,9.626,8.485,9.182,9.367,7.578],\"xaxis\":\"x\",\"y\":[7.157,6.647,6.561,6.494,6.106,5.41,4.948,4.918,4.887,4.854,4.721,4.596,4.584,4.517,4.395,4.283,3.658],\"yaxis\":\"y\",\"type\":\"scatter\"},{\"hovertemplate\":\"<b>%{hovertext}</b><br><br>Regional indicator=Latin America and Caribbean<br>Logged GDP per capita=%{x}<br>Ladder score=%{y}<br>Perceptions of corruption=%{marker.size}<extra></extra>\",\"hovertext\":[\"Costa Rica\",\"Guatemala\",\"Uruguay\",\"Brazil\",\"Mexico\",\"Jamaica\",\"Panama\",\"Chile\",\"El Salvador\",\"Colombia\",\"Nicaragua\",\"Argentina\",\"Honduras\",\"Peru\",\"Ecuador\",\"Bolivia\",\"Paraguay\",\"Dominican Republic\",\"Venezuela\",\"Haiti\"],\"legendgroup\":\"Latin America and Caribbean\",\"marker\":{\"color\":\"rgb(253,174,107)\",\"size\":[0.809,0.775,0.59,0.756,0.799,0.884,0.856,0.83,0.688,0.841,0.664,0.834,0.809,0.891,0.843,0.839,0.882,0.714,0.827,0.721],\"sizemode\":\"area\",\"sizeref\":0.0023474999999999998,\"symbol\":\"circle\"},\"mode\":\"markers\",\"name\":\"Latin America and Caribbean\",\"orientation\":\"v\",\"showlegend\":true,\"x\":[9.88,9.053,9.966,9.577,9.859,9.186,10.35,10.071,9.054,9.557,8.62,9.962,8.648,9.458,9.313,9.046,9.448,9.802,9.073,7.477],\"xaxis\":\"x\",\"y\":[7.069,6.435,6.431,6.33,6.317,6.309,6.18,6.172,6.061,6.012,5.972,5.929,5.919,5.84,5.764,5.716,5.653,5.545,4.892,3.615],\"yaxis\":\"y\",\"type\":\"scatter\"},{\"hovertemplate\":\"<b>%{hovertext}</b><br><br>Regional indicator=Central and Eastern Europe<br>Logged GDP per capita=%{x}<br>Ladder score=%{y}<br>Perceptions of corruption=%{marker.size}<extra></extra>\",\"hovertext\":[\"Czech Republic\",\"Slovenia\",\"Kosovo\",\"Slovakia\",\"Lithuania\",\"Estonia\",\"Poland\",\"Romania\",\"Serbia\",\"Latvia\",\"Hungary\",\"Croatia\",\"Bosnia and Herzegovina\",\"Montenegro\",\"Bulgaria\",\"Albania\",\"North Macedonia\"],\"legendgroup\":\"Central and Eastern Europe\",\"marker\":{\"color\":\"rgb(253,141,60)\",\"size\":[0.868,0.806,0.917,0.911,0.826,0.527,0.735,0.938,0.835,0.8,0.876,0.939,0.931,0.812,0.932,0.901,0.905],\"sizemode\":\"area\",\"sizeref\":0.0023474999999999998,\"symbol\":\"circle\"},\"mode\":\"markers\",\"name\":\"Central and Eastern Europe\",\"orientation\":\"v\",\"showlegend\":true,\"x\":[10.556,10.529,9.318,10.369,10.499,10.481,10.382,10.284,9.787,10.315,10.358,10.217,9.59,9.94,10.016,9.52,9.693],\"xaxis\":\"x\",\"y\":[6.965,6.461,6.372,6.331,6.255,6.189,6.166,6.14,6.078,6.032,5.992,5.882,5.813,5.581,5.266,5.117,5.101],\"yaxis\":\"y\",\"type\":\"scatter\"},{\"hovertemplate\":\"<b>%{hovertext}</b><br><br>Regional indicator=East Asia<br>Logged GDP per capita=%{x}<br>Ladder score=%{y}<br>Perceptions of corruption=%{marker.size}<extra></extra>\",\"hovertext\":[\"Taiwan Province of China\",\"Japan\",\"South Korea\",\"Mongolia\",\"Hong Kong S.A.R. of China\",\"China\"],\"legendgroup\":\"East Asia\",\"marker\":{\"color\":\"rgb(241,105,19)\",\"size\":[0.721,0.638,0.727,0.856,0.403,0.755],\"sizemode\":\"area\",\"sizeref\":0.0023474999999999998,\"symbol\":\"circle\"},\"mode\":\"markers\",\"name\":\"East Asia\",\"orientation\":\"v\",\"showlegend\":true,\"x\":[10.871,10.611,10.651,9.4,11.0,9.673],\"xaxis\":\"x\",\"y\":[6.584,5.94,5.845,5.677,5.477,5.339],\"yaxis\":\"y\",\"type\":\"scatter\"},{\"hovertemplate\":\"<b>%{hovertext}</b><br><br>Regional indicator=Southeast Asia<br>Logged GDP per capita=%{x}<br>Ladder score=%{y}<br>Perceptions of corruption=%{marker.size}<extra></extra>\",\"hovertext\":[\"Singapore\",\"Thailand\",\"Philippines\",\"Vietnam\",\"Malaysia\",\"Indonesia\",\"Laos\",\"Cambodia\",\"Myanmar\"],\"legendgroup\":\"Southeast Asia\",\"marker\":{\"color\":\"rgb(217,72,1)\",\"size\":[0.082,0.895,0.742,0.796,0.839,0.867,0.658,0.843,0.66],\"sizemode\":\"area\",\"sizeref\":0.0023474999999999998,\"symbol\":\"circle\"},\"mode\":\"markers\",\"name\":\"Southeast Asia\",\"orientation\":\"v\",\"showlegend\":true,\"x\":[11.488,9.805,9.076,8.973,10.238,9.365,8.947,8.36,8.541],\"xaxis\":\"x\",\"y\":[6.377,5.985,5.88,5.411,5.384,5.345,5.03,4.83,4.426],\"yaxis\":\"y\",\"type\":\"scatter\"},{\"hovertemplate\":\"<b>%{hovertext}</b><br><br>Regional indicator=Commonwealth of Independent States<br>Logged GDP per capita=%{x}<br>Ladder score=%{y}<br>Perceptions of corruption=%{marker.size}<extra></extra>\",\"hovertext\":[\"Uzbekistan\",\"Kazakhstan\",\"Moldova\",\"Kyrgyzstan\",\"Belarus\",\"Russia\",\"Tajikistan\",\"Armenia\",\"Azerbaijan\",\"Turkmenistan\",\"Georgia\",\"Ukraine\"],\"legendgroup\":\"Commonwealth of Independent States\",\"marker\":{\"color\":\"rgb(166,54,3)\",\"size\":[0.515,0.733,0.918,0.908,0.627,0.845,0.553,0.629,0.506,0.888,0.655,0.924],\"sizemode\":\"area\",\"sizeref\":0.0023474999999999998,\"symbol\":\"circle\"},\"mode\":\"markers\",\"name\":\"Commonwealth of Independent States\",\"orientation\":\"v\",\"showlegend\":true,\"x\":[8.836,10.155,9.454,8.538,9.853,10.189,8.091,9.487,9.569,9.629,9.585,9.436],\"xaxis\":\"x\",\"y\":[6.179,6.152,5.766,5.744,5.534,5.477,5.466,5.283,5.171,5.066,4.891,4.875],\"yaxis\":\"y\",\"type\":\"scatter\"},{\"hovertemplate\":\"<b>%{hovertext}</b><br><br>Regional indicator=Sub-Saharan Africa<br>Logged GDP per capita=%{x}<br>Ladder score=%{y}<br>Perceptions of corruption=%{marker.size}<extra></extra>\",\"hovertext\":[\"Mauritius\",\"Congo (Brazzaville)\",\"Ivory Coast\",\"Cameroon\",\"Senegal\",\"Ghana\",\"Niger\",\"Gambia\",\"Benin\",\"Guinea\",\"South Africa\",\"Gabon\",\"Burkina Faso\",\"Mozambique\",\"Nigeria\",\"Mali\",\"Uganda\",\"Liberia\",\"Kenya\",\"Namibia\",\"Chad\",\"Swaziland\",\"Comoros\",\"Ethiopia\",\"Mauritania\",\"Madagascar\",\"Togo\",\"Zambia\",\"Sierra Leone\",\"Burundi\",\"Tanzania\",\"Malawi\",\"Lesotho\",\"Botswana\",\"Rwanda\",\"Zimbabwe\"],\"legendgroup\":\"Sub-Saharan Africa\",\"marker\":{\"color\":\"rgb(127,39,4)\",\"size\":[0.789,0.745,0.794,0.848,0.801,0.848,0.693,0.746,0.661,0.766,0.86,0.84,0.748,0.684,0.878,0.827,0.855,0.85,0.825,0.847,0.807,0.708,0.781,0.761,0.731,0.803,0.772,0.823,0.866,0.607,0.577,0.729,0.915,0.801,0.167,0.821],\"sizemode\":\"area\",\"sizeref\":0.0023474999999999998,\"symbol\":\"circle\"},\"mode\":\"markers\",\"name\":\"Sub-Saharan Africa\",\"orientation\":\"v\",\"showlegend\":true,\"x\":[10.008,8.117,8.551,8.189,8.118,8.58,7.098,7.686,8.087,7.838,9.403,9.603,7.678,7.158,8.533,7.744,7.677,7.288,8.361,9.161,7.364,9.065,8.031,7.694,8.542,7.396,7.362,8.145,7.434,6.635,7.876,6.958,7.926,9.782,7.676,7.943],\"xaxis\":\"x\",\"y\":[6.049,5.342,5.306,5.142,5.132,5.088,5.074,5.051,5.045,4.984,4.956,4.852,4.834,4.794,4.759,4.723,4.636,4.625,4.607,4.574,4.355,4.308,4.289,4.275,4.227,4.208,4.107,4.073,3.849,3.775,3.623,3.6,3.512,3.467,3.415,3.145],\"yaxis\":\"y\",\"type\":\"scatter\"},{\"hovertemplate\":\"<b>%{hovertext}</b><br><br>Regional indicator=South Asia<br>Logged GDP per capita=%{x}<br>Ladder score=%{y}<br>Perceptions of corruption=%{marker.size}<extra></extra>\",\"hovertext\":[\"Nepal\",\"Maldives\",\"Bangladesh\",\"Pakistan\",\"Sri Lanka\",\"India\",\"Afghanistan\"],\"legendgroup\":\"South Asia\",\"marker\":{\"color\":\"rgb(255,245,235)\",\"size\":[0.727,0.825,0.682,0.787,0.863,0.774,0.924],\"sizemode\":\"area\",\"sizeref\":0.0023474999999999998,\"symbol\":\"circle\"},\"mode\":\"markers\",\"name\":\"South Asia\",\"orientation\":\"v\",\"showlegend\":true,\"x\":[8.12,9.826,8.454,8.458,9.47,8.755,7.695],\"xaxis\":\"x\",\"y\":[5.269,5.198,5.025,4.934,4.325,3.819,2.523],\"yaxis\":\"y\",\"type\":\"scatter\"}],                        {\"template\":{\"data\":{\"barpolar\":[{\"marker\":{\"line\":{\"color\":\"rgb(17,17,17)\",\"width\":0.5},\"pattern\":{\"fillmode\":\"overlay\",\"size\":10,\"solidity\":0.2}},\"type\":\"barpolar\"}],\"bar\":[{\"error_x\":{\"color\":\"#f2f5fa\"},\"error_y\":{\"color\":\"#f2f5fa\"},\"marker\":{\"line\":{\"color\":\"rgb(17,17,17)\",\"width\":0.5},\"pattern\":{\"fillmode\":\"overlay\",\"size\":10,\"solidity\":0.2}},\"type\":\"bar\"}],\"carpet\":[{\"aaxis\":{\"endlinecolor\":\"#A2B1C6\",\"gridcolor\":\"#506784\",\"linecolor\":\"#506784\",\"minorgridcolor\":\"#506784\",\"startlinecolor\":\"#A2B1C6\"},\"baxis\":{\"endlinecolor\":\"#A2B1C6\",\"gridcolor\":\"#506784\",\"linecolor\":\"#506784\",\"minorgridcolor\":\"#506784\",\"startlinecolor\":\"#A2B1C6\"},\"type\":\"carpet\"}],\"choropleth\":[{\"colorbar\":{\"outlinewidth\":0,\"ticks\":\"\"},\"type\":\"choropleth\"}],\"contourcarpet\":[{\"colorbar\":{\"outlinewidth\":0,\"ticks\":\"\"},\"type\":\"contourcarpet\"}],\"contour\":[{\"colorbar\":{\"outlinewidth\":0,\"ticks\":\"\"},\"colorscale\":[[0.0,\"#0d0887\"],[0.1111111111111111,\"#46039f\"],[0.2222222222222222,\"#7201a8\"],[0.3333333333333333,\"#9c179e\"],[0.4444444444444444,\"#bd3786\"],[0.5555555555555556,\"#d8576b\"],[0.6666666666666666,\"#ed7953\"],[0.7777777777777778,\"#fb9f3a\"],[0.8888888888888888,\"#fdca26\"],[1.0,\"#f0f921\"]],\"type\":\"contour\"}],\"heatmapgl\":[{\"colorbar\":{\"outlinewidth\":0,\"ticks\":\"\"},\"colorscale\":[[0.0,\"#0d0887\"],[0.1111111111111111,\"#46039f\"],[0.2222222222222222,\"#7201a8\"],[0.3333333333333333,\"#9c179e\"],[0.4444444444444444,\"#bd3786\"],[0.5555555555555556,\"#d8576b\"],[0.6666666666666666,\"#ed7953\"],[0.7777777777777778,\"#fb9f3a\"],[0.8888888888888888,\"#fdca26\"],[1.0,\"#f0f921\"]],\"type\":\"heatmapgl\"}],\"heatmap\":[{\"colorbar\":{\"outlinewidth\":0,\"ticks\":\"\"},\"colorscale\":[[0.0,\"#0d0887\"],[0.1111111111111111,\"#46039f\"],[0.2222222222222222,\"#7201a8\"],[0.3333333333333333,\"#9c179e\"],[0.4444444444444444,\"#bd3786\"],[0.5555555555555556,\"#d8576b\"],[0.6666666666666666,\"#ed7953\"],[0.7777777777777778,\"#fb9f3a\"],[0.8888888888888888,\"#fdca26\"],[1.0,\"#f0f921\"]],\"type\":\"heatmap\"}],\"histogram2dcontour\":[{\"colorbar\":{\"outlinewidth\":0,\"ticks\":\"\"},\"colorscale\":[[0.0,\"#0d0887\"],[0.1111111111111111,\"#46039f\"],[0.2222222222222222,\"#7201a8\"],[0.3333333333333333,\"#9c179e\"],[0.4444444444444444,\"#bd3786\"],[0.5555555555555556,\"#d8576b\"],[0.6666666666666666,\"#ed7953\"],[0.7777777777777778,\"#fb9f3a\"],[0.8888888888888888,\"#fdca26\"],[1.0,\"#f0f921\"]],\"type\":\"histogram2dcontour\"}],\"histogram2d\":[{\"colorbar\":{\"outlinewidth\":0,\"ticks\":\"\"},\"colorscale\":[[0.0,\"#0d0887\"],[0.1111111111111111,\"#46039f\"],[0.2222222222222222,\"#7201a8\"],[0.3333333333333333,\"#9c179e\"],[0.4444444444444444,\"#bd3786\"],[0.5555555555555556,\"#d8576b\"],[0.6666666666666666,\"#ed7953\"],[0.7777777777777778,\"#fb9f3a\"],[0.8888888888888888,\"#fdca26\"],[1.0,\"#f0f921\"]],\"type\":\"histogram2d\"}],\"histogram\":[{\"marker\":{\"pattern\":{\"fillmode\":\"overlay\",\"size\":10,\"solidity\":0.2}},\"type\":\"histogram\"}],\"mesh3d\":[{\"colorbar\":{\"outlinewidth\":0,\"ticks\":\"\"},\"type\":\"mesh3d\"}],\"parcoords\":[{\"line\":{\"colorbar\":{\"outlinewidth\":0,\"ticks\":\"\"}},\"type\":\"parcoords\"}],\"pie\":[{\"automargin\":true,\"type\":\"pie\"}],\"scatter3d\":[{\"line\":{\"colorbar\":{\"outlinewidth\":0,\"ticks\":\"\"}},\"marker\":{\"colorbar\":{\"outlinewidth\":0,\"ticks\":\"\"}},\"type\":\"scatter3d\"}],\"scattercarpet\":[{\"marker\":{\"colorbar\":{\"outlinewidth\":0,\"ticks\":\"\"}},\"type\":\"scattercarpet\"}],\"scattergeo\":[{\"marker\":{\"colorbar\":{\"outlinewidth\":0,\"ticks\":\"\"}},\"type\":\"scattergeo\"}],\"scattergl\":[{\"marker\":{\"line\":{\"color\":\"#283442\"}},\"type\":\"scattergl\"}],\"scattermapbox\":[{\"marker\":{\"colorbar\":{\"outlinewidth\":0,\"ticks\":\"\"}},\"type\":\"scattermapbox\"}],\"scatterpolargl\":[{\"marker\":{\"colorbar\":{\"outlinewidth\":0,\"ticks\":\"\"}},\"type\":\"scatterpolargl\"}],\"scatterpolar\":[{\"marker\":{\"colorbar\":{\"outlinewidth\":0,\"ticks\":\"\"}},\"type\":\"scatterpolar\"}],\"scatter\":[{\"marker\":{\"line\":{\"color\":\"#283442\"}},\"type\":\"scatter\"}],\"scatterternary\":[{\"marker\":{\"colorbar\":{\"outlinewidth\":0,\"ticks\":\"\"}},\"type\":\"scatterternary\"}],\"surface\":[{\"colorbar\":{\"outlinewidth\":0,\"ticks\":\"\"},\"colorscale\":[[0.0,\"#0d0887\"],[0.1111111111111111,\"#46039f\"],[0.2222222222222222,\"#7201a8\"],[0.3333333333333333,\"#9c179e\"],[0.4444444444444444,\"#bd3786\"],[0.5555555555555556,\"#d8576b\"],[0.6666666666666666,\"#ed7953\"],[0.7777777777777778,\"#fb9f3a\"],[0.8888888888888888,\"#fdca26\"],[1.0,\"#f0f921\"]],\"type\":\"surface\"}],\"table\":[{\"cells\":{\"fill\":{\"color\":\"#506784\"},\"line\":{\"color\":\"rgb(17,17,17)\"}},\"header\":{\"fill\":{\"color\":\"#2a3f5f\"},\"line\":{\"color\":\"rgb(17,17,17)\"}},\"type\":\"table\"}]},\"layout\":{\"annotationdefaults\":{\"arrowcolor\":\"#f2f5fa\",\"arrowhead\":0,\"arrowwidth\":1},\"autotypenumbers\":\"strict\",\"coloraxis\":{\"colorbar\":{\"outlinewidth\":0,\"ticks\":\"\"}},\"colorscale\":{\"diverging\":[[0,\"#8e0152\"],[0.1,\"#c51b7d\"],[0.2,\"#de77ae\"],[0.3,\"#f1b6da\"],[0.4,\"#fde0ef\"],[0.5,\"#f7f7f7\"],[0.6,\"#e6f5d0\"],[0.7,\"#b8e186\"],[0.8,\"#7fbc41\"],[0.9,\"#4d9221\"],[1,\"#276419\"]],\"sequential\":[[0.0,\"#0d0887\"],[0.1111111111111111,\"#46039f\"],[0.2222222222222222,\"#7201a8\"],[0.3333333333333333,\"#9c179e\"],[0.4444444444444444,\"#bd3786\"],[0.5555555555555556,\"#d8576b\"],[0.6666666666666666,\"#ed7953\"],[0.7777777777777778,\"#fb9f3a\"],[0.8888888888888888,\"#fdca26\"],[1.0,\"#f0f921\"]],\"sequentialminus\":[[0.0,\"#0d0887\"],[0.1111111111111111,\"#46039f\"],[0.2222222222222222,\"#7201a8\"],[0.3333333333333333,\"#9c179e\"],[0.4444444444444444,\"#bd3786\"],[0.5555555555555556,\"#d8576b\"],[0.6666666666666666,\"#ed7953\"],[0.7777777777777778,\"#fb9f3a\"],[0.8888888888888888,\"#fdca26\"],[1.0,\"#f0f921\"]]},\"colorway\":[\"#636efa\",\"#EF553B\",\"#00cc96\",\"#ab63fa\",\"#FFA15A\",\"#19d3f3\",\"#FF6692\",\"#B6E880\",\"#FF97FF\",\"#FECB52\"],\"font\":{\"color\":\"#f2f5fa\"},\"geo\":{\"bgcolor\":\"rgb(17,17,17)\",\"lakecolor\":\"rgb(17,17,17)\",\"landcolor\":\"rgb(17,17,17)\",\"showlakes\":true,\"showland\":true,\"subunitcolor\":\"#506784\"},\"hoverlabel\":{\"align\":\"left\"},\"hovermode\":\"closest\",\"mapbox\":{\"style\":\"dark\"},\"paper_bgcolor\":\"rgb(17,17,17)\",\"plot_bgcolor\":\"rgb(17,17,17)\",\"polar\":{\"angularaxis\":{\"gridcolor\":\"#506784\",\"linecolor\":\"#506784\",\"ticks\":\"\"},\"bgcolor\":\"rgb(17,17,17)\",\"radialaxis\":{\"gridcolor\":\"#506784\",\"linecolor\":\"#506784\",\"ticks\":\"\"}},\"scene\":{\"xaxis\":{\"backgroundcolor\":\"rgb(17,17,17)\",\"gridcolor\":\"#506784\",\"gridwidth\":2,\"linecolor\":\"#506784\",\"showbackground\":true,\"ticks\":\"\",\"zerolinecolor\":\"#C8D4E3\"},\"yaxis\":{\"backgroundcolor\":\"rgb(17,17,17)\",\"gridcolor\":\"#506784\",\"gridwidth\":2,\"linecolor\":\"#506784\",\"showbackground\":true,\"ticks\":\"\",\"zerolinecolor\":\"#C8D4E3\"},\"zaxis\":{\"backgroundcolor\":\"rgb(17,17,17)\",\"gridcolor\":\"#506784\",\"gridwidth\":2,\"linecolor\":\"#506784\",\"showbackground\":true,\"ticks\":\"\",\"zerolinecolor\":\"#C8D4E3\"}},\"shapedefaults\":{\"line\":{\"color\":\"#f2f5fa\"}},\"sliderdefaults\":{\"bgcolor\":\"#C8D4E3\",\"bordercolor\":\"rgb(17,17,17)\",\"borderwidth\":1,\"tickwidth\":0},\"ternary\":{\"aaxis\":{\"gridcolor\":\"#506784\",\"linecolor\":\"#506784\",\"ticks\":\"\"},\"baxis\":{\"gridcolor\":\"#506784\",\"linecolor\":\"#506784\",\"ticks\":\"\"},\"bgcolor\":\"rgb(17,17,17)\",\"caxis\":{\"gridcolor\":\"#506784\",\"linecolor\":\"#506784\",\"ticks\":\"\"}},\"title\":{\"x\":0.05},\"updatemenudefaults\":{\"bgcolor\":\"#506784\",\"borderwidth\":0},\"xaxis\":{\"automargin\":true,\"gridcolor\":\"#283442\",\"linecolor\":\"#506784\",\"ticks\":\"\",\"title\":{\"standoff\":15},\"zerolinecolor\":\"#283442\",\"zerolinewidth\":2},\"yaxis\":{\"automargin\":true,\"gridcolor\":\"#283442\",\"linecolor\":\"#506784\",\"ticks\":\"\",\"title\":{\"standoff\":15},\"zerolinecolor\":\"#283442\",\"zerolinewidth\":2}}},\"xaxis\":{\"anchor\":\"y\",\"domain\":[0.0,1.0],\"title\":{\"text\":\"Logged GDP per capita\"}},\"yaxis\":{\"anchor\":\"x\",\"domain\":[0.0,1.0],\"title\":{\"text\":\"Ladder score\"}},\"legend\":{\"title\":{\"text\":\"Regional indicator\"},\"tracegroupgap\":0,\"itemsizing\":\"constant\"},\"margin\":{\"t\":60}},                        {\"responsive\": true}                    ).then(function(){\n",
       "                            \n",
       "var gd = document.getElementById('a95aedd8-df08-4fc9-b3aa-d5c57e05e710');\n",
       "var x = new MutationObserver(function (mutations, observer) {{\n",
       "        var display = window.getComputedStyle(gd).display;\n",
       "        if (!display || display === 'none') {{\n",
       "            console.log([gd, 'removed!']);\n",
       "            Plotly.purge(gd);\n",
       "            observer.disconnect();\n",
       "        }}\n",
       "}});\n",
       "\n",
       "// Listen for the removal of the full notebook cells\n",
       "var notebookContainer = gd.closest('#notebook-container');\n",
       "if (notebookContainer) {{\n",
       "    x.observe(notebookContainer, {childList: true});\n",
       "}}\n",
       "\n",
       "// Listen for the clearing of the current output cell\n",
       "var outputEl = gd.closest('.output');\n",
       "if (outputEl) {{\n",
       "    x.observe(outputEl, {childList: true});\n",
       "}}\n",
       "\n",
       "                        })                };                });            </script>        </div>"
      ]
     },
     "metadata": {},
     "output_type": "display_data"
    }
   ],
   "source": [
    "fig = px.scatter(df, x=\"Logged GDP per capita\", y=\"Ladder score\", \n",
    "                color=\"Regional indicator\", \n",
    "                color_discrete_sequence = px.colors.sequential.Oranges, \n",
    "                template = 'plotly_dark',\n",
    "                size = 'Perceptions of corruption',\n",
    "                hover_name=\"Country name\")\n",
    "fig.show()"
   ]
  },
  {
   "cell_type": "markdown",
   "id": "b599f763",
   "metadata": {},
   "source": [
    "### dengan grafik di atas menjukan GDP yang besar dan tingkat korupsi yang kecil menunjukan score yan gtinggi pula, contoh finlandia dan singapura, sementara GDP paling besar adalah negara luxembourg yaitu 11.647"
   ]
  },
  {
   "cell_type": "code",
   "execution_count": 99,
   "id": "62b08acd",
   "metadata": {},
   "outputs": [
    {
     "data": {
      "application/vnd.plotly.v1+json": {
       "config": {
        "plotlyServerURL": "https://plot.ly"
       },
       "data": [
        {
         "hovertemplate": "<b>%{hovertext}</b><br><br>Country name=Singapore<br>Logged GDP per capita=%{x}<br>Ladder score=%{y}<br>Perceptions of corruption=%{marker.size}<extra></extra>",
         "hovertext": [
          "Singapore"
         ],
         "legendgroup": "Singapore",
         "marker": {
          "color": "rgb(255,245,235)",
          "size": [
           0.082
          ],
          "sizemode": "area",
          "sizeref": 0.0022375,
          "symbol": "circle"
         },
         "mode": "markers",
         "name": "Singapore",
         "orientation": "v",
         "showlegend": true,
         "type": "scatter",
         "x": [
          11.488
         ],
         "xaxis": "x",
         "y": [
          6.377
         ],
         "yaxis": "y"
        },
        {
         "hovertemplate": "<b>%{hovertext}</b><br><br>Country name=Thailand<br>Logged GDP per capita=%{x}<br>Ladder score=%{y}<br>Perceptions of corruption=%{marker.size}<extra></extra>",
         "hovertext": [
          "Thailand"
         ],
         "legendgroup": "Thailand",
         "marker": {
          "color": "rgb(254,230,206)",
          "size": [
           0.895
          ],
          "sizemode": "area",
          "sizeref": 0.0022375,
          "symbol": "circle"
         },
         "mode": "markers",
         "name": "Thailand",
         "orientation": "v",
         "showlegend": true,
         "type": "scatter",
         "x": [
          9.805
         ],
         "xaxis": "x",
         "y": [
          5.985
         ],
         "yaxis": "y"
        },
        {
         "hovertemplate": "<b>%{hovertext}</b><br><br>Country name=Philippines<br>Logged GDP per capita=%{x}<br>Ladder score=%{y}<br>Perceptions of corruption=%{marker.size}<extra></extra>",
         "hovertext": [
          "Philippines"
         ],
         "legendgroup": "Philippines",
         "marker": {
          "color": "rgb(253,208,162)",
          "size": [
           0.742
          ],
          "sizemode": "area",
          "sizeref": 0.0022375,
          "symbol": "circle"
         },
         "mode": "markers",
         "name": "Philippines",
         "orientation": "v",
         "showlegend": true,
         "type": "scatter",
         "x": [
          9.076
         ],
         "xaxis": "x",
         "y": [
          5.88
         ],
         "yaxis": "y"
        },
        {
         "hovertemplate": "<b>%{hovertext}</b><br><br>Country name=Vietnam<br>Logged GDP per capita=%{x}<br>Ladder score=%{y}<br>Perceptions of corruption=%{marker.size}<extra></extra>",
         "hovertext": [
          "Vietnam"
         ],
         "legendgroup": "Vietnam",
         "marker": {
          "color": "rgb(253,174,107)",
          "size": [
           0.796
          ],
          "sizemode": "area",
          "sizeref": 0.0022375,
          "symbol": "circle"
         },
         "mode": "markers",
         "name": "Vietnam",
         "orientation": "v",
         "showlegend": true,
         "type": "scatter",
         "x": [
          8.973
         ],
         "xaxis": "x",
         "y": [
          5.411
         ],
         "yaxis": "y"
        },
        {
         "hovertemplate": "<b>%{hovertext}</b><br><br>Country name=Malaysia<br>Logged GDP per capita=%{x}<br>Ladder score=%{y}<br>Perceptions of corruption=%{marker.size}<extra></extra>",
         "hovertext": [
          "Malaysia"
         ],
         "legendgroup": "Malaysia",
         "marker": {
          "color": "rgb(253,141,60)",
          "size": [
           0.839
          ],
          "sizemode": "area",
          "sizeref": 0.0022375,
          "symbol": "circle"
         },
         "mode": "markers",
         "name": "Malaysia",
         "orientation": "v",
         "showlegend": true,
         "type": "scatter",
         "x": [
          10.238
         ],
         "xaxis": "x",
         "y": [
          5.384
         ],
         "yaxis": "y"
        },
        {
         "hovertemplate": "<b>%{hovertext}</b><br><br>Country name=Indonesia<br>Logged GDP per capita=%{x}<br>Ladder score=%{y}<br>Perceptions of corruption=%{marker.size}<extra></extra>",
         "hovertext": [
          "Indonesia"
         ],
         "legendgroup": "Indonesia",
         "marker": {
          "color": "rgb(241,105,19)",
          "size": [
           0.867
          ],
          "sizemode": "area",
          "sizeref": 0.0022375,
          "symbol": "circle"
         },
         "mode": "markers",
         "name": "Indonesia",
         "orientation": "v",
         "showlegend": true,
         "type": "scatter",
         "x": [
          9.365
         ],
         "xaxis": "x",
         "y": [
          5.345
         ],
         "yaxis": "y"
        },
        {
         "hovertemplate": "<b>%{hovertext}</b><br><br>Country name=Laos<br>Logged GDP per capita=%{x}<br>Ladder score=%{y}<br>Perceptions of corruption=%{marker.size}<extra></extra>",
         "hovertext": [
          "Laos"
         ],
         "legendgroup": "Laos",
         "marker": {
          "color": "rgb(217,72,1)",
          "size": [
           0.658
          ],
          "sizemode": "area",
          "sizeref": 0.0022375,
          "symbol": "circle"
         },
         "mode": "markers",
         "name": "Laos",
         "orientation": "v",
         "showlegend": true,
         "type": "scatter",
         "x": [
          8.947
         ],
         "xaxis": "x",
         "y": [
          5.03
         ],
         "yaxis": "y"
        },
        {
         "hovertemplate": "<b>%{hovertext}</b><br><br>Country name=Cambodia<br>Logged GDP per capita=%{x}<br>Ladder score=%{y}<br>Perceptions of corruption=%{marker.size}<extra></extra>",
         "hovertext": [
          "Cambodia"
         ],
         "legendgroup": "Cambodia",
         "marker": {
          "color": "rgb(166,54,3)",
          "size": [
           0.843
          ],
          "sizemode": "area",
          "sizeref": 0.0022375,
          "symbol": "circle"
         },
         "mode": "markers",
         "name": "Cambodia",
         "orientation": "v",
         "showlegend": true,
         "type": "scatter",
         "x": [
          8.36
         ],
         "xaxis": "x",
         "y": [
          4.83
         ],
         "yaxis": "y"
        },
        {
         "hovertemplate": "<b>%{hovertext}</b><br><br>Country name=Myanmar<br>Logged GDP per capita=%{x}<br>Ladder score=%{y}<br>Perceptions of corruption=%{marker.size}<extra></extra>",
         "hovertext": [
          "Myanmar"
         ],
         "legendgroup": "Myanmar",
         "marker": {
          "color": "rgb(127,39,4)",
          "size": [
           0.66
          ],
          "sizemode": "area",
          "sizeref": 0.0022375,
          "symbol": "circle"
         },
         "mode": "markers",
         "name": "Myanmar",
         "orientation": "v",
         "showlegend": true,
         "type": "scatter",
         "x": [
          8.541
         ],
         "xaxis": "x",
         "y": [
          4.426
         ],
         "yaxis": "y"
        }
       ],
       "layout": {
        "legend": {
         "itemsizing": "constant",
         "title": {
          "text": "Country name"
         },
         "tracegroupgap": 0
        },
        "margin": {
         "t": 60
        },
        "template": {
         "data": {
          "bar": [
           {
            "error_x": {
             "color": "#f2f5fa"
            },
            "error_y": {
             "color": "#f2f5fa"
            },
            "marker": {
             "line": {
              "color": "rgb(17,17,17)",
              "width": 0.5
             },
             "pattern": {
              "fillmode": "overlay",
              "size": 10,
              "solidity": 0.2
             }
            },
            "type": "bar"
           }
          ],
          "barpolar": [
           {
            "marker": {
             "line": {
              "color": "rgb(17,17,17)",
              "width": 0.5
             },
             "pattern": {
              "fillmode": "overlay",
              "size": 10,
              "solidity": 0.2
             }
            },
            "type": "barpolar"
           }
          ],
          "carpet": [
           {
            "aaxis": {
             "endlinecolor": "#A2B1C6",
             "gridcolor": "#506784",
             "linecolor": "#506784",
             "minorgridcolor": "#506784",
             "startlinecolor": "#A2B1C6"
            },
            "baxis": {
             "endlinecolor": "#A2B1C6",
             "gridcolor": "#506784",
             "linecolor": "#506784",
             "minorgridcolor": "#506784",
             "startlinecolor": "#A2B1C6"
            },
            "type": "carpet"
           }
          ],
          "choropleth": [
           {
            "colorbar": {
             "outlinewidth": 0,
             "ticks": ""
            },
            "type": "choropleth"
           }
          ],
          "contour": [
           {
            "colorbar": {
             "outlinewidth": 0,
             "ticks": ""
            },
            "colorscale": [
             [
              0,
              "#0d0887"
             ],
             [
              0.1111111111111111,
              "#46039f"
             ],
             [
              0.2222222222222222,
              "#7201a8"
             ],
             [
              0.3333333333333333,
              "#9c179e"
             ],
             [
              0.4444444444444444,
              "#bd3786"
             ],
             [
              0.5555555555555556,
              "#d8576b"
             ],
             [
              0.6666666666666666,
              "#ed7953"
             ],
             [
              0.7777777777777778,
              "#fb9f3a"
             ],
             [
              0.8888888888888888,
              "#fdca26"
             ],
             [
              1,
              "#f0f921"
             ]
            ],
            "type": "contour"
           }
          ],
          "contourcarpet": [
           {
            "colorbar": {
             "outlinewidth": 0,
             "ticks": ""
            },
            "type": "contourcarpet"
           }
          ],
          "heatmap": [
           {
            "colorbar": {
             "outlinewidth": 0,
             "ticks": ""
            },
            "colorscale": [
             [
              0,
              "#0d0887"
             ],
             [
              0.1111111111111111,
              "#46039f"
             ],
             [
              0.2222222222222222,
              "#7201a8"
             ],
             [
              0.3333333333333333,
              "#9c179e"
             ],
             [
              0.4444444444444444,
              "#bd3786"
             ],
             [
              0.5555555555555556,
              "#d8576b"
             ],
             [
              0.6666666666666666,
              "#ed7953"
             ],
             [
              0.7777777777777778,
              "#fb9f3a"
             ],
             [
              0.8888888888888888,
              "#fdca26"
             ],
             [
              1,
              "#f0f921"
             ]
            ],
            "type": "heatmap"
           }
          ],
          "heatmapgl": [
           {
            "colorbar": {
             "outlinewidth": 0,
             "ticks": ""
            },
            "colorscale": [
             [
              0,
              "#0d0887"
             ],
             [
              0.1111111111111111,
              "#46039f"
             ],
             [
              0.2222222222222222,
              "#7201a8"
             ],
             [
              0.3333333333333333,
              "#9c179e"
             ],
             [
              0.4444444444444444,
              "#bd3786"
             ],
             [
              0.5555555555555556,
              "#d8576b"
             ],
             [
              0.6666666666666666,
              "#ed7953"
             ],
             [
              0.7777777777777778,
              "#fb9f3a"
             ],
             [
              0.8888888888888888,
              "#fdca26"
             ],
             [
              1,
              "#f0f921"
             ]
            ],
            "type": "heatmapgl"
           }
          ],
          "histogram": [
           {
            "marker": {
             "pattern": {
              "fillmode": "overlay",
              "size": 10,
              "solidity": 0.2
             }
            },
            "type": "histogram"
           }
          ],
          "histogram2d": [
           {
            "colorbar": {
             "outlinewidth": 0,
             "ticks": ""
            },
            "colorscale": [
             [
              0,
              "#0d0887"
             ],
             [
              0.1111111111111111,
              "#46039f"
             ],
             [
              0.2222222222222222,
              "#7201a8"
             ],
             [
              0.3333333333333333,
              "#9c179e"
             ],
             [
              0.4444444444444444,
              "#bd3786"
             ],
             [
              0.5555555555555556,
              "#d8576b"
             ],
             [
              0.6666666666666666,
              "#ed7953"
             ],
             [
              0.7777777777777778,
              "#fb9f3a"
             ],
             [
              0.8888888888888888,
              "#fdca26"
             ],
             [
              1,
              "#f0f921"
             ]
            ],
            "type": "histogram2d"
           }
          ],
          "histogram2dcontour": [
           {
            "colorbar": {
             "outlinewidth": 0,
             "ticks": ""
            },
            "colorscale": [
             [
              0,
              "#0d0887"
             ],
             [
              0.1111111111111111,
              "#46039f"
             ],
             [
              0.2222222222222222,
              "#7201a8"
             ],
             [
              0.3333333333333333,
              "#9c179e"
             ],
             [
              0.4444444444444444,
              "#bd3786"
             ],
             [
              0.5555555555555556,
              "#d8576b"
             ],
             [
              0.6666666666666666,
              "#ed7953"
             ],
             [
              0.7777777777777778,
              "#fb9f3a"
             ],
             [
              0.8888888888888888,
              "#fdca26"
             ],
             [
              1,
              "#f0f921"
             ]
            ],
            "type": "histogram2dcontour"
           }
          ],
          "mesh3d": [
           {
            "colorbar": {
             "outlinewidth": 0,
             "ticks": ""
            },
            "type": "mesh3d"
           }
          ],
          "parcoords": [
           {
            "line": {
             "colorbar": {
              "outlinewidth": 0,
              "ticks": ""
             }
            },
            "type": "parcoords"
           }
          ],
          "pie": [
           {
            "automargin": true,
            "type": "pie"
           }
          ],
          "scatter": [
           {
            "marker": {
             "line": {
              "color": "#283442"
             }
            },
            "type": "scatter"
           }
          ],
          "scatter3d": [
           {
            "line": {
             "colorbar": {
              "outlinewidth": 0,
              "ticks": ""
             }
            },
            "marker": {
             "colorbar": {
              "outlinewidth": 0,
              "ticks": ""
             }
            },
            "type": "scatter3d"
           }
          ],
          "scattercarpet": [
           {
            "marker": {
             "colorbar": {
              "outlinewidth": 0,
              "ticks": ""
             }
            },
            "type": "scattercarpet"
           }
          ],
          "scattergeo": [
           {
            "marker": {
             "colorbar": {
              "outlinewidth": 0,
              "ticks": ""
             }
            },
            "type": "scattergeo"
           }
          ],
          "scattergl": [
           {
            "marker": {
             "line": {
              "color": "#283442"
             }
            },
            "type": "scattergl"
           }
          ],
          "scattermapbox": [
           {
            "marker": {
             "colorbar": {
              "outlinewidth": 0,
              "ticks": ""
             }
            },
            "type": "scattermapbox"
           }
          ],
          "scatterpolar": [
           {
            "marker": {
             "colorbar": {
              "outlinewidth": 0,
              "ticks": ""
             }
            },
            "type": "scatterpolar"
           }
          ],
          "scatterpolargl": [
           {
            "marker": {
             "colorbar": {
              "outlinewidth": 0,
              "ticks": ""
             }
            },
            "type": "scatterpolargl"
           }
          ],
          "scatterternary": [
           {
            "marker": {
             "colorbar": {
              "outlinewidth": 0,
              "ticks": ""
             }
            },
            "type": "scatterternary"
           }
          ],
          "surface": [
           {
            "colorbar": {
             "outlinewidth": 0,
             "ticks": ""
            },
            "colorscale": [
             [
              0,
              "#0d0887"
             ],
             [
              0.1111111111111111,
              "#46039f"
             ],
             [
              0.2222222222222222,
              "#7201a8"
             ],
             [
              0.3333333333333333,
              "#9c179e"
             ],
             [
              0.4444444444444444,
              "#bd3786"
             ],
             [
              0.5555555555555556,
              "#d8576b"
             ],
             [
              0.6666666666666666,
              "#ed7953"
             ],
             [
              0.7777777777777778,
              "#fb9f3a"
             ],
             [
              0.8888888888888888,
              "#fdca26"
             ],
             [
              1,
              "#f0f921"
             ]
            ],
            "type": "surface"
           }
          ],
          "table": [
           {
            "cells": {
             "fill": {
              "color": "#506784"
             },
             "line": {
              "color": "rgb(17,17,17)"
             }
            },
            "header": {
             "fill": {
              "color": "#2a3f5f"
             },
             "line": {
              "color": "rgb(17,17,17)"
             }
            },
            "type": "table"
           }
          ]
         },
         "layout": {
          "annotationdefaults": {
           "arrowcolor": "#f2f5fa",
           "arrowhead": 0,
           "arrowwidth": 1
          },
          "autotypenumbers": "strict",
          "coloraxis": {
           "colorbar": {
            "outlinewidth": 0,
            "ticks": ""
           }
          },
          "colorscale": {
           "diverging": [
            [
             0,
             "#8e0152"
            ],
            [
             0.1,
             "#c51b7d"
            ],
            [
             0.2,
             "#de77ae"
            ],
            [
             0.3,
             "#f1b6da"
            ],
            [
             0.4,
             "#fde0ef"
            ],
            [
             0.5,
             "#f7f7f7"
            ],
            [
             0.6,
             "#e6f5d0"
            ],
            [
             0.7,
             "#b8e186"
            ],
            [
             0.8,
             "#7fbc41"
            ],
            [
             0.9,
             "#4d9221"
            ],
            [
             1,
             "#276419"
            ]
           ],
           "sequential": [
            [
             0,
             "#0d0887"
            ],
            [
             0.1111111111111111,
             "#46039f"
            ],
            [
             0.2222222222222222,
             "#7201a8"
            ],
            [
             0.3333333333333333,
             "#9c179e"
            ],
            [
             0.4444444444444444,
             "#bd3786"
            ],
            [
             0.5555555555555556,
             "#d8576b"
            ],
            [
             0.6666666666666666,
             "#ed7953"
            ],
            [
             0.7777777777777778,
             "#fb9f3a"
            ],
            [
             0.8888888888888888,
             "#fdca26"
            ],
            [
             1,
             "#f0f921"
            ]
           ],
           "sequentialminus": [
            [
             0,
             "#0d0887"
            ],
            [
             0.1111111111111111,
             "#46039f"
            ],
            [
             0.2222222222222222,
             "#7201a8"
            ],
            [
             0.3333333333333333,
             "#9c179e"
            ],
            [
             0.4444444444444444,
             "#bd3786"
            ],
            [
             0.5555555555555556,
             "#d8576b"
            ],
            [
             0.6666666666666666,
             "#ed7953"
            ],
            [
             0.7777777777777778,
             "#fb9f3a"
            ],
            [
             0.8888888888888888,
             "#fdca26"
            ],
            [
             1,
             "#f0f921"
            ]
           ]
          },
          "colorway": [
           "#636efa",
           "#EF553B",
           "#00cc96",
           "#ab63fa",
           "#FFA15A",
           "#19d3f3",
           "#FF6692",
           "#B6E880",
           "#FF97FF",
           "#FECB52"
          ],
          "font": {
           "color": "#f2f5fa"
          },
          "geo": {
           "bgcolor": "rgb(17,17,17)",
           "lakecolor": "rgb(17,17,17)",
           "landcolor": "rgb(17,17,17)",
           "showlakes": true,
           "showland": true,
           "subunitcolor": "#506784"
          },
          "hoverlabel": {
           "align": "left"
          },
          "hovermode": "closest",
          "mapbox": {
           "style": "dark"
          },
          "paper_bgcolor": "rgb(17,17,17)",
          "plot_bgcolor": "rgb(17,17,17)",
          "polar": {
           "angularaxis": {
            "gridcolor": "#506784",
            "linecolor": "#506784",
            "ticks": ""
           },
           "bgcolor": "rgb(17,17,17)",
           "radialaxis": {
            "gridcolor": "#506784",
            "linecolor": "#506784",
            "ticks": ""
           }
          },
          "scene": {
           "xaxis": {
            "backgroundcolor": "rgb(17,17,17)",
            "gridcolor": "#506784",
            "gridwidth": 2,
            "linecolor": "#506784",
            "showbackground": true,
            "ticks": "",
            "zerolinecolor": "#C8D4E3"
           },
           "yaxis": {
            "backgroundcolor": "rgb(17,17,17)",
            "gridcolor": "#506784",
            "gridwidth": 2,
            "linecolor": "#506784",
            "showbackground": true,
            "ticks": "",
            "zerolinecolor": "#C8D4E3"
           },
           "zaxis": {
            "backgroundcolor": "rgb(17,17,17)",
            "gridcolor": "#506784",
            "gridwidth": 2,
            "linecolor": "#506784",
            "showbackground": true,
            "ticks": "",
            "zerolinecolor": "#C8D4E3"
           }
          },
          "shapedefaults": {
           "line": {
            "color": "#f2f5fa"
           }
          },
          "sliderdefaults": {
           "bgcolor": "#C8D4E3",
           "bordercolor": "rgb(17,17,17)",
           "borderwidth": 1,
           "tickwidth": 0
          },
          "ternary": {
           "aaxis": {
            "gridcolor": "#506784",
            "linecolor": "#506784",
            "ticks": ""
           },
           "baxis": {
            "gridcolor": "#506784",
            "linecolor": "#506784",
            "ticks": ""
           },
           "bgcolor": "rgb(17,17,17)",
           "caxis": {
            "gridcolor": "#506784",
            "linecolor": "#506784",
            "ticks": ""
           }
          },
          "title": {
           "x": 0.05
          },
          "updatemenudefaults": {
           "bgcolor": "#506784",
           "borderwidth": 0
          },
          "xaxis": {
           "automargin": true,
           "gridcolor": "#283442",
           "linecolor": "#506784",
           "ticks": "",
           "title": {
            "standoff": 15
           },
           "zerolinecolor": "#283442",
           "zerolinewidth": 2
          },
          "yaxis": {
           "automargin": true,
           "gridcolor": "#283442",
           "linecolor": "#506784",
           "ticks": "",
           "title": {
            "standoff": 15
           },
           "zerolinecolor": "#283442",
           "zerolinewidth": 2
          }
         }
        },
        "xaxis": {
         "anchor": "y",
         "domain": [
          0,
          1
         ],
         "title": {
          "text": "Logged GDP per capita"
         }
        },
        "yaxis": {
         "anchor": "x",
         "domain": [
          0,
          1
         ],
         "title": {
          "text": "Ladder score"
         }
        }
       }
      },
      "text/html": [
       "<div>                            <div id=\"eea42511-828c-4bca-bc5f-755b9b19aa03\" class=\"plotly-graph-div\" style=\"height:525px; width:100%;\"></div>            <script type=\"text/javascript\">                require([\"plotly\"], function(Plotly) {                    window.PLOTLYENV=window.PLOTLYENV || {};                                    if (document.getElementById(\"eea42511-828c-4bca-bc5f-755b9b19aa03\")) {                    Plotly.newPlot(                        \"eea42511-828c-4bca-bc5f-755b9b19aa03\",                        [{\"hovertemplate\":\"<b>%{hovertext}</b><br><br>Country name=Singapore<br>Logged GDP per capita=%{x}<br>Ladder score=%{y}<br>Perceptions of corruption=%{marker.size}<extra></extra>\",\"hovertext\":[\"Singapore\"],\"legendgroup\":\"Singapore\",\"marker\":{\"color\":\"rgb(255,245,235)\",\"size\":[0.082],\"sizemode\":\"area\",\"sizeref\":0.0022375,\"symbol\":\"circle\"},\"mode\":\"markers\",\"name\":\"Singapore\",\"orientation\":\"v\",\"showlegend\":true,\"x\":[11.488],\"xaxis\":\"x\",\"y\":[6.377],\"yaxis\":\"y\",\"type\":\"scatter\"},{\"hovertemplate\":\"<b>%{hovertext}</b><br><br>Country name=Thailand<br>Logged GDP per capita=%{x}<br>Ladder score=%{y}<br>Perceptions of corruption=%{marker.size}<extra></extra>\",\"hovertext\":[\"Thailand\"],\"legendgroup\":\"Thailand\",\"marker\":{\"color\":\"rgb(254,230,206)\",\"size\":[0.895],\"sizemode\":\"area\",\"sizeref\":0.0022375,\"symbol\":\"circle\"},\"mode\":\"markers\",\"name\":\"Thailand\",\"orientation\":\"v\",\"showlegend\":true,\"x\":[9.805],\"xaxis\":\"x\",\"y\":[5.985],\"yaxis\":\"y\",\"type\":\"scatter\"},{\"hovertemplate\":\"<b>%{hovertext}</b><br><br>Country name=Philippines<br>Logged GDP per capita=%{x}<br>Ladder score=%{y}<br>Perceptions of corruption=%{marker.size}<extra></extra>\",\"hovertext\":[\"Philippines\"],\"legendgroup\":\"Philippines\",\"marker\":{\"color\":\"rgb(253,208,162)\",\"size\":[0.742],\"sizemode\":\"area\",\"sizeref\":0.0022375,\"symbol\":\"circle\"},\"mode\":\"markers\",\"name\":\"Philippines\",\"orientation\":\"v\",\"showlegend\":true,\"x\":[9.076],\"xaxis\":\"x\",\"y\":[5.88],\"yaxis\":\"y\",\"type\":\"scatter\"},{\"hovertemplate\":\"<b>%{hovertext}</b><br><br>Country name=Vietnam<br>Logged GDP per capita=%{x}<br>Ladder score=%{y}<br>Perceptions of corruption=%{marker.size}<extra></extra>\",\"hovertext\":[\"Vietnam\"],\"legendgroup\":\"Vietnam\",\"marker\":{\"color\":\"rgb(253,174,107)\",\"size\":[0.796],\"sizemode\":\"area\",\"sizeref\":0.0022375,\"symbol\":\"circle\"},\"mode\":\"markers\",\"name\":\"Vietnam\",\"orientation\":\"v\",\"showlegend\":true,\"x\":[8.973],\"xaxis\":\"x\",\"y\":[5.411],\"yaxis\":\"y\",\"type\":\"scatter\"},{\"hovertemplate\":\"<b>%{hovertext}</b><br><br>Country name=Malaysia<br>Logged GDP per capita=%{x}<br>Ladder score=%{y}<br>Perceptions of corruption=%{marker.size}<extra></extra>\",\"hovertext\":[\"Malaysia\"],\"legendgroup\":\"Malaysia\",\"marker\":{\"color\":\"rgb(253,141,60)\",\"size\":[0.839],\"sizemode\":\"area\",\"sizeref\":0.0022375,\"symbol\":\"circle\"},\"mode\":\"markers\",\"name\":\"Malaysia\",\"orientation\":\"v\",\"showlegend\":true,\"x\":[10.238],\"xaxis\":\"x\",\"y\":[5.384],\"yaxis\":\"y\",\"type\":\"scatter\"},{\"hovertemplate\":\"<b>%{hovertext}</b><br><br>Country name=Indonesia<br>Logged GDP per capita=%{x}<br>Ladder score=%{y}<br>Perceptions of corruption=%{marker.size}<extra></extra>\",\"hovertext\":[\"Indonesia\"],\"legendgroup\":\"Indonesia\",\"marker\":{\"color\":\"rgb(241,105,19)\",\"size\":[0.867],\"sizemode\":\"area\",\"sizeref\":0.0022375,\"symbol\":\"circle\"},\"mode\":\"markers\",\"name\":\"Indonesia\",\"orientation\":\"v\",\"showlegend\":true,\"x\":[9.365],\"xaxis\":\"x\",\"y\":[5.345],\"yaxis\":\"y\",\"type\":\"scatter\"},{\"hovertemplate\":\"<b>%{hovertext}</b><br><br>Country name=Laos<br>Logged GDP per capita=%{x}<br>Ladder score=%{y}<br>Perceptions of corruption=%{marker.size}<extra></extra>\",\"hovertext\":[\"Laos\"],\"legendgroup\":\"Laos\",\"marker\":{\"color\":\"rgb(217,72,1)\",\"size\":[0.658],\"sizemode\":\"area\",\"sizeref\":0.0022375,\"symbol\":\"circle\"},\"mode\":\"markers\",\"name\":\"Laos\",\"orientation\":\"v\",\"showlegend\":true,\"x\":[8.947],\"xaxis\":\"x\",\"y\":[5.03],\"yaxis\":\"y\",\"type\":\"scatter\"},{\"hovertemplate\":\"<b>%{hovertext}</b><br><br>Country name=Cambodia<br>Logged GDP per capita=%{x}<br>Ladder score=%{y}<br>Perceptions of corruption=%{marker.size}<extra></extra>\",\"hovertext\":[\"Cambodia\"],\"legendgroup\":\"Cambodia\",\"marker\":{\"color\":\"rgb(166,54,3)\",\"size\":[0.843],\"sizemode\":\"area\",\"sizeref\":0.0022375,\"symbol\":\"circle\"},\"mode\":\"markers\",\"name\":\"Cambodia\",\"orientation\":\"v\",\"showlegend\":true,\"x\":[8.36],\"xaxis\":\"x\",\"y\":[4.83],\"yaxis\":\"y\",\"type\":\"scatter\"},{\"hovertemplate\":\"<b>%{hovertext}</b><br><br>Country name=Myanmar<br>Logged GDP per capita=%{x}<br>Ladder score=%{y}<br>Perceptions of corruption=%{marker.size}<extra></extra>\",\"hovertext\":[\"Myanmar\"],\"legendgroup\":\"Myanmar\",\"marker\":{\"color\":\"rgb(127,39,4)\",\"size\":[0.66],\"sizemode\":\"area\",\"sizeref\":0.0022375,\"symbol\":\"circle\"},\"mode\":\"markers\",\"name\":\"Myanmar\",\"orientation\":\"v\",\"showlegend\":true,\"x\":[8.541],\"xaxis\":\"x\",\"y\":[4.426],\"yaxis\":\"y\",\"type\":\"scatter\"}],                        {\"template\":{\"data\":{\"barpolar\":[{\"marker\":{\"line\":{\"color\":\"rgb(17,17,17)\",\"width\":0.5},\"pattern\":{\"fillmode\":\"overlay\",\"size\":10,\"solidity\":0.2}},\"type\":\"barpolar\"}],\"bar\":[{\"error_x\":{\"color\":\"#f2f5fa\"},\"error_y\":{\"color\":\"#f2f5fa\"},\"marker\":{\"line\":{\"color\":\"rgb(17,17,17)\",\"width\":0.5},\"pattern\":{\"fillmode\":\"overlay\",\"size\":10,\"solidity\":0.2}},\"type\":\"bar\"}],\"carpet\":[{\"aaxis\":{\"endlinecolor\":\"#A2B1C6\",\"gridcolor\":\"#506784\",\"linecolor\":\"#506784\",\"minorgridcolor\":\"#506784\",\"startlinecolor\":\"#A2B1C6\"},\"baxis\":{\"endlinecolor\":\"#A2B1C6\",\"gridcolor\":\"#506784\",\"linecolor\":\"#506784\",\"minorgridcolor\":\"#506784\",\"startlinecolor\":\"#A2B1C6\"},\"type\":\"carpet\"}],\"choropleth\":[{\"colorbar\":{\"outlinewidth\":0,\"ticks\":\"\"},\"type\":\"choropleth\"}],\"contourcarpet\":[{\"colorbar\":{\"outlinewidth\":0,\"ticks\":\"\"},\"type\":\"contourcarpet\"}],\"contour\":[{\"colorbar\":{\"outlinewidth\":0,\"ticks\":\"\"},\"colorscale\":[[0.0,\"#0d0887\"],[0.1111111111111111,\"#46039f\"],[0.2222222222222222,\"#7201a8\"],[0.3333333333333333,\"#9c179e\"],[0.4444444444444444,\"#bd3786\"],[0.5555555555555556,\"#d8576b\"],[0.6666666666666666,\"#ed7953\"],[0.7777777777777778,\"#fb9f3a\"],[0.8888888888888888,\"#fdca26\"],[1.0,\"#f0f921\"]],\"type\":\"contour\"}],\"heatmapgl\":[{\"colorbar\":{\"outlinewidth\":0,\"ticks\":\"\"},\"colorscale\":[[0.0,\"#0d0887\"],[0.1111111111111111,\"#46039f\"],[0.2222222222222222,\"#7201a8\"],[0.3333333333333333,\"#9c179e\"],[0.4444444444444444,\"#bd3786\"],[0.5555555555555556,\"#d8576b\"],[0.6666666666666666,\"#ed7953\"],[0.7777777777777778,\"#fb9f3a\"],[0.8888888888888888,\"#fdca26\"],[1.0,\"#f0f921\"]],\"type\":\"heatmapgl\"}],\"heatmap\":[{\"colorbar\":{\"outlinewidth\":0,\"ticks\":\"\"},\"colorscale\":[[0.0,\"#0d0887\"],[0.1111111111111111,\"#46039f\"],[0.2222222222222222,\"#7201a8\"],[0.3333333333333333,\"#9c179e\"],[0.4444444444444444,\"#bd3786\"],[0.5555555555555556,\"#d8576b\"],[0.6666666666666666,\"#ed7953\"],[0.7777777777777778,\"#fb9f3a\"],[0.8888888888888888,\"#fdca26\"],[1.0,\"#f0f921\"]],\"type\":\"heatmap\"}],\"histogram2dcontour\":[{\"colorbar\":{\"outlinewidth\":0,\"ticks\":\"\"},\"colorscale\":[[0.0,\"#0d0887\"],[0.1111111111111111,\"#46039f\"],[0.2222222222222222,\"#7201a8\"],[0.3333333333333333,\"#9c179e\"],[0.4444444444444444,\"#bd3786\"],[0.5555555555555556,\"#d8576b\"],[0.6666666666666666,\"#ed7953\"],[0.7777777777777778,\"#fb9f3a\"],[0.8888888888888888,\"#fdca26\"],[1.0,\"#f0f921\"]],\"type\":\"histogram2dcontour\"}],\"histogram2d\":[{\"colorbar\":{\"outlinewidth\":0,\"ticks\":\"\"},\"colorscale\":[[0.0,\"#0d0887\"],[0.1111111111111111,\"#46039f\"],[0.2222222222222222,\"#7201a8\"],[0.3333333333333333,\"#9c179e\"],[0.4444444444444444,\"#bd3786\"],[0.5555555555555556,\"#d8576b\"],[0.6666666666666666,\"#ed7953\"],[0.7777777777777778,\"#fb9f3a\"],[0.8888888888888888,\"#fdca26\"],[1.0,\"#f0f921\"]],\"type\":\"histogram2d\"}],\"histogram\":[{\"marker\":{\"pattern\":{\"fillmode\":\"overlay\",\"size\":10,\"solidity\":0.2}},\"type\":\"histogram\"}],\"mesh3d\":[{\"colorbar\":{\"outlinewidth\":0,\"ticks\":\"\"},\"type\":\"mesh3d\"}],\"parcoords\":[{\"line\":{\"colorbar\":{\"outlinewidth\":0,\"ticks\":\"\"}},\"type\":\"parcoords\"}],\"pie\":[{\"automargin\":true,\"type\":\"pie\"}],\"scatter3d\":[{\"line\":{\"colorbar\":{\"outlinewidth\":0,\"ticks\":\"\"}},\"marker\":{\"colorbar\":{\"outlinewidth\":0,\"ticks\":\"\"}},\"type\":\"scatter3d\"}],\"scattercarpet\":[{\"marker\":{\"colorbar\":{\"outlinewidth\":0,\"ticks\":\"\"}},\"type\":\"scattercarpet\"}],\"scattergeo\":[{\"marker\":{\"colorbar\":{\"outlinewidth\":0,\"ticks\":\"\"}},\"type\":\"scattergeo\"}],\"scattergl\":[{\"marker\":{\"line\":{\"color\":\"#283442\"}},\"type\":\"scattergl\"}],\"scattermapbox\":[{\"marker\":{\"colorbar\":{\"outlinewidth\":0,\"ticks\":\"\"}},\"type\":\"scattermapbox\"}],\"scatterpolargl\":[{\"marker\":{\"colorbar\":{\"outlinewidth\":0,\"ticks\":\"\"}},\"type\":\"scatterpolargl\"}],\"scatterpolar\":[{\"marker\":{\"colorbar\":{\"outlinewidth\":0,\"ticks\":\"\"}},\"type\":\"scatterpolar\"}],\"scatter\":[{\"marker\":{\"line\":{\"color\":\"#283442\"}},\"type\":\"scatter\"}],\"scatterternary\":[{\"marker\":{\"colorbar\":{\"outlinewidth\":0,\"ticks\":\"\"}},\"type\":\"scatterternary\"}],\"surface\":[{\"colorbar\":{\"outlinewidth\":0,\"ticks\":\"\"},\"colorscale\":[[0.0,\"#0d0887\"],[0.1111111111111111,\"#46039f\"],[0.2222222222222222,\"#7201a8\"],[0.3333333333333333,\"#9c179e\"],[0.4444444444444444,\"#bd3786\"],[0.5555555555555556,\"#d8576b\"],[0.6666666666666666,\"#ed7953\"],[0.7777777777777778,\"#fb9f3a\"],[0.8888888888888888,\"#fdca26\"],[1.0,\"#f0f921\"]],\"type\":\"surface\"}],\"table\":[{\"cells\":{\"fill\":{\"color\":\"#506784\"},\"line\":{\"color\":\"rgb(17,17,17)\"}},\"header\":{\"fill\":{\"color\":\"#2a3f5f\"},\"line\":{\"color\":\"rgb(17,17,17)\"}},\"type\":\"table\"}]},\"layout\":{\"annotationdefaults\":{\"arrowcolor\":\"#f2f5fa\",\"arrowhead\":0,\"arrowwidth\":1},\"autotypenumbers\":\"strict\",\"coloraxis\":{\"colorbar\":{\"outlinewidth\":0,\"ticks\":\"\"}},\"colorscale\":{\"diverging\":[[0,\"#8e0152\"],[0.1,\"#c51b7d\"],[0.2,\"#de77ae\"],[0.3,\"#f1b6da\"],[0.4,\"#fde0ef\"],[0.5,\"#f7f7f7\"],[0.6,\"#e6f5d0\"],[0.7,\"#b8e186\"],[0.8,\"#7fbc41\"],[0.9,\"#4d9221\"],[1,\"#276419\"]],\"sequential\":[[0.0,\"#0d0887\"],[0.1111111111111111,\"#46039f\"],[0.2222222222222222,\"#7201a8\"],[0.3333333333333333,\"#9c179e\"],[0.4444444444444444,\"#bd3786\"],[0.5555555555555556,\"#d8576b\"],[0.6666666666666666,\"#ed7953\"],[0.7777777777777778,\"#fb9f3a\"],[0.8888888888888888,\"#fdca26\"],[1.0,\"#f0f921\"]],\"sequentialminus\":[[0.0,\"#0d0887\"],[0.1111111111111111,\"#46039f\"],[0.2222222222222222,\"#7201a8\"],[0.3333333333333333,\"#9c179e\"],[0.4444444444444444,\"#bd3786\"],[0.5555555555555556,\"#d8576b\"],[0.6666666666666666,\"#ed7953\"],[0.7777777777777778,\"#fb9f3a\"],[0.8888888888888888,\"#fdca26\"],[1.0,\"#f0f921\"]]},\"colorway\":[\"#636efa\",\"#EF553B\",\"#00cc96\",\"#ab63fa\",\"#FFA15A\",\"#19d3f3\",\"#FF6692\",\"#B6E880\",\"#FF97FF\",\"#FECB52\"],\"font\":{\"color\":\"#f2f5fa\"},\"geo\":{\"bgcolor\":\"rgb(17,17,17)\",\"lakecolor\":\"rgb(17,17,17)\",\"landcolor\":\"rgb(17,17,17)\",\"showlakes\":true,\"showland\":true,\"subunitcolor\":\"#506784\"},\"hoverlabel\":{\"align\":\"left\"},\"hovermode\":\"closest\",\"mapbox\":{\"style\":\"dark\"},\"paper_bgcolor\":\"rgb(17,17,17)\",\"plot_bgcolor\":\"rgb(17,17,17)\",\"polar\":{\"angularaxis\":{\"gridcolor\":\"#506784\",\"linecolor\":\"#506784\",\"ticks\":\"\"},\"bgcolor\":\"rgb(17,17,17)\",\"radialaxis\":{\"gridcolor\":\"#506784\",\"linecolor\":\"#506784\",\"ticks\":\"\"}},\"scene\":{\"xaxis\":{\"backgroundcolor\":\"rgb(17,17,17)\",\"gridcolor\":\"#506784\",\"gridwidth\":2,\"linecolor\":\"#506784\",\"showbackground\":true,\"ticks\":\"\",\"zerolinecolor\":\"#C8D4E3\"},\"yaxis\":{\"backgroundcolor\":\"rgb(17,17,17)\",\"gridcolor\":\"#506784\",\"gridwidth\":2,\"linecolor\":\"#506784\",\"showbackground\":true,\"ticks\":\"\",\"zerolinecolor\":\"#C8D4E3\"},\"zaxis\":{\"backgroundcolor\":\"rgb(17,17,17)\",\"gridcolor\":\"#506784\",\"gridwidth\":2,\"linecolor\":\"#506784\",\"showbackground\":true,\"ticks\":\"\",\"zerolinecolor\":\"#C8D4E3\"}},\"shapedefaults\":{\"line\":{\"color\":\"#f2f5fa\"}},\"sliderdefaults\":{\"bgcolor\":\"#C8D4E3\",\"bordercolor\":\"rgb(17,17,17)\",\"borderwidth\":1,\"tickwidth\":0},\"ternary\":{\"aaxis\":{\"gridcolor\":\"#506784\",\"linecolor\":\"#506784\",\"ticks\":\"\"},\"baxis\":{\"gridcolor\":\"#506784\",\"linecolor\":\"#506784\",\"ticks\":\"\"},\"bgcolor\":\"rgb(17,17,17)\",\"caxis\":{\"gridcolor\":\"#506784\",\"linecolor\":\"#506784\",\"ticks\":\"\"}},\"title\":{\"x\":0.05},\"updatemenudefaults\":{\"bgcolor\":\"#506784\",\"borderwidth\":0},\"xaxis\":{\"automargin\":true,\"gridcolor\":\"#283442\",\"linecolor\":\"#506784\",\"ticks\":\"\",\"title\":{\"standoff\":15},\"zerolinecolor\":\"#283442\",\"zerolinewidth\":2},\"yaxis\":{\"automargin\":true,\"gridcolor\":\"#283442\",\"linecolor\":\"#506784\",\"ticks\":\"\",\"title\":{\"standoff\":15},\"zerolinecolor\":\"#283442\",\"zerolinewidth\":2}}},\"xaxis\":{\"anchor\":\"y\",\"domain\":[0.0,1.0],\"title\":{\"text\":\"Logged GDP per capita\"}},\"yaxis\":{\"anchor\":\"x\",\"domain\":[0.0,1.0],\"title\":{\"text\":\"Ladder score\"}},\"legend\":{\"title\":{\"text\":\"Country name\"},\"tracegroupgap\":0,\"itemsizing\":\"constant\"},\"margin\":{\"t\":60}},                        {\"responsive\": true}                    ).then(function(){\n",
       "                            \n",
       "var gd = document.getElementById('eea42511-828c-4bca-bc5f-755b9b19aa03');\n",
       "var x = new MutationObserver(function (mutations, observer) {{\n",
       "        var display = window.getComputedStyle(gd).display;\n",
       "        if (!display || display === 'none') {{\n",
       "            console.log([gd, 'removed!']);\n",
       "            Plotly.purge(gd);\n",
       "            observer.disconnect();\n",
       "        }}\n",
       "}});\n",
       "\n",
       "// Listen for the removal of the full notebook cells\n",
       "var notebookContainer = gd.closest('#notebook-container');\n",
       "if (notebookContainer) {{\n",
       "    x.observe(notebookContainer, {childList: true});\n",
       "}}\n",
       "\n",
       "// Listen for the clearing of the current output cell\n",
       "var outputEl = gd.closest('.output');\n",
       "if (outputEl) {{\n",
       "    x.observe(outputEl, {childList: true});\n",
       "}}\n",
       "\n",
       "                        })                };                });            </script>        </div>"
      ]
     },
     "metadata": {},
     "output_type": "display_data"
    }
   ],
   "source": [
    "df_southeast = df[df['Regional indicator'] == \"Southeast Asia\"]\n",
    "fig = px.scatter(df_southeast, x=\"Logged GDP per capita\", y=\"Ladder score\", \n",
    "                color=\"Country name\", color_discrete_sequence = px.colors.sequential.Oranges, \n",
    "                template = 'plotly_dark',\n",
    "                size = 'Perceptions of corruption',\n",
    "                hover_name=\"Country name\")\n",
    "fig.show()"
   ]
  },
  {
   "cell_type": "markdown",
   "id": "d5616eb2",
   "metadata": {},
   "source": [
    "### Sementara di Southeast Asia singapura menjadi negara paling tinggi GDP, indonesia berada di tenggah"
   ]
  },
  {
   "cell_type": "code",
   "execution_count": 103,
   "id": "365308d7",
   "metadata": {},
   "outputs": [
    {
     "data": {
      "application/vnd.plotly.v1+json": {
       "config": {
        "plotlyServerURL": "https://plot.ly"
       },
       "data": [
        {
         "hovertemplate": "<b>%{hovertext}</b><br><br>Regional indicator=Western Europe<br>Explained by: Generosity=%{marker.size}<br>Ladder score=%{y}<extra></extra>",
         "hovertext": [
          "Finland",
          "Denmark",
          "Switzerland",
          "Iceland",
          "Netherlands",
          "Norway",
          "Sweden",
          "Luxembourg",
          "Austria",
          "Germany",
          "Ireland",
          "United Kingdom",
          "Belgium",
          "France",
          "Malta",
          "Spain",
          "Italy",
          "Cyprus",
          "Portugal",
          "Greece",
          "North Cyprus"
         ],
         "legendgroup": "Western Europe",
         "marker": {
          "color": "rgb(255,245,235)",
          "size": [
           0.124,
           0.208,
           0.204,
           0.293,
           0.302,
           0.249,
           0.244,
           0.166,
           0.215,
           0.195,
           0.238,
           0.34,
           0.088,
           0.092,
           0.275,
           0.135,
           0.133,
           0.178,
           0.029,
           0,
           0.196
          ],
          "sizemode": "area",
          "sizeref": 0.0013525000000000002,
          "symbol": "circle"
         },
         "mode": "markers",
         "name": "Western Europe",
         "orientation": "v",
         "showlegend": true,
         "type": "scatter",
         "x": [
          0.124,
          0.208,
          0.204,
          0.293,
          0.302,
          0.249,
          0.244,
          0.166,
          0.215,
          0.195,
          0.238,
          0.34,
          0.088,
          0.092,
          0.275,
          0.135,
          0.133,
          0.178,
          0.029,
          0,
          0.196
         ],
         "xaxis": "x",
         "y": [
          7.842,
          7.62,
          7.571,
          7.554,
          7.464,
          7.392,
          7.363,
          7.324,
          7.268,
          7.155,
          7.085,
          7.064,
          6.834,
          6.69,
          6.602,
          6.491,
          6.483,
          6.223,
          5.929,
          5.723,
          5.536
         ],
         "yaxis": "y"
        },
        {
         "hovertemplate": "<b>%{hovertext}</b><br><br>Regional indicator=North America and ANZ<br>Explained by: Generosity=%{marker.size}<br>Ladder score=%{y}<extra></extra>",
         "hovertext": [
          "New Zealand",
          "Australia",
          "Canada",
          "United States"
         ],
         "legendgroup": "North America and ANZ",
         "marker": {
          "color": "rgb(254,230,206)",
          "size": [
           0.276,
           0.291,
           0.246,
           0.252
          ],
          "sizemode": "area",
          "sizeref": 0.0013525000000000002,
          "symbol": "circle"
         },
         "mode": "markers",
         "name": "North America and ANZ",
         "orientation": "v",
         "showlegend": true,
         "type": "scatter",
         "x": [
          0.276,
          0.291,
          0.246,
          0.252
         ],
         "xaxis": "x",
         "y": [
          7.277,
          7.183,
          7.103,
          6.951
         ],
         "yaxis": "y"
        },
        {
         "hovertemplate": "<b>%{hovertext}</b><br><br>Regional indicator=Middle East and North Africa<br>Explained by: Generosity=%{marker.size}<br>Ladder score=%{y}<extra></extra>",
         "hovertext": [
          "Israel",
          "Bahrain",
          "United Arab Emirates",
          "Saudi Arabia",
          "Kuwait",
          "Libya",
          "Turkey",
          "Morocco",
          "Algeria",
          "Iraq",
          "Iran",
          "Tunisia",
          "Lebanon",
          "Palestinian Territories",
          "Jordan",
          "Egypt",
          "Yemen"
         ],
         "legendgroup": "Middle East and North Africa",
         "marker": {
          "color": "rgb(253,208,162)",
          "size": [
           0.208,
           0.246,
           0.236,
           0.09,
           0.12,
           0.131,
           0.097,
           0.034,
           0.144,
           0.153,
           0.33,
           0.057,
           0.14,
           0.082,
           0.079,
           0.069,
           0.092
          ],
          "sizemode": "area",
          "sizeref": 0.0013525000000000002,
          "symbol": "circle"
         },
         "mode": "markers",
         "name": "Middle East and North Africa",
         "orientation": "v",
         "showlegend": true,
         "type": "scatter",
         "x": [
          0.208,
          0.246,
          0.236,
          0.09,
          0.12,
          0.131,
          0.097,
          0.034,
          0.144,
          0.153,
          0.33,
          0.057,
          0.14,
          0.082,
          0.079,
          0.069,
          0.092
         ],
         "xaxis": "x",
         "y": [
          7.157,
          6.647,
          6.561,
          6.494,
          6.106,
          5.41,
          4.948,
          4.918,
          4.887,
          4.854,
          4.721,
          4.596,
          4.584,
          4.517,
          4.395,
          4.283,
          3.658
         ],
         "yaxis": "y"
        },
        {
         "hovertemplate": "<b>%{hovertext}</b><br><br>Regional indicator=Latin America and Caribbean<br>Explained by: Generosity=%{marker.size}<br>Ladder score=%{y}<extra></extra>",
         "hovertext": [
          "Costa Rica",
          "Guatemala",
          "Uruguay",
          "Brazil",
          "Mexico",
          "Jamaica",
          "Panama",
          "Chile",
          "El Salvador",
          "Colombia",
          "Nicaragua",
          "Argentina",
          "Honduras",
          "Peru",
          "Ecuador",
          "Bolivia",
          "Paraguay",
          "Dominican Republic",
          "Venezuela",
          "Haiti"
         ],
         "legendgroup": "Latin America and Caribbean",
         "marker": {
          "color": "rgb(253,174,107)",
          "size": [
           0.105,
           0.163,
           0.128,
           0.142,
           0.092,
           0.099,
           0.079,
           0.159,
           0.116,
           0.1,
           0.201,
           0.069,
           0.241,
           0.087,
           0.107,
           0.138,
           0.206,
           0.101,
           0.078,
           0.463
          ],
          "sizemode": "area",
          "sizeref": 0.0013525000000000002,
          "symbol": "circle"
         },
         "mode": "markers",
         "name": "Latin America and Caribbean",
         "orientation": "v",
         "showlegend": true,
         "type": "scatter",
         "x": [
          0.105,
          0.163,
          0.128,
          0.142,
          0.092,
          0.099,
          0.079,
          0.159,
          0.116,
          0.1,
          0.201,
          0.069,
          0.241,
          0.087,
          0.107,
          0.138,
          0.206,
          0.101,
          0.078,
          0.463
         ],
         "xaxis": "x",
         "y": [
          7.069,
          6.435,
          6.431,
          6.33,
          6.317,
          6.309,
          6.18,
          6.172,
          6.061,
          6.012,
          5.972,
          5.929,
          5.919,
          5.84,
          5.764,
          5.716,
          5.653,
          5.545,
          4.892,
          3.615
         ],
         "yaxis": "y"
        },
        {
         "hovertemplate": "<b>%{hovertext}</b><br><br>Regional indicator=Central and Eastern Europe<br>Explained by: Generosity=%{marker.size}<br>Ladder score=%{y}<extra></extra>",
         "hovertext": [
          "Czech Republic",
          "Slovenia",
          "Kosovo",
          "Slovakia",
          "Lithuania",
          "Estonia",
          "Poland",
          "Romania",
          "Serbia",
          "Latvia",
          "Hungary",
          "Croatia",
          "Bosnia and Herzegovina",
          "Montenegro",
          "Bulgaria",
          "Albania",
          "North Macedonia"
         ],
         "legendgroup": "Central and Eastern Europe",
         "marker": {
          "color": "rgb(253,141,60)",
          "size": [
           0.052,
           0.122,
           0.356,
           0.107,
           0.056,
           0.119,
           0.08,
           0.045,
           0.189,
           0.082,
           0.067,
           0.111,
           0.261,
           0.166,
           0.125,
           0.168,
           0.212
          ],
          "sizemode": "area",
          "sizeref": 0.0013525000000000002,
          "symbol": "circle"
         },
         "mode": "markers",
         "name": "Central and Eastern Europe",
         "orientation": "v",
         "showlegend": true,
         "type": "scatter",
         "x": [
          0.052,
          0.122,
          0.356,
          0.107,
          0.056,
          0.119,
          0.08,
          0.045,
          0.189,
          0.082,
          0.067,
          0.111,
          0.261,
          0.166,
          0.125,
          0.168,
          0.212
         ],
         "xaxis": "x",
         "y": [
          6.965,
          6.461,
          6.372,
          6.331,
          6.255,
          6.189,
          6.166,
          6.14,
          6.078,
          6.032,
          5.992,
          5.882,
          5.813,
          5.581,
          5.266,
          5.117,
          5.101
         ],
         "yaxis": "y"
        },
        {
         "hovertemplate": "<b>%{hovertext}</b><br><br>Regional indicator=East Asia<br>Explained by: Generosity=%{marker.size}<br>Ladder score=%{y}<extra></extra>",
         "hovertext": [
          "Taiwan Province of China",
          "Japan",
          "South Korea",
          "Mongolia",
          "Hong Kong S.A.R. of China",
          "China"
         ],
         "legendgroup": "East Asia",
         "marker": {
          "color": "rgb(241,105,19)",
          "size": [
           0.142,
           0.02,
           0.134,
           0.263,
           0.232,
           0.093
          ],
          "sizemode": "area",
          "sizeref": 0.0013525000000000002,
          "symbol": "circle"
         },
         "mode": "markers",
         "name": "East Asia",
         "orientation": "v",
         "showlegend": true,
         "type": "scatter",
         "x": [
          0.142,
          0.02,
          0.134,
          0.263,
          0.232,
          0.093
         ],
         "xaxis": "x",
         "y": [
          6.584,
          5.94,
          5.845,
          5.677,
          5.477,
          5.339
         ],
         "yaxis": "y"
        },
        {
         "hovertemplate": "<b>%{hovertext}</b><br><br>Regional indicator=Southeast Asia<br>Explained by: Generosity=%{marker.size}<br>Ladder score=%{y}<extra></extra>",
         "hovertext": [
          "Singapore",
          "Thailand",
          "Philippines",
          "Vietnam",
          "Malaysia",
          "Indonesia",
          "Laos",
          "Cambodia",
          "Myanmar"
         ],
         "legendgroup": "Southeast Asia",
         "marker": {
          "color": "rgb(217,72,1)",
          "size": [
           0.176,
           0.375,
           0.125,
           0.124,
           0.27,
           0.541,
           0.268,
           0.21,
           0.52
          ],
          "sizemode": "area",
          "sizeref": 0.0013525000000000002,
          "symbol": "circle"
         },
         "mode": "markers",
         "name": "Southeast Asia",
         "orientation": "v",
         "showlegend": true,
         "type": "scatter",
         "x": [
          0.176,
          0.375,
          0.125,
          0.124,
          0.27,
          0.541,
          0.268,
          0.21,
          0.52
         ],
         "xaxis": "x",
         "y": [
          6.377,
          5.985,
          5.88,
          5.411,
          5.384,
          5.345,
          5.03,
          4.83,
          4.426
         ],
         "yaxis": "y"
        },
        {
         "hovertemplate": "<b>%{hovertext}</b><br><br>Regional indicator=Commonwealth of Independent States<br>Explained by: Generosity=%{marker.size}<br>Ladder score=%{y}<extra></extra>",
         "hovertext": [
          "Uzbekistan",
          "Kazakhstan",
          "Moldova",
          "Kyrgyzstan",
          "Belarus",
          "Russia",
          "Tajikistan",
          "Armenia",
          "Azerbaijan",
          "Turkmenistan",
          "Georgia",
          "Ukraine"
         ],
         "legendgroup": "Commonwealth of Independent States",
         "marker": {
          "color": "rgb(166,54,3)",
          "size": [
           0.391,
           0.143,
           0.137,
           0.266,
           0.07,
           0.115,
           0.152,
           0.079,
           0.043,
           0.366,
           0.032,
           0.181
          ],
          "sizemode": "area",
          "sizeref": 0.0013525000000000002,
          "symbol": "circle"
         },
         "mode": "markers",
         "name": "Commonwealth of Independent States",
         "orientation": "v",
         "showlegend": true,
         "type": "scatter",
         "x": [
          0.391,
          0.143,
          0.137,
          0.266,
          0.07,
          0.115,
          0.152,
          0.079,
          0.043,
          0.366,
          0.032,
          0.181
         ],
         "xaxis": "x",
         "y": [
          6.179,
          6.152,
          5.766,
          5.744,
          5.534,
          5.477,
          5.466,
          5.283,
          5.171,
          5.066,
          4.891,
          4.875
         ],
         "yaxis": "y"
        },
        {
         "hovertemplate": "<b>%{hovertext}</b><br><br>Regional indicator=Sub-Saharan Africa<br>Explained by: Generosity=%{marker.size}<br>Ladder score=%{y}<extra></extra>",
         "hovertext": [
          "Mauritius",
          "Congo (Brazzaville)",
          "Ivory Coast",
          "Cameroon",
          "Senegal",
          "Ghana",
          "Niger",
          "Gambia",
          "Benin",
          "Guinea",
          "South Africa",
          "Gabon",
          "Burkina Faso",
          "Mozambique",
          "Nigeria",
          "Mali",
          "Uganda",
          "Liberia",
          "Kenya",
          "Namibia",
          "Chad",
          "Swaziland",
          "Comoros",
          "Ethiopia",
          "Mauritania",
          "Madagascar",
          "Togo",
          "Zambia",
          "Sierra Leone",
          "Burundi",
          "Tanzania",
          "Malawi",
          "Lesotho",
          "Botswana",
          "Rwanda",
          "Zimbabwe"
         ],
         "legendgroup": "Sub-Saharan Africa",
         "marker": {
          "color": "rgb(127,39,4)",
          "size": [
           0.153,
           0.144,
           0.177,
           0.205,
           0.158,
           0.268,
           0.2,
           0.465,
           0.166,
           0.25,
           0.144,
           0.058,
           0.182,
           0.228,
           0.212,
           0.164,
           0.267,
           0.221,
           0.375,
           0.091,
           0.215,
           0.067,
           0.241,
           0.241,
           0.119,
           0.185,
           0.209,
           0.227,
           0.243,
           0.172,
           0.307,
           0.213,
           0.103,
           0.027,
           0.227,
           0.157
          ],
          "sizemode": "area",
          "sizeref": 0.0013525000000000002,
          "symbol": "circle"
         },
         "mode": "markers",
         "name": "Sub-Saharan Africa",
         "orientation": "v",
         "showlegend": true,
         "type": "scatter",
         "x": [
          0.153,
          0.144,
          0.177,
          0.205,
          0.158,
          0.268,
          0.2,
          0.465,
          0.166,
          0.25,
          0.144,
          0.058,
          0.182,
          0.228,
          0.212,
          0.164,
          0.267,
          0.221,
          0.375,
          0.091,
          0.215,
          0.067,
          0.241,
          0.241,
          0.119,
          0.185,
          0.209,
          0.227,
          0.243,
          0.172,
          0.307,
          0.213,
          0.103,
          0.027,
          0.227,
          0.157
         ],
         "xaxis": "x",
         "y": [
          6.049,
          5.342,
          5.306,
          5.142,
          5.132,
          5.088,
          5.074,
          5.051,
          5.045,
          4.984,
          4.956,
          4.852,
          4.834,
          4.794,
          4.759,
          4.723,
          4.636,
          4.625,
          4.607,
          4.574,
          4.355,
          4.308,
          4.289,
          4.275,
          4.227,
          4.208,
          4.107,
          4.073,
          3.849,
          3.775,
          3.623,
          3.6,
          3.512,
          3.467,
          3.415,
          3.145
         ],
         "yaxis": "y"
        },
        {
         "hovertemplate": "<b>%{hovertext}</b><br><br>Regional indicator=South Asia<br>Explained by: Generosity=%{marker.size}<br>Ladder score=%{y}<extra></extra>",
         "hovertext": [
          "Nepal",
          "Maldives",
          "Bangladesh",
          "Pakistan",
          "Sri Lanka",
          "India",
          "Afghanistan"
         ],
         "legendgroup": "South Asia",
         "marker": {
          "color": "rgb(255,245,235)",
          "size": [
           0.287,
           0.204,
           0.161,
           0.252,
           0.239,
           0.246,
           0.122
          ],
          "sizemode": "area",
          "sizeref": 0.0013525000000000002,
          "symbol": "circle"
         },
         "mode": "markers",
         "name": "South Asia",
         "orientation": "v",
         "showlegend": true,
         "type": "scatter",
         "x": [
          0.287,
          0.204,
          0.161,
          0.252,
          0.239,
          0.246,
          0.122
         ],
         "xaxis": "x",
         "y": [
          5.269,
          5.198,
          5.025,
          4.934,
          4.325,
          3.819,
          2.523
         ],
         "yaxis": "y"
        }
       ],
       "layout": {
        "legend": {
         "itemsizing": "constant",
         "title": {
          "text": "Regional indicator"
         },
         "tracegroupgap": 0
        },
        "template": {
         "data": {
          "bar": [
           {
            "error_x": {
             "color": "#f2f5fa"
            },
            "error_y": {
             "color": "#f2f5fa"
            },
            "marker": {
             "line": {
              "color": "rgb(17,17,17)",
              "width": 0.5
             },
             "pattern": {
              "fillmode": "overlay",
              "size": 10,
              "solidity": 0.2
             }
            },
            "type": "bar"
           }
          ],
          "barpolar": [
           {
            "marker": {
             "line": {
              "color": "rgb(17,17,17)",
              "width": 0.5
             },
             "pattern": {
              "fillmode": "overlay",
              "size": 10,
              "solidity": 0.2
             }
            },
            "type": "barpolar"
           }
          ],
          "carpet": [
           {
            "aaxis": {
             "endlinecolor": "#A2B1C6",
             "gridcolor": "#506784",
             "linecolor": "#506784",
             "minorgridcolor": "#506784",
             "startlinecolor": "#A2B1C6"
            },
            "baxis": {
             "endlinecolor": "#A2B1C6",
             "gridcolor": "#506784",
             "linecolor": "#506784",
             "minorgridcolor": "#506784",
             "startlinecolor": "#A2B1C6"
            },
            "type": "carpet"
           }
          ],
          "choropleth": [
           {
            "colorbar": {
             "outlinewidth": 0,
             "ticks": ""
            },
            "type": "choropleth"
           }
          ],
          "contour": [
           {
            "colorbar": {
             "outlinewidth": 0,
             "ticks": ""
            },
            "colorscale": [
             [
              0,
              "#0d0887"
             ],
             [
              0.1111111111111111,
              "#46039f"
             ],
             [
              0.2222222222222222,
              "#7201a8"
             ],
             [
              0.3333333333333333,
              "#9c179e"
             ],
             [
              0.4444444444444444,
              "#bd3786"
             ],
             [
              0.5555555555555556,
              "#d8576b"
             ],
             [
              0.6666666666666666,
              "#ed7953"
             ],
             [
              0.7777777777777778,
              "#fb9f3a"
             ],
             [
              0.8888888888888888,
              "#fdca26"
             ],
             [
              1,
              "#f0f921"
             ]
            ],
            "type": "contour"
           }
          ],
          "contourcarpet": [
           {
            "colorbar": {
             "outlinewidth": 0,
             "ticks": ""
            },
            "type": "contourcarpet"
           }
          ],
          "heatmap": [
           {
            "colorbar": {
             "outlinewidth": 0,
             "ticks": ""
            },
            "colorscale": [
             [
              0,
              "#0d0887"
             ],
             [
              0.1111111111111111,
              "#46039f"
             ],
             [
              0.2222222222222222,
              "#7201a8"
             ],
             [
              0.3333333333333333,
              "#9c179e"
             ],
             [
              0.4444444444444444,
              "#bd3786"
             ],
             [
              0.5555555555555556,
              "#d8576b"
             ],
             [
              0.6666666666666666,
              "#ed7953"
             ],
             [
              0.7777777777777778,
              "#fb9f3a"
             ],
             [
              0.8888888888888888,
              "#fdca26"
             ],
             [
              1,
              "#f0f921"
             ]
            ],
            "type": "heatmap"
           }
          ],
          "heatmapgl": [
           {
            "colorbar": {
             "outlinewidth": 0,
             "ticks": ""
            },
            "colorscale": [
             [
              0,
              "#0d0887"
             ],
             [
              0.1111111111111111,
              "#46039f"
             ],
             [
              0.2222222222222222,
              "#7201a8"
             ],
             [
              0.3333333333333333,
              "#9c179e"
             ],
             [
              0.4444444444444444,
              "#bd3786"
             ],
             [
              0.5555555555555556,
              "#d8576b"
             ],
             [
              0.6666666666666666,
              "#ed7953"
             ],
             [
              0.7777777777777778,
              "#fb9f3a"
             ],
             [
              0.8888888888888888,
              "#fdca26"
             ],
             [
              1,
              "#f0f921"
             ]
            ],
            "type": "heatmapgl"
           }
          ],
          "histogram": [
           {
            "marker": {
             "pattern": {
              "fillmode": "overlay",
              "size": 10,
              "solidity": 0.2
             }
            },
            "type": "histogram"
           }
          ],
          "histogram2d": [
           {
            "colorbar": {
             "outlinewidth": 0,
             "ticks": ""
            },
            "colorscale": [
             [
              0,
              "#0d0887"
             ],
             [
              0.1111111111111111,
              "#46039f"
             ],
             [
              0.2222222222222222,
              "#7201a8"
             ],
             [
              0.3333333333333333,
              "#9c179e"
             ],
             [
              0.4444444444444444,
              "#bd3786"
             ],
             [
              0.5555555555555556,
              "#d8576b"
             ],
             [
              0.6666666666666666,
              "#ed7953"
             ],
             [
              0.7777777777777778,
              "#fb9f3a"
             ],
             [
              0.8888888888888888,
              "#fdca26"
             ],
             [
              1,
              "#f0f921"
             ]
            ],
            "type": "histogram2d"
           }
          ],
          "histogram2dcontour": [
           {
            "colorbar": {
             "outlinewidth": 0,
             "ticks": ""
            },
            "colorscale": [
             [
              0,
              "#0d0887"
             ],
             [
              0.1111111111111111,
              "#46039f"
             ],
             [
              0.2222222222222222,
              "#7201a8"
             ],
             [
              0.3333333333333333,
              "#9c179e"
             ],
             [
              0.4444444444444444,
              "#bd3786"
             ],
             [
              0.5555555555555556,
              "#d8576b"
             ],
             [
              0.6666666666666666,
              "#ed7953"
             ],
             [
              0.7777777777777778,
              "#fb9f3a"
             ],
             [
              0.8888888888888888,
              "#fdca26"
             ],
             [
              1,
              "#f0f921"
             ]
            ],
            "type": "histogram2dcontour"
           }
          ],
          "mesh3d": [
           {
            "colorbar": {
             "outlinewidth": 0,
             "ticks": ""
            },
            "type": "mesh3d"
           }
          ],
          "parcoords": [
           {
            "line": {
             "colorbar": {
              "outlinewidth": 0,
              "ticks": ""
             }
            },
            "type": "parcoords"
           }
          ],
          "pie": [
           {
            "automargin": true,
            "type": "pie"
           }
          ],
          "scatter": [
           {
            "marker": {
             "line": {
              "color": "#283442"
             }
            },
            "type": "scatter"
           }
          ],
          "scatter3d": [
           {
            "line": {
             "colorbar": {
              "outlinewidth": 0,
              "ticks": ""
             }
            },
            "marker": {
             "colorbar": {
              "outlinewidth": 0,
              "ticks": ""
             }
            },
            "type": "scatter3d"
           }
          ],
          "scattercarpet": [
           {
            "marker": {
             "colorbar": {
              "outlinewidth": 0,
              "ticks": ""
             }
            },
            "type": "scattercarpet"
           }
          ],
          "scattergeo": [
           {
            "marker": {
             "colorbar": {
              "outlinewidth": 0,
              "ticks": ""
             }
            },
            "type": "scattergeo"
           }
          ],
          "scattergl": [
           {
            "marker": {
             "line": {
              "color": "#283442"
             }
            },
            "type": "scattergl"
           }
          ],
          "scattermapbox": [
           {
            "marker": {
             "colorbar": {
              "outlinewidth": 0,
              "ticks": ""
             }
            },
            "type": "scattermapbox"
           }
          ],
          "scatterpolar": [
           {
            "marker": {
             "colorbar": {
              "outlinewidth": 0,
              "ticks": ""
             }
            },
            "type": "scatterpolar"
           }
          ],
          "scatterpolargl": [
           {
            "marker": {
             "colorbar": {
              "outlinewidth": 0,
              "ticks": ""
             }
            },
            "type": "scatterpolargl"
           }
          ],
          "scatterternary": [
           {
            "marker": {
             "colorbar": {
              "outlinewidth": 0,
              "ticks": ""
             }
            },
            "type": "scatterternary"
           }
          ],
          "surface": [
           {
            "colorbar": {
             "outlinewidth": 0,
             "ticks": ""
            },
            "colorscale": [
             [
              0,
              "#0d0887"
             ],
             [
              0.1111111111111111,
              "#46039f"
             ],
             [
              0.2222222222222222,
              "#7201a8"
             ],
             [
              0.3333333333333333,
              "#9c179e"
             ],
             [
              0.4444444444444444,
              "#bd3786"
             ],
             [
              0.5555555555555556,
              "#d8576b"
             ],
             [
              0.6666666666666666,
              "#ed7953"
             ],
             [
              0.7777777777777778,
              "#fb9f3a"
             ],
             [
              0.8888888888888888,
              "#fdca26"
             ],
             [
              1,
              "#f0f921"
             ]
            ],
            "type": "surface"
           }
          ],
          "table": [
           {
            "cells": {
             "fill": {
              "color": "#506784"
             },
             "line": {
              "color": "rgb(17,17,17)"
             }
            },
            "header": {
             "fill": {
              "color": "#2a3f5f"
             },
             "line": {
              "color": "rgb(17,17,17)"
             }
            },
            "type": "table"
           }
          ]
         },
         "layout": {
          "annotationdefaults": {
           "arrowcolor": "#f2f5fa",
           "arrowhead": 0,
           "arrowwidth": 1
          },
          "autotypenumbers": "strict",
          "coloraxis": {
           "colorbar": {
            "outlinewidth": 0,
            "ticks": ""
           }
          },
          "colorscale": {
           "diverging": [
            [
             0,
             "#8e0152"
            ],
            [
             0.1,
             "#c51b7d"
            ],
            [
             0.2,
             "#de77ae"
            ],
            [
             0.3,
             "#f1b6da"
            ],
            [
             0.4,
             "#fde0ef"
            ],
            [
             0.5,
             "#f7f7f7"
            ],
            [
             0.6,
             "#e6f5d0"
            ],
            [
             0.7,
             "#b8e186"
            ],
            [
             0.8,
             "#7fbc41"
            ],
            [
             0.9,
             "#4d9221"
            ],
            [
             1,
             "#276419"
            ]
           ],
           "sequential": [
            [
             0,
             "#0d0887"
            ],
            [
             0.1111111111111111,
             "#46039f"
            ],
            [
             0.2222222222222222,
             "#7201a8"
            ],
            [
             0.3333333333333333,
             "#9c179e"
            ],
            [
             0.4444444444444444,
             "#bd3786"
            ],
            [
             0.5555555555555556,
             "#d8576b"
            ],
            [
             0.6666666666666666,
             "#ed7953"
            ],
            [
             0.7777777777777778,
             "#fb9f3a"
            ],
            [
             0.8888888888888888,
             "#fdca26"
            ],
            [
             1,
             "#f0f921"
            ]
           ],
           "sequentialminus": [
            [
             0,
             "#0d0887"
            ],
            [
             0.1111111111111111,
             "#46039f"
            ],
            [
             0.2222222222222222,
             "#7201a8"
            ],
            [
             0.3333333333333333,
             "#9c179e"
            ],
            [
             0.4444444444444444,
             "#bd3786"
            ],
            [
             0.5555555555555556,
             "#d8576b"
            ],
            [
             0.6666666666666666,
             "#ed7953"
            ],
            [
             0.7777777777777778,
             "#fb9f3a"
            ],
            [
             0.8888888888888888,
             "#fdca26"
            ],
            [
             1,
             "#f0f921"
            ]
           ]
          },
          "colorway": [
           "#636efa",
           "#EF553B",
           "#00cc96",
           "#ab63fa",
           "#FFA15A",
           "#19d3f3",
           "#FF6692",
           "#B6E880",
           "#FF97FF",
           "#FECB52"
          ],
          "font": {
           "color": "#f2f5fa"
          },
          "geo": {
           "bgcolor": "rgb(17,17,17)",
           "lakecolor": "rgb(17,17,17)",
           "landcolor": "rgb(17,17,17)",
           "showlakes": true,
           "showland": true,
           "subunitcolor": "#506784"
          },
          "hoverlabel": {
           "align": "left"
          },
          "hovermode": "closest",
          "mapbox": {
           "style": "dark"
          },
          "paper_bgcolor": "rgb(17,17,17)",
          "plot_bgcolor": "rgb(17,17,17)",
          "polar": {
           "angularaxis": {
            "gridcolor": "#506784",
            "linecolor": "#506784",
            "ticks": ""
           },
           "bgcolor": "rgb(17,17,17)",
           "radialaxis": {
            "gridcolor": "#506784",
            "linecolor": "#506784",
            "ticks": ""
           }
          },
          "scene": {
           "xaxis": {
            "backgroundcolor": "rgb(17,17,17)",
            "gridcolor": "#506784",
            "gridwidth": 2,
            "linecolor": "#506784",
            "showbackground": true,
            "ticks": "",
            "zerolinecolor": "#C8D4E3"
           },
           "yaxis": {
            "backgroundcolor": "rgb(17,17,17)",
            "gridcolor": "#506784",
            "gridwidth": 2,
            "linecolor": "#506784",
            "showbackground": true,
            "ticks": "",
            "zerolinecolor": "#C8D4E3"
           },
           "zaxis": {
            "backgroundcolor": "rgb(17,17,17)",
            "gridcolor": "#506784",
            "gridwidth": 2,
            "linecolor": "#506784",
            "showbackground": true,
            "ticks": "",
            "zerolinecolor": "#C8D4E3"
           }
          },
          "shapedefaults": {
           "line": {
            "color": "#f2f5fa"
           }
          },
          "sliderdefaults": {
           "bgcolor": "#C8D4E3",
           "bordercolor": "rgb(17,17,17)",
           "borderwidth": 1,
           "tickwidth": 0
          },
          "ternary": {
           "aaxis": {
            "gridcolor": "#506784",
            "linecolor": "#506784",
            "ticks": ""
           },
           "baxis": {
            "gridcolor": "#506784",
            "linecolor": "#506784",
            "ticks": ""
           },
           "bgcolor": "rgb(17,17,17)",
           "caxis": {
            "gridcolor": "#506784",
            "linecolor": "#506784",
            "ticks": ""
           }
          },
          "title": {
           "x": 0.05
          },
          "updatemenudefaults": {
           "bgcolor": "#506784",
           "borderwidth": 0
          },
          "xaxis": {
           "automargin": true,
           "gridcolor": "#283442",
           "linecolor": "#506784",
           "ticks": "",
           "title": {
            "standoff": 15
           },
           "zerolinecolor": "#283442",
           "zerolinewidth": 2
          },
          "yaxis": {
           "automargin": true,
           "gridcolor": "#283442",
           "linecolor": "#506784",
           "ticks": "",
           "title": {
            "standoff": 15
           },
           "zerolinecolor": "#283442",
           "zerolinewidth": 2
          }
         }
        },
        "title": {
         "text": "Tingkat kemurahan hati"
        },
        "xaxis": {
         "anchor": "y",
         "domain": [
          0,
          1
         ],
         "title": {
          "text": "Explained by: Generosity"
         }
        },
        "yaxis": {
         "anchor": "x",
         "domain": [
          0,
          1
         ],
         "title": {
          "text": "Ladder score"
         }
        }
       }
      },
      "text/html": [
       "<div>                            <div id=\"5455aad8-4367-4d29-a5c9-017a985fc83d\" class=\"plotly-graph-div\" style=\"height:525px; width:100%;\"></div>            <script type=\"text/javascript\">                require([\"plotly\"], function(Plotly) {                    window.PLOTLYENV=window.PLOTLYENV || {};                                    if (document.getElementById(\"5455aad8-4367-4d29-a5c9-017a985fc83d\")) {                    Plotly.newPlot(                        \"5455aad8-4367-4d29-a5c9-017a985fc83d\",                        [{\"hovertemplate\":\"<b>%{hovertext}</b><br><br>Regional indicator=Western Europe<br>Explained by: Generosity=%{marker.size}<br>Ladder score=%{y}<extra></extra>\",\"hovertext\":[\"Finland\",\"Denmark\",\"Switzerland\",\"Iceland\",\"Netherlands\",\"Norway\",\"Sweden\",\"Luxembourg\",\"Austria\",\"Germany\",\"Ireland\",\"United Kingdom\",\"Belgium\",\"France\",\"Malta\",\"Spain\",\"Italy\",\"Cyprus\",\"Portugal\",\"Greece\",\"North Cyprus\"],\"legendgroup\":\"Western Europe\",\"marker\":{\"color\":\"rgb(255,245,235)\",\"size\":[0.124,0.208,0.204,0.293,0.302,0.249,0.244,0.166,0.215,0.195,0.238,0.34,0.088,0.092,0.275,0.135,0.133,0.178,0.029,0.0,0.196],\"sizemode\":\"area\",\"sizeref\":0.0013525000000000002,\"symbol\":\"circle\"},\"mode\":\"markers\",\"name\":\"Western Europe\",\"orientation\":\"v\",\"showlegend\":true,\"x\":[0.124,0.208,0.204,0.293,0.302,0.249,0.244,0.166,0.215,0.195,0.238,0.34,0.088,0.092,0.275,0.135,0.133,0.178,0.029,0.0,0.196],\"xaxis\":\"x\",\"y\":[7.842,7.62,7.571,7.554,7.464,7.392,7.363,7.324,7.268,7.155,7.085,7.064,6.834,6.69,6.602,6.491,6.483,6.223,5.929,5.723,5.536],\"yaxis\":\"y\",\"type\":\"scatter\"},{\"hovertemplate\":\"<b>%{hovertext}</b><br><br>Regional indicator=North America and ANZ<br>Explained by: Generosity=%{marker.size}<br>Ladder score=%{y}<extra></extra>\",\"hovertext\":[\"New Zealand\",\"Australia\",\"Canada\",\"United States\"],\"legendgroup\":\"North America and ANZ\",\"marker\":{\"color\":\"rgb(254,230,206)\",\"size\":[0.276,0.291,0.246,0.252],\"sizemode\":\"area\",\"sizeref\":0.0013525000000000002,\"symbol\":\"circle\"},\"mode\":\"markers\",\"name\":\"North America and ANZ\",\"orientation\":\"v\",\"showlegend\":true,\"x\":[0.276,0.291,0.246,0.252],\"xaxis\":\"x\",\"y\":[7.277,7.183,7.103,6.951],\"yaxis\":\"y\",\"type\":\"scatter\"},{\"hovertemplate\":\"<b>%{hovertext}</b><br><br>Regional indicator=Middle East and North Africa<br>Explained by: Generosity=%{marker.size}<br>Ladder score=%{y}<extra></extra>\",\"hovertext\":[\"Israel\",\"Bahrain\",\"United Arab Emirates\",\"Saudi Arabia\",\"Kuwait\",\"Libya\",\"Turkey\",\"Morocco\",\"Algeria\",\"Iraq\",\"Iran\",\"Tunisia\",\"Lebanon\",\"Palestinian Territories\",\"Jordan\",\"Egypt\",\"Yemen\"],\"legendgroup\":\"Middle East and North Africa\",\"marker\":{\"color\":\"rgb(253,208,162)\",\"size\":[0.208,0.246,0.236,0.09,0.12,0.131,0.097,0.034,0.144,0.153,0.33,0.057,0.14,0.082,0.079,0.069,0.092],\"sizemode\":\"area\",\"sizeref\":0.0013525000000000002,\"symbol\":\"circle\"},\"mode\":\"markers\",\"name\":\"Middle East and North Africa\",\"orientation\":\"v\",\"showlegend\":true,\"x\":[0.208,0.246,0.236,0.09,0.12,0.131,0.097,0.034,0.144,0.153,0.33,0.057,0.14,0.082,0.079,0.069,0.092],\"xaxis\":\"x\",\"y\":[7.157,6.647,6.561,6.494,6.106,5.41,4.948,4.918,4.887,4.854,4.721,4.596,4.584,4.517,4.395,4.283,3.658],\"yaxis\":\"y\",\"type\":\"scatter\"},{\"hovertemplate\":\"<b>%{hovertext}</b><br><br>Regional indicator=Latin America and Caribbean<br>Explained by: Generosity=%{marker.size}<br>Ladder score=%{y}<extra></extra>\",\"hovertext\":[\"Costa Rica\",\"Guatemala\",\"Uruguay\",\"Brazil\",\"Mexico\",\"Jamaica\",\"Panama\",\"Chile\",\"El Salvador\",\"Colombia\",\"Nicaragua\",\"Argentina\",\"Honduras\",\"Peru\",\"Ecuador\",\"Bolivia\",\"Paraguay\",\"Dominican Republic\",\"Venezuela\",\"Haiti\"],\"legendgroup\":\"Latin America and Caribbean\",\"marker\":{\"color\":\"rgb(253,174,107)\",\"size\":[0.105,0.163,0.128,0.142,0.092,0.099,0.079,0.159,0.116,0.1,0.201,0.069,0.241,0.087,0.107,0.138,0.206,0.101,0.078,0.463],\"sizemode\":\"area\",\"sizeref\":0.0013525000000000002,\"symbol\":\"circle\"},\"mode\":\"markers\",\"name\":\"Latin America and Caribbean\",\"orientation\":\"v\",\"showlegend\":true,\"x\":[0.105,0.163,0.128,0.142,0.092,0.099,0.079,0.159,0.116,0.1,0.201,0.069,0.241,0.087,0.107,0.138,0.206,0.101,0.078,0.463],\"xaxis\":\"x\",\"y\":[7.069,6.435,6.431,6.33,6.317,6.309,6.18,6.172,6.061,6.012,5.972,5.929,5.919,5.84,5.764,5.716,5.653,5.545,4.892,3.615],\"yaxis\":\"y\",\"type\":\"scatter\"},{\"hovertemplate\":\"<b>%{hovertext}</b><br><br>Regional indicator=Central and Eastern Europe<br>Explained by: Generosity=%{marker.size}<br>Ladder score=%{y}<extra></extra>\",\"hovertext\":[\"Czech Republic\",\"Slovenia\",\"Kosovo\",\"Slovakia\",\"Lithuania\",\"Estonia\",\"Poland\",\"Romania\",\"Serbia\",\"Latvia\",\"Hungary\",\"Croatia\",\"Bosnia and Herzegovina\",\"Montenegro\",\"Bulgaria\",\"Albania\",\"North Macedonia\"],\"legendgroup\":\"Central and Eastern Europe\",\"marker\":{\"color\":\"rgb(253,141,60)\",\"size\":[0.052,0.122,0.356,0.107,0.056,0.119,0.08,0.045,0.189,0.082,0.067,0.111,0.261,0.166,0.125,0.168,0.212],\"sizemode\":\"area\",\"sizeref\":0.0013525000000000002,\"symbol\":\"circle\"},\"mode\":\"markers\",\"name\":\"Central and Eastern Europe\",\"orientation\":\"v\",\"showlegend\":true,\"x\":[0.052,0.122,0.356,0.107,0.056,0.119,0.08,0.045,0.189,0.082,0.067,0.111,0.261,0.166,0.125,0.168,0.212],\"xaxis\":\"x\",\"y\":[6.965,6.461,6.372,6.331,6.255,6.189,6.166,6.14,6.078,6.032,5.992,5.882,5.813,5.581,5.266,5.117,5.101],\"yaxis\":\"y\",\"type\":\"scatter\"},{\"hovertemplate\":\"<b>%{hovertext}</b><br><br>Regional indicator=East Asia<br>Explained by: Generosity=%{marker.size}<br>Ladder score=%{y}<extra></extra>\",\"hovertext\":[\"Taiwan Province of China\",\"Japan\",\"South Korea\",\"Mongolia\",\"Hong Kong S.A.R. of China\",\"China\"],\"legendgroup\":\"East Asia\",\"marker\":{\"color\":\"rgb(241,105,19)\",\"size\":[0.142,0.02,0.134,0.263,0.232,0.093],\"sizemode\":\"area\",\"sizeref\":0.0013525000000000002,\"symbol\":\"circle\"},\"mode\":\"markers\",\"name\":\"East Asia\",\"orientation\":\"v\",\"showlegend\":true,\"x\":[0.142,0.02,0.134,0.263,0.232,0.093],\"xaxis\":\"x\",\"y\":[6.584,5.94,5.845,5.677,5.477,5.339],\"yaxis\":\"y\",\"type\":\"scatter\"},{\"hovertemplate\":\"<b>%{hovertext}</b><br><br>Regional indicator=Southeast Asia<br>Explained by: Generosity=%{marker.size}<br>Ladder score=%{y}<extra></extra>\",\"hovertext\":[\"Singapore\",\"Thailand\",\"Philippines\",\"Vietnam\",\"Malaysia\",\"Indonesia\",\"Laos\",\"Cambodia\",\"Myanmar\"],\"legendgroup\":\"Southeast Asia\",\"marker\":{\"color\":\"rgb(217,72,1)\",\"size\":[0.176,0.375,0.125,0.124,0.27,0.541,0.268,0.21,0.52],\"sizemode\":\"area\",\"sizeref\":0.0013525000000000002,\"symbol\":\"circle\"},\"mode\":\"markers\",\"name\":\"Southeast Asia\",\"orientation\":\"v\",\"showlegend\":true,\"x\":[0.176,0.375,0.125,0.124,0.27,0.541,0.268,0.21,0.52],\"xaxis\":\"x\",\"y\":[6.377,5.985,5.88,5.411,5.384,5.345,5.03,4.83,4.426],\"yaxis\":\"y\",\"type\":\"scatter\"},{\"hovertemplate\":\"<b>%{hovertext}</b><br><br>Regional indicator=Commonwealth of Independent States<br>Explained by: Generosity=%{marker.size}<br>Ladder score=%{y}<extra></extra>\",\"hovertext\":[\"Uzbekistan\",\"Kazakhstan\",\"Moldova\",\"Kyrgyzstan\",\"Belarus\",\"Russia\",\"Tajikistan\",\"Armenia\",\"Azerbaijan\",\"Turkmenistan\",\"Georgia\",\"Ukraine\"],\"legendgroup\":\"Commonwealth of Independent States\",\"marker\":{\"color\":\"rgb(166,54,3)\",\"size\":[0.391,0.143,0.137,0.266,0.07,0.115,0.152,0.079,0.043,0.366,0.032,0.181],\"sizemode\":\"area\",\"sizeref\":0.0013525000000000002,\"symbol\":\"circle\"},\"mode\":\"markers\",\"name\":\"Commonwealth of Independent States\",\"orientation\":\"v\",\"showlegend\":true,\"x\":[0.391,0.143,0.137,0.266,0.07,0.115,0.152,0.079,0.043,0.366,0.032,0.181],\"xaxis\":\"x\",\"y\":[6.179,6.152,5.766,5.744,5.534,5.477,5.466,5.283,5.171,5.066,4.891,4.875],\"yaxis\":\"y\",\"type\":\"scatter\"},{\"hovertemplate\":\"<b>%{hovertext}</b><br><br>Regional indicator=Sub-Saharan Africa<br>Explained by: Generosity=%{marker.size}<br>Ladder score=%{y}<extra></extra>\",\"hovertext\":[\"Mauritius\",\"Congo (Brazzaville)\",\"Ivory Coast\",\"Cameroon\",\"Senegal\",\"Ghana\",\"Niger\",\"Gambia\",\"Benin\",\"Guinea\",\"South Africa\",\"Gabon\",\"Burkina Faso\",\"Mozambique\",\"Nigeria\",\"Mali\",\"Uganda\",\"Liberia\",\"Kenya\",\"Namibia\",\"Chad\",\"Swaziland\",\"Comoros\",\"Ethiopia\",\"Mauritania\",\"Madagascar\",\"Togo\",\"Zambia\",\"Sierra Leone\",\"Burundi\",\"Tanzania\",\"Malawi\",\"Lesotho\",\"Botswana\",\"Rwanda\",\"Zimbabwe\"],\"legendgroup\":\"Sub-Saharan Africa\",\"marker\":{\"color\":\"rgb(127,39,4)\",\"size\":[0.153,0.144,0.177,0.205,0.158,0.268,0.2,0.465,0.166,0.25,0.144,0.058,0.182,0.228,0.212,0.164,0.267,0.221,0.375,0.091,0.215,0.067,0.241,0.241,0.119,0.185,0.209,0.227,0.243,0.172,0.307,0.213,0.103,0.027,0.227,0.157],\"sizemode\":\"area\",\"sizeref\":0.0013525000000000002,\"symbol\":\"circle\"},\"mode\":\"markers\",\"name\":\"Sub-Saharan Africa\",\"orientation\":\"v\",\"showlegend\":true,\"x\":[0.153,0.144,0.177,0.205,0.158,0.268,0.2,0.465,0.166,0.25,0.144,0.058,0.182,0.228,0.212,0.164,0.267,0.221,0.375,0.091,0.215,0.067,0.241,0.241,0.119,0.185,0.209,0.227,0.243,0.172,0.307,0.213,0.103,0.027,0.227,0.157],\"xaxis\":\"x\",\"y\":[6.049,5.342,5.306,5.142,5.132,5.088,5.074,5.051,5.045,4.984,4.956,4.852,4.834,4.794,4.759,4.723,4.636,4.625,4.607,4.574,4.355,4.308,4.289,4.275,4.227,4.208,4.107,4.073,3.849,3.775,3.623,3.6,3.512,3.467,3.415,3.145],\"yaxis\":\"y\",\"type\":\"scatter\"},{\"hovertemplate\":\"<b>%{hovertext}</b><br><br>Regional indicator=South Asia<br>Explained by: Generosity=%{marker.size}<br>Ladder score=%{y}<extra></extra>\",\"hovertext\":[\"Nepal\",\"Maldives\",\"Bangladesh\",\"Pakistan\",\"Sri Lanka\",\"India\",\"Afghanistan\"],\"legendgroup\":\"South Asia\",\"marker\":{\"color\":\"rgb(255,245,235)\",\"size\":[0.287,0.204,0.161,0.252,0.239,0.246,0.122],\"sizemode\":\"area\",\"sizeref\":0.0013525000000000002,\"symbol\":\"circle\"},\"mode\":\"markers\",\"name\":\"South Asia\",\"orientation\":\"v\",\"showlegend\":true,\"x\":[0.287,0.204,0.161,0.252,0.239,0.246,0.122],\"xaxis\":\"x\",\"y\":[5.269,5.198,5.025,4.934,4.325,3.819,2.523],\"yaxis\":\"y\",\"type\":\"scatter\"}],                        {\"template\":{\"data\":{\"barpolar\":[{\"marker\":{\"line\":{\"color\":\"rgb(17,17,17)\",\"width\":0.5},\"pattern\":{\"fillmode\":\"overlay\",\"size\":10,\"solidity\":0.2}},\"type\":\"barpolar\"}],\"bar\":[{\"error_x\":{\"color\":\"#f2f5fa\"},\"error_y\":{\"color\":\"#f2f5fa\"},\"marker\":{\"line\":{\"color\":\"rgb(17,17,17)\",\"width\":0.5},\"pattern\":{\"fillmode\":\"overlay\",\"size\":10,\"solidity\":0.2}},\"type\":\"bar\"}],\"carpet\":[{\"aaxis\":{\"endlinecolor\":\"#A2B1C6\",\"gridcolor\":\"#506784\",\"linecolor\":\"#506784\",\"minorgridcolor\":\"#506784\",\"startlinecolor\":\"#A2B1C6\"},\"baxis\":{\"endlinecolor\":\"#A2B1C6\",\"gridcolor\":\"#506784\",\"linecolor\":\"#506784\",\"minorgridcolor\":\"#506784\",\"startlinecolor\":\"#A2B1C6\"},\"type\":\"carpet\"}],\"choropleth\":[{\"colorbar\":{\"outlinewidth\":0,\"ticks\":\"\"},\"type\":\"choropleth\"}],\"contourcarpet\":[{\"colorbar\":{\"outlinewidth\":0,\"ticks\":\"\"},\"type\":\"contourcarpet\"}],\"contour\":[{\"colorbar\":{\"outlinewidth\":0,\"ticks\":\"\"},\"colorscale\":[[0.0,\"#0d0887\"],[0.1111111111111111,\"#46039f\"],[0.2222222222222222,\"#7201a8\"],[0.3333333333333333,\"#9c179e\"],[0.4444444444444444,\"#bd3786\"],[0.5555555555555556,\"#d8576b\"],[0.6666666666666666,\"#ed7953\"],[0.7777777777777778,\"#fb9f3a\"],[0.8888888888888888,\"#fdca26\"],[1.0,\"#f0f921\"]],\"type\":\"contour\"}],\"heatmapgl\":[{\"colorbar\":{\"outlinewidth\":0,\"ticks\":\"\"},\"colorscale\":[[0.0,\"#0d0887\"],[0.1111111111111111,\"#46039f\"],[0.2222222222222222,\"#7201a8\"],[0.3333333333333333,\"#9c179e\"],[0.4444444444444444,\"#bd3786\"],[0.5555555555555556,\"#d8576b\"],[0.6666666666666666,\"#ed7953\"],[0.7777777777777778,\"#fb9f3a\"],[0.8888888888888888,\"#fdca26\"],[1.0,\"#f0f921\"]],\"type\":\"heatmapgl\"}],\"heatmap\":[{\"colorbar\":{\"outlinewidth\":0,\"ticks\":\"\"},\"colorscale\":[[0.0,\"#0d0887\"],[0.1111111111111111,\"#46039f\"],[0.2222222222222222,\"#7201a8\"],[0.3333333333333333,\"#9c179e\"],[0.4444444444444444,\"#bd3786\"],[0.5555555555555556,\"#d8576b\"],[0.6666666666666666,\"#ed7953\"],[0.7777777777777778,\"#fb9f3a\"],[0.8888888888888888,\"#fdca26\"],[1.0,\"#f0f921\"]],\"type\":\"heatmap\"}],\"histogram2dcontour\":[{\"colorbar\":{\"outlinewidth\":0,\"ticks\":\"\"},\"colorscale\":[[0.0,\"#0d0887\"],[0.1111111111111111,\"#46039f\"],[0.2222222222222222,\"#7201a8\"],[0.3333333333333333,\"#9c179e\"],[0.4444444444444444,\"#bd3786\"],[0.5555555555555556,\"#d8576b\"],[0.6666666666666666,\"#ed7953\"],[0.7777777777777778,\"#fb9f3a\"],[0.8888888888888888,\"#fdca26\"],[1.0,\"#f0f921\"]],\"type\":\"histogram2dcontour\"}],\"histogram2d\":[{\"colorbar\":{\"outlinewidth\":0,\"ticks\":\"\"},\"colorscale\":[[0.0,\"#0d0887\"],[0.1111111111111111,\"#46039f\"],[0.2222222222222222,\"#7201a8\"],[0.3333333333333333,\"#9c179e\"],[0.4444444444444444,\"#bd3786\"],[0.5555555555555556,\"#d8576b\"],[0.6666666666666666,\"#ed7953\"],[0.7777777777777778,\"#fb9f3a\"],[0.8888888888888888,\"#fdca26\"],[1.0,\"#f0f921\"]],\"type\":\"histogram2d\"}],\"histogram\":[{\"marker\":{\"pattern\":{\"fillmode\":\"overlay\",\"size\":10,\"solidity\":0.2}},\"type\":\"histogram\"}],\"mesh3d\":[{\"colorbar\":{\"outlinewidth\":0,\"ticks\":\"\"},\"type\":\"mesh3d\"}],\"parcoords\":[{\"line\":{\"colorbar\":{\"outlinewidth\":0,\"ticks\":\"\"}},\"type\":\"parcoords\"}],\"pie\":[{\"automargin\":true,\"type\":\"pie\"}],\"scatter3d\":[{\"line\":{\"colorbar\":{\"outlinewidth\":0,\"ticks\":\"\"}},\"marker\":{\"colorbar\":{\"outlinewidth\":0,\"ticks\":\"\"}},\"type\":\"scatter3d\"}],\"scattercarpet\":[{\"marker\":{\"colorbar\":{\"outlinewidth\":0,\"ticks\":\"\"}},\"type\":\"scattercarpet\"}],\"scattergeo\":[{\"marker\":{\"colorbar\":{\"outlinewidth\":0,\"ticks\":\"\"}},\"type\":\"scattergeo\"}],\"scattergl\":[{\"marker\":{\"line\":{\"color\":\"#283442\"}},\"type\":\"scattergl\"}],\"scattermapbox\":[{\"marker\":{\"colorbar\":{\"outlinewidth\":0,\"ticks\":\"\"}},\"type\":\"scattermapbox\"}],\"scatterpolargl\":[{\"marker\":{\"colorbar\":{\"outlinewidth\":0,\"ticks\":\"\"}},\"type\":\"scatterpolargl\"}],\"scatterpolar\":[{\"marker\":{\"colorbar\":{\"outlinewidth\":0,\"ticks\":\"\"}},\"type\":\"scatterpolar\"}],\"scatter\":[{\"marker\":{\"line\":{\"color\":\"#283442\"}},\"type\":\"scatter\"}],\"scatterternary\":[{\"marker\":{\"colorbar\":{\"outlinewidth\":0,\"ticks\":\"\"}},\"type\":\"scatterternary\"}],\"surface\":[{\"colorbar\":{\"outlinewidth\":0,\"ticks\":\"\"},\"colorscale\":[[0.0,\"#0d0887\"],[0.1111111111111111,\"#46039f\"],[0.2222222222222222,\"#7201a8\"],[0.3333333333333333,\"#9c179e\"],[0.4444444444444444,\"#bd3786\"],[0.5555555555555556,\"#d8576b\"],[0.6666666666666666,\"#ed7953\"],[0.7777777777777778,\"#fb9f3a\"],[0.8888888888888888,\"#fdca26\"],[1.0,\"#f0f921\"]],\"type\":\"surface\"}],\"table\":[{\"cells\":{\"fill\":{\"color\":\"#506784\"},\"line\":{\"color\":\"rgb(17,17,17)\"}},\"header\":{\"fill\":{\"color\":\"#2a3f5f\"},\"line\":{\"color\":\"rgb(17,17,17)\"}},\"type\":\"table\"}]},\"layout\":{\"annotationdefaults\":{\"arrowcolor\":\"#f2f5fa\",\"arrowhead\":0,\"arrowwidth\":1},\"autotypenumbers\":\"strict\",\"coloraxis\":{\"colorbar\":{\"outlinewidth\":0,\"ticks\":\"\"}},\"colorscale\":{\"diverging\":[[0,\"#8e0152\"],[0.1,\"#c51b7d\"],[0.2,\"#de77ae\"],[0.3,\"#f1b6da\"],[0.4,\"#fde0ef\"],[0.5,\"#f7f7f7\"],[0.6,\"#e6f5d0\"],[0.7,\"#b8e186\"],[0.8,\"#7fbc41\"],[0.9,\"#4d9221\"],[1,\"#276419\"]],\"sequential\":[[0.0,\"#0d0887\"],[0.1111111111111111,\"#46039f\"],[0.2222222222222222,\"#7201a8\"],[0.3333333333333333,\"#9c179e\"],[0.4444444444444444,\"#bd3786\"],[0.5555555555555556,\"#d8576b\"],[0.6666666666666666,\"#ed7953\"],[0.7777777777777778,\"#fb9f3a\"],[0.8888888888888888,\"#fdca26\"],[1.0,\"#f0f921\"]],\"sequentialminus\":[[0.0,\"#0d0887\"],[0.1111111111111111,\"#46039f\"],[0.2222222222222222,\"#7201a8\"],[0.3333333333333333,\"#9c179e\"],[0.4444444444444444,\"#bd3786\"],[0.5555555555555556,\"#d8576b\"],[0.6666666666666666,\"#ed7953\"],[0.7777777777777778,\"#fb9f3a\"],[0.8888888888888888,\"#fdca26\"],[1.0,\"#f0f921\"]]},\"colorway\":[\"#636efa\",\"#EF553B\",\"#00cc96\",\"#ab63fa\",\"#FFA15A\",\"#19d3f3\",\"#FF6692\",\"#B6E880\",\"#FF97FF\",\"#FECB52\"],\"font\":{\"color\":\"#f2f5fa\"},\"geo\":{\"bgcolor\":\"rgb(17,17,17)\",\"lakecolor\":\"rgb(17,17,17)\",\"landcolor\":\"rgb(17,17,17)\",\"showlakes\":true,\"showland\":true,\"subunitcolor\":\"#506784\"},\"hoverlabel\":{\"align\":\"left\"},\"hovermode\":\"closest\",\"mapbox\":{\"style\":\"dark\"},\"paper_bgcolor\":\"rgb(17,17,17)\",\"plot_bgcolor\":\"rgb(17,17,17)\",\"polar\":{\"angularaxis\":{\"gridcolor\":\"#506784\",\"linecolor\":\"#506784\",\"ticks\":\"\"},\"bgcolor\":\"rgb(17,17,17)\",\"radialaxis\":{\"gridcolor\":\"#506784\",\"linecolor\":\"#506784\",\"ticks\":\"\"}},\"scene\":{\"xaxis\":{\"backgroundcolor\":\"rgb(17,17,17)\",\"gridcolor\":\"#506784\",\"gridwidth\":2,\"linecolor\":\"#506784\",\"showbackground\":true,\"ticks\":\"\",\"zerolinecolor\":\"#C8D4E3\"},\"yaxis\":{\"backgroundcolor\":\"rgb(17,17,17)\",\"gridcolor\":\"#506784\",\"gridwidth\":2,\"linecolor\":\"#506784\",\"showbackground\":true,\"ticks\":\"\",\"zerolinecolor\":\"#C8D4E3\"},\"zaxis\":{\"backgroundcolor\":\"rgb(17,17,17)\",\"gridcolor\":\"#506784\",\"gridwidth\":2,\"linecolor\":\"#506784\",\"showbackground\":true,\"ticks\":\"\",\"zerolinecolor\":\"#C8D4E3\"}},\"shapedefaults\":{\"line\":{\"color\":\"#f2f5fa\"}},\"sliderdefaults\":{\"bgcolor\":\"#C8D4E3\",\"bordercolor\":\"rgb(17,17,17)\",\"borderwidth\":1,\"tickwidth\":0},\"ternary\":{\"aaxis\":{\"gridcolor\":\"#506784\",\"linecolor\":\"#506784\",\"ticks\":\"\"},\"baxis\":{\"gridcolor\":\"#506784\",\"linecolor\":\"#506784\",\"ticks\":\"\"},\"bgcolor\":\"rgb(17,17,17)\",\"caxis\":{\"gridcolor\":\"#506784\",\"linecolor\":\"#506784\",\"ticks\":\"\"}},\"title\":{\"x\":0.05},\"updatemenudefaults\":{\"bgcolor\":\"#506784\",\"borderwidth\":0},\"xaxis\":{\"automargin\":true,\"gridcolor\":\"#283442\",\"linecolor\":\"#506784\",\"ticks\":\"\",\"title\":{\"standoff\":15},\"zerolinecolor\":\"#283442\",\"zerolinewidth\":2},\"yaxis\":{\"automargin\":true,\"gridcolor\":\"#283442\",\"linecolor\":\"#506784\",\"ticks\":\"\",\"title\":{\"standoff\":15},\"zerolinecolor\":\"#283442\",\"zerolinewidth\":2}}},\"xaxis\":{\"anchor\":\"y\",\"domain\":[0.0,1.0],\"title\":{\"text\":\"Explained by: Generosity\"}},\"yaxis\":{\"anchor\":\"x\",\"domain\":[0.0,1.0],\"title\":{\"text\":\"Ladder score\"}},\"legend\":{\"title\":{\"text\":\"Regional indicator\"},\"tracegroupgap\":0,\"itemsizing\":\"constant\"},\"title\":{\"text\":\"Tingkat kemurahan hati\"}},                        {\"responsive\": true}                    ).then(function(){\n",
       "                            \n",
       "var gd = document.getElementById('5455aad8-4367-4d29-a5c9-017a985fc83d');\n",
       "var x = new MutationObserver(function (mutations, observer) {{\n",
       "        var display = window.getComputedStyle(gd).display;\n",
       "        if (!display || display === 'none') {{\n",
       "            console.log([gd, 'removed!']);\n",
       "            Plotly.purge(gd);\n",
       "            observer.disconnect();\n",
       "        }}\n",
       "}});\n",
       "\n",
       "// Listen for the removal of the full notebook cells\n",
       "var notebookContainer = gd.closest('#notebook-container');\n",
       "if (notebookContainer) {{\n",
       "    x.observe(notebookContainer, {childList: true});\n",
       "}}\n",
       "\n",
       "// Listen for the clearing of the current output cell\n",
       "var outputEl = gd.closest('.output');\n",
       "if (outputEl) {{\n",
       "    x.observe(outputEl, {childList: true});\n",
       "}}\n",
       "\n",
       "                        })                };                });            </script>        </div>"
      ]
     },
     "metadata": {},
     "output_type": "display_data"
    }
   ],
   "source": [
    "fig = px.scatter(df, x=\"Explained by: Generosity\", y=\"Ladder score\", \n",
    "                color=\"Regional indicator\", \n",
    "                color_discrete_sequence = px.colors.sequential.Oranges, \n",
    "                template = 'plotly_dark',\n",
    "                size = 'Explained by: Generosity',\n",
    "                hover_name=\"Country name\",\n",
    "                title=\"Tingkat kemurahan hati\")\n",
    "fig.show()"
   ]
  },
  {
   "cell_type": "markdown",
   "id": "e08fff9c",
   "metadata": {},
   "source": [
    "### Terbukti indonesia merupakan tingkat kemurahan hati yang paling tinggi dan sangat ramah"
   ]
  },
  {
   "cell_type": "code",
   "execution_count": 105,
   "id": "6b7e492c",
   "metadata": {},
   "outputs": [
    {
     "data": {
      "application/vnd.plotly.v1+json": {
       "config": {
        "plotlyServerURL": "https://plot.ly"
       },
       "data": [
        {
         "hovertemplate": "<b>%{hovertext}</b><br><br>Regional indicator=Western Europe<br>Explained by: Social support=%{marker.size}<br>Ladder score=%{y}<extra></extra>",
         "hovertext": [
          "Finland",
          "Denmark",
          "Switzerland",
          "Iceland",
          "Netherlands",
          "Norway",
          "Sweden",
          "Luxembourg",
          "Austria",
          "Germany",
          "Ireland",
          "United Kingdom",
          "Belgium",
          "France",
          "Malta",
          "Spain",
          "Italy",
          "Cyprus",
          "Portugal",
          "Greece",
          "North Cyprus"
         ],
         "legendgroup": "Western Europe",
         "marker": {
          "color": "rgb(255,245,235)",
          "size": [
           1.106,
           1.108,
           1.079,
           1.172,
           1.079,
           1.108,
           1.062,
           1.003,
           1.062,
           0.993,
           1.092,
           1.062,
           0.998,
           1.081,
           1.055,
           1.057,
           0.94,
           0.765,
           0.939,
           0.811,
           0.806
          ],
          "sizemode": "area",
          "sizeref": 0.00293,
          "symbol": "circle"
         },
         "mode": "markers",
         "name": "Western Europe",
         "orientation": "v",
         "showlegend": true,
         "type": "scatter",
         "x": [
          1.106,
          1.108,
          1.079,
          1.172,
          1.079,
          1.108,
          1.062,
          1.003,
          1.062,
          0.993,
          1.092,
          1.062,
          0.998,
          1.081,
          1.055,
          1.057,
          0.94,
          0.765,
          0.939,
          0.811,
          0.806
         ],
         "xaxis": "x",
         "y": [
          7.842,
          7.62,
          7.571,
          7.554,
          7.464,
          7.392,
          7.363,
          7.324,
          7.268,
          7.155,
          7.085,
          7.064,
          6.834,
          6.69,
          6.602,
          6.491,
          6.483,
          6.223,
          5.929,
          5.723,
          5.536
         ],
         "yaxis": "y"
        },
        {
         "hovertemplate": "<b>%{hovertext}</b><br><br>Regional indicator=North America and ANZ<br>Explained by: Social support=%{marker.size}<br>Ladder score=%{y}<extra></extra>",
         "hovertext": [
          "New Zealand",
          "Australia",
          "Canada",
          "United States"
         ],
         "legendgroup": "North America and ANZ",
         "marker": {
          "color": "rgb(254,230,206)",
          "size": [
           1.094,
           1.076,
           1.044,
           1.03
          ],
          "sizemode": "area",
          "sizeref": 0.00293,
          "symbol": "circle"
         },
         "mode": "markers",
         "name": "North America and ANZ",
         "orientation": "v",
         "showlegend": true,
         "type": "scatter",
         "x": [
          1.094,
          1.076,
          1.044,
          1.03
         ],
         "xaxis": "x",
         "y": [
          7.277,
          7.183,
          7.103,
          6.951
         ],
         "yaxis": "y"
        },
        {
         "hovertemplate": "<b>%{hovertext}</b><br><br>Regional indicator=Middle East and North Africa<br>Explained by: Social support=%{marker.size}<br>Ladder score=%{y}<extra></extra>",
         "hovertext": [
          "Israel",
          "Bahrain",
          "United Arab Emirates",
          "Saudi Arabia",
          "Kuwait",
          "Libya",
          "Turkey",
          "Morocco",
          "Algeria",
          "Iraq",
          "Iran",
          "Tunisia",
          "Lebanon",
          "Palestinian Territories",
          "Jordan",
          "Egypt",
          "Yemen"
         ],
         "legendgroup": "Middle East and North Africa",
         "marker": {
          "color": "rgb(253,208,162)",
          "size": [
           1.074,
           0.899,
           0.86,
           0.964,
           0.857,
           0.821,
           0.809,
           0.219,
           0.765,
           0.638,
           0.557,
           0.515,
           0.868,
           0.819,
           0.685,
           0.647,
           0.831
          ],
          "sizemode": "area",
          "sizeref": 0.00293,
          "symbol": "circle"
         },
         "mode": "markers",
         "name": "Middle East and North Africa",
         "orientation": "v",
         "showlegend": true,
         "type": "scatter",
         "x": [
          1.074,
          0.899,
          0.86,
          0.964,
          0.857,
          0.821,
          0.809,
          0.219,
          0.765,
          0.638,
          0.557,
          0.515,
          0.868,
          0.819,
          0.685,
          0.647,
          0.831
         ],
         "xaxis": "x",
         "y": [
          7.157,
          6.647,
          6.561,
          6.494,
          6.106,
          5.41,
          4.948,
          4.918,
          4.887,
          4.854,
          4.721,
          4.596,
          4.584,
          4.517,
          4.395,
          4.283,
          3.658
         ],
         "yaxis": "y"
        },
        {
         "hovertemplate": "<b>%{hovertext}</b><br><br>Regional indicator=Latin America and Caribbean<br>Explained by: Social support=%{marker.size}<br>Ladder score=%{y}<extra></extra>",
         "hovertext": [
          "Costa Rica",
          "Guatemala",
          "Uruguay",
          "Brazil",
          "Mexico",
          "Jamaica",
          "Panama",
          "Chile",
          "El Salvador",
          "Colombia",
          "Nicaragua",
          "Argentina",
          "Honduras",
          "Peru",
          "Ecuador",
          "Bolivia",
          "Paraguay",
          "Dominican Republic",
          "Venezuela",
          "Haiti"
         ],
         "legendgroup": "Latin America and Caribbean",
         "marker": {
          "color": "rgb(253,174,107)",
          "size": [
           0.966,
           0.79,
           1.042,
           0.944,
           0.83,
           0.932,
           0.976,
           0.946,
           0.675,
           0.866,
           0.904,
           0.98,
           0.787,
           0.833,
           0.806,
           0.782,
           0.97,
           0.879,
           0.897,
           0.173
          ],
          "sizemode": "area",
          "sizeref": 0.00293,
          "symbol": "circle"
         },
         "mode": "markers",
         "name": "Latin America and Caribbean",
         "orientation": "v",
         "showlegend": true,
         "type": "scatter",
         "x": [
          0.966,
          0.79,
          1.042,
          0.944,
          0.83,
          0.932,
          0.976,
          0.946,
          0.675,
          0.866,
          0.904,
          0.98,
          0.787,
          0.833,
          0.806,
          0.782,
          0.97,
          0.879,
          0.897,
          0.173
         ],
         "xaxis": "x",
         "y": [
          7.069,
          6.435,
          6.431,
          6.33,
          6.317,
          6.309,
          6.18,
          6.172,
          6.061,
          6.012,
          5.972,
          5.929,
          5.919,
          5.84,
          5.764,
          5.716,
          5.653,
          5.545,
          4.892,
          3.615
         ],
         "yaxis": "y"
        },
        {
         "hovertemplate": "<b>%{hovertext}</b><br><br>Regional indicator=Central and Eastern Europe<br>Explained by: Social support=%{marker.size}<br>Ladder score=%{y}<extra></extra>",
         "hovertext": [
          "Czech Republic",
          "Slovenia",
          "Kosovo",
          "Slovakia",
          "Lithuania",
          "Estonia",
          "Poland",
          "Romania",
          "Serbia",
          "Latvia",
          "Hungary",
          "Croatia",
          "Bosnia and Herzegovina",
          "Montenegro",
          "Bulgaria",
          "Albania",
          "North Macedonia"
         ],
         "legendgroup": "Central and Eastern Europe",
         "marker": {
          "color": "rgb(253,141,60)",
          "size": [
           1.09,
           1.093,
           0.807,
           1.066,
           1.065,
           1.079,
           0.982,
           0.832,
           0.924,
           1.047,
           1.083,
           1.039,
           0.919,
           0.891,
           1.055,
           0.529,
           0.772
          ],
          "sizemode": "area",
          "sizeref": 0.00293,
          "symbol": "circle"
         },
         "mode": "markers",
         "name": "Central and Eastern Europe",
         "orientation": "v",
         "showlegend": true,
         "type": "scatter",
         "x": [
          1.09,
          1.093,
          0.807,
          1.066,
          1.065,
          1.079,
          0.982,
          0.832,
          0.924,
          1.047,
          1.083,
          1.039,
          0.919,
          0.891,
          1.055,
          0.529,
          0.772
         ],
         "xaxis": "x",
         "y": [
          6.965,
          6.461,
          6.372,
          6.331,
          6.255,
          6.189,
          6.166,
          6.14,
          6.078,
          6.032,
          5.992,
          5.882,
          5.813,
          5.581,
          5.266,
          5.117,
          5.101
         ],
         "yaxis": "y"
        },
        {
         "hovertemplate": "<b>%{hovertext}</b><br><br>Regional indicator=East Asia<br>Explained by: Social support=%{marker.size}<br>Ladder score=%{y}<extra></extra>",
         "hovertext": [
          "Taiwan Province of China",
          "Japan",
          "South Korea",
          "Mongolia",
          "Hong Kong S.A.R. of China",
          "China"
         ],
         "legendgroup": "East Asia",
         "marker": {
          "color": "rgb(241,105,19)",
          "size": [
           0.982,
           0.949,
           0.758,
           1.065,
           0.841,
           0.785
          ],
          "sizemode": "area",
          "sizeref": 0.00293,
          "symbol": "circle"
         },
         "mode": "markers",
         "name": "East Asia",
         "orientation": "v",
         "showlegend": true,
         "type": "scatter",
         "x": [
          0.982,
          0.949,
          0.758,
          1.065,
          0.841,
          0.785
         ],
         "xaxis": "x",
         "y": [
          6.584,
          5.94,
          5.845,
          5.677,
          5.477,
          5.339
         ],
         "yaxis": "y"
        },
        {
         "hovertemplate": "<b>%{hovertext}</b><br><br>Regional indicator=Southeast Asia<br>Explained by: Social support=%{marker.size}<br>Ladder score=%{y}<extra></extra>",
         "hovertext": [
          "Singapore",
          "Thailand",
          "Philippines",
          "Vietnam",
          "Malaysia",
          "Indonesia",
          "Laos",
          "Cambodia",
          "Myanmar"
         ],
         "legendgroup": "Southeast Asia",
         "marker": {
          "color": "rgb(217,72,1)",
          "size": [
           1.019,
           0.957,
           0.828,
           0.873,
           0.797,
           0.786,
           0.598,
           0.68,
           0.713
          ],
          "sizemode": "area",
          "sizeref": 0.00293,
          "symbol": "circle"
         },
         "mode": "markers",
         "name": "Southeast Asia",
         "orientation": "v",
         "showlegend": true,
         "type": "scatter",
         "x": [
          1.019,
          0.957,
          0.828,
          0.873,
          0.797,
          0.786,
          0.598,
          0.68,
          0.713
         ],
         "xaxis": "x",
         "y": [
          6.377,
          5.985,
          5.88,
          5.411,
          5.384,
          5.345,
          5.03,
          4.83,
          4.426
         ],
         "yaxis": "y"
        },
        {
         "hovertemplate": "<b>%{hovertext}</b><br><br>Regional indicator=Commonwealth of Independent States<br>Explained by: Social support=%{marker.size}<br>Ladder score=%{y}<extra></extra>",
         "hovertext": [
          "Uzbekistan",
          "Kazakhstan",
          "Moldova",
          "Kyrgyzstan",
          "Belarus",
          "Russia",
          "Tajikistan",
          "Armenia",
          "Azerbaijan",
          "Turkmenistan",
          "Georgia",
          "Ukraine"
         ],
         "legendgroup": "Commonwealth of Independent States",
         "marker": {
          "color": "rgb(166,54,3)",
          "size": [
           1.027,
           1.103,
           0.888,
           0.971,
           1.007,
           0.992,
           0.895,
           0.758,
           0.841,
           1.172,
           0.47,
           0.958
          ],
          "sizemode": "area",
          "sizeref": 0.00293,
          "symbol": "circle"
         },
         "mode": "markers",
         "name": "Commonwealth of Independent States",
         "orientation": "v",
         "showlegend": true,
         "type": "scatter",
         "x": [
          1.027,
          1.103,
          0.888,
          0.971,
          1.007,
          0.992,
          0.895,
          0.758,
          0.841,
          1.172,
          0.47,
          0.958
         ],
         "xaxis": "x",
         "y": [
          6.179,
          6.152,
          5.766,
          5.744,
          5.534,
          5.477,
          5.466,
          5.283,
          5.171,
          5.066,
          4.891,
          4.875
         ],
         "yaxis": "y"
        },
        {
         "hovertemplate": "<b>%{hovertext}</b><br><br>Regional indicator=Sub-Saharan Africa<br>Explained by: Social support=%{marker.size}<br>Ladder score=%{y}<extra></extra>",
         "hovertext": [
          "Mauritius",
          "Congo (Brazzaville)",
          "Ivory Coast",
          "Cameroon",
          "Senegal",
          "Ghana",
          "Niger",
          "Gambia",
          "Benin",
          "Guinea",
          "South Africa",
          "Gabon",
          "Burkina Faso",
          "Mozambique",
          "Nigeria",
          "Mali",
          "Uganda",
          "Liberia",
          "Kenya",
          "Namibia",
          "Chad",
          "Swaziland",
          "Comoros",
          "Ethiopia",
          "Mauritania",
          "Madagascar",
          "Togo",
          "Zambia",
          "Sierra Leone",
          "Burundi",
          "Tanzania",
          "Malawi",
          "Lesotho",
          "Botswana",
          "Rwanda",
          "Zimbabwe"
         ],
         "legendgroup": "Sub-Saharan Africa",
         "marker": {
          "color": "rgb(127,39,4)",
          "size": [
           0.996,
           0.392,
           0.409,
           0.556,
           0.558,
           0.595,
           0.402,
           0.511,
           0.058,
           0.399,
           0.895,
           0.707,
           0.472,
           0.634,
           0.625,
           0.59,
           0.718,
           0.58,
           0.508,
           0.801,
           0.353,
           0.693,
           0.367,
           0.679,
           0.749,
           0.503,
           0.239,
           0.552,
           0.377,
           0.062,
           0.54,
           0.168,
           0.731,
           0.724,
           0.202,
           0.649
          ],
          "sizemode": "area",
          "sizeref": 0.00293,
          "symbol": "circle"
         },
         "mode": "markers",
         "name": "Sub-Saharan Africa",
         "orientation": "v",
         "showlegend": true,
         "type": "scatter",
         "x": [
          0.996,
          0.392,
          0.409,
          0.556,
          0.558,
          0.595,
          0.402,
          0.511,
          0.058,
          0.399,
          0.895,
          0.707,
          0.472,
          0.634,
          0.625,
          0.59,
          0.718,
          0.58,
          0.508,
          0.801,
          0.353,
          0.693,
          0.367,
          0.679,
          0.749,
          0.503,
          0.239,
          0.552,
          0.377,
          0.062,
          0.54,
          0.168,
          0.731,
          0.724,
          0.202,
          0.649
         ],
         "xaxis": "x",
         "y": [
          6.049,
          5.342,
          5.306,
          5.142,
          5.132,
          5.088,
          5.074,
          5.051,
          5.045,
          4.984,
          4.956,
          4.852,
          4.834,
          4.794,
          4.759,
          4.723,
          4.636,
          4.625,
          4.607,
          4.574,
          4.355,
          4.308,
          4.289,
          4.275,
          4.227,
          4.208,
          4.107,
          4.073,
          3.849,
          3.775,
          3.623,
          3.6,
          3.512,
          3.467,
          3.415,
          3.145
         ],
         "yaxis": "y"
        },
        {
         "hovertemplate": "<b>%{hovertext}</b><br><br>Regional indicator=South Asia<br>Explained by: Social support=%{marker.size}<br>Ladder score=%{y}<extra></extra>",
         "hovertext": [
          "Nepal",
          "Maldives",
          "Bangladesh",
          "Pakistan",
          "Sri Lanka",
          "India",
          "Afghanistan"
         ],
         "legendgroup": "South Asia",
         "marker": {
          "color": "rgb(255,245,235)",
          "size": [
           0.702,
           1.015,
           0.52,
           0.423,
           0.82,
           0.316,
           0
          ],
          "sizemode": "area",
          "sizeref": 0.00293,
          "symbol": "circle"
         },
         "mode": "markers",
         "name": "South Asia",
         "orientation": "v",
         "showlegend": true,
         "type": "scatter",
         "x": [
          0.702,
          1.015,
          0.52,
          0.423,
          0.82,
          0.316,
          0
         ],
         "xaxis": "x",
         "y": [
          5.269,
          5.198,
          5.025,
          4.934,
          4.325,
          3.819,
          2.523
         ],
         "yaxis": "y"
        }
       ],
       "layout": {
        "legend": {
         "itemsizing": "constant",
         "title": {
          "text": "Regional indicator"
         },
         "tracegroupgap": 0
        },
        "template": {
         "data": {
          "bar": [
           {
            "error_x": {
             "color": "#f2f5fa"
            },
            "error_y": {
             "color": "#f2f5fa"
            },
            "marker": {
             "line": {
              "color": "rgb(17,17,17)",
              "width": 0.5
             },
             "pattern": {
              "fillmode": "overlay",
              "size": 10,
              "solidity": 0.2
             }
            },
            "type": "bar"
           }
          ],
          "barpolar": [
           {
            "marker": {
             "line": {
              "color": "rgb(17,17,17)",
              "width": 0.5
             },
             "pattern": {
              "fillmode": "overlay",
              "size": 10,
              "solidity": 0.2
             }
            },
            "type": "barpolar"
           }
          ],
          "carpet": [
           {
            "aaxis": {
             "endlinecolor": "#A2B1C6",
             "gridcolor": "#506784",
             "linecolor": "#506784",
             "minorgridcolor": "#506784",
             "startlinecolor": "#A2B1C6"
            },
            "baxis": {
             "endlinecolor": "#A2B1C6",
             "gridcolor": "#506784",
             "linecolor": "#506784",
             "minorgridcolor": "#506784",
             "startlinecolor": "#A2B1C6"
            },
            "type": "carpet"
           }
          ],
          "choropleth": [
           {
            "colorbar": {
             "outlinewidth": 0,
             "ticks": ""
            },
            "type": "choropleth"
           }
          ],
          "contour": [
           {
            "colorbar": {
             "outlinewidth": 0,
             "ticks": ""
            },
            "colorscale": [
             [
              0,
              "#0d0887"
             ],
             [
              0.1111111111111111,
              "#46039f"
             ],
             [
              0.2222222222222222,
              "#7201a8"
             ],
             [
              0.3333333333333333,
              "#9c179e"
             ],
             [
              0.4444444444444444,
              "#bd3786"
             ],
             [
              0.5555555555555556,
              "#d8576b"
             ],
             [
              0.6666666666666666,
              "#ed7953"
             ],
             [
              0.7777777777777778,
              "#fb9f3a"
             ],
             [
              0.8888888888888888,
              "#fdca26"
             ],
             [
              1,
              "#f0f921"
             ]
            ],
            "type": "contour"
           }
          ],
          "contourcarpet": [
           {
            "colorbar": {
             "outlinewidth": 0,
             "ticks": ""
            },
            "type": "contourcarpet"
           }
          ],
          "heatmap": [
           {
            "colorbar": {
             "outlinewidth": 0,
             "ticks": ""
            },
            "colorscale": [
             [
              0,
              "#0d0887"
             ],
             [
              0.1111111111111111,
              "#46039f"
             ],
             [
              0.2222222222222222,
              "#7201a8"
             ],
             [
              0.3333333333333333,
              "#9c179e"
             ],
             [
              0.4444444444444444,
              "#bd3786"
             ],
             [
              0.5555555555555556,
              "#d8576b"
             ],
             [
              0.6666666666666666,
              "#ed7953"
             ],
             [
              0.7777777777777778,
              "#fb9f3a"
             ],
             [
              0.8888888888888888,
              "#fdca26"
             ],
             [
              1,
              "#f0f921"
             ]
            ],
            "type": "heatmap"
           }
          ],
          "heatmapgl": [
           {
            "colorbar": {
             "outlinewidth": 0,
             "ticks": ""
            },
            "colorscale": [
             [
              0,
              "#0d0887"
             ],
             [
              0.1111111111111111,
              "#46039f"
             ],
             [
              0.2222222222222222,
              "#7201a8"
             ],
             [
              0.3333333333333333,
              "#9c179e"
             ],
             [
              0.4444444444444444,
              "#bd3786"
             ],
             [
              0.5555555555555556,
              "#d8576b"
             ],
             [
              0.6666666666666666,
              "#ed7953"
             ],
             [
              0.7777777777777778,
              "#fb9f3a"
             ],
             [
              0.8888888888888888,
              "#fdca26"
             ],
             [
              1,
              "#f0f921"
             ]
            ],
            "type": "heatmapgl"
           }
          ],
          "histogram": [
           {
            "marker": {
             "pattern": {
              "fillmode": "overlay",
              "size": 10,
              "solidity": 0.2
             }
            },
            "type": "histogram"
           }
          ],
          "histogram2d": [
           {
            "colorbar": {
             "outlinewidth": 0,
             "ticks": ""
            },
            "colorscale": [
             [
              0,
              "#0d0887"
             ],
             [
              0.1111111111111111,
              "#46039f"
             ],
             [
              0.2222222222222222,
              "#7201a8"
             ],
             [
              0.3333333333333333,
              "#9c179e"
             ],
             [
              0.4444444444444444,
              "#bd3786"
             ],
             [
              0.5555555555555556,
              "#d8576b"
             ],
             [
              0.6666666666666666,
              "#ed7953"
             ],
             [
              0.7777777777777778,
              "#fb9f3a"
             ],
             [
              0.8888888888888888,
              "#fdca26"
             ],
             [
              1,
              "#f0f921"
             ]
            ],
            "type": "histogram2d"
           }
          ],
          "histogram2dcontour": [
           {
            "colorbar": {
             "outlinewidth": 0,
             "ticks": ""
            },
            "colorscale": [
             [
              0,
              "#0d0887"
             ],
             [
              0.1111111111111111,
              "#46039f"
             ],
             [
              0.2222222222222222,
              "#7201a8"
             ],
             [
              0.3333333333333333,
              "#9c179e"
             ],
             [
              0.4444444444444444,
              "#bd3786"
             ],
             [
              0.5555555555555556,
              "#d8576b"
             ],
             [
              0.6666666666666666,
              "#ed7953"
             ],
             [
              0.7777777777777778,
              "#fb9f3a"
             ],
             [
              0.8888888888888888,
              "#fdca26"
             ],
             [
              1,
              "#f0f921"
             ]
            ],
            "type": "histogram2dcontour"
           }
          ],
          "mesh3d": [
           {
            "colorbar": {
             "outlinewidth": 0,
             "ticks": ""
            },
            "type": "mesh3d"
           }
          ],
          "parcoords": [
           {
            "line": {
             "colorbar": {
              "outlinewidth": 0,
              "ticks": ""
             }
            },
            "type": "parcoords"
           }
          ],
          "pie": [
           {
            "automargin": true,
            "type": "pie"
           }
          ],
          "scatter": [
           {
            "marker": {
             "line": {
              "color": "#283442"
             }
            },
            "type": "scatter"
           }
          ],
          "scatter3d": [
           {
            "line": {
             "colorbar": {
              "outlinewidth": 0,
              "ticks": ""
             }
            },
            "marker": {
             "colorbar": {
              "outlinewidth": 0,
              "ticks": ""
             }
            },
            "type": "scatter3d"
           }
          ],
          "scattercarpet": [
           {
            "marker": {
             "colorbar": {
              "outlinewidth": 0,
              "ticks": ""
             }
            },
            "type": "scattercarpet"
           }
          ],
          "scattergeo": [
           {
            "marker": {
             "colorbar": {
              "outlinewidth": 0,
              "ticks": ""
             }
            },
            "type": "scattergeo"
           }
          ],
          "scattergl": [
           {
            "marker": {
             "line": {
              "color": "#283442"
             }
            },
            "type": "scattergl"
           }
          ],
          "scattermapbox": [
           {
            "marker": {
             "colorbar": {
              "outlinewidth": 0,
              "ticks": ""
             }
            },
            "type": "scattermapbox"
           }
          ],
          "scatterpolar": [
           {
            "marker": {
             "colorbar": {
              "outlinewidth": 0,
              "ticks": ""
             }
            },
            "type": "scatterpolar"
           }
          ],
          "scatterpolargl": [
           {
            "marker": {
             "colorbar": {
              "outlinewidth": 0,
              "ticks": ""
             }
            },
            "type": "scatterpolargl"
           }
          ],
          "scatterternary": [
           {
            "marker": {
             "colorbar": {
              "outlinewidth": 0,
              "ticks": ""
             }
            },
            "type": "scatterternary"
           }
          ],
          "surface": [
           {
            "colorbar": {
             "outlinewidth": 0,
             "ticks": ""
            },
            "colorscale": [
             [
              0,
              "#0d0887"
             ],
             [
              0.1111111111111111,
              "#46039f"
             ],
             [
              0.2222222222222222,
              "#7201a8"
             ],
             [
              0.3333333333333333,
              "#9c179e"
             ],
             [
              0.4444444444444444,
              "#bd3786"
             ],
             [
              0.5555555555555556,
              "#d8576b"
             ],
             [
              0.6666666666666666,
              "#ed7953"
             ],
             [
              0.7777777777777778,
              "#fb9f3a"
             ],
             [
              0.8888888888888888,
              "#fdca26"
             ],
             [
              1,
              "#f0f921"
             ]
            ],
            "type": "surface"
           }
          ],
          "table": [
           {
            "cells": {
             "fill": {
              "color": "#506784"
             },
             "line": {
              "color": "rgb(17,17,17)"
             }
            },
            "header": {
             "fill": {
              "color": "#2a3f5f"
             },
             "line": {
              "color": "rgb(17,17,17)"
             }
            },
            "type": "table"
           }
          ]
         },
         "layout": {
          "annotationdefaults": {
           "arrowcolor": "#f2f5fa",
           "arrowhead": 0,
           "arrowwidth": 1
          },
          "autotypenumbers": "strict",
          "coloraxis": {
           "colorbar": {
            "outlinewidth": 0,
            "ticks": ""
           }
          },
          "colorscale": {
           "diverging": [
            [
             0,
             "#8e0152"
            ],
            [
             0.1,
             "#c51b7d"
            ],
            [
             0.2,
             "#de77ae"
            ],
            [
             0.3,
             "#f1b6da"
            ],
            [
             0.4,
             "#fde0ef"
            ],
            [
             0.5,
             "#f7f7f7"
            ],
            [
             0.6,
             "#e6f5d0"
            ],
            [
             0.7,
             "#b8e186"
            ],
            [
             0.8,
             "#7fbc41"
            ],
            [
             0.9,
             "#4d9221"
            ],
            [
             1,
             "#276419"
            ]
           ],
           "sequential": [
            [
             0,
             "#0d0887"
            ],
            [
             0.1111111111111111,
             "#46039f"
            ],
            [
             0.2222222222222222,
             "#7201a8"
            ],
            [
             0.3333333333333333,
             "#9c179e"
            ],
            [
             0.4444444444444444,
             "#bd3786"
            ],
            [
             0.5555555555555556,
             "#d8576b"
            ],
            [
             0.6666666666666666,
             "#ed7953"
            ],
            [
             0.7777777777777778,
             "#fb9f3a"
            ],
            [
             0.8888888888888888,
             "#fdca26"
            ],
            [
             1,
             "#f0f921"
            ]
           ],
           "sequentialminus": [
            [
             0,
             "#0d0887"
            ],
            [
             0.1111111111111111,
             "#46039f"
            ],
            [
             0.2222222222222222,
             "#7201a8"
            ],
            [
             0.3333333333333333,
             "#9c179e"
            ],
            [
             0.4444444444444444,
             "#bd3786"
            ],
            [
             0.5555555555555556,
             "#d8576b"
            ],
            [
             0.6666666666666666,
             "#ed7953"
            ],
            [
             0.7777777777777778,
             "#fb9f3a"
            ],
            [
             0.8888888888888888,
             "#fdca26"
            ],
            [
             1,
             "#f0f921"
            ]
           ]
          },
          "colorway": [
           "#636efa",
           "#EF553B",
           "#00cc96",
           "#ab63fa",
           "#FFA15A",
           "#19d3f3",
           "#FF6692",
           "#B6E880",
           "#FF97FF",
           "#FECB52"
          ],
          "font": {
           "color": "#f2f5fa"
          },
          "geo": {
           "bgcolor": "rgb(17,17,17)",
           "lakecolor": "rgb(17,17,17)",
           "landcolor": "rgb(17,17,17)",
           "showlakes": true,
           "showland": true,
           "subunitcolor": "#506784"
          },
          "hoverlabel": {
           "align": "left"
          },
          "hovermode": "closest",
          "mapbox": {
           "style": "dark"
          },
          "paper_bgcolor": "rgb(17,17,17)",
          "plot_bgcolor": "rgb(17,17,17)",
          "polar": {
           "angularaxis": {
            "gridcolor": "#506784",
            "linecolor": "#506784",
            "ticks": ""
           },
           "bgcolor": "rgb(17,17,17)",
           "radialaxis": {
            "gridcolor": "#506784",
            "linecolor": "#506784",
            "ticks": ""
           }
          },
          "scene": {
           "xaxis": {
            "backgroundcolor": "rgb(17,17,17)",
            "gridcolor": "#506784",
            "gridwidth": 2,
            "linecolor": "#506784",
            "showbackground": true,
            "ticks": "",
            "zerolinecolor": "#C8D4E3"
           },
           "yaxis": {
            "backgroundcolor": "rgb(17,17,17)",
            "gridcolor": "#506784",
            "gridwidth": 2,
            "linecolor": "#506784",
            "showbackground": true,
            "ticks": "",
            "zerolinecolor": "#C8D4E3"
           },
           "zaxis": {
            "backgroundcolor": "rgb(17,17,17)",
            "gridcolor": "#506784",
            "gridwidth": 2,
            "linecolor": "#506784",
            "showbackground": true,
            "ticks": "",
            "zerolinecolor": "#C8D4E3"
           }
          },
          "shapedefaults": {
           "line": {
            "color": "#f2f5fa"
           }
          },
          "sliderdefaults": {
           "bgcolor": "#C8D4E3",
           "bordercolor": "rgb(17,17,17)",
           "borderwidth": 1,
           "tickwidth": 0
          },
          "ternary": {
           "aaxis": {
            "gridcolor": "#506784",
            "linecolor": "#506784",
            "ticks": ""
           },
           "baxis": {
            "gridcolor": "#506784",
            "linecolor": "#506784",
            "ticks": ""
           },
           "bgcolor": "rgb(17,17,17)",
           "caxis": {
            "gridcolor": "#506784",
            "linecolor": "#506784",
            "ticks": ""
           }
          },
          "title": {
           "x": 0.05
          },
          "updatemenudefaults": {
           "bgcolor": "#506784",
           "borderwidth": 0
          },
          "xaxis": {
           "automargin": true,
           "gridcolor": "#283442",
           "linecolor": "#506784",
           "ticks": "",
           "title": {
            "standoff": 15
           },
           "zerolinecolor": "#283442",
           "zerolinewidth": 2
          },
          "yaxis": {
           "automargin": true,
           "gridcolor": "#283442",
           "linecolor": "#506784",
           "ticks": "",
           "title": {
            "standoff": 15
           },
           "zerolinecolor": "#283442",
           "zerolinewidth": 2
          }
         }
        },
        "title": {
         "text": "Tingkat Dukungan Sosial"
        },
        "xaxis": {
         "anchor": "y",
         "domain": [
          0,
          1
         ],
         "title": {
          "text": "Explained by: Social support"
         }
        },
        "yaxis": {
         "anchor": "x",
         "domain": [
          0,
          1
         ],
         "title": {
          "text": "Ladder score"
         }
        }
       }
      },
      "text/html": [
       "<div>                            <div id=\"a49d20b2-4987-488b-b582-819b46782a5f\" class=\"plotly-graph-div\" style=\"height:525px; width:100%;\"></div>            <script type=\"text/javascript\">                require([\"plotly\"], function(Plotly) {                    window.PLOTLYENV=window.PLOTLYENV || {};                                    if (document.getElementById(\"a49d20b2-4987-488b-b582-819b46782a5f\")) {                    Plotly.newPlot(                        \"a49d20b2-4987-488b-b582-819b46782a5f\",                        [{\"hovertemplate\":\"<b>%{hovertext}</b><br><br>Regional indicator=Western Europe<br>Explained by: Social support=%{marker.size}<br>Ladder score=%{y}<extra></extra>\",\"hovertext\":[\"Finland\",\"Denmark\",\"Switzerland\",\"Iceland\",\"Netherlands\",\"Norway\",\"Sweden\",\"Luxembourg\",\"Austria\",\"Germany\",\"Ireland\",\"United Kingdom\",\"Belgium\",\"France\",\"Malta\",\"Spain\",\"Italy\",\"Cyprus\",\"Portugal\",\"Greece\",\"North Cyprus\"],\"legendgroup\":\"Western Europe\",\"marker\":{\"color\":\"rgb(255,245,235)\",\"size\":[1.106,1.108,1.079,1.172,1.079,1.108,1.062,1.003,1.062,0.993,1.092,1.062,0.998,1.081,1.055,1.057,0.94,0.765,0.939,0.811,0.806],\"sizemode\":\"area\",\"sizeref\":0.00293,\"symbol\":\"circle\"},\"mode\":\"markers\",\"name\":\"Western Europe\",\"orientation\":\"v\",\"showlegend\":true,\"x\":[1.106,1.108,1.079,1.172,1.079,1.108,1.062,1.003,1.062,0.993,1.092,1.062,0.998,1.081,1.055,1.057,0.94,0.765,0.939,0.811,0.806],\"xaxis\":\"x\",\"y\":[7.842,7.62,7.571,7.554,7.464,7.392,7.363,7.324,7.268,7.155,7.085,7.064,6.834,6.69,6.602,6.491,6.483,6.223,5.929,5.723,5.536],\"yaxis\":\"y\",\"type\":\"scatter\"},{\"hovertemplate\":\"<b>%{hovertext}</b><br><br>Regional indicator=North America and ANZ<br>Explained by: Social support=%{marker.size}<br>Ladder score=%{y}<extra></extra>\",\"hovertext\":[\"New Zealand\",\"Australia\",\"Canada\",\"United States\"],\"legendgroup\":\"North America and ANZ\",\"marker\":{\"color\":\"rgb(254,230,206)\",\"size\":[1.094,1.076,1.044,1.03],\"sizemode\":\"area\",\"sizeref\":0.00293,\"symbol\":\"circle\"},\"mode\":\"markers\",\"name\":\"North America and ANZ\",\"orientation\":\"v\",\"showlegend\":true,\"x\":[1.094,1.076,1.044,1.03],\"xaxis\":\"x\",\"y\":[7.277,7.183,7.103,6.951],\"yaxis\":\"y\",\"type\":\"scatter\"},{\"hovertemplate\":\"<b>%{hovertext}</b><br><br>Regional indicator=Middle East and North Africa<br>Explained by: Social support=%{marker.size}<br>Ladder score=%{y}<extra></extra>\",\"hovertext\":[\"Israel\",\"Bahrain\",\"United Arab Emirates\",\"Saudi Arabia\",\"Kuwait\",\"Libya\",\"Turkey\",\"Morocco\",\"Algeria\",\"Iraq\",\"Iran\",\"Tunisia\",\"Lebanon\",\"Palestinian Territories\",\"Jordan\",\"Egypt\",\"Yemen\"],\"legendgroup\":\"Middle East and North Africa\",\"marker\":{\"color\":\"rgb(253,208,162)\",\"size\":[1.074,0.899,0.86,0.964,0.857,0.821,0.809,0.219,0.765,0.638,0.557,0.515,0.868,0.819,0.685,0.647,0.831],\"sizemode\":\"area\",\"sizeref\":0.00293,\"symbol\":\"circle\"},\"mode\":\"markers\",\"name\":\"Middle East and North Africa\",\"orientation\":\"v\",\"showlegend\":true,\"x\":[1.074,0.899,0.86,0.964,0.857,0.821,0.809,0.219,0.765,0.638,0.557,0.515,0.868,0.819,0.685,0.647,0.831],\"xaxis\":\"x\",\"y\":[7.157,6.647,6.561,6.494,6.106,5.41,4.948,4.918,4.887,4.854,4.721,4.596,4.584,4.517,4.395,4.283,3.658],\"yaxis\":\"y\",\"type\":\"scatter\"},{\"hovertemplate\":\"<b>%{hovertext}</b><br><br>Regional indicator=Latin America and Caribbean<br>Explained by: Social support=%{marker.size}<br>Ladder score=%{y}<extra></extra>\",\"hovertext\":[\"Costa Rica\",\"Guatemala\",\"Uruguay\",\"Brazil\",\"Mexico\",\"Jamaica\",\"Panama\",\"Chile\",\"El Salvador\",\"Colombia\",\"Nicaragua\",\"Argentina\",\"Honduras\",\"Peru\",\"Ecuador\",\"Bolivia\",\"Paraguay\",\"Dominican Republic\",\"Venezuela\",\"Haiti\"],\"legendgroup\":\"Latin America and Caribbean\",\"marker\":{\"color\":\"rgb(253,174,107)\",\"size\":[0.966,0.79,1.042,0.944,0.83,0.932,0.976,0.946,0.675,0.866,0.904,0.98,0.787,0.833,0.806,0.782,0.97,0.879,0.897,0.173],\"sizemode\":\"area\",\"sizeref\":0.00293,\"symbol\":\"circle\"},\"mode\":\"markers\",\"name\":\"Latin America and Caribbean\",\"orientation\":\"v\",\"showlegend\":true,\"x\":[0.966,0.79,1.042,0.944,0.83,0.932,0.976,0.946,0.675,0.866,0.904,0.98,0.787,0.833,0.806,0.782,0.97,0.879,0.897,0.173],\"xaxis\":\"x\",\"y\":[7.069,6.435,6.431,6.33,6.317,6.309,6.18,6.172,6.061,6.012,5.972,5.929,5.919,5.84,5.764,5.716,5.653,5.545,4.892,3.615],\"yaxis\":\"y\",\"type\":\"scatter\"},{\"hovertemplate\":\"<b>%{hovertext}</b><br><br>Regional indicator=Central and Eastern Europe<br>Explained by: Social support=%{marker.size}<br>Ladder score=%{y}<extra></extra>\",\"hovertext\":[\"Czech Republic\",\"Slovenia\",\"Kosovo\",\"Slovakia\",\"Lithuania\",\"Estonia\",\"Poland\",\"Romania\",\"Serbia\",\"Latvia\",\"Hungary\",\"Croatia\",\"Bosnia and Herzegovina\",\"Montenegro\",\"Bulgaria\",\"Albania\",\"North Macedonia\"],\"legendgroup\":\"Central and Eastern Europe\",\"marker\":{\"color\":\"rgb(253,141,60)\",\"size\":[1.09,1.093,0.807,1.066,1.065,1.079,0.982,0.832,0.924,1.047,1.083,1.039,0.919,0.891,1.055,0.529,0.772],\"sizemode\":\"area\",\"sizeref\":0.00293,\"symbol\":\"circle\"},\"mode\":\"markers\",\"name\":\"Central and Eastern Europe\",\"orientation\":\"v\",\"showlegend\":true,\"x\":[1.09,1.093,0.807,1.066,1.065,1.079,0.982,0.832,0.924,1.047,1.083,1.039,0.919,0.891,1.055,0.529,0.772],\"xaxis\":\"x\",\"y\":[6.965,6.461,6.372,6.331,6.255,6.189,6.166,6.14,6.078,6.032,5.992,5.882,5.813,5.581,5.266,5.117,5.101],\"yaxis\":\"y\",\"type\":\"scatter\"},{\"hovertemplate\":\"<b>%{hovertext}</b><br><br>Regional indicator=East Asia<br>Explained by: Social support=%{marker.size}<br>Ladder score=%{y}<extra></extra>\",\"hovertext\":[\"Taiwan Province of China\",\"Japan\",\"South Korea\",\"Mongolia\",\"Hong Kong S.A.R. of China\",\"China\"],\"legendgroup\":\"East Asia\",\"marker\":{\"color\":\"rgb(241,105,19)\",\"size\":[0.982,0.949,0.758,1.065,0.841,0.785],\"sizemode\":\"area\",\"sizeref\":0.00293,\"symbol\":\"circle\"},\"mode\":\"markers\",\"name\":\"East Asia\",\"orientation\":\"v\",\"showlegend\":true,\"x\":[0.982,0.949,0.758,1.065,0.841,0.785],\"xaxis\":\"x\",\"y\":[6.584,5.94,5.845,5.677,5.477,5.339],\"yaxis\":\"y\",\"type\":\"scatter\"},{\"hovertemplate\":\"<b>%{hovertext}</b><br><br>Regional indicator=Southeast Asia<br>Explained by: Social support=%{marker.size}<br>Ladder score=%{y}<extra></extra>\",\"hovertext\":[\"Singapore\",\"Thailand\",\"Philippines\",\"Vietnam\",\"Malaysia\",\"Indonesia\",\"Laos\",\"Cambodia\",\"Myanmar\"],\"legendgroup\":\"Southeast Asia\",\"marker\":{\"color\":\"rgb(217,72,1)\",\"size\":[1.019,0.957,0.828,0.873,0.797,0.786,0.598,0.68,0.713],\"sizemode\":\"area\",\"sizeref\":0.00293,\"symbol\":\"circle\"},\"mode\":\"markers\",\"name\":\"Southeast Asia\",\"orientation\":\"v\",\"showlegend\":true,\"x\":[1.019,0.957,0.828,0.873,0.797,0.786,0.598,0.68,0.713],\"xaxis\":\"x\",\"y\":[6.377,5.985,5.88,5.411,5.384,5.345,5.03,4.83,4.426],\"yaxis\":\"y\",\"type\":\"scatter\"},{\"hovertemplate\":\"<b>%{hovertext}</b><br><br>Regional indicator=Commonwealth of Independent States<br>Explained by: Social support=%{marker.size}<br>Ladder score=%{y}<extra></extra>\",\"hovertext\":[\"Uzbekistan\",\"Kazakhstan\",\"Moldova\",\"Kyrgyzstan\",\"Belarus\",\"Russia\",\"Tajikistan\",\"Armenia\",\"Azerbaijan\",\"Turkmenistan\",\"Georgia\",\"Ukraine\"],\"legendgroup\":\"Commonwealth of Independent States\",\"marker\":{\"color\":\"rgb(166,54,3)\",\"size\":[1.027,1.103,0.888,0.971,1.007,0.992,0.895,0.758,0.841,1.172,0.47,0.958],\"sizemode\":\"area\",\"sizeref\":0.00293,\"symbol\":\"circle\"},\"mode\":\"markers\",\"name\":\"Commonwealth of Independent States\",\"orientation\":\"v\",\"showlegend\":true,\"x\":[1.027,1.103,0.888,0.971,1.007,0.992,0.895,0.758,0.841,1.172,0.47,0.958],\"xaxis\":\"x\",\"y\":[6.179,6.152,5.766,5.744,5.534,5.477,5.466,5.283,5.171,5.066,4.891,4.875],\"yaxis\":\"y\",\"type\":\"scatter\"},{\"hovertemplate\":\"<b>%{hovertext}</b><br><br>Regional indicator=Sub-Saharan Africa<br>Explained by: Social support=%{marker.size}<br>Ladder score=%{y}<extra></extra>\",\"hovertext\":[\"Mauritius\",\"Congo (Brazzaville)\",\"Ivory Coast\",\"Cameroon\",\"Senegal\",\"Ghana\",\"Niger\",\"Gambia\",\"Benin\",\"Guinea\",\"South Africa\",\"Gabon\",\"Burkina Faso\",\"Mozambique\",\"Nigeria\",\"Mali\",\"Uganda\",\"Liberia\",\"Kenya\",\"Namibia\",\"Chad\",\"Swaziland\",\"Comoros\",\"Ethiopia\",\"Mauritania\",\"Madagascar\",\"Togo\",\"Zambia\",\"Sierra Leone\",\"Burundi\",\"Tanzania\",\"Malawi\",\"Lesotho\",\"Botswana\",\"Rwanda\",\"Zimbabwe\"],\"legendgroup\":\"Sub-Saharan Africa\",\"marker\":{\"color\":\"rgb(127,39,4)\",\"size\":[0.996,0.392,0.409,0.556,0.558,0.595,0.402,0.511,0.058,0.399,0.895,0.707,0.472,0.634,0.625,0.59,0.718,0.58,0.508,0.801,0.353,0.693,0.367,0.679,0.749,0.503,0.239,0.552,0.377,0.062,0.54,0.168,0.731,0.724,0.202,0.649],\"sizemode\":\"area\",\"sizeref\":0.00293,\"symbol\":\"circle\"},\"mode\":\"markers\",\"name\":\"Sub-Saharan Africa\",\"orientation\":\"v\",\"showlegend\":true,\"x\":[0.996,0.392,0.409,0.556,0.558,0.595,0.402,0.511,0.058,0.399,0.895,0.707,0.472,0.634,0.625,0.59,0.718,0.58,0.508,0.801,0.353,0.693,0.367,0.679,0.749,0.503,0.239,0.552,0.377,0.062,0.54,0.168,0.731,0.724,0.202,0.649],\"xaxis\":\"x\",\"y\":[6.049,5.342,5.306,5.142,5.132,5.088,5.074,5.051,5.045,4.984,4.956,4.852,4.834,4.794,4.759,4.723,4.636,4.625,4.607,4.574,4.355,4.308,4.289,4.275,4.227,4.208,4.107,4.073,3.849,3.775,3.623,3.6,3.512,3.467,3.415,3.145],\"yaxis\":\"y\",\"type\":\"scatter\"},{\"hovertemplate\":\"<b>%{hovertext}</b><br><br>Regional indicator=South Asia<br>Explained by: Social support=%{marker.size}<br>Ladder score=%{y}<extra></extra>\",\"hovertext\":[\"Nepal\",\"Maldives\",\"Bangladesh\",\"Pakistan\",\"Sri Lanka\",\"India\",\"Afghanistan\"],\"legendgroup\":\"South Asia\",\"marker\":{\"color\":\"rgb(255,245,235)\",\"size\":[0.702,1.015,0.52,0.423,0.82,0.316,0.0],\"sizemode\":\"area\",\"sizeref\":0.00293,\"symbol\":\"circle\"},\"mode\":\"markers\",\"name\":\"South Asia\",\"orientation\":\"v\",\"showlegend\":true,\"x\":[0.702,1.015,0.52,0.423,0.82,0.316,0.0],\"xaxis\":\"x\",\"y\":[5.269,5.198,5.025,4.934,4.325,3.819,2.523],\"yaxis\":\"y\",\"type\":\"scatter\"}],                        {\"template\":{\"data\":{\"barpolar\":[{\"marker\":{\"line\":{\"color\":\"rgb(17,17,17)\",\"width\":0.5},\"pattern\":{\"fillmode\":\"overlay\",\"size\":10,\"solidity\":0.2}},\"type\":\"barpolar\"}],\"bar\":[{\"error_x\":{\"color\":\"#f2f5fa\"},\"error_y\":{\"color\":\"#f2f5fa\"},\"marker\":{\"line\":{\"color\":\"rgb(17,17,17)\",\"width\":0.5},\"pattern\":{\"fillmode\":\"overlay\",\"size\":10,\"solidity\":0.2}},\"type\":\"bar\"}],\"carpet\":[{\"aaxis\":{\"endlinecolor\":\"#A2B1C6\",\"gridcolor\":\"#506784\",\"linecolor\":\"#506784\",\"minorgridcolor\":\"#506784\",\"startlinecolor\":\"#A2B1C6\"},\"baxis\":{\"endlinecolor\":\"#A2B1C6\",\"gridcolor\":\"#506784\",\"linecolor\":\"#506784\",\"minorgridcolor\":\"#506784\",\"startlinecolor\":\"#A2B1C6\"},\"type\":\"carpet\"}],\"choropleth\":[{\"colorbar\":{\"outlinewidth\":0,\"ticks\":\"\"},\"type\":\"choropleth\"}],\"contourcarpet\":[{\"colorbar\":{\"outlinewidth\":0,\"ticks\":\"\"},\"type\":\"contourcarpet\"}],\"contour\":[{\"colorbar\":{\"outlinewidth\":0,\"ticks\":\"\"},\"colorscale\":[[0.0,\"#0d0887\"],[0.1111111111111111,\"#46039f\"],[0.2222222222222222,\"#7201a8\"],[0.3333333333333333,\"#9c179e\"],[0.4444444444444444,\"#bd3786\"],[0.5555555555555556,\"#d8576b\"],[0.6666666666666666,\"#ed7953\"],[0.7777777777777778,\"#fb9f3a\"],[0.8888888888888888,\"#fdca26\"],[1.0,\"#f0f921\"]],\"type\":\"contour\"}],\"heatmapgl\":[{\"colorbar\":{\"outlinewidth\":0,\"ticks\":\"\"},\"colorscale\":[[0.0,\"#0d0887\"],[0.1111111111111111,\"#46039f\"],[0.2222222222222222,\"#7201a8\"],[0.3333333333333333,\"#9c179e\"],[0.4444444444444444,\"#bd3786\"],[0.5555555555555556,\"#d8576b\"],[0.6666666666666666,\"#ed7953\"],[0.7777777777777778,\"#fb9f3a\"],[0.8888888888888888,\"#fdca26\"],[1.0,\"#f0f921\"]],\"type\":\"heatmapgl\"}],\"heatmap\":[{\"colorbar\":{\"outlinewidth\":0,\"ticks\":\"\"},\"colorscale\":[[0.0,\"#0d0887\"],[0.1111111111111111,\"#46039f\"],[0.2222222222222222,\"#7201a8\"],[0.3333333333333333,\"#9c179e\"],[0.4444444444444444,\"#bd3786\"],[0.5555555555555556,\"#d8576b\"],[0.6666666666666666,\"#ed7953\"],[0.7777777777777778,\"#fb9f3a\"],[0.8888888888888888,\"#fdca26\"],[1.0,\"#f0f921\"]],\"type\":\"heatmap\"}],\"histogram2dcontour\":[{\"colorbar\":{\"outlinewidth\":0,\"ticks\":\"\"},\"colorscale\":[[0.0,\"#0d0887\"],[0.1111111111111111,\"#46039f\"],[0.2222222222222222,\"#7201a8\"],[0.3333333333333333,\"#9c179e\"],[0.4444444444444444,\"#bd3786\"],[0.5555555555555556,\"#d8576b\"],[0.6666666666666666,\"#ed7953\"],[0.7777777777777778,\"#fb9f3a\"],[0.8888888888888888,\"#fdca26\"],[1.0,\"#f0f921\"]],\"type\":\"histogram2dcontour\"}],\"histogram2d\":[{\"colorbar\":{\"outlinewidth\":0,\"ticks\":\"\"},\"colorscale\":[[0.0,\"#0d0887\"],[0.1111111111111111,\"#46039f\"],[0.2222222222222222,\"#7201a8\"],[0.3333333333333333,\"#9c179e\"],[0.4444444444444444,\"#bd3786\"],[0.5555555555555556,\"#d8576b\"],[0.6666666666666666,\"#ed7953\"],[0.7777777777777778,\"#fb9f3a\"],[0.8888888888888888,\"#fdca26\"],[1.0,\"#f0f921\"]],\"type\":\"histogram2d\"}],\"histogram\":[{\"marker\":{\"pattern\":{\"fillmode\":\"overlay\",\"size\":10,\"solidity\":0.2}},\"type\":\"histogram\"}],\"mesh3d\":[{\"colorbar\":{\"outlinewidth\":0,\"ticks\":\"\"},\"type\":\"mesh3d\"}],\"parcoords\":[{\"line\":{\"colorbar\":{\"outlinewidth\":0,\"ticks\":\"\"}},\"type\":\"parcoords\"}],\"pie\":[{\"automargin\":true,\"type\":\"pie\"}],\"scatter3d\":[{\"line\":{\"colorbar\":{\"outlinewidth\":0,\"ticks\":\"\"}},\"marker\":{\"colorbar\":{\"outlinewidth\":0,\"ticks\":\"\"}},\"type\":\"scatter3d\"}],\"scattercarpet\":[{\"marker\":{\"colorbar\":{\"outlinewidth\":0,\"ticks\":\"\"}},\"type\":\"scattercarpet\"}],\"scattergeo\":[{\"marker\":{\"colorbar\":{\"outlinewidth\":0,\"ticks\":\"\"}},\"type\":\"scattergeo\"}],\"scattergl\":[{\"marker\":{\"line\":{\"color\":\"#283442\"}},\"type\":\"scattergl\"}],\"scattermapbox\":[{\"marker\":{\"colorbar\":{\"outlinewidth\":0,\"ticks\":\"\"}},\"type\":\"scattermapbox\"}],\"scatterpolargl\":[{\"marker\":{\"colorbar\":{\"outlinewidth\":0,\"ticks\":\"\"}},\"type\":\"scatterpolargl\"}],\"scatterpolar\":[{\"marker\":{\"colorbar\":{\"outlinewidth\":0,\"ticks\":\"\"}},\"type\":\"scatterpolar\"}],\"scatter\":[{\"marker\":{\"line\":{\"color\":\"#283442\"}},\"type\":\"scatter\"}],\"scatterternary\":[{\"marker\":{\"colorbar\":{\"outlinewidth\":0,\"ticks\":\"\"}},\"type\":\"scatterternary\"}],\"surface\":[{\"colorbar\":{\"outlinewidth\":0,\"ticks\":\"\"},\"colorscale\":[[0.0,\"#0d0887\"],[0.1111111111111111,\"#46039f\"],[0.2222222222222222,\"#7201a8\"],[0.3333333333333333,\"#9c179e\"],[0.4444444444444444,\"#bd3786\"],[0.5555555555555556,\"#d8576b\"],[0.6666666666666666,\"#ed7953\"],[0.7777777777777778,\"#fb9f3a\"],[0.8888888888888888,\"#fdca26\"],[1.0,\"#f0f921\"]],\"type\":\"surface\"}],\"table\":[{\"cells\":{\"fill\":{\"color\":\"#506784\"},\"line\":{\"color\":\"rgb(17,17,17)\"}},\"header\":{\"fill\":{\"color\":\"#2a3f5f\"},\"line\":{\"color\":\"rgb(17,17,17)\"}},\"type\":\"table\"}]},\"layout\":{\"annotationdefaults\":{\"arrowcolor\":\"#f2f5fa\",\"arrowhead\":0,\"arrowwidth\":1},\"autotypenumbers\":\"strict\",\"coloraxis\":{\"colorbar\":{\"outlinewidth\":0,\"ticks\":\"\"}},\"colorscale\":{\"diverging\":[[0,\"#8e0152\"],[0.1,\"#c51b7d\"],[0.2,\"#de77ae\"],[0.3,\"#f1b6da\"],[0.4,\"#fde0ef\"],[0.5,\"#f7f7f7\"],[0.6,\"#e6f5d0\"],[0.7,\"#b8e186\"],[0.8,\"#7fbc41\"],[0.9,\"#4d9221\"],[1,\"#276419\"]],\"sequential\":[[0.0,\"#0d0887\"],[0.1111111111111111,\"#46039f\"],[0.2222222222222222,\"#7201a8\"],[0.3333333333333333,\"#9c179e\"],[0.4444444444444444,\"#bd3786\"],[0.5555555555555556,\"#d8576b\"],[0.6666666666666666,\"#ed7953\"],[0.7777777777777778,\"#fb9f3a\"],[0.8888888888888888,\"#fdca26\"],[1.0,\"#f0f921\"]],\"sequentialminus\":[[0.0,\"#0d0887\"],[0.1111111111111111,\"#46039f\"],[0.2222222222222222,\"#7201a8\"],[0.3333333333333333,\"#9c179e\"],[0.4444444444444444,\"#bd3786\"],[0.5555555555555556,\"#d8576b\"],[0.6666666666666666,\"#ed7953\"],[0.7777777777777778,\"#fb9f3a\"],[0.8888888888888888,\"#fdca26\"],[1.0,\"#f0f921\"]]},\"colorway\":[\"#636efa\",\"#EF553B\",\"#00cc96\",\"#ab63fa\",\"#FFA15A\",\"#19d3f3\",\"#FF6692\",\"#B6E880\",\"#FF97FF\",\"#FECB52\"],\"font\":{\"color\":\"#f2f5fa\"},\"geo\":{\"bgcolor\":\"rgb(17,17,17)\",\"lakecolor\":\"rgb(17,17,17)\",\"landcolor\":\"rgb(17,17,17)\",\"showlakes\":true,\"showland\":true,\"subunitcolor\":\"#506784\"},\"hoverlabel\":{\"align\":\"left\"},\"hovermode\":\"closest\",\"mapbox\":{\"style\":\"dark\"},\"paper_bgcolor\":\"rgb(17,17,17)\",\"plot_bgcolor\":\"rgb(17,17,17)\",\"polar\":{\"angularaxis\":{\"gridcolor\":\"#506784\",\"linecolor\":\"#506784\",\"ticks\":\"\"},\"bgcolor\":\"rgb(17,17,17)\",\"radialaxis\":{\"gridcolor\":\"#506784\",\"linecolor\":\"#506784\",\"ticks\":\"\"}},\"scene\":{\"xaxis\":{\"backgroundcolor\":\"rgb(17,17,17)\",\"gridcolor\":\"#506784\",\"gridwidth\":2,\"linecolor\":\"#506784\",\"showbackground\":true,\"ticks\":\"\",\"zerolinecolor\":\"#C8D4E3\"},\"yaxis\":{\"backgroundcolor\":\"rgb(17,17,17)\",\"gridcolor\":\"#506784\",\"gridwidth\":2,\"linecolor\":\"#506784\",\"showbackground\":true,\"ticks\":\"\",\"zerolinecolor\":\"#C8D4E3\"},\"zaxis\":{\"backgroundcolor\":\"rgb(17,17,17)\",\"gridcolor\":\"#506784\",\"gridwidth\":2,\"linecolor\":\"#506784\",\"showbackground\":true,\"ticks\":\"\",\"zerolinecolor\":\"#C8D4E3\"}},\"shapedefaults\":{\"line\":{\"color\":\"#f2f5fa\"}},\"sliderdefaults\":{\"bgcolor\":\"#C8D4E3\",\"bordercolor\":\"rgb(17,17,17)\",\"borderwidth\":1,\"tickwidth\":0},\"ternary\":{\"aaxis\":{\"gridcolor\":\"#506784\",\"linecolor\":\"#506784\",\"ticks\":\"\"},\"baxis\":{\"gridcolor\":\"#506784\",\"linecolor\":\"#506784\",\"ticks\":\"\"},\"bgcolor\":\"rgb(17,17,17)\",\"caxis\":{\"gridcolor\":\"#506784\",\"linecolor\":\"#506784\",\"ticks\":\"\"}},\"title\":{\"x\":0.05},\"updatemenudefaults\":{\"bgcolor\":\"#506784\",\"borderwidth\":0},\"xaxis\":{\"automargin\":true,\"gridcolor\":\"#283442\",\"linecolor\":\"#506784\",\"ticks\":\"\",\"title\":{\"standoff\":15},\"zerolinecolor\":\"#283442\",\"zerolinewidth\":2},\"yaxis\":{\"automargin\":true,\"gridcolor\":\"#283442\",\"linecolor\":\"#506784\",\"ticks\":\"\",\"title\":{\"standoff\":15},\"zerolinecolor\":\"#283442\",\"zerolinewidth\":2}}},\"xaxis\":{\"anchor\":\"y\",\"domain\":[0.0,1.0],\"title\":{\"text\":\"Explained by: Social support\"}},\"yaxis\":{\"anchor\":\"x\",\"domain\":[0.0,1.0],\"title\":{\"text\":\"Ladder score\"}},\"legend\":{\"title\":{\"text\":\"Regional indicator\"},\"tracegroupgap\":0,\"itemsizing\":\"constant\"},\"title\":{\"text\":\"Tingkat Dukungan Sosial\"}},                        {\"responsive\": true}                    ).then(function(){\n",
       "                            \n",
       "var gd = document.getElementById('a49d20b2-4987-488b-b582-819b46782a5f');\n",
       "var x = new MutationObserver(function (mutations, observer) {{\n",
       "        var display = window.getComputedStyle(gd).display;\n",
       "        if (!display || display === 'none') {{\n",
       "            console.log([gd, 'removed!']);\n",
       "            Plotly.purge(gd);\n",
       "            observer.disconnect();\n",
       "        }}\n",
       "}});\n",
       "\n",
       "// Listen for the removal of the full notebook cells\n",
       "var notebookContainer = gd.closest('#notebook-container');\n",
       "if (notebookContainer) {{\n",
       "    x.observe(notebookContainer, {childList: true});\n",
       "}}\n",
       "\n",
       "// Listen for the clearing of the current output cell\n",
       "var outputEl = gd.closest('.output');\n",
       "if (outputEl) {{\n",
       "    x.observe(outputEl, {childList: true});\n",
       "}}\n",
       "\n",
       "                        })                };                });            </script>        </div>"
      ]
     },
     "metadata": {},
     "output_type": "display_data"
    }
   ],
   "source": [
    "fig = px.scatter(df, x=\"Explained by: Social support\", y=\"Ladder score\", \n",
    "                color=\"Regional indicator\", \n",
    "                color_discrete_sequence = px.colors.sequential.Oranges, \n",
    "                template = 'plotly_dark',\n",
    "                size = 'Explained by: Social support',\n",
    "                hover_name=\"Country name\",\n",
    "                title=\"Tingkat Dukungan Sosial\")\n",
    "fig.show()"
   ]
  },
  {
   "cell_type": "code",
   "execution_count": 117,
   "id": "05e00a3d",
   "metadata": {},
   "outputs": [
    {
     "data": {
      "application/vnd.plotly.v1+json": {
       "config": {
        "plotlyServerURL": "https://plot.ly"
       },
       "data": [
        {
         "coloraxis": "coloraxis",
         "geo": "geo",
         "hovertemplate": "<b>%{hovertext}</b><br><br>Country name=%{location}<br>Ladder score=%{z}<extra></extra>",
         "hovertext": [
          "Finland",
          "Denmark",
          "Switzerland",
          "Iceland",
          "Netherlands",
          "Norway",
          "Sweden",
          "Luxembourg",
          "New Zealand",
          "Austria",
          "Australia",
          "Israel",
          "Germany",
          "Canada",
          "Ireland",
          "Costa Rica",
          "United Kingdom",
          "Czech Republic",
          "United States",
          "Belgium",
          "France",
          "Bahrain",
          "Malta",
          "Taiwan Province of China",
          "United Arab Emirates",
          "Saudi Arabia",
          "Spain",
          "Italy",
          "Slovenia",
          "Guatemala",
          "Uruguay",
          "Singapore",
          "Kosovo",
          "Slovakia",
          "Brazil",
          "Mexico",
          "Jamaica",
          "Lithuania",
          "Cyprus",
          "Estonia",
          "Panama",
          "Uzbekistan",
          "Chile",
          "Poland",
          "Kazakhstan",
          "Romania",
          "Kuwait",
          "Serbia",
          "El Salvador",
          "Mauritius",
          "Latvia",
          "Colombia",
          "Hungary",
          "Thailand",
          "Nicaragua",
          "Japan",
          "Argentina",
          "Portugal",
          "Honduras",
          "Croatia",
          "Philippines",
          "South Korea",
          "Peru",
          "Bosnia and Herzegovina",
          "Moldova",
          "Ecuador",
          "Kyrgyzstan",
          "Greece",
          "Bolivia",
          "Mongolia",
          "Paraguay",
          "Montenegro",
          "Dominican Republic",
          "North Cyprus",
          "Belarus",
          "Russia",
          "Hong Kong S.A.R. of China",
          "Tajikistan",
          "Vietnam",
          "Libya",
          "Malaysia",
          "Indonesia",
          "Congo (Brazzaville)",
          "China",
          "Ivory Coast",
          "Armenia",
          "Nepal",
          "Bulgaria",
          "Maldives",
          "Azerbaijan",
          "Cameroon",
          "Senegal",
          "Albania",
          "North Macedonia",
          "Ghana",
          "Niger",
          "Turkmenistan",
          "Gambia",
          "Benin",
          "Laos",
          "Bangladesh",
          "Guinea",
          "South Africa",
          "Turkey",
          "Pakistan",
          "Morocco",
          "Venezuela",
          "Georgia",
          "Algeria",
          "Ukraine",
          "Iraq",
          "Gabon",
          "Burkina Faso",
          "Cambodia",
          "Mozambique",
          "Nigeria",
          "Mali",
          "Iran",
          "Uganda",
          "Liberia",
          "Kenya",
          "Tunisia",
          "Lebanon",
          "Namibia",
          "Palestinian Territories",
          "Myanmar",
          "Jordan",
          "Chad",
          "Sri Lanka",
          "Swaziland",
          "Comoros",
          "Egypt",
          "Ethiopia",
          "Mauritania",
          "Madagascar",
          "Togo",
          "Zambia",
          "Sierra Leone",
          "India",
          "Burundi",
          "Yemen",
          "Tanzania",
          "Haiti",
          "Malawi",
          "Lesotho",
          "Botswana",
          "Rwanda",
          "Zimbabwe",
          "Afghanistan"
         ],
         "locationmode": "country names",
         "locations": [
          "Finland",
          "Denmark",
          "Switzerland",
          "Iceland",
          "Netherlands",
          "Norway",
          "Sweden",
          "Luxembourg",
          "New Zealand",
          "Austria",
          "Australia",
          "Israel",
          "Germany",
          "Canada",
          "Ireland",
          "Costa Rica",
          "United Kingdom",
          "Czech Republic",
          "United States",
          "Belgium",
          "France",
          "Bahrain",
          "Malta",
          "Taiwan Province of China",
          "United Arab Emirates",
          "Saudi Arabia",
          "Spain",
          "Italy",
          "Slovenia",
          "Guatemala",
          "Uruguay",
          "Singapore",
          "Kosovo",
          "Slovakia",
          "Brazil",
          "Mexico",
          "Jamaica",
          "Lithuania",
          "Cyprus",
          "Estonia",
          "Panama",
          "Uzbekistan",
          "Chile",
          "Poland",
          "Kazakhstan",
          "Romania",
          "Kuwait",
          "Serbia",
          "El Salvador",
          "Mauritius",
          "Latvia",
          "Colombia",
          "Hungary",
          "Thailand",
          "Nicaragua",
          "Japan",
          "Argentina",
          "Portugal",
          "Honduras",
          "Croatia",
          "Philippines",
          "South Korea",
          "Peru",
          "Bosnia and Herzegovina",
          "Moldova",
          "Ecuador",
          "Kyrgyzstan",
          "Greece",
          "Bolivia",
          "Mongolia",
          "Paraguay",
          "Montenegro",
          "Dominican Republic",
          "North Cyprus",
          "Belarus",
          "Russia",
          "Hong Kong S.A.R. of China",
          "Tajikistan",
          "Vietnam",
          "Libya",
          "Malaysia",
          "Indonesia",
          "Congo (Brazzaville)",
          "China",
          "Ivory Coast",
          "Armenia",
          "Nepal",
          "Bulgaria",
          "Maldives",
          "Azerbaijan",
          "Cameroon",
          "Senegal",
          "Albania",
          "North Macedonia",
          "Ghana",
          "Niger",
          "Turkmenistan",
          "Gambia",
          "Benin",
          "Laos",
          "Bangladesh",
          "Guinea",
          "South Africa",
          "Turkey",
          "Pakistan",
          "Morocco",
          "Venezuela",
          "Georgia",
          "Algeria",
          "Ukraine",
          "Iraq",
          "Gabon",
          "Burkina Faso",
          "Cambodia",
          "Mozambique",
          "Nigeria",
          "Mali",
          "Iran",
          "Uganda",
          "Liberia",
          "Kenya",
          "Tunisia",
          "Lebanon",
          "Namibia",
          "Palestinian Territories",
          "Myanmar",
          "Jordan",
          "Chad",
          "Sri Lanka",
          "Swaziland",
          "Comoros",
          "Egypt",
          "Ethiopia",
          "Mauritania",
          "Madagascar",
          "Togo",
          "Zambia",
          "Sierra Leone",
          "India",
          "Burundi",
          "Yemen",
          "Tanzania",
          "Haiti",
          "Malawi",
          "Lesotho",
          "Botswana",
          "Rwanda",
          "Zimbabwe",
          "Afghanistan"
         ],
         "name": "",
         "type": "choropleth",
         "z": [
          7.842,
          7.62,
          7.571,
          7.554,
          7.464,
          7.392,
          7.363,
          7.324,
          7.277,
          7.268,
          7.183,
          7.157,
          7.155,
          7.103,
          7.085,
          7.069,
          7.064,
          6.965,
          6.951,
          6.834,
          6.69,
          6.647,
          6.602,
          6.584,
          6.561,
          6.494,
          6.491,
          6.483,
          6.461,
          6.435,
          6.431,
          6.377,
          6.372,
          6.331,
          6.33,
          6.317,
          6.309,
          6.255,
          6.223,
          6.189,
          6.18,
          6.179,
          6.172,
          6.166,
          6.152,
          6.14,
          6.106,
          6.078,
          6.061,
          6.049,
          6.032,
          6.012,
          5.992,
          5.985,
          5.972,
          5.94,
          5.929,
          5.929,
          5.919,
          5.882,
          5.88,
          5.845,
          5.84,
          5.813,
          5.766,
          5.764,
          5.744,
          5.723,
          5.716,
          5.677,
          5.653,
          5.581,
          5.545,
          5.536,
          5.534,
          5.477,
          5.477,
          5.466,
          5.411,
          5.41,
          5.384,
          5.345,
          5.342,
          5.339,
          5.306,
          5.283,
          5.269,
          5.266,
          5.198,
          5.171,
          5.142,
          5.132,
          5.117,
          5.101,
          5.088,
          5.074,
          5.066,
          5.051,
          5.045,
          5.03,
          5.025,
          4.984,
          4.956,
          4.948,
          4.934,
          4.918,
          4.892,
          4.891,
          4.887,
          4.875,
          4.854,
          4.852,
          4.834,
          4.83,
          4.794,
          4.759,
          4.723,
          4.721,
          4.636,
          4.625,
          4.607,
          4.596,
          4.584,
          4.574,
          4.517,
          4.426,
          4.395,
          4.355,
          4.325,
          4.308,
          4.289,
          4.283,
          4.275,
          4.227,
          4.208,
          4.107,
          4.073,
          3.849,
          3.819,
          3.775,
          3.658,
          3.623,
          3.615,
          3.6,
          3.512,
          3.467,
          3.415,
          3.145,
          2.523
         ]
        }
       ],
       "layout": {
        "coloraxis": {
         "colorbar": {
          "title": {
           "text": "Ladder score"
          }
         },
         "colorscale": [
          [
           0,
           "rgb(255,245,235)"
          ],
          [
           0.125,
           "rgb(254,230,206)"
          ],
          [
           0.25,
           "rgb(253,208,162)"
          ],
          [
           0.375,
           "rgb(253,174,107)"
          ],
          [
           0.5,
           "rgb(253,141,60)"
          ],
          [
           0.625,
           "rgb(241,105,19)"
          ],
          [
           0.75,
           "rgb(217,72,1)"
          ],
          [
           0.875,
           "rgb(166,54,3)"
          ],
          [
           1,
           "rgb(127,39,4)"
          ]
         ]
        },
        "geo": {
         "center": {},
         "domain": {
          "x": [
           0,
           1
          ],
          "y": [
           0,
           1
          ]
         }
        },
        "legend": {
         "tracegroupgap": 0
        },
        "template": {
         "data": {
          "bar": [
           {
            "error_x": {
             "color": "#2a3f5f"
            },
            "error_y": {
             "color": "#2a3f5f"
            },
            "marker": {
             "line": {
              "color": "#E5ECF6",
              "width": 0.5
             },
             "pattern": {
              "fillmode": "overlay",
              "size": 10,
              "solidity": 0.2
             }
            },
            "type": "bar"
           }
          ],
          "barpolar": [
           {
            "marker": {
             "line": {
              "color": "#E5ECF6",
              "width": 0.5
             },
             "pattern": {
              "fillmode": "overlay",
              "size": 10,
              "solidity": 0.2
             }
            },
            "type": "barpolar"
           }
          ],
          "carpet": [
           {
            "aaxis": {
             "endlinecolor": "#2a3f5f",
             "gridcolor": "white",
             "linecolor": "white",
             "minorgridcolor": "white",
             "startlinecolor": "#2a3f5f"
            },
            "baxis": {
             "endlinecolor": "#2a3f5f",
             "gridcolor": "white",
             "linecolor": "white",
             "minorgridcolor": "white",
             "startlinecolor": "#2a3f5f"
            },
            "type": "carpet"
           }
          ],
          "choropleth": [
           {
            "colorbar": {
             "outlinewidth": 0,
             "ticks": ""
            },
            "type": "choropleth"
           }
          ],
          "contour": [
           {
            "colorbar": {
             "outlinewidth": 0,
             "ticks": ""
            },
            "colorscale": [
             [
              0,
              "#0d0887"
             ],
             [
              0.1111111111111111,
              "#46039f"
             ],
             [
              0.2222222222222222,
              "#7201a8"
             ],
             [
              0.3333333333333333,
              "#9c179e"
             ],
             [
              0.4444444444444444,
              "#bd3786"
             ],
             [
              0.5555555555555556,
              "#d8576b"
             ],
             [
              0.6666666666666666,
              "#ed7953"
             ],
             [
              0.7777777777777778,
              "#fb9f3a"
             ],
             [
              0.8888888888888888,
              "#fdca26"
             ],
             [
              1,
              "#f0f921"
             ]
            ],
            "type": "contour"
           }
          ],
          "contourcarpet": [
           {
            "colorbar": {
             "outlinewidth": 0,
             "ticks": ""
            },
            "type": "contourcarpet"
           }
          ],
          "heatmap": [
           {
            "colorbar": {
             "outlinewidth": 0,
             "ticks": ""
            },
            "colorscale": [
             [
              0,
              "#0d0887"
             ],
             [
              0.1111111111111111,
              "#46039f"
             ],
             [
              0.2222222222222222,
              "#7201a8"
             ],
             [
              0.3333333333333333,
              "#9c179e"
             ],
             [
              0.4444444444444444,
              "#bd3786"
             ],
             [
              0.5555555555555556,
              "#d8576b"
             ],
             [
              0.6666666666666666,
              "#ed7953"
             ],
             [
              0.7777777777777778,
              "#fb9f3a"
             ],
             [
              0.8888888888888888,
              "#fdca26"
             ],
             [
              1,
              "#f0f921"
             ]
            ],
            "type": "heatmap"
           }
          ],
          "heatmapgl": [
           {
            "colorbar": {
             "outlinewidth": 0,
             "ticks": ""
            },
            "colorscale": [
             [
              0,
              "#0d0887"
             ],
             [
              0.1111111111111111,
              "#46039f"
             ],
             [
              0.2222222222222222,
              "#7201a8"
             ],
             [
              0.3333333333333333,
              "#9c179e"
             ],
             [
              0.4444444444444444,
              "#bd3786"
             ],
             [
              0.5555555555555556,
              "#d8576b"
             ],
             [
              0.6666666666666666,
              "#ed7953"
             ],
             [
              0.7777777777777778,
              "#fb9f3a"
             ],
             [
              0.8888888888888888,
              "#fdca26"
             ],
             [
              1,
              "#f0f921"
             ]
            ],
            "type": "heatmapgl"
           }
          ],
          "histogram": [
           {
            "marker": {
             "pattern": {
              "fillmode": "overlay",
              "size": 10,
              "solidity": 0.2
             }
            },
            "type": "histogram"
           }
          ],
          "histogram2d": [
           {
            "colorbar": {
             "outlinewidth": 0,
             "ticks": ""
            },
            "colorscale": [
             [
              0,
              "#0d0887"
             ],
             [
              0.1111111111111111,
              "#46039f"
             ],
             [
              0.2222222222222222,
              "#7201a8"
             ],
             [
              0.3333333333333333,
              "#9c179e"
             ],
             [
              0.4444444444444444,
              "#bd3786"
             ],
             [
              0.5555555555555556,
              "#d8576b"
             ],
             [
              0.6666666666666666,
              "#ed7953"
             ],
             [
              0.7777777777777778,
              "#fb9f3a"
             ],
             [
              0.8888888888888888,
              "#fdca26"
             ],
             [
              1,
              "#f0f921"
             ]
            ],
            "type": "histogram2d"
           }
          ],
          "histogram2dcontour": [
           {
            "colorbar": {
             "outlinewidth": 0,
             "ticks": ""
            },
            "colorscale": [
             [
              0,
              "#0d0887"
             ],
             [
              0.1111111111111111,
              "#46039f"
             ],
             [
              0.2222222222222222,
              "#7201a8"
             ],
             [
              0.3333333333333333,
              "#9c179e"
             ],
             [
              0.4444444444444444,
              "#bd3786"
             ],
             [
              0.5555555555555556,
              "#d8576b"
             ],
             [
              0.6666666666666666,
              "#ed7953"
             ],
             [
              0.7777777777777778,
              "#fb9f3a"
             ],
             [
              0.8888888888888888,
              "#fdca26"
             ],
             [
              1,
              "#f0f921"
             ]
            ],
            "type": "histogram2dcontour"
           }
          ],
          "mesh3d": [
           {
            "colorbar": {
             "outlinewidth": 0,
             "ticks": ""
            },
            "type": "mesh3d"
           }
          ],
          "parcoords": [
           {
            "line": {
             "colorbar": {
              "outlinewidth": 0,
              "ticks": ""
             }
            },
            "type": "parcoords"
           }
          ],
          "pie": [
           {
            "automargin": true,
            "type": "pie"
           }
          ],
          "scatter": [
           {
            "fillpattern": {
             "fillmode": "overlay",
             "size": 10,
             "solidity": 0.2
            },
            "type": "scatter"
           }
          ],
          "scatter3d": [
           {
            "line": {
             "colorbar": {
              "outlinewidth": 0,
              "ticks": ""
             }
            },
            "marker": {
             "colorbar": {
              "outlinewidth": 0,
              "ticks": ""
             }
            },
            "type": "scatter3d"
           }
          ],
          "scattercarpet": [
           {
            "marker": {
             "colorbar": {
              "outlinewidth": 0,
              "ticks": ""
             }
            },
            "type": "scattercarpet"
           }
          ],
          "scattergeo": [
           {
            "marker": {
             "colorbar": {
              "outlinewidth": 0,
              "ticks": ""
             }
            },
            "type": "scattergeo"
           }
          ],
          "scattergl": [
           {
            "marker": {
             "colorbar": {
              "outlinewidth": 0,
              "ticks": ""
             }
            },
            "type": "scattergl"
           }
          ],
          "scattermapbox": [
           {
            "marker": {
             "colorbar": {
              "outlinewidth": 0,
              "ticks": ""
             }
            },
            "type": "scattermapbox"
           }
          ],
          "scatterpolar": [
           {
            "marker": {
             "colorbar": {
              "outlinewidth": 0,
              "ticks": ""
             }
            },
            "type": "scatterpolar"
           }
          ],
          "scatterpolargl": [
           {
            "marker": {
             "colorbar": {
              "outlinewidth": 0,
              "ticks": ""
             }
            },
            "type": "scatterpolargl"
           }
          ],
          "scatterternary": [
           {
            "marker": {
             "colorbar": {
              "outlinewidth": 0,
              "ticks": ""
             }
            },
            "type": "scatterternary"
           }
          ],
          "surface": [
           {
            "colorbar": {
             "outlinewidth": 0,
             "ticks": ""
            },
            "colorscale": [
             [
              0,
              "#0d0887"
             ],
             [
              0.1111111111111111,
              "#46039f"
             ],
             [
              0.2222222222222222,
              "#7201a8"
             ],
             [
              0.3333333333333333,
              "#9c179e"
             ],
             [
              0.4444444444444444,
              "#bd3786"
             ],
             [
              0.5555555555555556,
              "#d8576b"
             ],
             [
              0.6666666666666666,
              "#ed7953"
             ],
             [
              0.7777777777777778,
              "#fb9f3a"
             ],
             [
              0.8888888888888888,
              "#fdca26"
             ],
             [
              1,
              "#f0f921"
             ]
            ],
            "type": "surface"
           }
          ],
          "table": [
           {
            "cells": {
             "fill": {
              "color": "#EBF0F8"
             },
             "line": {
              "color": "white"
             }
            },
            "header": {
             "fill": {
              "color": "#C8D4E3"
             },
             "line": {
              "color": "white"
             }
            },
            "type": "table"
           }
          ]
         },
         "layout": {
          "annotationdefaults": {
           "arrowcolor": "#2a3f5f",
           "arrowhead": 0,
           "arrowwidth": 1
          },
          "autotypenumbers": "strict",
          "coloraxis": {
           "colorbar": {
            "outlinewidth": 0,
            "ticks": ""
           }
          },
          "colorscale": {
           "diverging": [
            [
             0,
             "#8e0152"
            ],
            [
             0.1,
             "#c51b7d"
            ],
            [
             0.2,
             "#de77ae"
            ],
            [
             0.3,
             "#f1b6da"
            ],
            [
             0.4,
             "#fde0ef"
            ],
            [
             0.5,
             "#f7f7f7"
            ],
            [
             0.6,
             "#e6f5d0"
            ],
            [
             0.7,
             "#b8e186"
            ],
            [
             0.8,
             "#7fbc41"
            ],
            [
             0.9,
             "#4d9221"
            ],
            [
             1,
             "#276419"
            ]
           ],
           "sequential": [
            [
             0,
             "#0d0887"
            ],
            [
             0.1111111111111111,
             "#46039f"
            ],
            [
             0.2222222222222222,
             "#7201a8"
            ],
            [
             0.3333333333333333,
             "#9c179e"
            ],
            [
             0.4444444444444444,
             "#bd3786"
            ],
            [
             0.5555555555555556,
             "#d8576b"
            ],
            [
             0.6666666666666666,
             "#ed7953"
            ],
            [
             0.7777777777777778,
             "#fb9f3a"
            ],
            [
             0.8888888888888888,
             "#fdca26"
            ],
            [
             1,
             "#f0f921"
            ]
           ],
           "sequentialminus": [
            [
             0,
             "#0d0887"
            ],
            [
             0.1111111111111111,
             "#46039f"
            ],
            [
             0.2222222222222222,
             "#7201a8"
            ],
            [
             0.3333333333333333,
             "#9c179e"
            ],
            [
             0.4444444444444444,
             "#bd3786"
            ],
            [
             0.5555555555555556,
             "#d8576b"
            ],
            [
             0.6666666666666666,
             "#ed7953"
            ],
            [
             0.7777777777777778,
             "#fb9f3a"
            ],
            [
             0.8888888888888888,
             "#fdca26"
            ],
            [
             1,
             "#f0f921"
            ]
           ]
          },
          "colorway": [
           "#636efa",
           "#EF553B",
           "#00cc96",
           "#ab63fa",
           "#FFA15A",
           "#19d3f3",
           "#FF6692",
           "#B6E880",
           "#FF97FF",
           "#FECB52"
          ],
          "font": {
           "color": "#2a3f5f"
          },
          "geo": {
           "bgcolor": "white",
           "lakecolor": "white",
           "landcolor": "#E5ECF6",
           "showlakes": true,
           "showland": true,
           "subunitcolor": "white"
          },
          "hoverlabel": {
           "align": "left"
          },
          "hovermode": "closest",
          "mapbox": {
           "style": "light"
          },
          "paper_bgcolor": "white",
          "plot_bgcolor": "#E5ECF6",
          "polar": {
           "angularaxis": {
            "gridcolor": "white",
            "linecolor": "white",
            "ticks": ""
           },
           "bgcolor": "#E5ECF6",
           "radialaxis": {
            "gridcolor": "white",
            "linecolor": "white",
            "ticks": ""
           }
          },
          "scene": {
           "xaxis": {
            "backgroundcolor": "#E5ECF6",
            "gridcolor": "white",
            "gridwidth": 2,
            "linecolor": "white",
            "showbackground": true,
            "ticks": "",
            "zerolinecolor": "white"
           },
           "yaxis": {
            "backgroundcolor": "#E5ECF6",
            "gridcolor": "white",
            "gridwidth": 2,
            "linecolor": "white",
            "showbackground": true,
            "ticks": "",
            "zerolinecolor": "white"
           },
           "zaxis": {
            "backgroundcolor": "#E5ECF6",
            "gridcolor": "white",
            "gridwidth": 2,
            "linecolor": "white",
            "showbackground": true,
            "ticks": "",
            "zerolinecolor": "white"
           }
          },
          "shapedefaults": {
           "line": {
            "color": "#2a3f5f"
           }
          },
          "ternary": {
           "aaxis": {
            "gridcolor": "white",
            "linecolor": "white",
            "ticks": ""
           },
           "baxis": {
            "gridcolor": "white",
            "linecolor": "white",
            "ticks": ""
           },
           "bgcolor": "#E5ECF6",
           "caxis": {
            "gridcolor": "white",
            "linecolor": "white",
            "ticks": ""
           }
          },
          "title": {
           "x": 0.05
          },
          "xaxis": {
           "automargin": true,
           "gridcolor": "white",
           "linecolor": "white",
           "ticks": "",
           "title": {
            "standoff": 15
           },
           "zerolinecolor": "white",
           "zerolinewidth": 2
          },
          "yaxis": {
           "automargin": true,
           "gridcolor": "white",
           "linecolor": "white",
           "ticks": "",
           "title": {
            "standoff": 15
           },
           "zerolinecolor": "white",
           "zerolinewidth": 2
          }
         }
        },
        "title": {
         "text": "World - Happiness Score"
        }
       }
      },
      "text/html": [
       "<div>                            <div id=\"d1c33b6f-fe85-457e-b8fd-a4fb06caa602\" class=\"plotly-graph-div\" style=\"height:525px; width:100%;\"></div>            <script type=\"text/javascript\">                require([\"plotly\"], function(Plotly) {                    window.PLOTLYENV=window.PLOTLYENV || {};                                    if (document.getElementById(\"d1c33b6f-fe85-457e-b8fd-a4fb06caa602\")) {                    Plotly.newPlot(                        \"d1c33b6f-fe85-457e-b8fd-a4fb06caa602\",                        [{\"coloraxis\":\"coloraxis\",\"geo\":\"geo\",\"hovertemplate\":\"<b>%{hovertext}</b><br><br>Country name=%{location}<br>Ladder score=%{z}<extra></extra>\",\"hovertext\":[\"Finland\",\"Denmark\",\"Switzerland\",\"Iceland\",\"Netherlands\",\"Norway\",\"Sweden\",\"Luxembourg\",\"New Zealand\",\"Austria\",\"Australia\",\"Israel\",\"Germany\",\"Canada\",\"Ireland\",\"Costa Rica\",\"United Kingdom\",\"Czech Republic\",\"United States\",\"Belgium\",\"France\",\"Bahrain\",\"Malta\",\"Taiwan Province of China\",\"United Arab Emirates\",\"Saudi Arabia\",\"Spain\",\"Italy\",\"Slovenia\",\"Guatemala\",\"Uruguay\",\"Singapore\",\"Kosovo\",\"Slovakia\",\"Brazil\",\"Mexico\",\"Jamaica\",\"Lithuania\",\"Cyprus\",\"Estonia\",\"Panama\",\"Uzbekistan\",\"Chile\",\"Poland\",\"Kazakhstan\",\"Romania\",\"Kuwait\",\"Serbia\",\"El Salvador\",\"Mauritius\",\"Latvia\",\"Colombia\",\"Hungary\",\"Thailand\",\"Nicaragua\",\"Japan\",\"Argentina\",\"Portugal\",\"Honduras\",\"Croatia\",\"Philippines\",\"South Korea\",\"Peru\",\"Bosnia and Herzegovina\",\"Moldova\",\"Ecuador\",\"Kyrgyzstan\",\"Greece\",\"Bolivia\",\"Mongolia\",\"Paraguay\",\"Montenegro\",\"Dominican Republic\",\"North Cyprus\",\"Belarus\",\"Russia\",\"Hong Kong S.A.R. of China\",\"Tajikistan\",\"Vietnam\",\"Libya\",\"Malaysia\",\"Indonesia\",\"Congo (Brazzaville)\",\"China\",\"Ivory Coast\",\"Armenia\",\"Nepal\",\"Bulgaria\",\"Maldives\",\"Azerbaijan\",\"Cameroon\",\"Senegal\",\"Albania\",\"North Macedonia\",\"Ghana\",\"Niger\",\"Turkmenistan\",\"Gambia\",\"Benin\",\"Laos\",\"Bangladesh\",\"Guinea\",\"South Africa\",\"Turkey\",\"Pakistan\",\"Morocco\",\"Venezuela\",\"Georgia\",\"Algeria\",\"Ukraine\",\"Iraq\",\"Gabon\",\"Burkina Faso\",\"Cambodia\",\"Mozambique\",\"Nigeria\",\"Mali\",\"Iran\",\"Uganda\",\"Liberia\",\"Kenya\",\"Tunisia\",\"Lebanon\",\"Namibia\",\"Palestinian Territories\",\"Myanmar\",\"Jordan\",\"Chad\",\"Sri Lanka\",\"Swaziland\",\"Comoros\",\"Egypt\",\"Ethiopia\",\"Mauritania\",\"Madagascar\",\"Togo\",\"Zambia\",\"Sierra Leone\",\"India\",\"Burundi\",\"Yemen\",\"Tanzania\",\"Haiti\",\"Malawi\",\"Lesotho\",\"Botswana\",\"Rwanda\",\"Zimbabwe\",\"Afghanistan\"],\"locationmode\":\"country names\",\"locations\":[\"Finland\",\"Denmark\",\"Switzerland\",\"Iceland\",\"Netherlands\",\"Norway\",\"Sweden\",\"Luxembourg\",\"New Zealand\",\"Austria\",\"Australia\",\"Israel\",\"Germany\",\"Canada\",\"Ireland\",\"Costa Rica\",\"United Kingdom\",\"Czech Republic\",\"United States\",\"Belgium\",\"France\",\"Bahrain\",\"Malta\",\"Taiwan Province of China\",\"United Arab Emirates\",\"Saudi Arabia\",\"Spain\",\"Italy\",\"Slovenia\",\"Guatemala\",\"Uruguay\",\"Singapore\",\"Kosovo\",\"Slovakia\",\"Brazil\",\"Mexico\",\"Jamaica\",\"Lithuania\",\"Cyprus\",\"Estonia\",\"Panama\",\"Uzbekistan\",\"Chile\",\"Poland\",\"Kazakhstan\",\"Romania\",\"Kuwait\",\"Serbia\",\"El Salvador\",\"Mauritius\",\"Latvia\",\"Colombia\",\"Hungary\",\"Thailand\",\"Nicaragua\",\"Japan\",\"Argentina\",\"Portugal\",\"Honduras\",\"Croatia\",\"Philippines\",\"South Korea\",\"Peru\",\"Bosnia and Herzegovina\",\"Moldova\",\"Ecuador\",\"Kyrgyzstan\",\"Greece\",\"Bolivia\",\"Mongolia\",\"Paraguay\",\"Montenegro\",\"Dominican Republic\",\"North Cyprus\",\"Belarus\",\"Russia\",\"Hong Kong S.A.R. of China\",\"Tajikistan\",\"Vietnam\",\"Libya\",\"Malaysia\",\"Indonesia\",\"Congo (Brazzaville)\",\"China\",\"Ivory Coast\",\"Armenia\",\"Nepal\",\"Bulgaria\",\"Maldives\",\"Azerbaijan\",\"Cameroon\",\"Senegal\",\"Albania\",\"North Macedonia\",\"Ghana\",\"Niger\",\"Turkmenistan\",\"Gambia\",\"Benin\",\"Laos\",\"Bangladesh\",\"Guinea\",\"South Africa\",\"Turkey\",\"Pakistan\",\"Morocco\",\"Venezuela\",\"Georgia\",\"Algeria\",\"Ukraine\",\"Iraq\",\"Gabon\",\"Burkina Faso\",\"Cambodia\",\"Mozambique\",\"Nigeria\",\"Mali\",\"Iran\",\"Uganda\",\"Liberia\",\"Kenya\",\"Tunisia\",\"Lebanon\",\"Namibia\",\"Palestinian Territories\",\"Myanmar\",\"Jordan\",\"Chad\",\"Sri Lanka\",\"Swaziland\",\"Comoros\",\"Egypt\",\"Ethiopia\",\"Mauritania\",\"Madagascar\",\"Togo\",\"Zambia\",\"Sierra Leone\",\"India\",\"Burundi\",\"Yemen\",\"Tanzania\",\"Haiti\",\"Malawi\",\"Lesotho\",\"Botswana\",\"Rwanda\",\"Zimbabwe\",\"Afghanistan\"],\"name\":\"\",\"z\":[7.842,7.62,7.571,7.554,7.464,7.392,7.363,7.324,7.277,7.268,7.183,7.157,7.155,7.103,7.085,7.069,7.064,6.965,6.951,6.834,6.69,6.647,6.602,6.584,6.561,6.494,6.491,6.483,6.461,6.435,6.431,6.377,6.372,6.331,6.33,6.317,6.309,6.255,6.223,6.189,6.18,6.179,6.172,6.166,6.152,6.14,6.106,6.078,6.061,6.049,6.032,6.012,5.992,5.985,5.972,5.94,5.929,5.929,5.919,5.882,5.88,5.845,5.84,5.813,5.766,5.764,5.744,5.723,5.716,5.677,5.653,5.581,5.545,5.536,5.534,5.477,5.477,5.466,5.411,5.41,5.384,5.345,5.342,5.339,5.306,5.283,5.269,5.266,5.198,5.171,5.142,5.132,5.117,5.101,5.088,5.074,5.066,5.051,5.045,5.03,5.025,4.984,4.956,4.948,4.934,4.918,4.892,4.891,4.887,4.875,4.854,4.852,4.834,4.83,4.794,4.759,4.723,4.721,4.636,4.625,4.607,4.596,4.584,4.574,4.517,4.426,4.395,4.355,4.325,4.308,4.289,4.283,4.275,4.227,4.208,4.107,4.073,3.849,3.819,3.775,3.658,3.623,3.615,3.6,3.512,3.467,3.415,3.145,2.523],\"type\":\"choropleth\"}],                        {\"template\":{\"data\":{\"histogram2dcontour\":[{\"type\":\"histogram2dcontour\",\"colorbar\":{\"outlinewidth\":0,\"ticks\":\"\"},\"colorscale\":[[0.0,\"#0d0887\"],[0.1111111111111111,\"#46039f\"],[0.2222222222222222,\"#7201a8\"],[0.3333333333333333,\"#9c179e\"],[0.4444444444444444,\"#bd3786\"],[0.5555555555555556,\"#d8576b\"],[0.6666666666666666,\"#ed7953\"],[0.7777777777777778,\"#fb9f3a\"],[0.8888888888888888,\"#fdca26\"],[1.0,\"#f0f921\"]]}],\"choropleth\":[{\"type\":\"choropleth\",\"colorbar\":{\"outlinewidth\":0,\"ticks\":\"\"}}],\"histogram2d\":[{\"type\":\"histogram2d\",\"colorbar\":{\"outlinewidth\":0,\"ticks\":\"\"},\"colorscale\":[[0.0,\"#0d0887\"],[0.1111111111111111,\"#46039f\"],[0.2222222222222222,\"#7201a8\"],[0.3333333333333333,\"#9c179e\"],[0.4444444444444444,\"#bd3786\"],[0.5555555555555556,\"#d8576b\"],[0.6666666666666666,\"#ed7953\"],[0.7777777777777778,\"#fb9f3a\"],[0.8888888888888888,\"#fdca26\"],[1.0,\"#f0f921\"]]}],\"heatmap\":[{\"type\":\"heatmap\",\"colorbar\":{\"outlinewidth\":0,\"ticks\":\"\"},\"colorscale\":[[0.0,\"#0d0887\"],[0.1111111111111111,\"#46039f\"],[0.2222222222222222,\"#7201a8\"],[0.3333333333333333,\"#9c179e\"],[0.4444444444444444,\"#bd3786\"],[0.5555555555555556,\"#d8576b\"],[0.6666666666666666,\"#ed7953\"],[0.7777777777777778,\"#fb9f3a\"],[0.8888888888888888,\"#fdca26\"],[1.0,\"#f0f921\"]]}],\"heatmapgl\":[{\"type\":\"heatmapgl\",\"colorbar\":{\"outlinewidth\":0,\"ticks\":\"\"},\"colorscale\":[[0.0,\"#0d0887\"],[0.1111111111111111,\"#46039f\"],[0.2222222222222222,\"#7201a8\"],[0.3333333333333333,\"#9c179e\"],[0.4444444444444444,\"#bd3786\"],[0.5555555555555556,\"#d8576b\"],[0.6666666666666666,\"#ed7953\"],[0.7777777777777778,\"#fb9f3a\"],[0.8888888888888888,\"#fdca26\"],[1.0,\"#f0f921\"]]}],\"contourcarpet\":[{\"type\":\"contourcarpet\",\"colorbar\":{\"outlinewidth\":0,\"ticks\":\"\"}}],\"contour\":[{\"type\":\"contour\",\"colorbar\":{\"outlinewidth\":0,\"ticks\":\"\"},\"colorscale\":[[0.0,\"#0d0887\"],[0.1111111111111111,\"#46039f\"],[0.2222222222222222,\"#7201a8\"],[0.3333333333333333,\"#9c179e\"],[0.4444444444444444,\"#bd3786\"],[0.5555555555555556,\"#d8576b\"],[0.6666666666666666,\"#ed7953\"],[0.7777777777777778,\"#fb9f3a\"],[0.8888888888888888,\"#fdca26\"],[1.0,\"#f0f921\"]]}],\"surface\":[{\"type\":\"surface\",\"colorbar\":{\"outlinewidth\":0,\"ticks\":\"\"},\"colorscale\":[[0.0,\"#0d0887\"],[0.1111111111111111,\"#46039f\"],[0.2222222222222222,\"#7201a8\"],[0.3333333333333333,\"#9c179e\"],[0.4444444444444444,\"#bd3786\"],[0.5555555555555556,\"#d8576b\"],[0.6666666666666666,\"#ed7953\"],[0.7777777777777778,\"#fb9f3a\"],[0.8888888888888888,\"#fdca26\"],[1.0,\"#f0f921\"]]}],\"mesh3d\":[{\"type\":\"mesh3d\",\"colorbar\":{\"outlinewidth\":0,\"ticks\":\"\"}}],\"scatter\":[{\"fillpattern\":{\"fillmode\":\"overlay\",\"size\":10,\"solidity\":0.2},\"type\":\"scatter\"}],\"parcoords\":[{\"type\":\"parcoords\",\"line\":{\"colorbar\":{\"outlinewidth\":0,\"ticks\":\"\"}}}],\"scatterpolargl\":[{\"type\":\"scatterpolargl\",\"marker\":{\"colorbar\":{\"outlinewidth\":0,\"ticks\":\"\"}}}],\"bar\":[{\"error_x\":{\"color\":\"#2a3f5f\"},\"error_y\":{\"color\":\"#2a3f5f\"},\"marker\":{\"line\":{\"color\":\"#E5ECF6\",\"width\":0.5},\"pattern\":{\"fillmode\":\"overlay\",\"size\":10,\"solidity\":0.2}},\"type\":\"bar\"}],\"scattergeo\":[{\"type\":\"scattergeo\",\"marker\":{\"colorbar\":{\"outlinewidth\":0,\"ticks\":\"\"}}}],\"scatterpolar\":[{\"type\":\"scatterpolar\",\"marker\":{\"colorbar\":{\"outlinewidth\":0,\"ticks\":\"\"}}}],\"histogram\":[{\"marker\":{\"pattern\":{\"fillmode\":\"overlay\",\"size\":10,\"solidity\":0.2}},\"type\":\"histogram\"}],\"scattergl\":[{\"type\":\"scattergl\",\"marker\":{\"colorbar\":{\"outlinewidth\":0,\"ticks\":\"\"}}}],\"scatter3d\":[{\"type\":\"scatter3d\",\"line\":{\"colorbar\":{\"outlinewidth\":0,\"ticks\":\"\"}},\"marker\":{\"colorbar\":{\"outlinewidth\":0,\"ticks\":\"\"}}}],\"scattermapbox\":[{\"type\":\"scattermapbox\",\"marker\":{\"colorbar\":{\"outlinewidth\":0,\"ticks\":\"\"}}}],\"scatterternary\":[{\"type\":\"scatterternary\",\"marker\":{\"colorbar\":{\"outlinewidth\":0,\"ticks\":\"\"}}}],\"scattercarpet\":[{\"type\":\"scattercarpet\",\"marker\":{\"colorbar\":{\"outlinewidth\":0,\"ticks\":\"\"}}}],\"carpet\":[{\"aaxis\":{\"endlinecolor\":\"#2a3f5f\",\"gridcolor\":\"white\",\"linecolor\":\"white\",\"minorgridcolor\":\"white\",\"startlinecolor\":\"#2a3f5f\"},\"baxis\":{\"endlinecolor\":\"#2a3f5f\",\"gridcolor\":\"white\",\"linecolor\":\"white\",\"minorgridcolor\":\"white\",\"startlinecolor\":\"#2a3f5f\"},\"type\":\"carpet\"}],\"table\":[{\"cells\":{\"fill\":{\"color\":\"#EBF0F8\"},\"line\":{\"color\":\"white\"}},\"header\":{\"fill\":{\"color\":\"#C8D4E3\"},\"line\":{\"color\":\"white\"}},\"type\":\"table\"}],\"barpolar\":[{\"marker\":{\"line\":{\"color\":\"#E5ECF6\",\"width\":0.5},\"pattern\":{\"fillmode\":\"overlay\",\"size\":10,\"solidity\":0.2}},\"type\":\"barpolar\"}],\"pie\":[{\"automargin\":true,\"type\":\"pie\"}]},\"layout\":{\"autotypenumbers\":\"strict\",\"colorway\":[\"#636efa\",\"#EF553B\",\"#00cc96\",\"#ab63fa\",\"#FFA15A\",\"#19d3f3\",\"#FF6692\",\"#B6E880\",\"#FF97FF\",\"#FECB52\"],\"font\":{\"color\":\"#2a3f5f\"},\"hovermode\":\"closest\",\"hoverlabel\":{\"align\":\"left\"},\"paper_bgcolor\":\"white\",\"plot_bgcolor\":\"#E5ECF6\",\"polar\":{\"bgcolor\":\"#E5ECF6\",\"angularaxis\":{\"gridcolor\":\"white\",\"linecolor\":\"white\",\"ticks\":\"\"},\"radialaxis\":{\"gridcolor\":\"white\",\"linecolor\":\"white\",\"ticks\":\"\"}},\"ternary\":{\"bgcolor\":\"#E5ECF6\",\"aaxis\":{\"gridcolor\":\"white\",\"linecolor\":\"white\",\"ticks\":\"\"},\"baxis\":{\"gridcolor\":\"white\",\"linecolor\":\"white\",\"ticks\":\"\"},\"caxis\":{\"gridcolor\":\"white\",\"linecolor\":\"white\",\"ticks\":\"\"}},\"coloraxis\":{\"colorbar\":{\"outlinewidth\":0,\"ticks\":\"\"}},\"colorscale\":{\"sequential\":[[0.0,\"#0d0887\"],[0.1111111111111111,\"#46039f\"],[0.2222222222222222,\"#7201a8\"],[0.3333333333333333,\"#9c179e\"],[0.4444444444444444,\"#bd3786\"],[0.5555555555555556,\"#d8576b\"],[0.6666666666666666,\"#ed7953\"],[0.7777777777777778,\"#fb9f3a\"],[0.8888888888888888,\"#fdca26\"],[1.0,\"#f0f921\"]],\"sequentialminus\":[[0.0,\"#0d0887\"],[0.1111111111111111,\"#46039f\"],[0.2222222222222222,\"#7201a8\"],[0.3333333333333333,\"#9c179e\"],[0.4444444444444444,\"#bd3786\"],[0.5555555555555556,\"#d8576b\"],[0.6666666666666666,\"#ed7953\"],[0.7777777777777778,\"#fb9f3a\"],[0.8888888888888888,\"#fdca26\"],[1.0,\"#f0f921\"]],\"diverging\":[[0,\"#8e0152\"],[0.1,\"#c51b7d\"],[0.2,\"#de77ae\"],[0.3,\"#f1b6da\"],[0.4,\"#fde0ef\"],[0.5,\"#f7f7f7\"],[0.6,\"#e6f5d0\"],[0.7,\"#b8e186\"],[0.8,\"#7fbc41\"],[0.9,\"#4d9221\"],[1,\"#276419\"]]},\"xaxis\":{\"gridcolor\":\"white\",\"linecolor\":\"white\",\"ticks\":\"\",\"title\":{\"standoff\":15},\"zerolinecolor\":\"white\",\"automargin\":true,\"zerolinewidth\":2},\"yaxis\":{\"gridcolor\":\"white\",\"linecolor\":\"white\",\"ticks\":\"\",\"title\":{\"standoff\":15},\"zerolinecolor\":\"white\",\"automargin\":true,\"zerolinewidth\":2},\"scene\":{\"xaxis\":{\"backgroundcolor\":\"#E5ECF6\",\"gridcolor\":\"white\",\"linecolor\":\"white\",\"showbackground\":true,\"ticks\":\"\",\"zerolinecolor\":\"white\",\"gridwidth\":2},\"yaxis\":{\"backgroundcolor\":\"#E5ECF6\",\"gridcolor\":\"white\",\"linecolor\":\"white\",\"showbackground\":true,\"ticks\":\"\",\"zerolinecolor\":\"white\",\"gridwidth\":2},\"zaxis\":{\"backgroundcolor\":\"#E5ECF6\",\"gridcolor\":\"white\",\"linecolor\":\"white\",\"showbackground\":true,\"ticks\":\"\",\"zerolinecolor\":\"white\",\"gridwidth\":2}},\"shapedefaults\":{\"line\":{\"color\":\"#2a3f5f\"}},\"annotationdefaults\":{\"arrowcolor\":\"#2a3f5f\",\"arrowhead\":0,\"arrowwidth\":1},\"geo\":{\"bgcolor\":\"white\",\"landcolor\":\"#E5ECF6\",\"subunitcolor\":\"white\",\"showland\":true,\"showlakes\":true,\"lakecolor\":\"white\"},\"title\":{\"x\":0.05},\"mapbox\":{\"style\":\"light\"}}},\"geo\":{\"domain\":{\"x\":[0.0,1.0],\"y\":[0.0,1.0]},\"center\":{}},\"coloraxis\":{\"colorbar\":{\"title\":{\"text\":\"Ladder score\"}},\"colorscale\":[[0.0,\"rgb(255,245,235)\"],[0.125,\"rgb(254,230,206)\"],[0.25,\"rgb(253,208,162)\"],[0.375,\"rgb(253,174,107)\"],[0.5,\"rgb(253,141,60)\"],[0.625,\"rgb(241,105,19)\"],[0.75,\"rgb(217,72,1)\"],[0.875,\"rgb(166,54,3)\"],[1.0,\"rgb(127,39,4)\"]]},\"legend\":{\"tracegroupgap\":0},\"title\":{\"text\":\"World - Happiness Score\"}},                        {\"responsive\": true}                    ).then(function(){\n",
       "                            \n",
       "var gd = document.getElementById('d1c33b6f-fe85-457e-b8fd-a4fb06caa602');\n",
       "var x = new MutationObserver(function (mutations, observer) {{\n",
       "        var display = window.getComputedStyle(gd).display;\n",
       "        if (!display || display === 'none') {{\n",
       "            console.log([gd, 'removed!']);\n",
       "            Plotly.purge(gd);\n",
       "            observer.disconnect();\n",
       "        }}\n",
       "}});\n",
       "\n",
       "// Listen for the removal of the full notebook cells\n",
       "var notebookContainer = gd.closest('#notebook-container');\n",
       "if (notebookContainer) {{\n",
       "    x.observe(notebookContainer, {childList: true});\n",
       "}}\n",
       "\n",
       "// Listen for the clearing of the current output cell\n",
       "var outputEl = gd.closest('.output');\n",
       "if (outputEl) {{\n",
       "    x.observe(outputEl, {childList: true});\n",
       "}}\n",
       "\n",
       "                        })                };                });            </script>        </div>"
      ]
     },
     "metadata": {},
     "output_type": "display_data"
    }
   ],
   "source": [
    "fig = px.choropleth(df, \n",
    "                    locations = 'Country name',\n",
    "                    color = 'Ladder score',\n",
    "                    locationmode=\"country names\",\n",
    "                    hover_name = 'Country name',\n",
    "                    color_continuous_scale=px.colors.sequential.Oranges,\n",
    "                    title='World - Happiness Score'\n",
    " )\n",
    "fig.show()"
   ]
  },
  {
   "cell_type": "code",
   "execution_count": null,
   "id": "f8baaf5e",
   "metadata": {},
   "outputs": [],
   "source": []
  }
 ],
 "metadata": {
  "kernelspec": {
   "display_name": "Python 3 (ipykernel)",
   "language": "python",
   "name": "python3"
  },
  "language_info": {
   "codemirror_mode": {
    "name": "ipython",
    "version": 3
   },
   "file_extension": ".py",
   "mimetype": "text/x-python",
   "name": "python",
   "nbconvert_exporter": "python",
   "pygments_lexer": "ipython3",
   "version": "3.9.12"
  },
  "varInspector": {
   "cols": {
    "lenName": 16,
    "lenType": 16,
    "lenVar": 40
   },
   "kernels_config": {
    "python": {
     "delete_cmd_postfix": "",
     "delete_cmd_prefix": "del ",
     "library": "var_list.py",
     "varRefreshCmd": "print(var_dic_list())"
    },
    "r": {
     "delete_cmd_postfix": ") ",
     "delete_cmd_prefix": "rm(",
     "library": "var_list.r",
     "varRefreshCmd": "cat(var_dic_list()) "
    }
   },
   "types_to_exclude": [
    "module",
    "function",
    "builtin_function_or_method",
    "instance",
    "_Feature"
   ],
   "window_display": false
  }
 },
 "nbformat": 4,
 "nbformat_minor": 5
}
