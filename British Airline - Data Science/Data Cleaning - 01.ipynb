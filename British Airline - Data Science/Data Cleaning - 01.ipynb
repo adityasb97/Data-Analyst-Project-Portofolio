{
 "cells": [
  {
   "cell_type": "markdown",
   "id": "04a0ab41",
   "metadata": {},
   "source": [
    "# Import Library"
   ]
  },
  {
   "cell_type": "code",
   "execution_count": 1,
   "id": "3df52839",
   "metadata": {},
   "outputs": [
    {
     "name": "stderr",
     "output_type": "stream",
     "text": [
      "[nltk_data] Downloading package wordnet to C:\\Users\\Silent\n",
      "[nltk_data]     Monster\\AppData\\Roaming\\nltk_data...\n",
      "[nltk_data]   Package wordnet is already up-to-date!\n"
     ]
    }
   ],
   "source": [
    "import pandas as pd\n",
    "import numpy as np\n",
    "import matplotlib.pyplot as plt\n",
    "import seaborn as sns\n",
    "\n",
    "import nltk\n",
    "nltk.download('wordnet')\n",
    "from nltk.stem import WordNetLemmatizer\n",
    "from nltk.corpus import stopwords\n",
    "import re"
   ]
  },
  {
   "cell_type": "markdown",
   "id": "01cb293f",
   "metadata": {},
   "source": [
    "# Import Dataset"
   ]
  },
  {
   "cell_type": "code",
   "execution_count": 2,
   "id": "6b7d50b3",
   "metadata": {},
   "outputs": [
    {
     "data": {
      "text/html": [
       "<div><div id=647b0027-7410-4259-ba11-e430c2780053 style=\"display:none; background-color:#9D6CFF; color:white; width:200px; height:30px; padding-left:5px; border-radius:4px; flex-direction:row; justify-content:space-around; align-items:center;\" onmouseover=\"this.style.backgroundColor='#BA9BF8'\" onmouseout=\"this.style.backgroundColor='#9D6CFF'\" onclick=\"window.commands?.execute('create-mitosheet-from-dataframe-output');\">See Full Dataframe in Mito</div> <script> if (window.commands?.hasCommand('create-mitosheet-from-dataframe-output')) document.getElementById('647b0027-7410-4259-ba11-e430c2780053').style.display = 'flex' </script> <table border=\"1\" class=\"dataframe\">\n",
       "  <thead>\n",
       "    <tr style=\"text-align: right;\">\n",
       "      <th></th>\n",
       "      <th>reviews</th>\n",
       "      <th>star</th>\n",
       "      <th>date</th>\n",
       "      <th>country</th>\n",
       "    </tr>\n",
       "  </thead>\n",
       "  <tbody>\n",
       "    <tr>\n",
       "      <th>0</th>\n",
       "      <td>✅ Trip Verified |  Very competent check in staff, saw had a problem with my left arm and insisted I could not take exit seat. Moved me to row 30 where the middle seat was empty. On the other hand on board - huge line for toilets - 45 min into a 2.30 min flight a crew member realised one of the toilets is closed - as crew had put their luggage there. They announced that they could not serve hot drinks on this flight and to bear with them as service will be slow. On asking why: \"They did not give us enough cups for hot drinks. And the card machine is not working so we have to fill out each credit card slip\". A bottle of water and a nutrigrain bar.</td>\n",
       "      <td>\\n\\t\\t\\t\\t\\t\\t\\t\\t\\t\\t\\t\\t\\t5</td>\n",
       "      <td>23rd February 2023</td>\n",
       "      <td>United Arab Emirates</td>\n",
       "    </tr>\n",
       "    <tr>\n",
       "      <th>1</th>\n",
       "      <td>✅ Trip Verified |  Check in was so slow, no self check in and bag drop. Boarding was ok, flight totally full. Booked row 9 which was ok. Some space in overhead bins. Seat and legroom ok. Cabin crew ok, smiled, gave out the bottle of water and pretzels. Flight itself was ok, landed 25 mins early and then waited 30 minutes for a stand and ground crew. Bags came off reasonably quickly. BA still seems to believe it is something special, a premium carrier. The reality is that it is not. The only reason we flew BA was we got virtually free tickets because both flights were cancelled last year. BA is our carrier of last choice.</td>\n",
       "      <td>4</td>\n",
       "      <td>18th February 2023</td>\n",
       "      <td>United Kingdom</td>\n",
       "    </tr>\n",
       "    <tr>\n",
       "      <th>2</th>\n",
       "      <td>✅ Trip Verified |  My review relates to the appalling experiences I had with British Airways on 14th February 2023. I was due to travel to Madrid with British Airways and before setting off I heard on the radio that there were flight delays. I looked at the Heathrow Airport website and saw that my flight had been cancelled. As a result of the information on the website, I called British Airways and have 26 minutes on hold I found myself speaking to somebody in a call centre in South Africa. The person was hard to understand due to a heavy accent and he was incompetent and insisted that the flight was not cancelled. I made my way to Heathrow and sure enough the flight was indeed cancelled. The woman in question had the audacity to declare that the flight was cancelled and that “there are no facilities here at the airport to rebook you”. She refused to let me and about 12 other people join the queue for the clearly marked assistance desk. The same woman and one of her colleagues gave out a card with a telephone number and told one rather elderly gentleman to “go online to rebook your seat”. I am visually impaired and found the attitude of the BA employee to be appalling. I called the number on the card the employee gave me and was again in a long queue to a call centre. The person who picked up the phone kept me waiting 22 minutes and declared that the flight was not cancelled and that the airport “must be wrong”. He then in a flippant tone said he was just informed that the flight was indeed cancelled and that I would have to go and speak to IBERIA customer services in Heathrow to rebook! I took the elderly gentleman with me to IBERIA where the counter staff member rolled her eyes in disgust and said that it was nothing to do with IBERIA. I returned to BA and this time I joined the check-in line and told a check-in agent what had happened. The man in question booked me onto the next available flight within a matter of a few minutes. He gave me a £30 voucher as a form of compensation but said he could not add my frequent flyer number with a partner airline. The voucher proved useless I am afraid as various shops in the predepature area refused to accept it and although I was told I could use it after clearing security none of the shops would accept it. Once aboard my new flight the service was minimal. Other than a tiny bottle of water and a packet of pretzels nothing else was available. This was a full flight as so many people had been transferred from the cancelled flight. BA Cabin crew announced that any additional items other than the small bottle of water and pretzels had to be ordered via their skyshop.</td>\n",
       "      <td>5</td>\n",
       "      <td>18th February 2023</td>\n",
       "      <td>United Kingdom</td>\n",
       "    </tr>\n",
       "    <tr>\n",
       "      <th>3</th>\n",
       "      <td>✅ Trip Verified | This was my first time flying with BA &amp; I was pleasantly surprised. Islamabad via Doha was very comfortable and the crew were great, friendly and helpful. The second flight was operated by Qatar Airways this was from Doha to Islamabad. My return journey was a direct BA flight, 46kg luggage allowance was really generous and stopped the hassle with connecting flights. Crew on this flight were really nice too. What let BA down was the food, it really was not nice, the IFE could do with some more content but that's not really a huge issue.</td>\n",
       "      <td>1</td>\n",
       "      <td>16th February 2023</td>\n",
       "      <td>United Kingdom</td>\n",
       "    </tr>\n",
       "    <tr>\n",
       "      <th>4</th>\n",
       "      <td>✅ Trip Verified |  Lots of cancellations and delays and no one apologized. Edinburgh to London on Feb 14th, 2023, our original flight was cancelled, and the rebooked one was cancelled as well, the third rebooked one was supposed to departure at 12:50 and had several delays until 2:24. Then we had to wait 57 minutes for our luggage to arrive.</td>\n",
       "      <td>8</td>\n",
       "      <td>15th February 2023</td>\n",
       "      <td>Canada</td>\n",
       "    </tr>\n",
       "  </tbody>\n",
       "</table></div>"
      ],
      "text/plain": [
       "                                             reviews  \\\n",
       "0  ✅ Trip Verified |  Very competent check in sta...   \n",
       "1  ✅ Trip Verified |  Check in was so slow, no se...   \n",
       "2  ✅ Trip Verified |  My review relates to the ap...   \n",
       "3  ✅ Trip Verified | This was my first time flyin...   \n",
       "4  ✅ Trip Verified |  Lots of cancellations and d...   \n",
       "\n",
       "                            star                date               country  \n",
       "0  \\n\\t\\t\\t\\t\\t\\t\\t\\t\\t\\t\\t\\t\\t5  23rd February 2023  United Arab Emirates  \n",
       "1                              4  18th February 2023        United Kingdom  \n",
       "2                              5  18th February 2023        United Kingdom  \n",
       "3                              1  16th February 2023        United Kingdom  \n",
       "4                              8  15th February 2023                Canada  "
      ]
     },
     "execution_count": 2,
     "metadata": {},
     "output_type": "execute_result"
    }
   ],
   "source": [
    "df = pd.read_csv('data/BA_reviews.csv')\n",
    "df.head()"
   ]
  },
  {
   "cell_type": "markdown",
   "id": "9c967316",
   "metadata": {},
   "source": [
    "# Data Cleaning / Data Preprocessing"
   ]
  },
  {
   "cell_type": "code",
   "execution_count": 3,
   "id": "f155a6db",
   "metadata": {},
   "outputs": [],
   "source": [
    "reviews_data = df.reviews.str.strip('✅ Trip Verified')\n",
    "\n",
    "# create empty list to collect corpus\n",
    "corpus = []\n",
    "\n",
    "# loop through each review and add each review to the corpus\n",
    "for review in reviews_data:\n",
    "    review = re.sub('[^a-zA-Z]', ' ', review)\n",
    "    review = review.lower()\n",
    "    review = review.split()\n",
    "    lemmatizer = WordNetLemmatizer()\n",
    "    review = [lemmatizer.lemmatize(word) for word in review if not word in set(stopwords.words('english'))]\n",
    "    review = ' '.join(review)\n",
    "    corpus.append(review)"
   ]
  },
  {
   "cell_type": "code",
   "execution_count": 4,
   "id": "b796138c",
   "metadata": {},
   "outputs": [],
   "source": [
    "# add corpus to dataframe\n",
    "\n",
    "df['corpus'] = corpus"
   ]
  },
  {
   "cell_type": "code",
   "execution_count": 5,
   "id": "523c382b",
   "metadata": {},
   "outputs": [
    {
     "data": {
      "text/html": [
       "<div><div id=50707ba8-7c34-4a55-908e-1464722c760b style=\"display:none; background-color:#9D6CFF; color:white; width:200px; height:30px; padding-left:5px; border-radius:4px; flex-direction:row; justify-content:space-around; align-items:center;\" onmouseover=\"this.style.backgroundColor='#BA9BF8'\" onmouseout=\"this.style.backgroundColor='#9D6CFF'\" onclick=\"window.commands?.execute('create-mitosheet-from-dataframe-output');\">See Full Dataframe in Mito</div> <script> if (window.commands?.hasCommand('create-mitosheet-from-dataframe-output')) document.getElementById('50707ba8-7c34-4a55-908e-1464722c760b').style.display = 'flex' </script> <table border=\"1\" class=\"dataframe\">\n",
       "  <thead>\n",
       "    <tr style=\"text-align: right;\">\n",
       "      <th></th>\n",
       "      <th>reviews</th>\n",
       "      <th>star</th>\n",
       "      <th>date</th>\n",
       "      <th>country</th>\n",
       "      <th>corpus</th>\n",
       "    </tr>\n",
       "  </thead>\n",
       "  <tbody>\n",
       "    <tr>\n",
       "      <th>0</th>\n",
       "      <td>✅ Trip Verified |  Very competent check in staff, saw had a problem with my left arm and insisted I could not take exit seat. Moved me to row 30 where the middle seat was empty. On the other hand on board - huge line for toilets - 45 min into a 2.30 min flight a crew member realised one of the toilets is closed - as crew had put their luggage there. They announced that they could not serve hot drinks on this flight and to bear with them as service will be slow. On asking why: \"They did not give us enough cups for hot drinks. And the card machine is not working so we have to fill out each credit card slip\". A bottle of water and a nutrigrain bar.</td>\n",
       "      <td>\\n\\t\\t\\t\\t\\t\\t\\t\\t\\t\\t\\t\\t\\t5</td>\n",
       "      <td>23rd February 2023</td>\n",
       "      <td>United Arab Emirates</td>\n",
       "      <td>competent check staff saw problem left arm insisted could take exit seat moved row middle seat empty hand board huge line toilet min min flight crew member realised one toilet closed crew put luggage announced could serve hot drink flight bear service slow asking give u enough cup hot drink card machine working fill credit card slip bottle water nutrigrain bar</td>\n",
       "    </tr>\n",
       "    <tr>\n",
       "      <th>1</th>\n",
       "      <td>✅ Trip Verified |  Check in was so slow, no self check in and bag drop. Boarding was ok, flight totally full. Booked row 9 which was ok. Some space in overhead bins. Seat and legroom ok. Cabin crew ok, smiled, gave out the bottle of water and pretzels. Flight itself was ok, landed 25 mins early and then waited 30 minutes for a stand and ground crew. Bags came off reasonably quickly. BA still seems to believe it is something special, a premium carrier. The reality is that it is not. The only reason we flew BA was we got virtually free tickets because both flights were cancelled last year. BA is our carrier of last choice.</td>\n",
       "      <td>4</td>\n",
       "      <td>18th February 2023</td>\n",
       "      <td>United Kingdom</td>\n",
       "      <td>check slow self check bag drop boarding ok flight totally full booked row ok space overhead bin seat legroom ok cabin crew ok smiled gave bottle water pretzel flight ok landed min early waited minute stand ground crew bag came reasonably quickly ba still seems believe something special premium carrier reality reason flew ba got virtually free ticket flight cancelled last year ba carrier last choice</td>\n",
       "    </tr>\n",
       "    <tr>\n",
       "      <th>2</th>\n",
       "      <td>✅ Trip Verified |  My review relates to the appalling experiences I had with British Airways on 14th February 2023. I was due to travel to Madrid with British Airways and before setting off I heard on the radio that there were flight delays. I looked at the Heathrow Airport website and saw that my flight had been cancelled. As a result of the information on the website, I called British Airways and have 26 minutes on hold I found myself speaking to somebody in a call centre in South Africa. The person was hard to understand due to a heavy accent and he was incompetent and insisted that the flight was not cancelled. I made my way to Heathrow and sure enough the flight was indeed cancelled. The woman in question had the audacity to declare that the flight was cancelled and that “there are no facilities here at the airport to rebook you”. She refused to let me and about 12 other people join the queue for the clearly marked assistance desk. The same woman and one of her colleagues gave out a card with a telephone number and told one rather elderly gentleman to “go online to rebook your seat”. I am visually impaired and found the attitude of the BA employee to be appalling. I called the number on the card the employee gave me and was again in a long queue to a call centre. The person who picked up the phone kept me waiting 22 minutes and declared that the flight was not cancelled and that the airport “must be wrong”. He then in a flippant tone said he was just informed that the flight was indeed cancelled and that I would have to go and speak to IBERIA customer services in Heathrow to rebook! I took the elderly gentleman with me to IBERIA where the counter staff member rolled her eyes in disgust and said that it was nothing to do with IBERIA. I returned to BA and this time I joined the check-in line and told a check-in agent what had happened. The man in question booked me onto the next available flight within a matter of a few minutes. He gave me a £30 voucher as a form of compensation but said he could not add my frequent flyer number with a partner airline. The voucher proved useless I am afraid as various shops in the predepature area refused to accept it and although I was told I could use it after clearing security none of the shops would accept it. Once aboard my new flight the service was minimal. Other than a tiny bottle of water and a packet of pretzels nothing else was available. This was a full flight as so many people had been transferred from the cancelled flight. BA Cabin crew announced that any additional items other than the small bottle of water and pretzels had to be ordered via their skyshop.</td>\n",
       "      <td>5</td>\n",
       "      <td>18th February 2023</td>\n",
       "      <td>United Kingdom</td>\n",
       "      <td>review relates appalling experience british airway th february due travel madrid british airway setting heard radio flight delay looked heathrow airport website saw flight cancelled result information website called british airway minute hold found speaking somebody call centre south africa person hard understand due heavy accent incompetent insisted flight cancelled made way heathrow sure enough flight indeed cancelled woman question audacity declare flight cancelled facility airport rebook refused let people join queue clearly marked assistance desk woman one colleague gave card telephone number told one rather elderly gentleman go online rebook seat visually impaired found attitude ba employee appalling called number card employee gave long queue call centre person picked phone kept waiting minute declared flight cancelled airport must wrong flippant tone said informed flight indeed cancelled would go speak iberia customer service heathrow rebook took elderly gentleman iberia counter staff member rolled eye disgust said nothing iberia returned ba time joined check line told check agent happened man question booked onto next available flight within matter minute gave voucher form compensation said could add frequent flyer number partner airline voucher proved useless afraid various shop predepature area refused accept although told could use clearing security none shop would accept aboard new flight service minimal tiny bottle water packet pretzel nothing else available full flight many people transferred cancelled flight ba cabin crew announced additional item small bottle water pretzel ordered via skyshop</td>\n",
       "    </tr>\n",
       "    <tr>\n",
       "      <th>3</th>\n",
       "      <td>✅ Trip Verified | This was my first time flying with BA &amp; I was pleasantly surprised. Islamabad via Doha was very comfortable and the crew were great, friendly and helpful. The second flight was operated by Qatar Airways this was from Doha to Islamabad. My return journey was a direct BA flight, 46kg luggage allowance was really generous and stopped the hassle with connecting flights. Crew on this flight were really nice too. What let BA down was the food, it really was not nice, the IFE could do with some more content but that's not really a huge issue.</td>\n",
       "      <td>1</td>\n",
       "      <td>16th February 2023</td>\n",
       "      <td>United Kingdom</td>\n",
       "      <td>first time flying ba pleasantly surprised islamabad via doha comfortable crew great friendly helpful second flight operated qatar airway doha islamabad return journey direct ba flight kg luggage allowance really generous stopped hassle connecting flight crew flight really nice let ba food really nice ife could content really huge issue</td>\n",
       "    </tr>\n",
       "    <tr>\n",
       "      <th>4</th>\n",
       "      <td>✅ Trip Verified |  Lots of cancellations and delays and no one apologized. Edinburgh to London on Feb 14th, 2023, our original flight was cancelled, and the rebooked one was cancelled as well, the third rebooked one was supposed to departure at 12:50 and had several delays until 2:24. Then we had to wait 57 minutes for our luggage to arrive.</td>\n",
       "      <td>8</td>\n",
       "      <td>15th February 2023</td>\n",
       "      <td>Canada</td>\n",
       "      <td>lot cancellation delay one apologized edinburgh london feb th original flight cancelled rebooked one cancelled well third rebooked one supposed departure several delay wait minute luggage arrive</td>\n",
       "    </tr>\n",
       "  </tbody>\n",
       "</table></div>"
      ],
      "text/plain": [
       "                                             reviews  \\\n",
       "0  ✅ Trip Verified |  Very competent check in sta...   \n",
       "1  ✅ Trip Verified |  Check in was so slow, no se...   \n",
       "2  ✅ Trip Verified |  My review relates to the ap...   \n",
       "3  ✅ Trip Verified | This was my first time flyin...   \n",
       "4  ✅ Trip Verified |  Lots of cancellations and d...   \n",
       "\n",
       "                            star                date               country  \\\n",
       "0  \\n\\t\\t\\t\\t\\t\\t\\t\\t\\t\\t\\t\\t\\t5  23rd February 2023  United Arab Emirates   \n",
       "1                              4  18th February 2023        United Kingdom   \n",
       "2                              5  18th February 2023        United Kingdom   \n",
       "3                              1  16th February 2023        United Kingdom   \n",
       "4                              8  15th February 2023                Canada   \n",
       "\n",
       "                                              corpus  \n",
       "0  competent check staff saw problem left arm ins...  \n",
       "1  check slow self check bag drop boarding ok fli...  \n",
       "2  review relates appalling experience british ai...  \n",
       "3  first time flying ba pleasantly surprised isla...  \n",
       "4  lot cancellation delay one apologized edinburg...  "
      ]
     },
     "execution_count": 5,
     "metadata": {},
     "output_type": "execute_result"
    }
   ],
   "source": [
    "df.head()"
   ]
  },
  {
   "cell_type": "code",
   "execution_count": 6,
   "id": "ea2603cf",
   "metadata": {},
   "outputs": [],
   "source": [
    "df['verified'] = df.reviews.str.contains('✅ Trip Verified')"
   ]
  },
  {
   "cell_type": "code",
   "execution_count": 7,
   "id": "b8014796",
   "metadata": {},
   "outputs": [
    {
     "data": {
      "text/html": [
       "<div><div id=ecd6c107-4374-4510-9f3e-fcf5d7846bf0 style=\"display:none; background-color:#9D6CFF; color:white; width:200px; height:30px; padding-left:5px; border-radius:4px; flex-direction:row; justify-content:space-around; align-items:center;\" onmouseover=\"this.style.backgroundColor='#BA9BF8'\" onmouseout=\"this.style.backgroundColor='#9D6CFF'\" onclick=\"window.commands?.execute('create-mitosheet-from-dataframe-output');\">See Full Dataframe in Mito</div> <script> if (window.commands?.hasCommand('create-mitosheet-from-dataframe-output')) document.getElementById('ecd6c107-4374-4510-9f3e-fcf5d7846bf0').style.display = 'flex' </script> <table border=\"1\" class=\"dataframe\">\n",
       "  <thead>\n",
       "    <tr style=\"text-align: right;\">\n",
       "      <th></th>\n",
       "      <th>reviews</th>\n",
       "      <th>star</th>\n",
       "      <th>date</th>\n",
       "      <th>country</th>\n",
       "      <th>corpus</th>\n",
       "      <th>verified</th>\n",
       "    </tr>\n",
       "  </thead>\n",
       "  <tbody>\n",
       "    <tr>\n",
       "      <th>0</th>\n",
       "      <td>✅ Trip Verified |  Very competent check in staff, saw had a problem with my left arm and insisted I could not take exit seat. Moved me to row 30 where the middle seat was empty. On the other hand on board - huge line for toilets - 45 min into a 2.30 min flight a crew member realised one of the toilets is closed - as crew had put their luggage there. They announced that they could not serve hot drinks on this flight and to bear with them as service will be slow. On asking why: \"They did not give us enough cups for hot drinks. And the card machine is not working so we have to fill out each credit card slip\". A bottle of water and a nutrigrain bar.</td>\n",
       "      <td>\\n\\t\\t\\t\\t\\t\\t\\t\\t\\t\\t\\t\\t\\t5</td>\n",
       "      <td>23rd February 2023</td>\n",
       "      <td>United Arab Emirates</td>\n",
       "      <td>competent check staff saw problem left arm insisted could take exit seat moved row middle seat empty hand board huge line toilet min min flight crew member realised one toilet closed crew put luggage announced could serve hot drink flight bear service slow asking give u enough cup hot drink card machine working fill credit card slip bottle water nutrigrain bar</td>\n",
       "      <td>True</td>\n",
       "    </tr>\n",
       "    <tr>\n",
       "      <th>1</th>\n",
       "      <td>✅ Trip Verified |  Check in was so slow, no self check in and bag drop. Boarding was ok, flight totally full. Booked row 9 which was ok. Some space in overhead bins. Seat and legroom ok. Cabin crew ok, smiled, gave out the bottle of water and pretzels. Flight itself was ok, landed 25 mins early and then waited 30 minutes for a stand and ground crew. Bags came off reasonably quickly. BA still seems to believe it is something special, a premium carrier. The reality is that it is not. The only reason we flew BA was we got virtually free tickets because both flights were cancelled last year. BA is our carrier of last choice.</td>\n",
       "      <td>4</td>\n",
       "      <td>18th February 2023</td>\n",
       "      <td>United Kingdom</td>\n",
       "      <td>check slow self check bag drop boarding ok flight totally full booked row ok space overhead bin seat legroom ok cabin crew ok smiled gave bottle water pretzel flight ok landed min early waited minute stand ground crew bag came reasonably quickly ba still seems believe something special premium carrier reality reason flew ba got virtually free ticket flight cancelled last year ba carrier last choice</td>\n",
       "      <td>True</td>\n",
       "    </tr>\n",
       "    <tr>\n",
       "      <th>2</th>\n",
       "      <td>✅ Trip Verified |  My review relates to the appalling experiences I had with British Airways on 14th February 2023. I was due to travel to Madrid with British Airways and before setting off I heard on the radio that there were flight delays. I looked at the Heathrow Airport website and saw that my flight had been cancelled. As a result of the information on the website, I called British Airways and have 26 minutes on hold I found myself speaking to somebody in a call centre in South Africa. The person was hard to understand due to a heavy accent and he was incompetent and insisted that the flight was not cancelled. I made my way to Heathrow and sure enough the flight was indeed cancelled. The woman in question had the audacity to declare that the flight was cancelled and that “there are no facilities here at the airport to rebook you”. She refused to let me and about 12 other people join the queue for the clearly marked assistance desk. The same woman and one of her colleagues gave out a card with a telephone number and told one rather elderly gentleman to “go online to rebook your seat”. I am visually impaired and found the attitude of the BA employee to be appalling. I called the number on the card the employee gave me and was again in a long queue to a call centre. The person who picked up the phone kept me waiting 22 minutes and declared that the flight was not cancelled and that the airport “must be wrong”. He then in a flippant tone said he was just informed that the flight was indeed cancelled and that I would have to go and speak to IBERIA customer services in Heathrow to rebook! I took the elderly gentleman with me to IBERIA where the counter staff member rolled her eyes in disgust and said that it was nothing to do with IBERIA. I returned to BA and this time I joined the check-in line and told a check-in agent what had happened. The man in question booked me onto the next available flight within a matter of a few minutes. He gave me a £30 voucher as a form of compensation but said he could not add my frequent flyer number with a partner airline. The voucher proved useless I am afraid as various shops in the predepature area refused to accept it and although I was told I could use it after clearing security none of the shops would accept it. Once aboard my new flight the service was minimal. Other than a tiny bottle of water and a packet of pretzels nothing else was available. This was a full flight as so many people had been transferred from the cancelled flight. BA Cabin crew announced that any additional items other than the small bottle of water and pretzels had to be ordered via their skyshop.</td>\n",
       "      <td>5</td>\n",
       "      <td>18th February 2023</td>\n",
       "      <td>United Kingdom</td>\n",
       "      <td>review relates appalling experience british airway th february due travel madrid british airway setting heard radio flight delay looked heathrow airport website saw flight cancelled result information website called british airway minute hold found speaking somebody call centre south africa person hard understand due heavy accent incompetent insisted flight cancelled made way heathrow sure enough flight indeed cancelled woman question audacity declare flight cancelled facility airport rebook refused let people join queue clearly marked assistance desk woman one colleague gave card telephone number told one rather elderly gentleman go online rebook seat visually impaired found attitude ba employee appalling called number card employee gave long queue call centre person picked phone kept waiting minute declared flight cancelled airport must wrong flippant tone said informed flight indeed cancelled would go speak iberia customer service heathrow rebook took elderly gentleman iberia counter staff member rolled eye disgust said nothing iberia returned ba time joined check line told check agent happened man question booked onto next available flight within matter minute gave voucher form compensation said could add frequent flyer number partner airline voucher proved useless afraid various shop predepature area refused accept although told could use clearing security none shop would accept aboard new flight service minimal tiny bottle water packet pretzel nothing else available full flight many people transferred cancelled flight ba cabin crew announced additional item small bottle water pretzel ordered via skyshop</td>\n",
       "      <td>True</td>\n",
       "    </tr>\n",
       "    <tr>\n",
       "      <th>3</th>\n",
       "      <td>✅ Trip Verified | This was my first time flying with BA &amp; I was pleasantly surprised. Islamabad via Doha was very comfortable and the crew were great, friendly and helpful. The second flight was operated by Qatar Airways this was from Doha to Islamabad. My return journey was a direct BA flight, 46kg luggage allowance was really generous and stopped the hassle with connecting flights. Crew on this flight were really nice too. What let BA down was the food, it really was not nice, the IFE could do with some more content but that's not really a huge issue.</td>\n",
       "      <td>1</td>\n",
       "      <td>16th February 2023</td>\n",
       "      <td>United Kingdom</td>\n",
       "      <td>first time flying ba pleasantly surprised islamabad via doha comfortable crew great friendly helpful second flight operated qatar airway doha islamabad return journey direct ba flight kg luggage allowance really generous stopped hassle connecting flight crew flight really nice let ba food really nice ife could content really huge issue</td>\n",
       "      <td>True</td>\n",
       "    </tr>\n",
       "    <tr>\n",
       "      <th>4</th>\n",
       "      <td>✅ Trip Verified |  Lots of cancellations and delays and no one apologized. Edinburgh to London on Feb 14th, 2023, our original flight was cancelled, and the rebooked one was cancelled as well, the third rebooked one was supposed to departure at 12:50 and had several delays until 2:24. Then we had to wait 57 minutes for our luggage to arrive.</td>\n",
       "      <td>8</td>\n",
       "      <td>15th February 2023</td>\n",
       "      <td>Canada</td>\n",
       "      <td>lot cancellation delay one apologized edinburgh london feb th original flight cancelled rebooked one cancelled well third rebooked one supposed departure several delay wait minute luggage arrive</td>\n",
       "      <td>True</td>\n",
       "    </tr>\n",
       "  </tbody>\n",
       "</table></div>"
      ],
      "text/plain": [
       "                                             reviews  \\\n",
       "0  ✅ Trip Verified |  Very competent check in sta...   \n",
       "1  ✅ Trip Verified |  Check in was so slow, no se...   \n",
       "2  ✅ Trip Verified |  My review relates to the ap...   \n",
       "3  ✅ Trip Verified | This was my first time flyin...   \n",
       "4  ✅ Trip Verified |  Lots of cancellations and d...   \n",
       "\n",
       "                            star                date               country  \\\n",
       "0  \\n\\t\\t\\t\\t\\t\\t\\t\\t\\t\\t\\t\\t\\t5  23rd February 2023  United Arab Emirates   \n",
       "1                              4  18th February 2023        United Kingdom   \n",
       "2                              5  18th February 2023        United Kingdom   \n",
       "3                              1  16th February 2023        United Kingdom   \n",
       "4                              8  15th February 2023                Canada   \n",
       "\n",
       "                                              corpus  verified  \n",
       "0  competent check staff saw problem left arm ins...      True  \n",
       "1  check slow self check bag drop boarding ok fli...      True  \n",
       "2  review relates appalling experience british ai...      True  \n",
       "3  first time flying ba pleasantly surprised isla...      True  \n",
       "4  lot cancellation delay one apologized edinburg...      True  "
      ]
     },
     "execution_count": 7,
     "metadata": {},
     "output_type": "execute_result"
    }
   ],
   "source": [
    "df.head()"
   ]
  },
  {
   "cell_type": "code",
   "execution_count": 9,
   "id": "d24247a0",
   "metadata": {},
   "outputs": [
    {
     "data": {
      "text/plain": [
       "reviews     object\n",
       "star        object\n",
       "date        object\n",
       "country     object\n",
       "corpus      object\n",
       "verified      bool\n",
       "dtype: object"
      ]
     },
     "execution_count": 9,
     "metadata": {},
     "output_type": "execute_result"
    }
   ],
   "source": [
    "df.dtypes"
   ]
  },
  {
   "cell_type": "code",
   "execution_count": 10,
   "id": "bffb7989",
   "metadata": {},
   "outputs": [],
   "source": [
    "df['date'] = pd.to_datetime(df['date'])"
   ]
  },
  {
   "cell_type": "code",
   "execution_count": 11,
   "id": "e87543a7",
   "metadata": {},
   "outputs": [
    {
     "name": "stdout",
     "output_type": "stream",
     "text": [
      "<class 'pandas.core.frame.DataFrame'>\n",
      "RangeIndex: 3476 entries, 0 to 3475\n",
      "Data columns (total 6 columns):\n",
      " #   Column    Non-Null Count  Dtype         \n",
      "---  ------    --------------  -----         \n",
      " 0   reviews   3476 non-null   object        \n",
      " 1   star      3476 non-null   object        \n",
      " 2   date      3476 non-null   datetime64[ns]\n",
      " 3   country   3474 non-null   object        \n",
      " 4   corpus    3476 non-null   object        \n",
      " 5   verified  3476 non-null   bool          \n",
      "dtypes: bool(1), datetime64[ns](1), object(4)\n",
      "memory usage: 139.3+ KB\n"
     ]
    }
   ],
   "source": [
    "df.info()"
   ]
  },
  {
   "cell_type": "markdown",
   "id": "9879e539",
   "metadata": {},
   "source": [
    "## Cleaning Ratings/Star"
   ]
  },
  {
   "cell_type": "code",
   "execution_count": 13,
   "id": "5b29af66",
   "metadata": {},
   "outputs": [
    {
     "data": {
      "text/plain": [
       "1                                750\n",
       "2                                390\n",
       "3                                385\n",
       "8                                351\n",
       "10                               313\n",
       "7                                304\n",
       "9                                300\n",
       "4                                234\n",
       "5                                225\n",
       "6                                184\n",
       "\\n\\t\\t\\t\\t\\t\\t\\t\\t\\t\\t\\t\\t\\t5     35\n",
       "None                               5\n",
       "Name: star, dtype: int64"
      ]
     },
     "execution_count": 13,
     "metadata": {},
     "output_type": "execute_result"
    }
   ],
   "source": [
    "df['star'].value_counts()"
   ]
  },
  {
   "cell_type": "code",
   "execution_count": 14,
   "id": "ff1d4a0a",
   "metadata": {},
   "outputs": [],
   "source": [
    "# remove \\n\\t\\t\\t from star column\n",
    "df['star'] = df['star'].str.replace('\\n\\t\\t\\t\\t\\t\\t\\t\\t\\t\\t\\t\\t\\t', '')"
   ]
  },
  {
   "cell_type": "code",
   "execution_count": 16,
   "id": "985e1e79",
   "metadata": {},
   "outputs": [
    {
     "data": {
      "text/plain": [
       "array(['5', '4', '1', '8', '9', '10', '2', '3', '6', '7', 'None'],\n",
       "      dtype=object)"
      ]
     },
     "execution_count": 16,
     "metadata": {},
     "output_type": "execute_result"
    }
   ],
   "source": [
    "df['star'].unique()"
   ]
  },
  {
   "cell_type": "code",
   "execution_count": 17,
   "id": "49146c8a",
   "metadata": {},
   "outputs": [],
   "source": [
    "# drop 5 data \"None\"\n",
    "df.drop(df[df.star == 'None'].index, axis=0, inplace=True)"
   ]
  },
  {
   "cell_type": "code",
   "execution_count": 19,
   "id": "d01bfcf0",
   "metadata": {},
   "outputs": [
    {
     "data": {
      "text/plain": [
       "array(['5', '4', '1', '8', '9', '10', '2', '3', '6', '7'], dtype=object)"
      ]
     },
     "execution_count": 19,
     "metadata": {},
     "output_type": "execute_result"
    }
   ],
   "source": [
    "df['star'].uniqueque()"
   ]
  },
  {
   "cell_type": "markdown",
   "id": "71e04e20",
   "metadata": {},
   "source": [
    "## Cek Missing Value"
   ]
  },
  {
   "cell_type": "code",
   "execution_count": 20,
   "id": "ae148050",
   "metadata": {},
   "outputs": [
    {
     "data": {
      "text/plain": [
       "reviews     0\n",
       "star        0\n",
       "date        0\n",
       "country     2\n",
       "corpus      0\n",
       "verified    0\n",
       "dtype: int64"
      ]
     },
     "execution_count": 20,
     "metadata": {},
     "output_type": "execute_result"
    }
   ],
   "source": [
    "df.isnull().sum()"
   ]
  },
  {
   "cell_type": "code",
   "execution_count": 22,
   "id": "4c869cbc",
   "metadata": {},
   "outputs": [
    {
     "data": {
      "text/html": [
       "<div><div id=e7ef8e31-56d8-4336-b1f9-60351a13253f style=\"display:none; background-color:#9D6CFF; color:white; width:200px; height:30px; padding-left:5px; border-radius:4px; flex-direction:row; justify-content:space-around; align-items:center;\" onmouseover=\"this.style.backgroundColor='#BA9BF8'\" onmouseout=\"this.style.backgroundColor='#9D6CFF'\" onclick=\"window.commands?.execute('create-mitosheet-from-dataframe-output');\">See Full Dataframe in Mito</div> <script> if (window.commands?.hasCommand('create-mitosheet-from-dataframe-output')) document.getElementById('e7ef8e31-56d8-4336-b1f9-60351a13253f').style.display = 'flex' </script> <table border=\"1\" class=\"dataframe\">\n",
       "  <thead>\n",
       "    <tr style=\"text-align: right;\">\n",
       "      <th></th>\n",
       "      <th>reviews</th>\n",
       "      <th>star</th>\n",
       "      <th>date</th>\n",
       "      <th>country</th>\n",
       "      <th>corpus</th>\n",
       "      <th>verified</th>\n",
       "    </tr>\n",
       "  </thead>\n",
       "  <tbody>\n",
       "    <tr>\n",
       "      <th>2832</th>\n",
       "      <td>I travelled from London to Jo'burg and back on the Airbus 380 and had mixed experiences. On the way out I was in Premium Economy and was pleasantly surprised by the spacious seat and window locker and slept well. The return in Business was a different matter. I was truly shocked by how many seats had been crammed in the uncomfortable narrow seat the lack of privacy and having to climb over passenger's feet to vacate my seat. All this at a premium price. Shocking. The cabin crew were faultless and were only too aware of passengers' views on the cabin! Never again.</td>\n",
       "      <td>5</td>\n",
       "      <td>2015-04-08</td>\n",
       "      <td>NaN</td>\n",
       "      <td>travelled london jo burg back airbus mixed experience way premium economy pleasantly surprised spacious seat window locker slept well return business different matter truly shocked many seat crammed uncomfortable narrow seat lack privacy climb passenger foot vacate seat premium price shocking cabin crew faultless aware passenger view cabin never</td>\n",
       "      <td>False</td>\n",
       "    </tr>\n",
       "    <tr>\n",
       "      <th>3138</th>\n",
       "      <td>St Lucia to London round trip. Full flight both ways quite unhappy staff on return leg tiny seatback screens and poor selection of entertainment meals satisfactory (taste was ok and enough to fill me up both legs on time but was quite expensive for the service I got. Would fly them again if they are the cheaper option.</td>\n",
       "      <td>10</td>\n",
       "      <td>2014-10-20</td>\n",
       "      <td>NaN</td>\n",
       "      <td>st lucia london round trip full flight way quite unhappy staff return leg tiny seatback screen poor selection entertainment meal satisfactory taste ok enough fill leg time quite expensive service got would fly cheaper option</td>\n",
       "      <td>False</td>\n",
       "    </tr>\n",
       "  </tbody>\n",
       "</table></div>"
      ],
      "text/plain": [
       "                                                reviews star       date  \\\n",
       "2832  I travelled from London to Jo'burg and back on...    5 2015-04-08   \n",
       "3138  St Lucia to London round trip. Full flight bot...   10 2014-10-20   \n",
       "\n",
       "     country                                             corpus  verified  \n",
       "2832     NaN  travelled london jo burg back airbus mixed exp...     False  \n",
       "3138     NaN  st lucia london round trip full flight way qui...     False  "
      ]
     },
     "execution_count": 22,
     "metadata": {},
     "output_type": "execute_result"
    }
   ],
   "source": [
    "df[df['country'].isnull()]"
   ]
  },
  {
   "cell_type": "code",
   "execution_count": 23,
   "id": "45304cfa",
   "metadata": {},
   "outputs": [],
   "source": [
    "df.drop(df[df['country'].isnull() == True].index, axis=0, inplace=True)"
   ]
  },
  {
   "cell_type": "code",
   "execution_count": 24,
   "id": "a4c077e1",
   "metadata": {},
   "outputs": [
    {
     "data": {
      "text/html": [
       "<div><div id=0395c811-6be3-4f3e-98f1-27235a529825 style=\"display:none; background-color:#9D6CFF; color:white; width:200px; height:30px; padding-left:5px; border-radius:4px; flex-direction:row; justify-content:space-around; align-items:center;\" onmouseover=\"this.style.backgroundColor='#BA9BF8'\" onmouseout=\"this.style.backgroundColor='#9D6CFF'\" onclick=\"window.commands?.execute('create-mitosheet-from-dataframe-output');\">See Full Dataframe in Mito</div> <script> if (window.commands?.hasCommand('create-mitosheet-from-dataframe-output')) document.getElementById('0395c811-6be3-4f3e-98f1-27235a529825').style.display = 'flex' </script> <table border=\"1\" class=\"dataframe\">\n",
       "  <thead>\n",
       "    <tr style=\"text-align: right;\">\n",
       "      <th></th>\n",
       "      <th>reviews</th>\n",
       "      <th>star</th>\n",
       "      <th>date</th>\n",
       "      <th>country</th>\n",
       "      <th>corpus</th>\n",
       "      <th>verified</th>\n",
       "    </tr>\n",
       "  </thead>\n",
       "  <tbody>\n",
       "  </tbody>\n",
       "</table></div>"
      ],
      "text/plain": [
       "Empty DataFrame\n",
       "Columns: [reviews, star, date, country, corpus, verified]\n",
       "Index: []"
      ]
     },
     "execution_count": 24,
     "metadata": {},
     "output_type": "execute_result"
    }
   ],
   "source": [
    "df[df['country'].isnull()]"
   ]
  },
  {
   "cell_type": "code",
   "execution_count": 25,
   "id": "8bac884a",
   "metadata": {},
   "outputs": [
    {
     "data": {
      "text/plain": [
       "(3469, 6)"
      ]
     },
     "execution_count": 25,
     "metadata": {},
     "output_type": "execute_result"
    }
   ],
   "source": [
    "df.shape"
   ]
  },
  {
   "cell_type": "code",
   "execution_count": 30,
   "id": "5105e7d3",
   "metadata": {},
   "outputs": [
    {
     "data": {
      "text/html": [
       "<div><div id=a68607c3-d85d-425a-88c3-43d867f66ce2 style=\"display:none; background-color:#9D6CFF; color:white; width:200px; height:30px; padding-left:5px; border-radius:4px; flex-direction:row; justify-content:space-around; align-items:center;\" onmouseover=\"this.style.backgroundColor='#BA9BF8'\" onmouseout=\"this.style.backgroundColor='#9D6CFF'\" onclick=\"window.commands?.execute('create-mitosheet-from-dataframe-output');\">See Full Dataframe in Mito</div> <script> if (window.commands?.hasCommand('create-mitosheet-from-dataframe-output')) document.getElementById('a68607c3-d85d-425a-88c3-43d867f66ce2').style.display = 'flex' </script> <table border=\"1\" class=\"dataframe\">\n",
       "  <thead>\n",
       "    <tr style=\"text-align: right;\">\n",
       "      <th></th>\n",
       "      <th>reviews</th>\n",
       "      <th>star</th>\n",
       "      <th>date</th>\n",
       "      <th>country</th>\n",
       "      <th>corpus</th>\n",
       "      <th>verified</th>\n",
       "    </tr>\n",
       "  </thead>\n",
       "  <tbody>\n",
       "    <tr>\n",
       "      <th>0</th>\n",
       "      <td>✅ Trip Verified |  Very competent check in staff, saw had a problem with my left arm and insisted I could not take exit seat. Moved me to row 30 where the middle seat was empty. On the other hand on board - huge line for toilets - 45 min into a 2.30 min flight a crew member realised one of the toilets is closed - as crew had put their luggage there. They announced that they could not serve hot drinks on this flight and to bear with them as service will be slow. On asking why: \"They did not give us enough cups for hot drinks. And the card machine is not working so we have to fill out each credit card slip\". A bottle of water and a nutrigrain bar.</td>\n",
       "      <td>5</td>\n",
       "      <td>2023-02-23</td>\n",
       "      <td>United Arab Emirates</td>\n",
       "      <td>competent check staff saw problem left arm insisted could take exit seat moved row middle seat empty hand board huge line toilet min min flight crew member realised one toilet closed crew put luggage announced could serve hot drink flight bear service slow asking give u enough cup hot drink card machine working fill credit card slip bottle water nutrigrain bar</td>\n",
       "      <td>True</td>\n",
       "    </tr>\n",
       "    <tr>\n",
       "      <th>1</th>\n",
       "      <td>✅ Trip Verified |  Check in was so slow, no self check in and bag drop. Boarding was ok, flight totally full. Booked row 9 which was ok. Some space in overhead bins. Seat and legroom ok. Cabin crew ok, smiled, gave out the bottle of water and pretzels. Flight itself was ok, landed 25 mins early and then waited 30 minutes for a stand and ground crew. Bags came off reasonably quickly. BA still seems to believe it is something special, a premium carrier. The reality is that it is not. The only reason we flew BA was we got virtually free tickets because both flights were cancelled last year. BA is our carrier of last choice.</td>\n",
       "      <td>4</td>\n",
       "      <td>2023-02-18</td>\n",
       "      <td>United Kingdom</td>\n",
       "      <td>check slow self check bag drop boarding ok flight totally full booked row ok space overhead bin seat legroom ok cabin crew ok smiled gave bottle water pretzel flight ok landed min early waited minute stand ground crew bag came reasonably quickly ba still seems believe something special premium carrier reality reason flew ba got virtually free ticket flight cancelled last year ba carrier last choice</td>\n",
       "      <td>True</td>\n",
       "    </tr>\n",
       "    <tr>\n",
       "      <th>2</th>\n",
       "      <td>✅ Trip Verified |  My review relates to the appalling experiences I had with British Airways on 14th February 2023. I was due to travel to Madrid with British Airways and before setting off I heard on the radio that there were flight delays. I looked at the Heathrow Airport website and saw that my flight had been cancelled. As a result of the information on the website, I called British Airways and have 26 minutes on hold I found myself speaking to somebody in a call centre in South Africa. The person was hard to understand due to a heavy accent and he was incompetent and insisted that the flight was not cancelled. I made my way to Heathrow and sure enough the flight was indeed cancelled. The woman in question had the audacity to declare that the flight was cancelled and that “there are no facilities here at the airport to rebook you”. She refused to let me and about 12 other people join the queue for the clearly marked assistance desk. The same woman and one of her colleagues gave out a card with a telephone number and told one rather elderly gentleman to “go online to rebook your seat”. I am visually impaired and found the attitude of the BA employee to be appalling. I called the number on the card the employee gave me and was again in a long queue to a call centre. The person who picked up the phone kept me waiting 22 minutes and declared that the flight was not cancelled and that the airport “must be wrong”. He then in a flippant tone said he was just informed that the flight was indeed cancelled and that I would have to go and speak to IBERIA customer services in Heathrow to rebook! I took the elderly gentleman with me to IBERIA where the counter staff member rolled her eyes in disgust and said that it was nothing to do with IBERIA. I returned to BA and this time I joined the check-in line and told a check-in agent what had happened. The man in question booked me onto the next available flight within a matter of a few minutes. He gave me a £30 voucher as a form of compensation but said he could not add my frequent flyer number with a partner airline. The voucher proved useless I am afraid as various shops in the predepature area refused to accept it and although I was told I could use it after clearing security none of the shops would accept it. Once aboard my new flight the service was minimal. Other than a tiny bottle of water and a packet of pretzels nothing else was available. This was a full flight as so many people had been transferred from the cancelled flight. BA Cabin crew announced that any additional items other than the small bottle of water and pretzels had to be ordered via their skyshop.</td>\n",
       "      <td>5</td>\n",
       "      <td>2023-02-18</td>\n",
       "      <td>United Kingdom</td>\n",
       "      <td>review relates appalling experience british airway th february due travel madrid british airway setting heard radio flight delay looked heathrow airport website saw flight cancelled result information website called british airway minute hold found speaking somebody call centre south africa person hard understand due heavy accent incompetent insisted flight cancelled made way heathrow sure enough flight indeed cancelled woman question audacity declare flight cancelled facility airport rebook refused let people join queue clearly marked assistance desk woman one colleague gave card telephone number told one rather elderly gentleman go online rebook seat visually impaired found attitude ba employee appalling called number card employee gave long queue call centre person picked phone kept waiting minute declared flight cancelled airport must wrong flippant tone said informed flight indeed cancelled would go speak iberia customer service heathrow rebook took elderly gentleman iberia counter staff member rolled eye disgust said nothing iberia returned ba time joined check line told check agent happened man question booked onto next available flight within matter minute gave voucher form compensation said could add frequent flyer number partner airline voucher proved useless afraid various shop predepature area refused accept although told could use clearing security none shop would accept aboard new flight service minimal tiny bottle water packet pretzel nothing else available full flight many people transferred cancelled flight ba cabin crew announced additional item small bottle water pretzel ordered via skyshop</td>\n",
       "      <td>True</td>\n",
       "    </tr>\n",
       "    <tr>\n",
       "      <th>3</th>\n",
       "      <td>✅ Trip Verified | This was my first time flying with BA &amp; I was pleasantly surprised. Islamabad via Doha was very comfortable and the crew were great, friendly and helpful. The second flight was operated by Qatar Airways this was from Doha to Islamabad. My return journey was a direct BA flight, 46kg luggage allowance was really generous and stopped the hassle with connecting flights. Crew on this flight were really nice too. What let BA down was the food, it really was not nice, the IFE could do with some more content but that's not really a huge issue.</td>\n",
       "      <td>1</td>\n",
       "      <td>2023-02-16</td>\n",
       "      <td>United Kingdom</td>\n",
       "      <td>first time flying ba pleasantly surprised islamabad via doha comfortable crew great friendly helpful second flight operated qatar airway doha islamabad return journey direct ba flight kg luggage allowance really generous stopped hassle connecting flight crew flight really nice let ba food really nice ife could content really huge issue</td>\n",
       "      <td>True</td>\n",
       "    </tr>\n",
       "    <tr>\n",
       "      <th>4</th>\n",
       "      <td>✅ Trip Verified |  Lots of cancellations and delays and no one apologized. Edinburgh to London on Feb 14th, 2023, our original flight was cancelled, and the rebooked one was cancelled as well, the third rebooked one was supposed to departure at 12:50 and had several delays until 2:24. Then we had to wait 57 minutes for our luggage to arrive.</td>\n",
       "      <td>8</td>\n",
       "      <td>2023-02-15</td>\n",
       "      <td>Canada</td>\n",
       "      <td>lot cancellation delay one apologized edinburgh london feb th original flight cancelled rebooked one cancelled well third rebooked one supposed departure several delay wait minute luggage arrive</td>\n",
       "      <td>True</td>\n",
       "    </tr>\n",
       "  </tbody>\n",
       "</table></div>"
      ],
      "text/plain": [
       "                                             reviews star       date  \\\n",
       "0  ✅ Trip Verified |  Very competent check in sta...    5 2023-02-23   \n",
       "1  ✅ Trip Verified |  Check in was so slow, no se...    4 2023-02-18   \n",
       "2  ✅ Trip Verified |  My review relates to the ap...    5 2023-02-18   \n",
       "3  ✅ Trip Verified | This was my first time flyin...    1 2023-02-16   \n",
       "4  ✅ Trip Verified |  Lots of cancellations and d...    8 2023-02-15   \n",
       "\n",
       "                country                                             corpus  \\\n",
       "0  United Arab Emirates  competent check staff saw problem left arm ins...   \n",
       "1        United Kingdom  check slow self check bag drop boarding ok fli...   \n",
       "2        United Kingdom  review relates appalling experience british ai...   \n",
       "3        United Kingdom  first time flying ba pleasantly surprised isla...   \n",
       "4                Canada  lot cancellation delay one apologized edinburg...   \n",
       "\n",
       "   verified  \n",
       "0      True  \n",
       "1      True  \n",
       "2      True  \n",
       "3      True  \n",
       "4      True  "
      ]
     },
     "execution_count": 30,
     "metadata": {},
     "output_type": "execute_result"
    }
   ],
   "source": [
    "df.head()"
   ]
  },
  {
   "cell_type": "code",
   "execution_count": 31,
   "id": "8d9f6038",
   "metadata": {},
   "outputs": [
    {
     "data": {
      "text/html": [
       "<div><div id=5f47e73a-4118-41b6-b576-1d5786f118d5 style=\"display:none; background-color:#9D6CFF; color:white; width:200px; height:30px; padding-left:5px; border-radius:4px; flex-direction:row; justify-content:space-around; align-items:center;\" onmouseover=\"this.style.backgroundColor='#BA9BF8'\" onmouseout=\"this.style.backgroundColor='#9D6CFF'\" onclick=\"window.commands?.execute('create-mitosheet-from-dataframe-output');\">See Full Dataframe in Mito</div> <script> if (window.commands?.hasCommand('create-mitosheet-from-dataframe-output')) document.getElementById('5f47e73a-4118-41b6-b576-1d5786f118d5').style.display = 'flex' </script> <table border=\"1\" class=\"dataframe\">\n",
       "  <thead>\n",
       "    <tr style=\"text-align: right;\">\n",
       "      <th></th>\n",
       "      <th>reviews</th>\n",
       "      <th>star</th>\n",
       "      <th>date</th>\n",
       "      <th>country</th>\n",
       "      <th>corpus</th>\n",
       "      <th>verified</th>\n",
       "    </tr>\n",
       "  </thead>\n",
       "  <tbody>\n",
       "    <tr>\n",
       "      <th>0</th>\n",
       "      <td>✅ Trip Verified |  Very competent check in staff, saw had a problem with my left arm and insisted I could not take exit seat. Moved me to row 30 where the middle seat was empty. On the other hand on board - huge line for toilets - 45 min into a 2.30 min flight a crew member realised one of the toilets is closed - as crew had put their luggage there. They announced that they could not serve hot drinks on this flight and to bear with them as service will be slow. On asking why: \"They did not give us enough cups for hot drinks. And the card machine is not working so we have to fill out each credit card slip\". A bottle of water and a nutrigrain bar.</td>\n",
       "      <td>5</td>\n",
       "      <td>2023-02-23</td>\n",
       "      <td>United Arab Emirates</td>\n",
       "      <td>competent check staff saw problem left arm insisted could take exit seat moved row middle seat empty hand board huge line toilet min min flight crew member realised one toilet closed crew put luggage announced could serve hot drink flight bear service slow asking give u enough cup hot drink card machine working fill credit card slip bottle water nutrigrain bar</td>\n",
       "      <td>True</td>\n",
       "    </tr>\n",
       "    <tr>\n",
       "      <th>1</th>\n",
       "      <td>✅ Trip Verified |  Check in was so slow, no self check in and bag drop. Boarding was ok, flight totally full. Booked row 9 which was ok. Some space in overhead bins. Seat and legroom ok. Cabin crew ok, smiled, gave out the bottle of water and pretzels. Flight itself was ok, landed 25 mins early and then waited 30 minutes for a stand and ground crew. Bags came off reasonably quickly. BA still seems to believe it is something special, a premium carrier. The reality is that it is not. The only reason we flew BA was we got virtually free tickets because both flights were cancelled last year. BA is our carrier of last choice.</td>\n",
       "      <td>4</td>\n",
       "      <td>2023-02-18</td>\n",
       "      <td>United Kingdom</td>\n",
       "      <td>check slow self check bag drop boarding ok flight totally full booked row ok space overhead bin seat legroom ok cabin crew ok smiled gave bottle water pretzel flight ok landed min early waited minute stand ground crew bag came reasonably quickly ba still seems believe something special premium carrier reality reason flew ba got virtually free ticket flight cancelled last year ba carrier last choice</td>\n",
       "      <td>True</td>\n",
       "    </tr>\n",
       "    <tr>\n",
       "      <th>2</th>\n",
       "      <td>✅ Trip Verified |  My review relates to the appalling experiences I had with British Airways on 14th February 2023. I was due to travel to Madrid with British Airways and before setting off I heard on the radio that there were flight delays. I looked at the Heathrow Airport website and saw that my flight had been cancelled. As a result of the information on the website, I called British Airways and have 26 minutes on hold I found myself speaking to somebody in a call centre in South Africa. The person was hard to understand due to a heavy accent and he was incompetent and insisted that the flight was not cancelled. I made my way to Heathrow and sure enough the flight was indeed cancelled. The woman in question had the audacity to declare that the flight was cancelled and that “there are no facilities here at the airport to rebook you”. She refused to let me and about 12 other people join the queue for the clearly marked assistance desk. The same woman and one of her colleagues gave out a card with a telephone number and told one rather elderly gentleman to “go online to rebook your seat”. I am visually impaired and found the attitude of the BA employee to be appalling. I called the number on the card the employee gave me and was again in a long queue to a call centre. The person who picked up the phone kept me waiting 22 minutes and declared that the flight was not cancelled and that the airport “must be wrong”. He then in a flippant tone said he was just informed that the flight was indeed cancelled and that I would have to go and speak to IBERIA customer services in Heathrow to rebook! I took the elderly gentleman with me to IBERIA where the counter staff member rolled her eyes in disgust and said that it was nothing to do with IBERIA. I returned to BA and this time I joined the check-in line and told a check-in agent what had happened. The man in question booked me onto the next available flight within a matter of a few minutes. He gave me a £30 voucher as a form of compensation but said he could not add my frequent flyer number with a partner airline. The voucher proved useless I am afraid as various shops in the predepature area refused to accept it and although I was told I could use it after clearing security none of the shops would accept it. Once aboard my new flight the service was minimal. Other than a tiny bottle of water and a packet of pretzels nothing else was available. This was a full flight as so many people had been transferred from the cancelled flight. BA Cabin crew announced that any additional items other than the small bottle of water and pretzels had to be ordered via their skyshop.</td>\n",
       "      <td>5</td>\n",
       "      <td>2023-02-18</td>\n",
       "      <td>United Kingdom</td>\n",
       "      <td>review relates appalling experience british airway th february due travel madrid british airway setting heard radio flight delay looked heathrow airport website saw flight cancelled result information website called british airway minute hold found speaking somebody call centre south africa person hard understand due heavy accent incompetent insisted flight cancelled made way heathrow sure enough flight indeed cancelled woman question audacity declare flight cancelled facility airport rebook refused let people join queue clearly marked assistance desk woman one colleague gave card telephone number told one rather elderly gentleman go online rebook seat visually impaired found attitude ba employee appalling called number card employee gave long queue call centre person picked phone kept waiting minute declared flight cancelled airport must wrong flippant tone said informed flight indeed cancelled would go speak iberia customer service heathrow rebook took elderly gentleman iberia counter staff member rolled eye disgust said nothing iberia returned ba time joined check line told check agent happened man question booked onto next available flight within matter minute gave voucher form compensation said could add frequent flyer number partner airline voucher proved useless afraid various shop predepature area refused accept although told could use clearing security none shop would accept aboard new flight service minimal tiny bottle water packet pretzel nothing else available full flight many people transferred cancelled flight ba cabin crew announced additional item small bottle water pretzel ordered via skyshop</td>\n",
       "      <td>True</td>\n",
       "    </tr>\n",
       "    <tr>\n",
       "      <th>3</th>\n",
       "      <td>✅ Trip Verified | This was my first time flying with BA &amp; I was pleasantly surprised. Islamabad via Doha was very comfortable and the crew were great, friendly and helpful. The second flight was operated by Qatar Airways this was from Doha to Islamabad. My return journey was a direct BA flight, 46kg luggage allowance was really generous and stopped the hassle with connecting flights. Crew on this flight were really nice too. What let BA down was the food, it really was not nice, the IFE could do with some more content but that's not really a huge issue.</td>\n",
       "      <td>1</td>\n",
       "      <td>2023-02-16</td>\n",
       "      <td>United Kingdom</td>\n",
       "      <td>first time flying ba pleasantly surprised islamabad via doha comfortable crew great friendly helpful second flight operated qatar airway doha islamabad return journey direct ba flight kg luggage allowance really generous stopped hassle connecting flight crew flight really nice let ba food really nice ife could content really huge issue</td>\n",
       "      <td>True</td>\n",
       "    </tr>\n",
       "    <tr>\n",
       "      <th>4</th>\n",
       "      <td>✅ Trip Verified |  Lots of cancellations and delays and no one apologized. Edinburgh to London on Feb 14th, 2023, our original flight was cancelled, and the rebooked one was cancelled as well, the third rebooked one was supposed to departure at 12:50 and had several delays until 2:24. Then we had to wait 57 minutes for our luggage to arrive.</td>\n",
       "      <td>8</td>\n",
       "      <td>2023-02-15</td>\n",
       "      <td>Canada</td>\n",
       "      <td>lot cancellation delay one apologized edinburgh london feb th original flight cancelled rebooked one cancelled well third rebooked one supposed departure several delay wait minute luggage arrive</td>\n",
       "      <td>True</td>\n",
       "    </tr>\n",
       "    <tr>\n",
       "      <th>...</th>\n",
       "      <td>...</td>\n",
       "      <td>...</td>\n",
       "      <td>...</td>\n",
       "      <td>...</td>\n",
       "      <td>...</td>\n",
       "      <td>...</td>\n",
       "    </tr>\n",
       "    <tr>\n",
       "      <th>3464</th>\n",
       "      <td>YYZ to LHR - July 2012 - I flew overnight in premium economy on a 767. I chose this flight because on the 767 the layout is 2-2-2. I chose an aisle seat in the middle 2 so I could go to the washroom etc without disturbing y seat ate and vice versa. The seats are comparable to North American business class except with narrower arm rests. (better than economy but still not meant for sharing). The entree food was the same as business class and I wasn't really impressed. It wasn't bad but wasn't good either. I would definitely fly BA on this route again mostly because of the layout and the option to fly premium economy.</td>\n",
       "      <td>7</td>\n",
       "      <td>2012-08-29</td>\n",
       "      <td>Canada</td>\n",
       "      <td>yyz lhr july flew overnight premium economy chose flight layout chose aisle seat middle could go washroom etc without disturbing seat ate vice versa seat comparable north american business class except narrower arm rest better economy still meant sharing entree food business class really impressed bad good either would definitely fly ba route mostly layout option fly premium economy</td>\n",
       "      <td>False</td>\n",
       "    </tr>\n",
       "    <tr>\n",
       "      <th>3465</th>\n",
       "      <td>LHR to HAM. Purser addresses all club passengers by name boarding a little late but left on time. Food good for short flight. Overall excellent.</td>\n",
       "      <td>1</td>\n",
       "      <td>2012-08-28</td>\n",
       "      <td>United Kingdom</td>\n",
       "      <td>lhr ham purser address club passenger name boarding little late left time food good short flight overall excellent</td>\n",
       "      <td>False</td>\n",
       "    </tr>\n",
       "    <tr>\n",
       "      <th>3466</th>\n",
       "      <td>My son who had worked for British Airways urged me to fly British Airways to Kansas City. He recommended me to join the executive club. I went ahead and booked my flight back in May. Very reasonable price. As they are in an alliance with American Airlines my outward journey was with American Airlines. They were helpful even booking my seats to Chicago then onto Kansas at no cost. Problem was on my return. I duly waited to book my seat on the Chicago flight 24 hours prior to check-in. As this was with BA I tried for an hour to choose a seat to no avail. My itinerary came up but told me I was being redirected to American. So I called BA they told me I was to check in at Kansas City before I could have a seat assigned. So I called American a very unhelpful person told me that I had to go to back to BA. I called BA again after explaining I had seat booked with American from Kansas but could not get one with BA she put me on hold for 15 minutes and told me I had a seat - trouble was it was the one from Kansas to Chicago. Perhaps the powers that be can sort this out. It was most frustrating. The journey was fine staff polite in-flight entertainment excellent.</td>\n",
       "      <td>9</td>\n",
       "      <td>2011-10-12</td>\n",
       "      <td>United Kingdom</td>\n",
       "      <td>son worked british airway urged fly british airway kansa city recommended join executive club went ahead booked flight back may reasonable price alliance american airline outward journey american airline helpful even booking seat chicago onto kansa cost problem return duly waited book seat chicago flight hour prior check ba tried hour choose seat avail itinerary came told redirected american called ba told check kansa city could seat assigned called american unhelpful person told go back ba called ba explaining seat booked american kansa could get one ba put hold minute told seat trouble one kansa chicago perhaps power sort frustrating journey fine staff polite flight entertainment excellent</td>\n",
       "      <td>False</td>\n",
       "    </tr>\n",
       "    <tr>\n",
       "      <th>3467</th>\n",
       "      <td>London City-New York JFK via Shannon on A318 but had really nice seats and professional crew. Meal served was very tasty and fresh. Overall a very good flight would use this airline again.</td>\n",
       "      <td>8</td>\n",
       "      <td>2011-10-11</td>\n",
       "      <td>United States</td>\n",
       "      <td>london city new york jfk via shannon really nice seat professional crew meal served tasty fresh overall good flight would use airline</td>\n",
       "      <td>False</td>\n",
       "    </tr>\n",
       "    <tr>\n",
       "      <th>3468</th>\n",
       "      <td>SIN-LHR BA12 B747-436 First Class. Old aircraft (1998) with seats that are not that private but there are only a few of us in the cabin so ok. A bit tatty but I think the planes are being replaced by A380's soon. Seat itself is comfortable enough. Inflight Entertainment awful: fuzzy screen (low resolution LCD screen way passed it's sell-by date) with limited options. Inconveniently has to be pulled around to be seen and put away for t/off and landing. seat comfortable enough for sleeping. Food and service quintessentially English which is the only real reason to fly BA nowadays - the product just doesn't match other airlines. Toilet cramped and awful but it has a window!</td>\n",
       "      <td>10</td>\n",
       "      <td>2011-10-09</td>\n",
       "      <td>United Kingdom</td>\n",
       "      <td>sin lhr ba b first class old aircraft seat private u cabin ok bit tatty think plane replaced soon seat comfortable enough inflight entertainment awful fuzzy screen low resolution lcd screen way passed sell date limited option inconveniently pulled around seen put away landing seat comfortable enough sleeping food service quintessentially english real reason fly ba nowadays product match airline toilet cramped awful window</td>\n",
       "      <td>False</td>\n",
       "    </tr>\n",
       "  </tbody>\n",
       "</table></div>"
      ],
      "text/plain": [
       "                                                reviews star       date  \\\n",
       "0     ✅ Trip Verified |  Very competent check in sta...    5 2023-02-23   \n",
       "1     ✅ Trip Verified |  Check in was so slow, no se...    4 2023-02-18   \n",
       "2     ✅ Trip Verified |  My review relates to the ap...    5 2023-02-18   \n",
       "3     ✅ Trip Verified | This was my first time flyin...    1 2023-02-16   \n",
       "4     ✅ Trip Verified |  Lots of cancellations and d...    8 2023-02-15   \n",
       "...                                                 ...  ...        ...   \n",
       "3464  YYZ to LHR - July 2012 - I flew overnight in p...    7 2012-08-29   \n",
       "3465  LHR to HAM. Purser addresses all club passenge...    1 2012-08-28   \n",
       "3466  My son who had worked for British Airways urge...    9 2011-10-12   \n",
       "3467  London City-New York JFK via Shannon on A318 b...    8 2011-10-11   \n",
       "3468  SIN-LHR BA12 B747-436 First Class. Old aircraf...   10 2011-10-09   \n",
       "\n",
       "                   country                                             corpus  \\\n",
       "0     United Arab Emirates  competent check staff saw problem left arm ins...   \n",
       "1           United Kingdom  check slow self check bag drop boarding ok fli...   \n",
       "2           United Kingdom  review relates appalling experience british ai...   \n",
       "3           United Kingdom  first time flying ba pleasantly surprised isla...   \n",
       "4                   Canada  lot cancellation delay one apologized edinburg...   \n",
       "...                    ...                                                ...   \n",
       "3464                Canada  yyz lhr july flew overnight premium economy ch...   \n",
       "3465        United Kingdom  lhr ham purser address club passenger name boa...   \n",
       "3466        United Kingdom  son worked british airway urged fly british ai...   \n",
       "3467         United States  london city new york jfk via shannon really ni...   \n",
       "3468        United Kingdom  sin lhr ba b first class old aircraft seat pri...   \n",
       "\n",
       "      verified  \n",
       "0         True  \n",
       "1         True  \n",
       "2         True  \n",
       "3         True  \n",
       "4         True  \n",
       "...        ...  \n",
       "3464     False  \n",
       "3465     False  \n",
       "3466     False  \n",
       "3467     False  \n",
       "3468     False  \n",
       "\n",
       "[3469 rows x 6 columns]"
      ]
     },
     "execution_count": 31,
     "metadata": {},
     "output_type": "execute_result"
    }
   ],
   "source": [
    "# reset index\n",
    "df.reset_index(drop=True)"
   ]
  },
  {
   "cell_type": "markdown",
   "id": "cc36628c",
   "metadata": {},
   "source": [
    "## Export Data Cleaning to csv"
   ]
  },
  {
   "cell_type": "code",
   "execution_count": 32,
   "id": "ba55c44b",
   "metadata": {},
   "outputs": [],
   "source": [
    "# export to csv\n",
    "df.to_csv('data/cleaned_BA_reviews.csv', index=False)"
   ]
  },
  {
   "cell_type": "code",
   "execution_count": null,
   "id": "194831ee",
   "metadata": {},
   "outputs": [],
   "source": []
  }
 ],
 "metadata": {
  "kernelspec": {
   "display_name": "Python 3 (ipykernel)",
   "language": "python",
   "name": "python3"
  },
  "language_info": {
   "codemirror_mode": {
    "name": "ipython",
    "version": 3
   },
   "file_extension": ".py",
   "mimetype": "text/x-python",
   "name": "python",
   "nbconvert_exporter": "python",
   "pygments_lexer": "ipython3",
   "version": "3.10.8"
  },
  "varInspector": {
   "cols": {
    "lenName": 16,
    "lenType": 16,
    "lenVar": 40
   },
   "kernels_config": {
    "python": {
     "delete_cmd_postfix": "",
     "delete_cmd_prefix": "del ",
     "library": "var_list.py",
     "varRefreshCmd": "print(var_dic_list())"
    },
    "r": {
     "delete_cmd_postfix": ") ",
     "delete_cmd_prefix": "rm(",
     "library": "var_list.r",
     "varRefreshCmd": "cat(var_dic_list()) "
    }
   },
   "types_to_exclude": [
    "module",
    "function",
    "builtin_function_or_method",
    "instance",
    "_Feature"
   ],
   "window_display": false
  }
 },
 "nbformat": 4,
 "nbformat_minor": 5
}
